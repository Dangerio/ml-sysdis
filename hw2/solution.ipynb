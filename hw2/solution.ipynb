{
 "cells": [
  {
   "cell_type": "code",
   "execution_count": 1,
   "metadata": {},
   "outputs": [
    {
     "name": "stdout",
     "output_type": "stream",
     "text": [
      "env: CUDA_DEVICE_ORDER=PCI_BUS_ID\n",
      "env: CUDA_VISIBLE_DEVICES=3\n"
     ]
    }
   ],
   "source": [
    "%env CUDA_DEVICE_ORDER=PCI_BUS_ID\n",
    "%env CUDA_VISIBLE_DEVICES=3"
   ]
  },
  {
   "cell_type": "code",
   "execution_count": 29,
   "metadata": {},
   "outputs": [],
   "source": [
    "import pandas as pd\n",
    "import numpy as np\n",
    "import torch\n",
    "\n",
    "from sklearn.model_selection import StratifiedGroupKFold\n",
    "from sklearn.base import BaseEstimator, clone, ClassifierMixin\n",
    "from sklearn.linear_model import LogisticRegression\n",
    "from sklearn.ensemble import RandomForestClassifier\n",
    "from sklearn.svm import SVC\n",
    "from sklearn.metrics import f1_score, precision_score, recall_score\n",
    "from sklearn.pipeline import make_pipeline\n",
    "from sklearn.preprocessing import StandardScaler\n",
    "\n",
    "from catboost import CatBoostClassifier, Pool\n",
    "from transformers import AutoTokenizer, AutoModel\n",
    "\n",
    "\n",
    "import wandb"
   ]
  },
  {
   "cell_type": "markdown",
   "metadata": {},
   "source": [
    "## Загрузка данных"
   ]
  },
  {
   "cell_type": "code",
   "execution_count": 43,
   "metadata": {},
   "outputs": [],
   "source": [
    "np.random.seed(59)\n",
    "X_train = pd.read_csv(\"data/my/before_feature_engineering/train.csv\", sep=\",\", header=0).drop(columns=\"Unnamed: 0\").iloc[:-300]\n",
    "y_train = pd.read_csv(\"data/my/before_feature_engineering/train_labels.csv\", sep=\",\", header=0).drop(columns=\"Unnamed: 0\").iloc[:-300]\n",
    "X_train_tr = pd.read_csv(\"data/my/after_feature_engineering/train.csv\", sep=\",\", header=0).drop(columns=\"Unnamed: 0\").iloc[:-300]\n",
    "groups_train = pd.read_csv(\"data/my/before_feature_engineering/train_groups.csv\", sep=\",\", header=0).drop(columns=\"Unnamed: 0\")\n",
    "\n",
    "permutation = np.random.permutation(X_train.shape[0])\n",
    "X_train = X_train.iloc[permutation].reset_index(drop=True)\n",
    "X_train_tr = X_train_tr.iloc[permutation].reset_index(drop=True)\n",
    "y_train = y_train.iloc[permutation].reset_index(drop=True)\n",
    "groups_train = groups_train.iloc[permutation].reset_index(drop=True)[\"0\"]\n",
    "\n",
    "X_test = pd.read_csv(\"data/my/before_feature_engineering/test.csv\", sep=\",\", header=0).drop(columns=\"Unnamed: 0\")\n",
    "X_test_tr = pd.read_csv(\"data/my/after_feature_engineering/test.csv\", sep=\",\", header=0).drop(columns=\"Unnamed: 0\")\n",
    "y_test = pd.read_csv(\"data/my/before_feature_engineering/test_labels.csv\", sep=\",\", header=0).drop(columns=\"Unnamed: 0\")\n",
    "\n",
    "y_train = y_train.fraudulent\n",
    "y_test = y_test.fraudulent"
   ]
  },
  {
   "cell_type": "markdown",
   "metadata": {},
   "source": [
    "## Эксперименты с моделями без тюнинга гиперпараметров"
   ]
  },
  {
   "cell_type": "markdown",
   "metadata": {},
   "source": [
    "### Вспомогательные функции"
   ]
  },
  {
   "cell_type": "code",
   "execution_count": 69,
   "metadata": {},
   "outputs": [],
   "source": [
    "\n",
    "class MajorityVoteClassifier(BaseEstimator, ClassifierMixin):\n",
    "    def __init__(self, estimators):\n",
    "        self.estimators = estimators\n",
    "\n",
    "    def predict(self, X):\n",
    "        predictions = np.array([estimator.predict(X) for estimator in self.estimators])\n",
    "        sum_predictions = np.sum(predictions.T, axis=1)\n",
    "        majority = (sum_predictions > (len(self.estimators) / 2)).astype(int)\n",
    "        return majority\n",
    "\n",
    "def cross_validate_and_log_metrics(model, X, y, groups, cv_class=StratifiedGroupKFold, n_splits=5, test_share_range=(0.1, 0.3)):\n",
    "    cv = cv_class(n_splits=n_splits, shuffle=True, random_state=42)\n",
    "    fold_metrics = {'f1': [], 'precision': [], 'recall': []}\n",
    "    models = []\n",
    "    for fold, (train_idx, val_idx) in enumerate(cv.split(X, y, groups=groups)):\n",
    "        if isinstance(X, pd.DataFrame):\n",
    "            X_train, X_val = X.iloc[train_idx], X.iloc[val_idx]\n",
    "        elif isinstance(X, np.ndarray):\n",
    "            X_train, X_val = X[train_idx], X[val_idx]\n",
    "        else:\n",
    "            raise TypeError('Invalid type for X argument')\n",
    "        if isinstance(y, pd.DataFrame) or isinstance(y, pd.Series):\n",
    "            y_train, y_val = y.iloc[train_idx], y.iloc[val_idx]\n",
    "        elif isinstance(y, np.ndarray):\n",
    "            y_train, y_val = y[train_idx], y[val_idx]\n",
    "        else:\n",
    "            raise TypeError('Invalid type for y argument')\n",
    "        test_share = X_val.shape[0] / (X_val.shape[0] + X_train.shape[0])\n",
    "        if test_share < test_share_range[0] or test_share > test_share_range[1]:\n",
    "            continue\n",
    "    \n",
    "        model_new = clone(model)\n",
    "        model_new.fit(X_train, y_train)\n",
    "        models.append(model_new)\n",
    "        y_pred = model_new.predict(X_val)\n",
    "        \n",
    "        fold_metrics['f1'].append(f1_score(y_val, y_pred, zero_division=0))\n",
    "        fold_metrics['precision'].append(precision_score(y_val, y_pred, zero_division=0))\n",
    "        fold_metrics['recall'].append(recall_score(y_val, y_pred, zero_division=0))\n",
    "        \n",
    "        wandb.log({\n",
    "            'fold': fold + 1,\n",
    "            'fold_f1': fold_metrics['f1'][-1],\n",
    "            'fold_precision': fold_metrics['precision'][-1],\n",
    "            'fold_recall': fold_metrics['recall'][-1]\n",
    "        })\n",
    "    \n",
    "    mean_metrics = {\n",
    "        'mean_f1': np.mean(fold_metrics['f1']),\n",
    "        'mean_precision': np.mean(fold_metrics['precision']),\n",
    "        'mean_recall': np.mean(fold_metrics['recall'])\n",
    "    }\n",
    "    \n",
    "    wandb.log({\n",
    "        **mean_metrics,\n",
    "        'status': 'completed'\n",
    "    })\n",
    "    \n",
    "    return mean_metrics, MajorityVoteClassifier(models)\n",
    "\n",
    "def calc_and_print_metrics(model, X, y, is_test=True):\n",
    "    y_pred = model.predict(X)\n",
    "    calc_set_string = \"Test\" if is_test else \"Train\"\n",
    "    print(f\"{calc_set_string} F1-Score: {f1_score(y, y_pred):.3f}\")\n",
    "    print(f\"{calc_set_string} Precision: {precision_score(y, y_pred):.3f}\")\n",
    "    print(f\"{calc_set_string} Recall: {recall_score(y, y_pred):.3f}\")\n",
    "            "
   ]
  },
  {
   "cell_type": "markdown",
   "metadata": {},
   "source": [
    "### Эксперименты"
   ]
  },
  {
   "cell_type": "markdown",
   "metadata": {},
   "source": [
    "#### SVM"
   ]
  },
  {
   "cell_type": "markdown",
   "metadata": {},
   "source": [
    "В качестве бейзлайна, мы брали логистическую регрессию, поэтому в качестве первой модели сейчас можно попробовать ядровой SVM, так как он позволит уловить нелинейные закономерности в данных за счет нелинейности в ядре."
   ]
  },
  {
   "cell_type": "code",
   "execution_count": 48,
   "metadata": {},
   "outputs": [
    {
     "data": {
      "text/html": [
       "Tracking run with wandb version 0.19.8"
      ],
      "text/plain": [
       "<IPython.core.display.HTML object>"
      ]
     },
     "metadata": {},
     "output_type": "display_data"
    },
    {
     "data": {
      "text/html": [
       "Run data is saved locally in <code>/home/aksenovan/ml-sysdis/hw2/wandb/run-20250324_173340-tsqwh13z</code>"
      ],
      "text/plain": [
       "<IPython.core.display.HTML object>"
      ]
     },
     "metadata": {},
     "output_type": "display_data"
    },
    {
     "data": {
      "text/html": [
       "Syncing run <strong><a href='https://wandb.ai/dangerio/job-fake-prediction/runs/tsqwh13z' target=\"_blank\">avid-paper-89</a></strong> to <a href='https://wandb.ai/dangerio/job-fake-prediction' target=\"_blank\">Weights & Biases</a> (<a href='https://wandb.me/developer-guide' target=\"_blank\">docs</a>)<br>"
      ],
      "text/plain": [
       "<IPython.core.display.HTML object>"
      ]
     },
     "metadata": {},
     "output_type": "display_data"
    },
    {
     "data": {
      "text/html": [
       " View project at <a href='https://wandb.ai/dangerio/job-fake-prediction' target=\"_blank\">https://wandb.ai/dangerio/job-fake-prediction</a>"
      ],
      "text/plain": [
       "<IPython.core.display.HTML object>"
      ]
     },
     "metadata": {},
     "output_type": "display_data"
    },
    {
     "data": {
      "text/html": [
       " View run at <a href='https://wandb.ai/dangerio/job-fake-prediction/runs/tsqwh13z' target=\"_blank\">https://wandb.ai/dangerio/job-fake-prediction/runs/tsqwh13z</a>"
      ],
      "text/plain": [
       "<IPython.core.display.HTML object>"
      ]
     },
     "metadata": {},
     "output_type": "display_data"
    },
    {
     "name": "stdout",
     "output_type": "stream",
     "text": [
      "Train F1-Score: 0.630\n",
      "Train Precision: 0.460\n",
      "Train Recall: 1.000\n",
      "Test F1-Score: 0.277\n",
      "Test Precision: 0.528\n",
      "Test Recall: 0.188\n"
     ]
    },
    {
     "data": {
      "text/html": [],
      "text/plain": [
       "<IPython.core.display.HTML object>"
      ]
     },
     "metadata": {},
     "output_type": "display_data"
    },
    {
     "data": {
      "text/html": [
       "<br>    <style><br>        .wandb-row {<br>            display: flex;<br>            flex-direction: row;<br>            flex-wrap: wrap;<br>            justify-content: flex-start;<br>            width: 100%;<br>        }<br>        .wandb-col {<br>            display: flex;<br>            flex-direction: column;<br>            flex-basis: 100%;<br>            flex: 1;<br>            padding: 10px;<br>        }<br>    </style><br><div class=\"wandb-row\"><div class=\"wandb-col\"><h3>Run history:</h3><br/><table class=\"wandb\"><tr><td>fold</td><td>▁▅█</td></tr><tr><td>fold_f1</td><td>█▁▆</td></tr><tr><td>fold_precision</td><td>▄▁█</td></tr><tr><td>fold_recall</td><td>█▂▁</td></tr><tr><td>mean_f1</td><td>▁</td></tr><tr><td>mean_precision</td><td>▁</td></tr><tr><td>mean_recall</td><td>▁</td></tr></table><br/></div><div class=\"wandb-col\"><h3>Run summary:</h3><br/><table class=\"wandb\"><tr><td>fold</td><td>5</td></tr><tr><td>fold_f1</td><td>0.34286</td></tr><tr><td>fold_precision</td><td>0.75</td></tr><tr><td>fold_recall</td><td>0.22222</td></tr><tr><td>mean_f1</td><td>0.30574</td></tr><tr><td>mean_precision</td><td>0.42487</td></tr><tr><td>mean_recall</td><td>0.30185</td></tr><tr><td>status</td><td>completed</td></tr></table><br/></div></div>"
      ],
      "text/plain": [
       "<IPython.core.display.HTML object>"
      ]
     },
     "metadata": {},
     "output_type": "display_data"
    },
    {
     "data": {
      "text/html": [
       " View run <strong style=\"color:#cdcd00\">avid-paper-89</strong> at: <a href='https://wandb.ai/dangerio/job-fake-prediction/runs/tsqwh13z' target=\"_blank\">https://wandb.ai/dangerio/job-fake-prediction/runs/tsqwh13z</a><br> View project at: <a href='https://wandb.ai/dangerio/job-fake-prediction' target=\"_blank\">https://wandb.ai/dangerio/job-fake-prediction</a><br>Synced 5 W&B file(s), 0 media file(s), 0 artifact file(s) and 0 other file(s)"
      ],
      "text/plain": [
       "<IPython.core.display.HTML object>"
      ]
     },
     "metadata": {},
     "output_type": "display_data"
    },
    {
     "data": {
      "text/html": [
       "Find logs at: <code>./wandb/run-20250324_173340-tsqwh13z/logs</code>"
      ],
      "text/plain": [
       "<IPython.core.display.HTML object>"
      ]
     },
     "metadata": {},
     "output_type": "display_data"
    }
   ],
   "source": [
    "model_svm = SVC(\n",
    "    class_weight='balanced',\n",
    "    random_state=42,\n",
    "    max_iter=5000,\n",
    "    kernel=\"rbf\"\n",
    ")\n",
    "\n",
    "n_folds = 5\n",
    "\n",
    "with wandb.init(project=\"job-fake-prediction\", \n",
    "          config={\n",
    "              \"model_type\": \"svm\",\n",
    "              \"validation\": \"stratified_group_kfold\",\n",
    "              \"k_folds\": n_folds\n",
    "          }):\n",
    "    metrics, averaged_model_svm = cross_validate_and_log_metrics(model_svm, X_train_tr, y_train, groups_train, n_splits=n_folds)\n",
    "    calc_and_print_metrics(averaged_model_svm, X_train_tr, y_train, is_test=False)\n",
    "    calc_and_print_metrics(averaged_model_svm, X_test_tr, y_test)"
   ]
  },
  {
   "cell_type": "markdown",
   "metadata": {},
   "source": [
    "Скрины метрик (step здесь имеет смысл очередного сплита кросс-валидации):\n",
    "![](images/svm/f1.png)\n",
    "![](images/svm/precision.png)\n",
    "![](images/svm/recall.png)"
   ]
  },
  {
   "cell_type": "markdown",
   "metadata": {},
   "source": [
    "Видно, что модель перформит лучше бейзлайна (f1_score 0.27 против 0.23) -- нелинейности помогли"
   ]
  },
  {
   "cell_type": "markdown",
   "metadata": {},
   "source": [
    "#### Случайаный лес"
   ]
  },
  {
   "cell_type": "markdown",
   "metadata": {},
   "source": [
    "Теперь попробуем ещё усложнить модель, взяв случайный лес -- может быть, качество еще вырастет."
   ]
  },
  {
   "cell_type": "code",
   "execution_count": 49,
   "metadata": {},
   "outputs": [
    {
     "data": {
      "text/html": [
       "Tracking run with wandb version 0.19.8"
      ],
      "text/plain": [
       "<IPython.core.display.HTML object>"
      ]
     },
     "metadata": {},
     "output_type": "display_data"
    },
    {
     "data": {
      "text/html": [
       "Run data is saved locally in <code>/home/aksenovan/ml-sysdis/hw2/wandb/run-20250324_173414-1zzn5aw3</code>"
      ],
      "text/plain": [
       "<IPython.core.display.HTML object>"
      ]
     },
     "metadata": {},
     "output_type": "display_data"
    },
    {
     "data": {
      "text/html": [
       "Syncing run <strong><a href='https://wandb.ai/dangerio/job-fake-prediction/runs/1zzn5aw3' target=\"_blank\">eager-salad-90</a></strong> to <a href='https://wandb.ai/dangerio/job-fake-prediction' target=\"_blank\">Weights & Biases</a> (<a href='https://wandb.me/developer-guide' target=\"_blank\">docs</a>)<br>"
      ],
      "text/plain": [
       "<IPython.core.display.HTML object>"
      ]
     },
     "metadata": {},
     "output_type": "display_data"
    },
    {
     "data": {
      "text/html": [
       " View project at <a href='https://wandb.ai/dangerio/job-fake-prediction' target=\"_blank\">https://wandb.ai/dangerio/job-fake-prediction</a>"
      ],
      "text/plain": [
       "<IPython.core.display.HTML object>"
      ]
     },
     "metadata": {},
     "output_type": "display_data"
    },
    {
     "data": {
      "text/html": [
       " View run at <a href='https://wandb.ai/dangerio/job-fake-prediction/runs/1zzn5aw3' target=\"_blank\">https://wandb.ai/dangerio/job-fake-prediction/runs/1zzn5aw3</a>"
      ],
      "text/plain": [
       "<IPython.core.display.HTML object>"
      ]
     },
     "metadata": {},
     "output_type": "display_data"
    },
    {
     "name": "stdout",
     "output_type": "stream",
     "text": [
      "Train F1-Score: 1.000\n",
      "Train Precision: 1.000\n",
      "Train Recall: 1.000\n",
      "Test F1-Score: 0.112\n",
      "Test Precision: 1.000\n",
      "Test Recall: 0.059\n"
     ]
    },
    {
     "data": {
      "text/html": [],
      "text/plain": [
       "<IPython.core.display.HTML object>"
      ]
     },
     "metadata": {},
     "output_type": "display_data"
    },
    {
     "data": {
      "text/html": [
       "<br>    <style><br>        .wandb-row {<br>            display: flex;<br>            flex-direction: row;<br>            flex-wrap: wrap;<br>            justify-content: flex-start;<br>            width: 100%;<br>        }<br>        .wandb-col {<br>            display: flex;<br>            flex-direction: column;<br>            flex-basis: 100%;<br>            flex: 1;<br>            padding: 10px;<br>        }<br>    </style><br><div class=\"wandb-row\"><div class=\"wandb-col\"><h3>Run history:</h3><br/><table class=\"wandb\"><tr><td>fold</td><td>▁▅█</td></tr><tr><td>fold_f1</td><td>█▃▁</td></tr><tr><td>fold_precision</td><td>▁▁▁</td></tr><tr><td>fold_recall</td><td>█▂▁</td></tr><tr><td>mean_f1</td><td>▁</td></tr><tr><td>mean_precision</td><td>▁</td></tr><tr><td>mean_recall</td><td>▁</td></tr></table><br/></div><div class=\"wandb-col\"><h3>Run summary:</h3><br/><table class=\"wandb\"><tr><td>fold</td><td>5</td></tr><tr><td>fold_f1</td><td>0.10526</td></tr><tr><td>fold_precision</td><td>1</td></tr><tr><td>fold_recall</td><td>0.05556</td></tr><tr><td>mean_f1</td><td>0.31071</td></tr><tr><td>mean_precision</td><td>1</td></tr><tr><td>mean_recall</td><td>0.20463</td></tr><tr><td>status</td><td>completed</td></tr></table><br/></div></div>"
      ],
      "text/plain": [
       "<IPython.core.display.HTML object>"
      ]
     },
     "metadata": {},
     "output_type": "display_data"
    },
    {
     "data": {
      "text/html": [
       " View run <strong style=\"color:#cdcd00\">eager-salad-90</strong> at: <a href='https://wandb.ai/dangerio/job-fake-prediction/runs/1zzn5aw3' target=\"_blank\">https://wandb.ai/dangerio/job-fake-prediction/runs/1zzn5aw3</a><br> View project at: <a href='https://wandb.ai/dangerio/job-fake-prediction' target=\"_blank\">https://wandb.ai/dangerio/job-fake-prediction</a><br>Synced 5 W&B file(s), 0 media file(s), 0 artifact file(s) and 0 other file(s)"
      ],
      "text/plain": [
       "<IPython.core.display.HTML object>"
      ]
     },
     "metadata": {},
     "output_type": "display_data"
    },
    {
     "data": {
      "text/html": [
       "Find logs at: <code>./wandb/run-20250324_173414-1zzn5aw3/logs</code>"
      ],
      "text/plain": [
       "<IPython.core.display.HTML object>"
      ]
     },
     "metadata": {},
     "output_type": "display_data"
    }
   ],
   "source": [
    "model_rf = RandomForestClassifier(\n",
    "    class_weight='balanced',\n",
    "    random_state=42,\n",
    ")\n",
    "\n",
    "with wandb.init(project=\"job-fake-prediction\", \n",
    "          config={\n",
    "              \"model_type\": \"random_forest\",\n",
    "              \"validation\": \"stratified_group_kfold\",\n",
    "              \"k_folds\": n_folds\n",
    "          }):\n",
    "    metrics, averaged_model_rf = cross_validate_and_log_metrics(model_rf, X_train_tr, y_train, groups_train, n_splits=n_folds)\n",
    "    calc_and_print_metrics(averaged_model_rf, X_train_tr, y_train, is_test=False)\n",
    "    calc_and_print_metrics(averaged_model_rf, X_test_tr, y_test)"
   ]
  },
  {
   "cell_type": "markdown",
   "metadata": {},
   "source": [
    "Скрины метрик (step здесь имеет смысл очередного сплита кросс-валидации):\n",
    "![](images/random_forest/f1.png)\n",
    "![](images/random_forest/precision.png)\n",
    "![](images/random_forest/recall.png)"
   ]
  },
  {
   "cell_type": "markdown",
   "metadata": {},
   "source": [
    "Однако видно, что модель сильно переобучилась и показывает себя хуже себя, чем логистическая регрессия (бейзлайн). Может быть, тюнинг гиперпараметров поможет её регулязировать. Хотя у этой модели есть небольшой плюс -- у нее точность 100% на трейне и тесте. Она выявляет всего 5% фрода, но зато не даёт ложно-положительных результатов."
   ]
  },
  {
   "cell_type": "markdown",
   "metadata": {},
   "source": [
    "#### Градиентный бустинг"
   ]
  },
  {
   "cell_type": "markdown",
   "metadata": {},
   "source": [
    "Известно, что catboost хорошо работает с текстовыми признаками, поэтому обучим его на исходных текстовых признаках после их предобработки. За счет нативной работы с текстовыми признаками, мы ожидаем, что результат может потенциально превзойти предудщие эксперименты по качеству."
   ]
  },
  {
   "cell_type": "code",
   "execution_count": null,
   "metadata": {},
   "outputs": [],
   "source": [
    "raw_text_features = [\"title_processed\", \"description_processed\", \"company_profile_processed\"]\n",
    "X_train_cb = X_train[raw_text_features].fillna('')\n",
    "X_test_cb = X_test[raw_text_features].fillna('')"
   ]
  },
  {
   "cell_type": "code",
   "execution_count": 112,
   "metadata": {},
   "outputs": [],
   "source": [
    "class MetricsLoggerCallback:\n",
    "    def after_iteration(self, info):\n",
    "        test_metrics = info.metrics[\"validation\"]\n",
    "        wandb.log({\n",
    "            'f1': test_metrics['F1'][-1],\n",
    "            'precision': test_metrics['Precision:use_weights=false'][-1],\n",
    "            'recall': test_metrics['Recall:use_weights=false'][-1],\n",
    "        })\n",
    "        return True"
   ]
  },
  {
   "cell_type": "code",
   "execution_count": 113,
   "metadata": {},
   "outputs": [
    {
     "data": {
      "text/html": [
       "Tracking run with wandb version 0.19.8"
      ],
      "text/plain": [
       "<IPython.core.display.HTML object>"
      ]
     },
     "metadata": {},
     "output_type": "display_data"
    },
    {
     "data": {
      "text/html": [
       "Run data is saved locally in <code>/home/aksenovan/ml-sysdis/hw2/wandb/run-20250324_135210-xs46euby</code>"
      ],
      "text/plain": [
       "<IPython.core.display.HTML object>"
      ]
     },
     "metadata": {},
     "output_type": "display_data"
    },
    {
     "data": {
      "text/html": [
       "Syncing run <strong><a href='https://wandb.ai/dangerio/job-fake-prediction/runs/xs46euby' target=\"_blank\">worldly-music-57</a></strong> to <a href='https://wandb.ai/dangerio/job-fake-prediction' target=\"_blank\">Weights & Biases</a> (<a href='https://wandb.me/developer-guide' target=\"_blank\">docs</a>)<br>"
      ],
      "text/plain": [
       "<IPython.core.display.HTML object>"
      ]
     },
     "metadata": {},
     "output_type": "display_data"
    },
    {
     "data": {
      "text/html": [
       " View project at <a href='https://wandb.ai/dangerio/job-fake-prediction' target=\"_blank\">https://wandb.ai/dangerio/job-fake-prediction</a>"
      ],
      "text/plain": [
       "<IPython.core.display.HTML object>"
      ]
     },
     "metadata": {},
     "output_type": "display_data"
    },
    {
     "data": {
      "text/html": [
       " View run at <a href='https://wandb.ai/dangerio/job-fake-prediction/runs/xs46euby' target=\"_blank\">https://wandb.ai/dangerio/job-fake-prediction/runs/xs46euby</a>"
      ],
      "text/plain": [
       "<IPython.core.display.HTML object>"
      ]
     },
     "metadata": {},
     "output_type": "display_data"
    },
    {
     "name": "stdout",
     "output_type": "stream",
     "text": [
      "Train F1-Score: 0.801\n",
      "Train Precision: 0.705\n",
      "Train Recall: 0.928\n",
      "Test F1-Score: 0.446\n",
      "Test Precision: 1.000\n",
      "Test Recall: 0.287\n"
     ]
    },
    {
     "data": {
      "text/html": [],
      "text/plain": [
       "<IPython.core.display.HTML object>"
      ]
     },
     "metadata": {},
     "output_type": "display_data"
    },
    {
     "data": {
      "text/html": [
       "<br>    <style><br>        .wandb-row {<br>            display: flex;<br>            flex-direction: row;<br>            flex-wrap: wrap;<br>            justify-content: flex-start;<br>            width: 100%;<br>        }<br>        .wandb-col {<br>            display: flex;<br>            flex-direction: column;<br>            flex-basis: 100%;<br>            flex: 1;<br>            padding: 10px;<br>        }<br>    </style><br><div class=\"wandb-row\"><div class=\"wandb-col\"><h3>Run history:</h3><br/><table class=\"wandb\"><tr><td>f1</td><td>▁▁██▇▇▇▇▆▁▃▃▃▃▃▅▅▆▅▅▅▅▅▅▅▅▅▄▄▄▄▄▄▃▃▄▅▄▅▄</td></tr><tr><td>precision</td><td>▁▄██████████████████████████████████████</td></tr><tr><td>recall</td><td>▁█▅▇▇▂▂▅▃▃▁▅▅▅▅▆▆▅▅▅▅▅▅▅▅▄▄▄▄▄▃▃▃▃▄▅▄▅▄▄</td></tr></table><br/></div><div class=\"wandb-col\"><h3>Run summary:</h3><br/><table class=\"wandb\"><tr><td>f1</td><td>0.44615</td></tr><tr><td>precision</td><td>1</td></tr><tr><td>recall</td><td>0.28713</td></tr></table><br/></div></div>"
      ],
      "text/plain": [
       "<IPython.core.display.HTML object>"
      ]
     },
     "metadata": {},
     "output_type": "display_data"
    },
    {
     "data": {
      "text/html": [
       " View run <strong style=\"color:#cdcd00\">worldly-music-57</strong> at: <a href='https://wandb.ai/dangerio/job-fake-prediction/runs/xs46euby' target=\"_blank\">https://wandb.ai/dangerio/job-fake-prediction/runs/xs46euby</a><br> View project at: <a href='https://wandb.ai/dangerio/job-fake-prediction' target=\"_blank\">https://wandb.ai/dangerio/job-fake-prediction</a><br>Synced 5 W&B file(s), 0 media file(s), 0 artifact file(s) and 0 other file(s)"
      ],
      "text/plain": [
       "<IPython.core.display.HTML object>"
      ]
     },
     "metadata": {},
     "output_type": "display_data"
    },
    {
     "data": {
      "text/html": [
       "Find logs at: <code>./wandb/run-20250324_135210-xs46euby/logs</code>"
      ],
      "text/plain": [
       "<IPython.core.display.HTML object>"
      ]
     },
     "metadata": {},
     "output_type": "display_data"
    }
   ],
   "source": [
    "model_cb = CatBoostClassifier(\n",
    "        iterations=100,  \n",
    "        loss_function='Logloss',\n",
    "        eval_metric='F1',\n",
    "        custom_metric=['Precision', 'Recall'],\n",
    "        class_weights=[1, 5],\n",
    "        text_features=raw_text_features,\n",
    "        verbose=False,\n",
    "        use_best_model=False,\n",
    "        early_stopping_rounds=None,\n",
    "        \n",
    "    )\n",
    "\n",
    "\n",
    "with wandb.init(project=\"job-fake-prediction\", \n",
    "          config={\n",
    "              \"model_type\": \"catboost\",\n",
    "          }):\n",
    "    model_cb.fit(\n",
    "        X_train_cb, y_train, \n",
    "        callbacks=[MetricsLoggerCallback()],\n",
    "        eval_set=[Pool(X_test_cb, y_test, text_features=raw_text_features)]\n",
    "    )\n",
    "    calc_and_print_metrics(model_cb, X_train_cb, y_train, is_test=False)\n",
    "    calc_and_print_metrics(model_cb, X_test_cb, y_test)\n"
   ]
  },
  {
   "cell_type": "markdown",
   "metadata": {},
   "source": [
    "Скрины метрик на тесте:\n",
    "\n",
    "![](images/catboost/f1.png)\n",
    "![](images/catboost/precision.png)\n",
    "![](images/catboost/recall.png)"
   ]
  },
  {
   "cell_type": "markdown",
   "metadata": {},
   "source": [
    "Видно, что модель переобучилась, но при этом качество все равно существенно улучшилось по сравнению со всеми предыдущими экспериментами."
   ]
  },
  {
   "cell_type": "markdown",
   "metadata": {},
   "source": [
    "#### BERT + логистическая регрессия"
   ]
  },
  {
   "cell_type": "markdown",
   "metadata": {},
   "source": [
    "Ранее мы обрабатывали текст \"классическими\" методами (tf-idf, эвристики катбуста). Кажется, что контекстуальный эмбеддинг BERTа будет менее зашумлен и нести больше информации о тексте, что нам может помочь улучшить качество детекции фрода."
   ]
  },
  {
   "cell_type": "code",
   "execution_count": 72,
   "metadata": {},
   "outputs": [
    {
     "name": "stderr",
     "output_type": "stream",
     "text": [
      "/home/aksenovan/my_env/lib/python3.10/site-packages/huggingface_hub/file_download.py:797: FutureWarning: `resume_download` is deprecated and will be removed in version 1.0.0. Downloads always resume when possible. If you want to force a new download, use `force_download=True`.\n",
      "  warnings.warn(\n"
     ]
    }
   ],
   "source": [
    "device = torch.device(\"cuda\" if torch.cuda.is_available() else \"cpu\")\n",
    "\n",
    "model_name = \"distilbert-base-uncased\"\n",
    "tokenizer = AutoTokenizer.from_pretrained(model_name)\n",
    "model = AutoModel.from_pretrained(model_name).to(device)\n",
    "\n",
    "def get_single_embedding(text):\n",
    "    inputs = tokenizer(\n",
    "        text,\n",
    "        padding=True,\n",
    "        truncation=True,\n",
    "        max_length=512,\n",
    "        return_tensors=\"pt\"\n",
    "    ).to(device)\n",
    "    \n",
    "    with torch.no_grad():\n",
    "        outputs = model(**inputs)\n",
    "    \n",
    "    return outputs.last_hidden_state[:, 0].cpu().numpy()\n",
    "\n",
    "def get_all_embeddings(df):\n",
    "    title_embs = []\n",
    "    desc_embs = []\n",
    "    profile_embs = []\n",
    "    \n",
    "    for _, row in df.iterrows():\n",
    "        title_embs.append(get_single_embedding(str(row['title'])))\n",
    "        desc_embs.append(get_single_embedding(str(row['description'])))\n",
    "        profile_embs.append(get_single_embedding(str(row['company_profile'])))\n",
    "    \n",
    "    # Concatenate embeddings and return as numpy array\n",
    "    return np.hstack([\n",
    "        np.vstack(title_embs),\n",
    "        np.vstack(desc_embs),\n",
    "        np.vstack(profile_embs)\n",
    "    ])\n",
    "\n",
    "preprocessor = StandardScaler()\n",
    "X_train_embeds = pd.DataFrame(preprocessor.fit_transform(get_all_embeddings(X_train)))\n",
    "X_test_embeds = pd.DataFrame(preprocessor.transform(get_all_embeddings(X_test)))"
   ]
  },
  {
   "cell_type": "code",
   "execution_count": 73,
   "metadata": {},
   "outputs": [
    {
     "data": {
      "text/html": [
       "Tracking run with wandb version 0.19.8"
      ],
      "text/plain": [
       "<IPython.core.display.HTML object>"
      ]
     },
     "metadata": {},
     "output_type": "display_data"
    },
    {
     "data": {
      "text/html": [
       "Run data is saved locally in <code>/home/aksenovan/ml-sysdis/hw2/wandb/run-20250324_181611-41qjam7z</code>"
      ],
      "text/plain": [
       "<IPython.core.display.HTML object>"
      ]
     },
     "metadata": {},
     "output_type": "display_data"
    },
    {
     "data": {
      "text/html": [
       "Syncing run <strong><a href='https://wandb.ai/dangerio/job-fake-prediction/runs/41qjam7z' target=\"_blank\">divine-salad-97</a></strong> to <a href='https://wandb.ai/dangerio/job-fake-prediction' target=\"_blank\">Weights & Biases</a> (<a href='https://wandb.me/developer-guide' target=\"_blank\">docs</a>)<br>"
      ],
      "text/plain": [
       "<IPython.core.display.HTML object>"
      ]
     },
     "metadata": {},
     "output_type": "display_data"
    },
    {
     "data": {
      "text/html": [
       " View project at <a href='https://wandb.ai/dangerio/job-fake-prediction' target=\"_blank\">https://wandb.ai/dangerio/job-fake-prediction</a>"
      ],
      "text/plain": [
       "<IPython.core.display.HTML object>"
      ]
     },
     "metadata": {},
     "output_type": "display_data"
    },
    {
     "data": {
      "text/html": [
       " View run at <a href='https://wandb.ai/dangerio/job-fake-prediction/runs/41qjam7z' target=\"_blank\">https://wandb.ai/dangerio/job-fake-prediction/runs/41qjam7z</a>"
      ],
      "text/plain": [
       "<IPython.core.display.HTML object>"
      ]
     },
     "metadata": {},
     "output_type": "display_data"
    },
    {
     "name": "stdout",
     "output_type": "stream",
     "text": [
      "Train F1-Score: 1.000\n",
      "Train Precision: 1.000\n",
      "Train Recall: 1.000\n",
      "Test F1-Score: 0.512\n",
      "Test Precision: 0.620\n",
      "Test Recall: 0.436\n"
     ]
    },
    {
     "data": {
      "text/html": [],
      "text/plain": [
       "<IPython.core.display.HTML object>"
      ]
     },
     "metadata": {},
     "output_type": "display_data"
    },
    {
     "data": {
      "text/html": [
       "<br>    <style><br>        .wandb-row {<br>            display: flex;<br>            flex-direction: row;<br>            flex-wrap: wrap;<br>            justify-content: flex-start;<br>            width: 100%;<br>        }<br>        .wandb-col {<br>            display: flex;<br>            flex-direction: column;<br>            flex-basis: 100%;<br>            flex: 1;<br>            padding: 10px;<br>        }<br>    </style><br><div class=\"wandb-row\"><div class=\"wandb-col\"><h3>Run history:</h3><br/><table class=\"wandb\"><tr><td>fold</td><td>▁▅█</td></tr><tr><td>fold_f1</td><td>▁█▆</td></tr><tr><td>fold_precision</td><td>▁▇█</td></tr><tr><td>fold_recall</td><td>▁█▃</td></tr><tr><td>mean_f1</td><td>▁</td></tr><tr><td>mean_precision</td><td>▁</td></tr><tr><td>mean_recall</td><td>▁</td></tr></table><br/></div><div class=\"wandb-col\"><h3>Run summary:</h3><br/><table class=\"wandb\"><tr><td>fold</td><td>5</td></tr><tr><td>fold_f1</td><td>0.12281</td></tr><tr><td>fold_precision</td><td>0.11667</td></tr><tr><td>fold_recall</td><td>0.12963</td></tr><tr><td>mean_f1</td><td>0.09669</td></tr><tr><td>mean_precision</td><td>0.07395</td></tr><tr><td>mean_recall</td><td>0.17932</td></tr><tr><td>status</td><td>completed</td></tr></table><br/></div></div>"
      ],
      "text/plain": [
       "<IPython.core.display.HTML object>"
      ]
     },
     "metadata": {},
     "output_type": "display_data"
    },
    {
     "data": {
      "text/html": [
       " View run <strong style=\"color:#cdcd00\">divine-salad-97</strong> at: <a href='https://wandb.ai/dangerio/job-fake-prediction/runs/41qjam7z' target=\"_blank\">https://wandb.ai/dangerio/job-fake-prediction/runs/41qjam7z</a><br> View project at: <a href='https://wandb.ai/dangerio/job-fake-prediction' target=\"_blank\">https://wandb.ai/dangerio/job-fake-prediction</a><br>Synced 5 W&B file(s), 0 media file(s), 0 artifact file(s) and 0 other file(s)"
      ],
      "text/plain": [
       "<IPython.core.display.HTML object>"
      ]
     },
     "metadata": {},
     "output_type": "display_data"
    },
    {
     "data": {
      "text/html": [
       "Find logs at: <code>./wandb/run-20250324_181611-41qjam7z/logs</code>"
      ],
      "text/plain": [
       "<IPython.core.display.HTML object>"
      ]
     },
     "metadata": {},
     "output_type": "display_data"
    }
   ],
   "source": [
    "model_bert_logreg = LogisticRegression(\n",
    "    class_weight='balanced',\n",
    "    random_state=42,\n",
    "    max_iter=1000\n",
    ")\n",
    "\n",
    "with wandb.init(project=\"job-fake-prediction\", \n",
    "          config={\n",
    "              \"model_type\": \"bert+logreg\",\n",
    "              \"validation\": \"stratified_group_kfold\",\n",
    "              \"k_folds\": n_folds\n",
    "          }):\n",
    "    metrics, averaged_model_bert_logreg = cross_validate_and_log_metrics(model_bert_logreg, X_train_embeds, y_train, groups_train, n_splits=n_folds)\n",
    "    calc_and_print_metrics(averaged_model_bert_logreg, X_train_embeds, y_train, is_test=False)\n",
    "    calc_and_print_metrics(averaged_model_bert_logreg, X_test_embeds, y_test)"
   ]
  },
  {
   "cell_type": "markdown",
   "metadata": {},
   "source": [
    "Скрины метрик на валидации (step здесь имеет смысл очередного сплита кросс-валидации):\n",
    "![](images/bert/f1.png)\n",
    "![](images/bert/precision.png)\n",
    "![](images/bert/recall.png)"
   ]
  },
  {
   "cell_type": "markdown",
   "metadata": {},
   "source": [
    "Видно, что качество на тесте существенно увеличилось. Однако отметим, что качество на валидации очень низкое -- думаю, это связано с утечкой в данных. Скорее всего фродеры составляют объявления по некоторму шаблону, в результате объявления одного фродера очень близки в пространстве эмбеддингов берта. В результате в тесте модель видит похожий эмбеддинг и выдает ответ, который она видела в трейне. Чтобы это поправить, я пробовал регуляризовать модель, уменьшая размерность с помощью PCA, но это, к сожалению, не помогло."
   ]
  },
  {
   "cell_type": "markdown",
   "metadata": {},
   "source": [
    "## Эксперименты с моделями с тюнингом гиперпараметров"
   ]
  }
 ],
 "metadata": {
  "kernelspec": {
   "display_name": "my_env",
   "language": "python",
   "name": "python3"
  },
  "language_info": {
   "codemirror_mode": {
    "name": "ipython",
    "version": 3
   },
   "file_extension": ".py",
   "mimetype": "text/x-python",
   "name": "python",
   "nbconvert_exporter": "python",
   "pygments_lexer": "ipython3",
   "version": "3.10.12"
  }
 },
 "nbformat": 4,
 "nbformat_minor": 2
}
