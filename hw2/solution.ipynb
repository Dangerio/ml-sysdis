{
 "cells": [
  {
   "cell_type": "code",
   "execution_count": 1,
   "metadata": {},
   "outputs": [
    {
     "name": "stdout",
     "output_type": "stream",
     "text": [
      "env: CUDA_DEVICE_ORDER=PCI_BUS_ID\n",
      "env: CUDA_VISIBLE_DEVICES=3\n"
     ]
    }
   ],
   "source": [
    "%env CUDA_DEVICE_ORDER=PCI_BUS_ID\n",
    "%env CUDA_VISIBLE_DEVICES=3"
   ]
  },
  {
   "cell_type": "code",
   "execution_count": 2,
   "metadata": {},
   "outputs": [],
   "source": [
    "import pandas as pd\n",
    "import numpy as np\n",
    "import torch\n",
    "import optuna\n",
    "\n",
    "from functools import partial\n",
    "\n",
    "from sklearn.model_selection import StratifiedGroupKFold\n",
    "from sklearn.base import BaseEstimator, clone, ClassifierMixin\n",
    "from sklearn.linear_model import LogisticRegression\n",
    "from sklearn.ensemble import RandomForestClassifier\n",
    "from sklearn.svm import SVC\n",
    "from sklearn.metrics import f1_score, precision_score, recall_score\n",
    "from sklearn.pipeline import make_pipeline\n",
    "from sklearn.preprocessing import StandardScaler\n",
    "\n",
    "from catboost import CatBoostClassifier, Pool\n",
    "from transformers import AutoTokenizer, AutoModel\n",
    "\n",
    "from ax import optimize\n",
    "\n",
    "\n",
    "import wandb"
   ]
  },
  {
   "cell_type": "markdown",
   "metadata": {},
   "source": [
    "## Загрузка данных"
   ]
  },
  {
   "cell_type": "code",
   "execution_count": 3,
   "metadata": {},
   "outputs": [],
   "source": [
    "np.random.seed(59)\n",
    "X_train = pd.read_csv(\"data/my/before_feature_engineering/train.csv\", sep=\",\", header=0).drop(columns=\"Unnamed: 0\").iloc[:-300]\n",
    "y_train = pd.read_csv(\"data/my/before_feature_engineering/train_labels.csv\", sep=\",\", header=0).drop(columns=\"Unnamed: 0\").iloc[:-300]\n",
    "X_train_tr = pd.read_csv(\"data/my/after_feature_engineering/train.csv\", sep=\",\", header=0).drop(columns=\"Unnamed: 0\").iloc[:-300]\n",
    "groups_train = pd.read_csv(\"data/my/before_feature_engineering/train_groups.csv\", sep=\",\", header=0).drop(columns=\"Unnamed: 0\")\n",
    "\n",
    "permutation = np.random.permutation(X_train.shape[0])\n",
    "X_train = X_train.iloc[permutation].reset_index(drop=True)\n",
    "X_train_tr = X_train_tr.iloc[permutation].reset_index(drop=True)\n",
    "y_train = y_train.iloc[permutation].reset_index(drop=True)\n",
    "groups_train = groups_train.iloc[permutation].reset_index(drop=True)[\"0\"]\n",
    "\n",
    "X_test = pd.read_csv(\"data/my/before_feature_engineering/test.csv\", sep=\",\", header=0).drop(columns=\"Unnamed: 0\")\n",
    "X_test_tr = pd.read_csv(\"data/my/after_feature_engineering/test.csv\", sep=\",\", header=0).drop(columns=\"Unnamed: 0\")\n",
    "y_test = pd.read_csv(\"data/my/before_feature_engineering/test_labels.csv\", sep=\",\", header=0).drop(columns=\"Unnamed: 0\")\n",
    "\n",
    "y_train = y_train.fraudulent\n",
    "y_test = y_test.fraudulent"
   ]
  },
  {
   "cell_type": "markdown",
   "metadata": {},
   "source": [
    "## Эксперименты с моделями без тюнинга гиперпараметров"
   ]
  },
  {
   "cell_type": "markdown",
   "metadata": {},
   "source": [
    "### Вспомогательные функции"
   ]
  },
  {
   "cell_type": "code",
   "execution_count": 4,
   "metadata": {},
   "outputs": [],
   "source": [
    "\n",
    "class MajorityVoteClassifier(BaseEstimator, ClassifierMixin):\n",
    "    def __init__(self, estimators):\n",
    "        self.estimators = estimators\n",
    "\n",
    "    def predict(self, X):\n",
    "        predictions = np.array([estimator.predict(X) for estimator in self.estimators])\n",
    "        sum_predictions = np.sum(predictions.T, axis=1)\n",
    "        majority = (sum_predictions > (len(self.estimators) / 2)).astype(int)\n",
    "        return majority\n",
    "\n",
    "def cross_validate_and_log_metrics(model, X, y, groups, cv_class=StratifiedGroupKFold, n_splits=5, test_share_range=(0.1, 0.3)):\n",
    "    cv = cv_class(n_splits=n_splits, shuffle=True, random_state=42)\n",
    "    fold_metrics = {'f1': [], 'precision': [], 'recall': []}\n",
    "    models = []\n",
    "    for fold, (train_idx, val_idx) in enumerate(cv.split(X, y, groups=groups)):\n",
    "        if isinstance(X, pd.DataFrame):\n",
    "            X_train, X_val = X.iloc[train_idx], X.iloc[val_idx]\n",
    "        elif isinstance(X, np.ndarray):\n",
    "            X_train, X_val = X[train_idx], X[val_idx]\n",
    "        else:\n",
    "            raise TypeError('Invalid type for X argument')\n",
    "        if isinstance(y, pd.DataFrame) or isinstance(y, pd.Series):\n",
    "            y_train, y_val = y.iloc[train_idx], y.iloc[val_idx]\n",
    "        elif isinstance(y, np.ndarray):\n",
    "            y_train, y_val = y[train_idx], y[val_idx]\n",
    "        else:\n",
    "            raise TypeError('Invalid type for y argument')\n",
    "        test_share = X_val.shape[0] / (X_val.shape[0] + X_train.shape[0])\n",
    "        if test_share < test_share_range[0] or test_share > test_share_range[1]:\n",
    "            continue\n",
    "    \n",
    "        model_new = clone(model)\n",
    "        model_new.fit(X_train, y_train)\n",
    "        models.append(model_new)\n",
    "        y_pred = model_new.predict(X_val)\n",
    "        \n",
    "        fold_metrics['f1'].append(f1_score(y_val, y_pred, zero_division=0))\n",
    "        fold_metrics['precision'].append(precision_score(y_val, y_pred, zero_division=0))\n",
    "        fold_metrics['recall'].append(recall_score(y_val, y_pred, zero_division=0))\n",
    "        \n",
    "        wandb.log({\n",
    "            'fold': fold + 1,\n",
    "            'fold_f1': fold_metrics['f1'][-1],\n",
    "            'fold_precision': fold_metrics['precision'][-1],\n",
    "            'fold_recall': fold_metrics['recall'][-1]\n",
    "        })\n",
    "    \n",
    "    mean_metrics = {\n",
    "        'mean_f1': np.mean(fold_metrics['f1']),\n",
    "        'mean_precision': np.mean(fold_metrics['precision']),\n",
    "        'mean_recall': np.mean(fold_metrics['recall'])\n",
    "    }\n",
    "    \n",
    "    wandb.log({\n",
    "        **mean_metrics,\n",
    "        'status': 'completed'\n",
    "    })\n",
    "    \n",
    "    return mean_metrics, MajorityVoteClassifier(models)\n",
    "\n",
    "def calc_and_print_metrics(model, X, y, is_test=True):\n",
    "    y_pred = model.predict(X)\n",
    "    calc_set_string = \"Test\" if is_test else \"Train\"\n",
    "    print(f\"{calc_set_string} F1-Score: {f1_score(y, y_pred):.3f}\")\n",
    "    print(f\"{calc_set_string} Precision: {precision_score(y, y_pred):.3f}\")\n",
    "    print(f\"{calc_set_string} Recall: {recall_score(y, y_pred):.3f}\")\n",
    "            "
   ]
  },
  {
   "cell_type": "markdown",
   "metadata": {},
   "source": [
    "### Эксперименты"
   ]
  },
  {
   "cell_type": "markdown",
   "metadata": {},
   "source": [
    "#### SVM"
   ]
  },
  {
   "cell_type": "markdown",
   "metadata": {},
   "source": [
    "В качестве бейзлайна, мы брали логистическую регрессию, поэтому в качестве первой модели сейчас можно попробовать ядровой SVM, так как он позволит уловить более сложные закономерности в данных за счет нелинейности в ядре."
   ]
  },
  {
   "cell_type": "code",
   "execution_count": 48,
   "metadata": {},
   "outputs": [
    {
     "data": {
      "text/html": [
       "Tracking run with wandb version 0.19.8"
      ],
      "text/plain": [
       "<IPython.core.display.HTML object>"
      ]
     },
     "metadata": {},
     "output_type": "display_data"
    },
    {
     "data": {
      "text/html": [
       "Run data is saved locally in <code>/home/aksenovan/ml-sysdis/hw2/wandb/run-20250324_173340-tsqwh13z</code>"
      ],
      "text/plain": [
       "<IPython.core.display.HTML object>"
      ]
     },
     "metadata": {},
     "output_type": "display_data"
    },
    {
     "data": {
      "text/html": [
       "Syncing run <strong><a href='https://wandb.ai/dangerio/job-fake-prediction/runs/tsqwh13z' target=\"_blank\">avid-paper-89</a></strong> to <a href='https://wandb.ai/dangerio/job-fake-prediction' target=\"_blank\">Weights & Biases</a> (<a href='https://wandb.me/developer-guide' target=\"_blank\">docs</a>)<br>"
      ],
      "text/plain": [
       "<IPython.core.display.HTML object>"
      ]
     },
     "metadata": {},
     "output_type": "display_data"
    },
    {
     "data": {
      "text/html": [
       " View project at <a href='https://wandb.ai/dangerio/job-fake-prediction' target=\"_blank\">https://wandb.ai/dangerio/job-fake-prediction</a>"
      ],
      "text/plain": [
       "<IPython.core.display.HTML object>"
      ]
     },
     "metadata": {},
     "output_type": "display_data"
    },
    {
     "data": {
      "text/html": [
       " View run at <a href='https://wandb.ai/dangerio/job-fake-prediction/runs/tsqwh13z' target=\"_blank\">https://wandb.ai/dangerio/job-fake-prediction/runs/tsqwh13z</a>"
      ],
      "text/plain": [
       "<IPython.core.display.HTML object>"
      ]
     },
     "metadata": {},
     "output_type": "display_data"
    },
    {
     "name": "stdout",
     "output_type": "stream",
     "text": [
      "Train F1-Score: 0.630\n",
      "Train Precision: 0.460\n",
      "Train Recall: 1.000\n",
      "Test F1-Score: 0.277\n",
      "Test Precision: 0.528\n",
      "Test Recall: 0.188\n"
     ]
    },
    {
     "data": {
      "text/html": [],
      "text/plain": [
       "<IPython.core.display.HTML object>"
      ]
     },
     "metadata": {},
     "output_type": "display_data"
    },
    {
     "data": {
      "text/html": [
       "<br>    <style><br>        .wandb-row {<br>            display: flex;<br>            flex-direction: row;<br>            flex-wrap: wrap;<br>            justify-content: flex-start;<br>            width: 100%;<br>        }<br>        .wandb-col {<br>            display: flex;<br>            flex-direction: column;<br>            flex-basis: 100%;<br>            flex: 1;<br>            padding: 10px;<br>        }<br>    </style><br><div class=\"wandb-row\"><div class=\"wandb-col\"><h3>Run history:</h3><br/><table class=\"wandb\"><tr><td>fold</td><td>▁▅█</td></tr><tr><td>fold_f1</td><td>█▁▆</td></tr><tr><td>fold_precision</td><td>▄▁█</td></tr><tr><td>fold_recall</td><td>█▂▁</td></tr><tr><td>mean_f1</td><td>▁</td></tr><tr><td>mean_precision</td><td>▁</td></tr><tr><td>mean_recall</td><td>▁</td></tr></table><br/></div><div class=\"wandb-col\"><h3>Run summary:</h3><br/><table class=\"wandb\"><tr><td>fold</td><td>5</td></tr><tr><td>fold_f1</td><td>0.34286</td></tr><tr><td>fold_precision</td><td>0.75</td></tr><tr><td>fold_recall</td><td>0.22222</td></tr><tr><td>mean_f1</td><td>0.30574</td></tr><tr><td>mean_precision</td><td>0.42487</td></tr><tr><td>mean_recall</td><td>0.30185</td></tr><tr><td>status</td><td>completed</td></tr></table><br/></div></div>"
      ],
      "text/plain": [
       "<IPython.core.display.HTML object>"
      ]
     },
     "metadata": {},
     "output_type": "display_data"
    },
    {
     "data": {
      "text/html": [
       " View run <strong style=\"color:#cdcd00\">avid-paper-89</strong> at: <a href='https://wandb.ai/dangerio/job-fake-prediction/runs/tsqwh13z' target=\"_blank\">https://wandb.ai/dangerio/job-fake-prediction/runs/tsqwh13z</a><br> View project at: <a href='https://wandb.ai/dangerio/job-fake-prediction' target=\"_blank\">https://wandb.ai/dangerio/job-fake-prediction</a><br>Synced 5 W&B file(s), 0 media file(s), 0 artifact file(s) and 0 other file(s)"
      ],
      "text/plain": [
       "<IPython.core.display.HTML object>"
      ]
     },
     "metadata": {},
     "output_type": "display_data"
    },
    {
     "data": {
      "text/html": [
       "Find logs at: <code>./wandb/run-20250324_173340-tsqwh13z/logs</code>"
      ],
      "text/plain": [
       "<IPython.core.display.HTML object>"
      ]
     },
     "metadata": {},
     "output_type": "display_data"
    }
   ],
   "source": [
    "model_svm = SVC(\n",
    "    class_weight='balanced',\n",
    "    random_state=42,\n",
    "    max_iter=5000,\n",
    "    kernel=\"rbf\"\n",
    ")\n",
    "\n",
    "n_folds = 5\n",
    "\n",
    "with wandb.init(project=\"job-fake-prediction\", \n",
    "          config={\n",
    "              \"model_type\": \"svm\",\n",
    "              \"validation\": \"stratified_group_kfold\",\n",
    "              \"k_folds\": n_folds\n",
    "          }):\n",
    "    metrics, averaged_model_svm = cross_validate_and_log_metrics(model_svm, X_train_tr, y_train, groups_train, n_splits=n_folds)\n",
    "    calc_and_print_metrics(averaged_model_svm, X_train_tr, y_train, is_test=False)\n",
    "    calc_and_print_metrics(averaged_model_svm, X_test_tr, y_test)"
   ]
  },
  {
   "cell_type": "markdown",
   "metadata": {},
   "source": [
    "Скрины метрик (step здесь имеет смысл очередного сплита кросс-валидации):\n",
    "![](images/svm/f1.png)\n",
    "![](images/svm/precision.png)\n",
    "![](images/svm/recall.png)"
   ]
  },
  {
   "cell_type": "markdown",
   "metadata": {},
   "source": [
    "Видно, что модель перформит лучше бейзлайна (f1_score 0.27 против 0.23) -- нелинейности помогли"
   ]
  },
  {
   "cell_type": "markdown",
   "metadata": {},
   "source": [
    "#### Случайаный лес"
   ]
  },
  {
   "cell_type": "markdown",
   "metadata": {},
   "source": [
    "Теперь попробуем ещё усложнить модель, взяв случайный лес -- может быть, качество еще вырастет."
   ]
  },
  {
   "cell_type": "code",
   "execution_count": 49,
   "metadata": {},
   "outputs": [
    {
     "data": {
      "text/html": [
       "Tracking run with wandb version 0.19.8"
      ],
      "text/plain": [
       "<IPython.core.display.HTML object>"
      ]
     },
     "metadata": {},
     "output_type": "display_data"
    },
    {
     "data": {
      "text/html": [
       "Run data is saved locally in <code>/home/aksenovan/ml-sysdis/hw2/wandb/run-20250324_173414-1zzn5aw3</code>"
      ],
      "text/plain": [
       "<IPython.core.display.HTML object>"
      ]
     },
     "metadata": {},
     "output_type": "display_data"
    },
    {
     "data": {
      "text/html": [
       "Syncing run <strong><a href='https://wandb.ai/dangerio/job-fake-prediction/runs/1zzn5aw3' target=\"_blank\">eager-salad-90</a></strong> to <a href='https://wandb.ai/dangerio/job-fake-prediction' target=\"_blank\">Weights & Biases</a> (<a href='https://wandb.me/developer-guide' target=\"_blank\">docs</a>)<br>"
      ],
      "text/plain": [
       "<IPython.core.display.HTML object>"
      ]
     },
     "metadata": {},
     "output_type": "display_data"
    },
    {
     "data": {
      "text/html": [
       " View project at <a href='https://wandb.ai/dangerio/job-fake-prediction' target=\"_blank\">https://wandb.ai/dangerio/job-fake-prediction</a>"
      ],
      "text/plain": [
       "<IPython.core.display.HTML object>"
      ]
     },
     "metadata": {},
     "output_type": "display_data"
    },
    {
     "data": {
      "text/html": [
       " View run at <a href='https://wandb.ai/dangerio/job-fake-prediction/runs/1zzn5aw3' target=\"_blank\">https://wandb.ai/dangerio/job-fake-prediction/runs/1zzn5aw3</a>"
      ],
      "text/plain": [
       "<IPython.core.display.HTML object>"
      ]
     },
     "metadata": {},
     "output_type": "display_data"
    },
    {
     "name": "stdout",
     "output_type": "stream",
     "text": [
      "Train F1-Score: 1.000\n",
      "Train Precision: 1.000\n",
      "Train Recall: 1.000\n",
      "Test F1-Score: 0.112\n",
      "Test Precision: 1.000\n",
      "Test Recall: 0.059\n"
     ]
    },
    {
     "data": {
      "text/html": [],
      "text/plain": [
       "<IPython.core.display.HTML object>"
      ]
     },
     "metadata": {},
     "output_type": "display_data"
    },
    {
     "data": {
      "text/html": [
       "<br>    <style><br>        .wandb-row {<br>            display: flex;<br>            flex-direction: row;<br>            flex-wrap: wrap;<br>            justify-content: flex-start;<br>            width: 100%;<br>        }<br>        .wandb-col {<br>            display: flex;<br>            flex-direction: column;<br>            flex-basis: 100%;<br>            flex: 1;<br>            padding: 10px;<br>        }<br>    </style><br><div class=\"wandb-row\"><div class=\"wandb-col\"><h3>Run history:</h3><br/><table class=\"wandb\"><tr><td>fold</td><td>▁▅█</td></tr><tr><td>fold_f1</td><td>█▃▁</td></tr><tr><td>fold_precision</td><td>▁▁▁</td></tr><tr><td>fold_recall</td><td>█▂▁</td></tr><tr><td>mean_f1</td><td>▁</td></tr><tr><td>mean_precision</td><td>▁</td></tr><tr><td>mean_recall</td><td>▁</td></tr></table><br/></div><div class=\"wandb-col\"><h3>Run summary:</h3><br/><table class=\"wandb\"><tr><td>fold</td><td>5</td></tr><tr><td>fold_f1</td><td>0.10526</td></tr><tr><td>fold_precision</td><td>1</td></tr><tr><td>fold_recall</td><td>0.05556</td></tr><tr><td>mean_f1</td><td>0.31071</td></tr><tr><td>mean_precision</td><td>1</td></tr><tr><td>mean_recall</td><td>0.20463</td></tr><tr><td>status</td><td>completed</td></tr></table><br/></div></div>"
      ],
      "text/plain": [
       "<IPython.core.display.HTML object>"
      ]
     },
     "metadata": {},
     "output_type": "display_data"
    },
    {
     "data": {
      "text/html": [
       " View run <strong style=\"color:#cdcd00\">eager-salad-90</strong> at: <a href='https://wandb.ai/dangerio/job-fake-prediction/runs/1zzn5aw3' target=\"_blank\">https://wandb.ai/dangerio/job-fake-prediction/runs/1zzn5aw3</a><br> View project at: <a href='https://wandb.ai/dangerio/job-fake-prediction' target=\"_blank\">https://wandb.ai/dangerio/job-fake-prediction</a><br>Synced 5 W&B file(s), 0 media file(s), 0 artifact file(s) and 0 other file(s)"
      ],
      "text/plain": [
       "<IPython.core.display.HTML object>"
      ]
     },
     "metadata": {},
     "output_type": "display_data"
    },
    {
     "data": {
      "text/html": [
       "Find logs at: <code>./wandb/run-20250324_173414-1zzn5aw3/logs</code>"
      ],
      "text/plain": [
       "<IPython.core.display.HTML object>"
      ]
     },
     "metadata": {},
     "output_type": "display_data"
    }
   ],
   "source": [
    "model_rf = RandomForestClassifier(\n",
    "    class_weight='balanced',\n",
    "    random_state=42,\n",
    ")\n",
    "\n",
    "with wandb.init(project=\"job-fake-prediction\", \n",
    "          config={\n",
    "              \"model_type\": \"random_forest\",\n",
    "              \"validation\": \"stratified_group_kfold\",\n",
    "              \"k_folds\": n_folds\n",
    "          }):\n",
    "    metrics, averaged_model_rf = cross_validate_and_log_metrics(model_rf, X_train_tr, y_train, groups_train, n_splits=n_folds)\n",
    "    calc_and_print_metrics(averaged_model_rf, X_train_tr, y_train, is_test=False)\n",
    "    calc_and_print_metrics(averaged_model_rf, X_test_tr, y_test)"
   ]
  },
  {
   "cell_type": "markdown",
   "metadata": {},
   "source": [
    "Скрины метрик (step здесь имеет смысл очередного сплита кросс-валидации):\n",
    "![](images/random_forest/f1.png)\n",
    "![](images/random_forest/precision.png)\n",
    "![](images/random_forest/recall.png)"
   ]
  },
  {
   "cell_type": "markdown",
   "metadata": {},
   "source": [
    "Видно, что модель сильно переобучилась и показывает себя хуже себя, чем логистическая регрессия (бейзлайн). Может быть, тюнинг гиперпараметров поможет её регулязировать."
   ]
  },
  {
   "cell_type": "markdown",
   "metadata": {},
   "source": [
    "#### Градиентный бустинг"
   ]
  },
  {
   "cell_type": "markdown",
   "metadata": {},
   "source": [
    "Известно, что catboost хорошо работает с текстовыми признаками, поэтому обучим его на исходных текстовых признаках после их предобработки. За счет нативной работы с текстовыми признаками, мы ожидаем, что результат может потенциально превзойти предыдущие эксперименты по качеству."
   ]
  },
  {
   "cell_type": "code",
   "execution_count": 22,
   "metadata": {},
   "outputs": [],
   "source": [
    "raw_text_features = [\"title_processed\", \"description_processed\", \"company_profile_processed\"]\n",
    "X_train_cb = X_train[raw_text_features].fillna('')\n",
    "X_test_cb = X_test[raw_text_features].fillna('')"
   ]
  },
  {
   "cell_type": "code",
   "execution_count": 112,
   "metadata": {},
   "outputs": [],
   "source": [
    "class MetricsLoggerCallback:\n",
    "    def after_iteration(self, info):\n",
    "        test_metrics = info.metrics[\"validation\"]\n",
    "        wandb.log({\n",
    "            'f1': test_metrics['F1'][-1],\n",
    "            'precision': test_metrics['Precision:use_weights=false'][-1],\n",
    "            'recall': test_metrics['Recall:use_weights=false'][-1],\n",
    "        })\n",
    "        return True"
   ]
  },
  {
   "cell_type": "code",
   "execution_count": 113,
   "metadata": {},
   "outputs": [
    {
     "data": {
      "text/html": [
       "Tracking run with wandb version 0.19.8"
      ],
      "text/plain": [
       "<IPython.core.display.HTML object>"
      ]
     },
     "metadata": {},
     "output_type": "display_data"
    },
    {
     "data": {
      "text/html": [
       "Run data is saved locally in <code>/home/aksenovan/ml-sysdis/hw2/wandb/run-20250324_135210-xs46euby</code>"
      ],
      "text/plain": [
       "<IPython.core.display.HTML object>"
      ]
     },
     "metadata": {},
     "output_type": "display_data"
    },
    {
     "data": {
      "text/html": [
       "Syncing run <strong><a href='https://wandb.ai/dangerio/job-fake-prediction/runs/xs46euby' target=\"_blank\">worldly-music-57</a></strong> to <a href='https://wandb.ai/dangerio/job-fake-prediction' target=\"_blank\">Weights & Biases</a> (<a href='https://wandb.me/developer-guide' target=\"_blank\">docs</a>)<br>"
      ],
      "text/plain": [
       "<IPython.core.display.HTML object>"
      ]
     },
     "metadata": {},
     "output_type": "display_data"
    },
    {
     "data": {
      "text/html": [
       " View project at <a href='https://wandb.ai/dangerio/job-fake-prediction' target=\"_blank\">https://wandb.ai/dangerio/job-fake-prediction</a>"
      ],
      "text/plain": [
       "<IPython.core.display.HTML object>"
      ]
     },
     "metadata": {},
     "output_type": "display_data"
    },
    {
     "data": {
      "text/html": [
       " View run at <a href='https://wandb.ai/dangerio/job-fake-prediction/runs/xs46euby' target=\"_blank\">https://wandb.ai/dangerio/job-fake-prediction/runs/xs46euby</a>"
      ],
      "text/plain": [
       "<IPython.core.display.HTML object>"
      ]
     },
     "metadata": {},
     "output_type": "display_data"
    },
    {
     "name": "stdout",
     "output_type": "stream",
     "text": [
      "Train F1-Score: 0.801\n",
      "Train Precision: 0.705\n",
      "Train Recall: 0.928\n",
      "Test F1-Score: 0.446\n",
      "Test Precision: 1.000\n",
      "Test Recall: 0.287\n"
     ]
    },
    {
     "data": {
      "text/html": [],
      "text/plain": [
       "<IPython.core.display.HTML object>"
      ]
     },
     "metadata": {},
     "output_type": "display_data"
    },
    {
     "data": {
      "text/html": [
       "<br>    <style><br>        .wandb-row {<br>            display: flex;<br>            flex-direction: row;<br>            flex-wrap: wrap;<br>            justify-content: flex-start;<br>            width: 100%;<br>        }<br>        .wandb-col {<br>            display: flex;<br>            flex-direction: column;<br>            flex-basis: 100%;<br>            flex: 1;<br>            padding: 10px;<br>        }<br>    </style><br><div class=\"wandb-row\"><div class=\"wandb-col\"><h3>Run history:</h3><br/><table class=\"wandb\"><tr><td>f1</td><td>▁▁██▇▇▇▇▆▁▃▃▃▃▃▅▅▆▅▅▅▅▅▅▅▅▅▄▄▄▄▄▄▃▃▄▅▄▅▄</td></tr><tr><td>precision</td><td>▁▄██████████████████████████████████████</td></tr><tr><td>recall</td><td>▁█▅▇▇▂▂▅▃▃▁▅▅▅▅▆▆▅▅▅▅▅▅▅▅▄▄▄▄▄▃▃▃▃▄▅▄▅▄▄</td></tr></table><br/></div><div class=\"wandb-col\"><h3>Run summary:</h3><br/><table class=\"wandb\"><tr><td>f1</td><td>0.44615</td></tr><tr><td>precision</td><td>1</td></tr><tr><td>recall</td><td>0.28713</td></tr></table><br/></div></div>"
      ],
      "text/plain": [
       "<IPython.core.display.HTML object>"
      ]
     },
     "metadata": {},
     "output_type": "display_data"
    },
    {
     "data": {
      "text/html": [
       " View run <strong style=\"color:#cdcd00\">worldly-music-57</strong> at: <a href='https://wandb.ai/dangerio/job-fake-prediction/runs/xs46euby' target=\"_blank\">https://wandb.ai/dangerio/job-fake-prediction/runs/xs46euby</a><br> View project at: <a href='https://wandb.ai/dangerio/job-fake-prediction' target=\"_blank\">https://wandb.ai/dangerio/job-fake-prediction</a><br>Synced 5 W&B file(s), 0 media file(s), 0 artifact file(s) and 0 other file(s)"
      ],
      "text/plain": [
       "<IPython.core.display.HTML object>"
      ]
     },
     "metadata": {},
     "output_type": "display_data"
    },
    {
     "data": {
      "text/html": [
       "Find logs at: <code>./wandb/run-20250324_135210-xs46euby/logs</code>"
      ],
      "text/plain": [
       "<IPython.core.display.HTML object>"
      ]
     },
     "metadata": {},
     "output_type": "display_data"
    }
   ],
   "source": [
    "model_cb = CatBoostClassifier(\n",
    "        iterations=100,  \n",
    "        loss_function='Logloss',\n",
    "        eval_metric='F1',\n",
    "        custom_metric=['Precision', 'Recall'],\n",
    "        class_weights=[1, 5],\n",
    "        text_features=raw_text_features,\n",
    "        verbose=False,\n",
    "        use_best_model=False,\n",
    "        early_stopping_rounds=None,\n",
    "        \n",
    "    )\n",
    "\n",
    "\n",
    "with wandb.init(project=\"job-fake-prediction\", \n",
    "          config={\n",
    "              \"model_type\": \"catboost\",\n",
    "          }):\n",
    "    model_cb.fit(\n",
    "        X_train_cb, y_train, \n",
    "        callbacks=[MetricsLoggerCallback()],\n",
    "        eval_set=[Pool(X_test_cb, y_test, text_features=raw_text_features)]\n",
    "    )\n",
    "    calc_and_print_metrics(model_cb, X_train_cb, y_train, is_test=False)\n",
    "    calc_and_print_metrics(model_cb, X_test_cb, y_test)\n"
   ]
  },
  {
   "cell_type": "markdown",
   "metadata": {},
   "source": [
    "Скрины метрик на тесте:\n",
    "\n",
    "![](images/catboost/f1.png)\n",
    "![](images/catboost/precision.png)\n",
    "![](images/catboost/recall.png)"
   ]
  },
  {
   "cell_type": "markdown",
   "metadata": {},
   "source": [
    "Видно, что модель переобучилась, но при этом качество все равно существенно улучшилось по сравнению со всеми предыдущими экспериментами."
   ]
  },
  {
   "cell_type": "markdown",
   "metadata": {},
   "source": [
    "#### BERT + логистическая регрессия"
   ]
  },
  {
   "cell_type": "markdown",
   "metadata": {},
   "source": [
    "Ранее мы обрабатывали текст \"классическими\" методами (tf-idf, эвристики катбуста). Кажется, что контекстуальный эмбеддинг BERTа будет менее зашумлен и нести больше информации о тексте, что может нам помочь улучшить качество детекции фрода."
   ]
  },
  {
   "cell_type": "code",
   "execution_count": null,
   "metadata": {},
   "outputs": [
    {
     "name": "stderr",
     "output_type": "stream",
     "text": [
      "/home/aksenovan/my_env/lib/python3.10/site-packages/huggingface_hub/file_download.py:797: FutureWarning: `resume_download` is deprecated and will be removed in version 1.0.0. Downloads always resume when possible. If you want to force a new download, use `force_download=True`.\n",
      "  warnings.warn(\n"
     ]
    }
   ],
   "source": [
    "device = torch.device(\"cuda\" if torch.cuda.is_available() else \"cpu\")\n",
    "\n",
    "model_name = \"distilbert-base-uncased\"\n",
    "tokenizer = AutoTokenizer.from_pretrained(model_name)\n",
    "model = AutoModel.from_pretrained(model_name).to(device)\n",
    "\n",
    "def get_single_embedding(text):\n",
    "    inputs = tokenizer(\n",
    "        text,\n",
    "        padding=True,\n",
    "        truncation=True,\n",
    "        max_length=512,\n",
    "        return_tensors=\"pt\"\n",
    "    ).to(device)\n",
    "    \n",
    "    with torch.no_grad():\n",
    "        outputs = model(**inputs)\n",
    "    \n",
    "    return outputs.last_hidden_state[:, 0].cpu().numpy()\n",
    "\n",
    "def get_all_embeddings(df):\n",
    "    title_embs = []\n",
    "    desc_embs = []\n",
    "    profile_embs = []\n",
    "    \n",
    "    for _, row in df.iterrows():\n",
    "        title_embs.append(get_single_embedding(str(row['title'])))\n",
    "        desc_embs.append(get_single_embedding(str(row['description'])))\n",
    "        profile_embs.append(get_single_embedding(str(row['company_profile'])))\n",
    "    \n",
    "    return np.hstack([\n",
    "        np.vstack(title_embs),\n",
    "        np.vstack(desc_embs),\n",
    "        np.vstack(profile_embs)\n",
    "    ])\n",
    "\n",
    "preprocessor = StandardScaler()\n",
    "X_train_embeds = pd.DataFrame(preprocessor.fit_transform(get_all_embeddings(X_train)))\n",
    "X_test_embeds = pd.DataFrame(preprocessor.transform(get_all_embeddings(X_test)))"
   ]
  },
  {
   "cell_type": "code",
   "execution_count": 73,
   "metadata": {},
   "outputs": [
    {
     "data": {
      "text/html": [
       "Tracking run with wandb version 0.19.8"
      ],
      "text/plain": [
       "<IPython.core.display.HTML object>"
      ]
     },
     "metadata": {},
     "output_type": "display_data"
    },
    {
     "data": {
      "text/html": [
       "Run data is saved locally in <code>/home/aksenovan/ml-sysdis/hw2/wandb/run-20250324_181611-41qjam7z</code>"
      ],
      "text/plain": [
       "<IPython.core.display.HTML object>"
      ]
     },
     "metadata": {},
     "output_type": "display_data"
    },
    {
     "data": {
      "text/html": [
       "Syncing run <strong><a href='https://wandb.ai/dangerio/job-fake-prediction/runs/41qjam7z' target=\"_blank\">divine-salad-97</a></strong> to <a href='https://wandb.ai/dangerio/job-fake-prediction' target=\"_blank\">Weights & Biases</a> (<a href='https://wandb.me/developer-guide' target=\"_blank\">docs</a>)<br>"
      ],
      "text/plain": [
       "<IPython.core.display.HTML object>"
      ]
     },
     "metadata": {},
     "output_type": "display_data"
    },
    {
     "data": {
      "text/html": [
       " View project at <a href='https://wandb.ai/dangerio/job-fake-prediction' target=\"_blank\">https://wandb.ai/dangerio/job-fake-prediction</a>"
      ],
      "text/plain": [
       "<IPython.core.display.HTML object>"
      ]
     },
     "metadata": {},
     "output_type": "display_data"
    },
    {
     "data": {
      "text/html": [
       " View run at <a href='https://wandb.ai/dangerio/job-fake-prediction/runs/41qjam7z' target=\"_blank\">https://wandb.ai/dangerio/job-fake-prediction/runs/41qjam7z</a>"
      ],
      "text/plain": [
       "<IPython.core.display.HTML object>"
      ]
     },
     "metadata": {},
     "output_type": "display_data"
    },
    {
     "name": "stdout",
     "output_type": "stream",
     "text": [
      "Train F1-Score: 1.000\n",
      "Train Precision: 1.000\n",
      "Train Recall: 1.000\n",
      "Test F1-Score: 0.512\n",
      "Test Precision: 0.620\n",
      "Test Recall: 0.436\n"
     ]
    },
    {
     "data": {
      "text/html": [],
      "text/plain": [
       "<IPython.core.display.HTML object>"
      ]
     },
     "metadata": {},
     "output_type": "display_data"
    },
    {
     "data": {
      "text/html": [
       "<br>    <style><br>        .wandb-row {<br>            display: flex;<br>            flex-direction: row;<br>            flex-wrap: wrap;<br>            justify-content: flex-start;<br>            width: 100%;<br>        }<br>        .wandb-col {<br>            display: flex;<br>            flex-direction: column;<br>            flex-basis: 100%;<br>            flex: 1;<br>            padding: 10px;<br>        }<br>    </style><br><div class=\"wandb-row\"><div class=\"wandb-col\"><h3>Run history:</h3><br/><table class=\"wandb\"><tr><td>fold</td><td>▁▅█</td></tr><tr><td>fold_f1</td><td>▁█▆</td></tr><tr><td>fold_precision</td><td>▁▇█</td></tr><tr><td>fold_recall</td><td>▁█▃</td></tr><tr><td>mean_f1</td><td>▁</td></tr><tr><td>mean_precision</td><td>▁</td></tr><tr><td>mean_recall</td><td>▁</td></tr></table><br/></div><div class=\"wandb-col\"><h3>Run summary:</h3><br/><table class=\"wandb\"><tr><td>fold</td><td>5</td></tr><tr><td>fold_f1</td><td>0.12281</td></tr><tr><td>fold_precision</td><td>0.11667</td></tr><tr><td>fold_recall</td><td>0.12963</td></tr><tr><td>mean_f1</td><td>0.09669</td></tr><tr><td>mean_precision</td><td>0.07395</td></tr><tr><td>mean_recall</td><td>0.17932</td></tr><tr><td>status</td><td>completed</td></tr></table><br/></div></div>"
      ],
      "text/plain": [
       "<IPython.core.display.HTML object>"
      ]
     },
     "metadata": {},
     "output_type": "display_data"
    },
    {
     "data": {
      "text/html": [
       " View run <strong style=\"color:#cdcd00\">divine-salad-97</strong> at: <a href='https://wandb.ai/dangerio/job-fake-prediction/runs/41qjam7z' target=\"_blank\">https://wandb.ai/dangerio/job-fake-prediction/runs/41qjam7z</a><br> View project at: <a href='https://wandb.ai/dangerio/job-fake-prediction' target=\"_blank\">https://wandb.ai/dangerio/job-fake-prediction</a><br>Synced 5 W&B file(s), 0 media file(s), 0 artifact file(s) and 0 other file(s)"
      ],
      "text/plain": [
       "<IPython.core.display.HTML object>"
      ]
     },
     "metadata": {},
     "output_type": "display_data"
    },
    {
     "data": {
      "text/html": [
       "Find logs at: <code>./wandb/run-20250324_181611-41qjam7z/logs</code>"
      ],
      "text/plain": [
       "<IPython.core.display.HTML object>"
      ]
     },
     "metadata": {},
     "output_type": "display_data"
    }
   ],
   "source": [
    "model_bert_logreg = LogisticRegression(\n",
    "    class_weight='balanced',\n",
    "    random_state=42,\n",
    "    max_iter=1000\n",
    ")\n",
    "\n",
    "with wandb.init(project=\"job-fake-prediction\", \n",
    "          config={\n",
    "              \"model_type\": \"bert+logreg\",\n",
    "              \"validation\": \"stratified_group_kfold\",\n",
    "              \"k_folds\": n_folds\n",
    "          }):\n",
    "    metrics, averaged_model_bert_logreg = cross_validate_and_log_metrics(model_bert_logreg, X_train_embeds, y_train, groups_train, n_splits=n_folds)\n",
    "    calc_and_print_metrics(averaged_model_bert_logreg, X_train_embeds, y_train, is_test=False)\n",
    "    calc_and_print_metrics(averaged_model_bert_logreg, X_test_embeds, y_test)"
   ]
  },
  {
   "cell_type": "markdown",
   "metadata": {},
   "source": [
    "Скрины метрик на валидации (step здесь имеет смысл очередного сплита кросс-валидации):\n",
    "![](images/bert/f1.png)\n",
    "![](images/bert/precision.png)\n",
    "![](images/bert/recall.png)"
   ]
  },
  {
   "cell_type": "markdown",
   "metadata": {},
   "source": [
    "Видно, что качество на тесте существенно увеличилось. Однако отметим, что качество на валидации очень низкое -- думаю, это связано с утечкой в данных. Скорее всего фродеры составляют объявления по некоторму шаблону, поэтому объявления одного фродера очень близки в пространстве эмбеддингов берта. В результате в тесте модель видит похожий эмбеддинг и выдает ответ, который она видела в трейне. Чтобы это поправить, я пробовал регуляризовать модель, уменьшая размерность с помощью PCA, но это, к сожалению, не помогло."
   ]
  },
  {
   "cell_type": "markdown",
   "metadata": {},
   "source": [
    "## Эксперименты с моделями с тюнингом гиперпараметров"
   ]
  },
  {
   "cell_type": "markdown",
   "metadata": {},
   "source": [
    "Случайный лес показал слишком низкое качество, а линейная регрессия с бертом чересчур хорошее (из-за утечки, вероятно), поэтому здесь подберем гиперпараметры для Catboost и SVM. \n",
    "\n",
    "Для каждого из них воспользуемся тремя методами/фрейморками:\n",
    "- gridsearch\n",
    "- optuna\n",
    "- ax"
   ]
  },
  {
   "cell_type": "markdown",
   "metadata": {},
   "source": [
    "Напишем helper-функции и потюним гиперпараметры"
   ]
  },
  {
   "cell_type": "code",
   "execution_count": 16,
   "metadata": {},
   "outputs": [],
   "source": [
    "from sklearn.model_selection import ParameterGrid\n",
    "\n",
    "def grid_search(\n",
    "    X, y, groups, model_class, param_grid,\n",
    "    cv_class=StratifiedGroupKFold, n_splits=5,\n",
    "    test_share_range=(0.1, 0.3),\n",
    "):\n",
    "    all_results = []\n",
    "    best_score = -1\n",
    "    best_params = None\n",
    "\n",
    "    for params in ParameterGrid(param_grid):\n",
    "        cleaned_params = params.copy()\n",
    "\n",
    "        model = model_class(**cleaned_params)\n",
    "        \n",
    "        mean_metrics, _ = cross_validate_and_log_metrics(\n",
    "            model, X, y, groups,\n",
    "            cv_class=cv_class,\n",
    "            n_splits=n_splits,\n",
    "            test_share_range=test_share_range\n",
    "        )\n",
    "\n",
    "        current_score = mean_metrics[\"mean_f1\"]\n",
    "        all_results.append({\n",
    "            \"params\": cleaned_params,\n",
    "            \"metrics\": mean_metrics\n",
    "        })\n",
    "\n",
    "        if current_score > best_score:\n",
    "            best_score = current_score\n",
    "            best_params = cleaned_params\n",
    "\n",
    "    return best_params, all_results\n",
    "\n",
    "\n",
    "\n",
    "def tune_hyperparameters_optuna(\n",
    "    X, y, groups, model_class, param_sampler,\n",
    "    cv_class=StratifiedGroupKFold, n_splits=5, \n",
    "    test_share_range=(0.1, 0.3), n_trials=100,\n",
    "    direction=\"maximize\"\n",
    "):\n",
    "    \n",
    "    def objective(trial):\n",
    "        params = param_sampler(trial)\n",
    "        \n",
    "        model = model_class(**params)\n",
    "        \n",
    "        mean_metrics, _ = cross_validate_and_log_metrics(\n",
    "            model, X, y, groups,\n",
    "            cv_class=cv_class,\n",
    "            n_splits=n_splits,\n",
    "            test_share_range=test_share_range\n",
    "        )\n",
    "        \n",
    "        return mean_metrics[\"mean_f1\"]\n",
    "\n",
    "    study = optuna.create_study(direction=direction)\n",
    "    study.optimize(objective, n_trials=n_trials)\n",
    "\n",
    "    return study.best_params, study\n",
    "\n",
    "def tune_hyperparameters_ax(\n",
    "    X, y, groups, model_class, param_config,\n",
    "    cv_class=StratifiedGroupKFold, n_splits=5,\n",
    "    test_share_range=(0.1, 0.3), n_trials=100,\n",
    "    direction=\"maximize\"\n",
    "):  \n",
    "    def evaluation_function(params):\n",
    "        cleaned_params = {\n",
    "            k: (v if v != \"None\" else None) \n",
    "            for k, v in params.items()\n",
    "        }\n",
    "        \n",
    "        \n",
    "        model = model_class(**cleaned_params)\n",
    "        \n",
    "        mean_metrics, _ = cross_validate_and_log_metrics(\n",
    "            model, X, y, groups,\n",
    "            cv_class=cv_class,\n",
    "            n_splits=n_splits,\n",
    "            test_share_range=test_share_range\n",
    "        )\n",
    "        \n",
    "        \n",
    "        return {\"mean_f1\": (mean_metrics[\"mean_f1\"], 0.0)}\n",
    "\n",
    "    best_params, best_values, experiment, _ = optimize(\n",
    "        parameters=param_config,\n",
    "        evaluation_function=evaluation_function,\n",
    "        objective_name=\"mean_f1\",\n",
    "        minimize=direction != \"maximize\",\n",
    "        total_trials=n_trials,\n",
    "    )\n",
    "\n",
    "    return best_params, experiment"
   ]
  },
  {
   "cell_type": "markdown",
   "metadata": {},
   "source": [
    "#### SVM"
   ]
  },
  {
   "cell_type": "markdown",
   "metadata": {},
   "source": [
    "##### Gridsearch"
   ]
  },
  {
   "cell_type": "code",
   "execution_count": 13,
   "metadata": {},
   "outputs": [],
   "source": [
    "svm_cls = partial(\n",
    "    SVC, \n",
    "    random_state=42,\n",
    "    max_iter=5000,\n",
    "    class_weight=\"balanced\"\n",
    ")"
   ]
  },
  {
   "cell_type": "code",
   "execution_count": 14,
   "metadata": {},
   "outputs": [
    {
     "data": {
      "text/html": [
       "Tracking run with wandb version 0.19.8"
      ],
      "text/plain": [
       "<IPython.core.display.HTML object>"
      ]
     },
     "metadata": {},
     "output_type": "display_data"
    },
    {
     "data": {
      "text/html": [
       "Run data is saved locally in <code>/home/aksenovan/ml-sysdis/hw2/wandb/run-20250324_200151-n5lrjo2i</code>"
      ],
      "text/plain": [
       "<IPython.core.display.HTML object>"
      ]
     },
     "metadata": {},
     "output_type": "display_data"
    },
    {
     "data": {
      "text/html": [
       "Syncing run <strong><a href='https://wandb.ai/dangerio/job-fake-prediction/runs/n5lrjo2i' target=\"_blank\">skilled-wind-109</a></strong> to <a href='https://wandb.ai/dangerio/job-fake-prediction' target=\"_blank\">Weights & Biases</a> (<a href='https://wandb.me/developer-guide' target=\"_blank\">docs</a>)<br>"
      ],
      "text/plain": [
       "<IPython.core.display.HTML object>"
      ]
     },
     "metadata": {},
     "output_type": "display_data"
    },
    {
     "data": {
      "text/html": [
       " View project at <a href='https://wandb.ai/dangerio/job-fake-prediction' target=\"_blank\">https://wandb.ai/dangerio/job-fake-prediction</a>"
      ],
      "text/plain": [
       "<IPython.core.display.HTML object>"
      ]
     },
     "metadata": {},
     "output_type": "display_data"
    },
    {
     "data": {
      "text/html": [
       " View run at <a href='https://wandb.ai/dangerio/job-fake-prediction/runs/n5lrjo2i' target=\"_blank\">https://wandb.ai/dangerio/job-fake-prediction/runs/n5lrjo2i</a>"
      ],
      "text/plain": [
       "<IPython.core.display.HTML object>"
      ]
     },
     "metadata": {},
     "output_type": "display_data"
    },
    {
     "name": "stderr",
     "output_type": "stream",
     "text": [
      "/home/aksenovan/my_env/lib/python3.10/site-packages/sklearn/svm/_base.py:297: ConvergenceWarning: Solver terminated early (max_iter=5000).  Consider pre-processing your data with StandardScaler or MinMaxScaler.\n",
      "  warnings.warn(\n",
      "/home/aksenovan/my_env/lib/python3.10/site-packages/sklearn/svm/_base.py:297: ConvergenceWarning: Solver terminated early (max_iter=5000).  Consider pre-processing your data with StandardScaler or MinMaxScaler.\n",
      "  warnings.warn(\n",
      "/home/aksenovan/my_env/lib/python3.10/site-packages/sklearn/svm/_base.py:297: ConvergenceWarning: Solver terminated early (max_iter=5000).  Consider pre-processing your data with StandardScaler or MinMaxScaler.\n",
      "  warnings.warn(\n",
      "/home/aksenovan/my_env/lib/python3.10/site-packages/sklearn/svm/_base.py:297: ConvergenceWarning: Solver terminated early (max_iter=5000).  Consider pre-processing your data with StandardScaler or MinMaxScaler.\n",
      "  warnings.warn(\n",
      "/home/aksenovan/my_env/lib/python3.10/site-packages/sklearn/svm/_base.py:297: ConvergenceWarning: Solver terminated early (max_iter=5000).  Consider pre-processing your data with StandardScaler or MinMaxScaler.\n",
      "  warnings.warn(\n",
      "/home/aksenovan/my_env/lib/python3.10/site-packages/sklearn/svm/_base.py:297: ConvergenceWarning: Solver terminated early (max_iter=5000).  Consider pre-processing your data with StandardScaler or MinMaxScaler.\n",
      "  warnings.warn(\n",
      "/home/aksenovan/my_env/lib/python3.10/site-packages/sklearn/svm/_base.py:297: ConvergenceWarning: Solver terminated early (max_iter=5000).  Consider pre-processing your data with StandardScaler or MinMaxScaler.\n",
      "  warnings.warn(\n",
      "/home/aksenovan/my_env/lib/python3.10/site-packages/sklearn/svm/_base.py:297: ConvergenceWarning: Solver terminated early (max_iter=5000).  Consider pre-processing your data with StandardScaler or MinMaxScaler.\n",
      "  warnings.warn(\n",
      "/home/aksenovan/my_env/lib/python3.10/site-packages/sklearn/svm/_base.py:297: ConvergenceWarning: Solver terminated early (max_iter=5000).  Consider pre-processing your data with StandardScaler or MinMaxScaler.\n",
      "  warnings.warn(\n",
      "/home/aksenovan/my_env/lib/python3.10/site-packages/sklearn/svm/_base.py:297: ConvergenceWarning: Solver terminated early (max_iter=5000).  Consider pre-processing your data with StandardScaler or MinMaxScaler.\n",
      "  warnings.warn(\n",
      "/home/aksenovan/my_env/lib/python3.10/site-packages/sklearn/svm/_base.py:297: ConvergenceWarning: Solver terminated early (max_iter=5000).  Consider pre-processing your data with StandardScaler or MinMaxScaler.\n",
      "  warnings.warn(\n",
      "/home/aksenovan/my_env/lib/python3.10/site-packages/sklearn/svm/_base.py:297: ConvergenceWarning: Solver terminated early (max_iter=5000).  Consider pre-processing your data with StandardScaler or MinMaxScaler.\n",
      "  warnings.warn(\n",
      "/home/aksenovan/my_env/lib/python3.10/site-packages/sklearn/svm/_base.py:297: ConvergenceWarning: Solver terminated early (max_iter=5000).  Consider pre-processing your data with StandardScaler or MinMaxScaler.\n",
      "  warnings.warn(\n",
      "/home/aksenovan/my_env/lib/python3.10/site-packages/sklearn/svm/_base.py:297: ConvergenceWarning: Solver terminated early (max_iter=5000).  Consider pre-processing your data with StandardScaler or MinMaxScaler.\n",
      "  warnings.warn(\n",
      "/home/aksenovan/my_env/lib/python3.10/site-packages/sklearn/svm/_base.py:297: ConvergenceWarning: Solver terminated early (max_iter=5000).  Consider pre-processing your data with StandardScaler or MinMaxScaler.\n",
      "  warnings.warn(\n",
      "/home/aksenovan/my_env/lib/python3.10/site-packages/sklearn/svm/_base.py:297: ConvergenceWarning: Solver terminated early (max_iter=5000).  Consider pre-processing your data with StandardScaler or MinMaxScaler.\n",
      "  warnings.warn(\n",
      "/home/aksenovan/my_env/lib/python3.10/site-packages/sklearn/svm/_base.py:297: ConvergenceWarning: Solver terminated early (max_iter=5000).  Consider pre-processing your data with StandardScaler or MinMaxScaler.\n",
      "  warnings.warn(\n",
      "/home/aksenovan/my_env/lib/python3.10/site-packages/sklearn/svm/_base.py:297: ConvergenceWarning: Solver terminated early (max_iter=5000).  Consider pre-processing your data with StandardScaler or MinMaxScaler.\n",
      "  warnings.warn(\n",
      "/home/aksenovan/my_env/lib/python3.10/site-packages/sklearn/svm/_base.py:297: ConvergenceWarning: Solver terminated early (max_iter=5000).  Consider pre-processing your data with StandardScaler or MinMaxScaler.\n",
      "  warnings.warn(\n",
      "/home/aksenovan/my_env/lib/python3.10/site-packages/sklearn/svm/_base.py:297: ConvergenceWarning: Solver terminated early (max_iter=5000).  Consider pre-processing your data with StandardScaler or MinMaxScaler.\n",
      "  warnings.warn(\n",
      "/home/aksenovan/my_env/lib/python3.10/site-packages/sklearn/svm/_base.py:297: ConvergenceWarning: Solver terminated early (max_iter=5000).  Consider pre-processing your data with StandardScaler or MinMaxScaler.\n",
      "  warnings.warn(\n",
      "/home/aksenovan/my_env/lib/python3.10/site-packages/sklearn/svm/_base.py:297: ConvergenceWarning: Solver terminated early (max_iter=5000).  Consider pre-processing your data with StandardScaler or MinMaxScaler.\n",
      "  warnings.warn(\n",
      "/home/aksenovan/my_env/lib/python3.10/site-packages/sklearn/svm/_base.py:297: ConvergenceWarning: Solver terminated early (max_iter=5000).  Consider pre-processing your data with StandardScaler or MinMaxScaler.\n",
      "  warnings.warn(\n",
      "/home/aksenovan/my_env/lib/python3.10/site-packages/sklearn/svm/_base.py:297: ConvergenceWarning: Solver terminated early (max_iter=5000).  Consider pre-processing your data with StandardScaler or MinMaxScaler.\n",
      "  warnings.warn(\n",
      "/home/aksenovan/my_env/lib/python3.10/site-packages/sklearn/svm/_base.py:297: ConvergenceWarning: Solver terminated early (max_iter=5000).  Consider pre-processing your data with StandardScaler or MinMaxScaler.\n",
      "  warnings.warn(\n",
      "/home/aksenovan/my_env/lib/python3.10/site-packages/sklearn/svm/_base.py:297: ConvergenceWarning: Solver terminated early (max_iter=5000).  Consider pre-processing your data with StandardScaler or MinMaxScaler.\n",
      "  warnings.warn(\n",
      "/home/aksenovan/my_env/lib/python3.10/site-packages/sklearn/svm/_base.py:297: ConvergenceWarning: Solver terminated early (max_iter=5000).  Consider pre-processing your data with StandardScaler or MinMaxScaler.\n",
      "  warnings.warn(\n",
      "/home/aksenovan/my_env/lib/python3.10/site-packages/sklearn/svm/_base.py:297: ConvergenceWarning: Solver terminated early (max_iter=5000).  Consider pre-processing your data with StandardScaler or MinMaxScaler.\n",
      "  warnings.warn(\n"
     ]
    },
    {
     "data": {
      "text/html": [],
      "text/plain": [
       "<IPython.core.display.HTML object>"
      ]
     },
     "metadata": {},
     "output_type": "display_data"
    },
    {
     "data": {
      "text/html": [
       "<br>    <style><br>        .wandb-row {<br>            display: flex;<br>            flex-direction: row;<br>            flex-wrap: wrap;<br>            justify-content: flex-start;<br>            width: 100%;<br>        }<br>        .wandb-col {<br>            display: flex;<br>            flex-direction: column;<br>            flex-basis: 100%;<br>            flex: 1;<br>            padding: 10px;<br>        }<br>    </style><br><div class=\"wandb-row\"><div class=\"wandb-col\"><h3>Run history:</h3><br/><table class=\"wandb\"><tr><td>fold</td><td>▁▅█▁▅█▁▅█▁▅█▁▅█▁▅█▁▅█▁▅█▁▅█▁▅█▁▅█▁▅█</td></tr><tr><td>fold_f1</td><td>▃▁▅▅▂▆▁▁▂▂▂▄▂▁▁▇▃▆█▄▄▂▂▃▁▁▂█▄▆█▃▄▂▁▃</td></tr><tr><td>fold_precision</td><td>▂▁▂▂▁▆▁▁▁▁▁▂▁▁▁▄▂▇▅▂▂▁▁▂▁▁▂▅▃█▅▂▃▁▁▂</td></tr><tr><td>fold_recall</td><td>█▂▅▄▄▂███▄▄▃▅▂▁▄▃▂▄▄▂▄▆▃▁▂▂▄▃▂▄▃▂▄▅▃</td></tr><tr><td>mean_f1</td><td>▃▅▁▃▁▇▆▂▁█▆▂</td></tr><tr><td>mean_precision</td><td>▂▅▁▂▁▆▄▂▁█▄▁</td></tr><tr><td>mean_recall</td><td>▄▃█▄▂▃▃▄▁▃▂▄</td></tr></table><br/></div><div class=\"wandb-col\"><h3>Run summary:</h3><br/><table class=\"wandb\"><tr><td>fold</td><td>5</td></tr><tr><td>fold_f1</td><td>0.15702</td></tr><tr><td>fold_precision</td><td>0.10106</td></tr><tr><td>fold_recall</td><td>0.35185</td></tr><tr><td>mean_f1</td><td>0.08422</td></tr><tr><td>mean_precision</td><td>0.0506</td></tr><tr><td>mean_recall</td><td>0.47006</td></tr><tr><td>status</td><td>completed</td></tr></table><br/></div></div>"
      ],
      "text/plain": [
       "<IPython.core.display.HTML object>"
      ]
     },
     "metadata": {},
     "output_type": "display_data"
    },
    {
     "data": {
      "text/html": [
       " View run <strong style=\"color:#cdcd00\">skilled-wind-109</strong> at: <a href='https://wandb.ai/dangerio/job-fake-prediction/runs/n5lrjo2i' target=\"_blank\">https://wandb.ai/dangerio/job-fake-prediction/runs/n5lrjo2i</a><br> View project at: <a href='https://wandb.ai/dangerio/job-fake-prediction' target=\"_blank\">https://wandb.ai/dangerio/job-fake-prediction</a><br>Synced 5 W&B file(s), 0 media file(s), 0 artifact file(s) and 0 other file(s)"
      ],
      "text/plain": [
       "<IPython.core.display.HTML object>"
      ]
     },
     "metadata": {},
     "output_type": "display_data"
    },
    {
     "data": {
      "text/html": [
       "Find logs at: <code>./wandb/run-20250324_200151-n5lrjo2i/logs</code>"
      ],
      "text/plain": [
       "<IPython.core.display.HTML object>"
      ]
     },
     "metadata": {},
     "output_type": "display_data"
    },
    {
     "name": "stderr",
     "output_type": "stream",
     "text": [
      "/home/aksenovan/my_env/lib/python3.10/site-packages/sklearn/svm/_base.py:297: ConvergenceWarning: Solver terminated early (max_iter=5000).  Consider pre-processing your data with StandardScaler or MinMaxScaler.\n",
      "  warnings.warn(\n"
     ]
    },
    {
     "name": "stdout",
     "output_type": "stream",
     "text": [
      "Train F1-Score: 0.955\n",
      "Train Precision: 0.914\n",
      "Train Recall: 1.000\n",
      "Test F1-Score: 0.295\n",
      "Test Precision: 0.679\n",
      "Test Recall: 0.188\n"
     ]
    }
   ],
   "source": [
    "param_grid = {\n",
    "    \"C\": [0.1, 1, 10],\n",
    "    \"kernel\": [\"linear\", \"rbf\", \"poly\", \"sigmoid\"],\n",
    "}\n",
    "\n",
    "with wandb.init(project=\"job-fake-prediction\", \n",
    "          config={\n",
    "              \"model_type\": \"svm_gridsearch\",\n",
    "              \"validation\": \"stratified_group_kfold\",\n",
    "              \"k_folds\": n_folds\n",
    "          }):\n",
    "    best_params, all_results = grid_search(\n",
    "        X_train_tr, y_train, groups_train,\n",
    "        model_class=svm_cls,\n",
    "        param_grid=param_grid,\n",
    "    )\n",
    "\n",
    "svm_model_gs = svm_cls(**best_params).fit(X_train_tr, y_train)\n",
    "calc_and_print_metrics(svm_model_gs, X_train_tr, y_train, is_test=False)\n",
    "calc_and_print_metrics(svm_model_gs, X_test_tr, y_test)"
   ]
  },
  {
   "cell_type": "markdown",
   "metadata": {},
   "source": [
    "Скрины метрик на валидации (step здесь имеет смысл очередного набора параметров):\n",
    "![](images/svm_tuning/gridsearch/f1.png)\n",
    "![](images/svm_tuning/gridsearch/precision.png)\n",
    "![](images/svm_tuning/gridsearch/recall.png)"
   ]
  },
  {
   "cell_type": "markdown",
   "metadata": {},
   "source": [
    "Видно, что нам удалось улучшить f1 в сравнении с исходным запуском (0.29 против 0.27)."
   ]
  },
  {
   "cell_type": "markdown",
   "metadata": {},
   "source": [
    "##### Optuna"
   ]
  },
  {
   "cell_type": "code",
   "execution_count": 17,
   "metadata": {},
   "outputs": [
    {
     "data": {
      "text/html": [
       "Tracking run with wandb version 0.19.8"
      ],
      "text/plain": [
       "<IPython.core.display.HTML object>"
      ]
     },
     "metadata": {},
     "output_type": "display_data"
    },
    {
     "data": {
      "text/html": [
       "Run data is saved locally in <code>/home/aksenovan/ml-sysdis/hw2/wandb/run-20250324_200947-f62uuo2n</code>"
      ],
      "text/plain": [
       "<IPython.core.display.HTML object>"
      ]
     },
     "metadata": {},
     "output_type": "display_data"
    },
    {
     "data": {
      "text/html": [
       "Syncing run <strong><a href='https://wandb.ai/dangerio/job-fake-prediction/runs/f62uuo2n' target=\"_blank\">trim-eon-111</a></strong> to <a href='https://wandb.ai/dangerio/job-fake-prediction' target=\"_blank\">Weights & Biases</a> (<a href='https://wandb.me/developer-guide' target=\"_blank\">docs</a>)<br>"
      ],
      "text/plain": [
       "<IPython.core.display.HTML object>"
      ]
     },
     "metadata": {},
     "output_type": "display_data"
    },
    {
     "data": {
      "text/html": [
       " View project at <a href='https://wandb.ai/dangerio/job-fake-prediction' target=\"_blank\">https://wandb.ai/dangerio/job-fake-prediction</a>"
      ],
      "text/plain": [
       "<IPython.core.display.HTML object>"
      ]
     },
     "metadata": {},
     "output_type": "display_data"
    },
    {
     "data": {
      "text/html": [
       " View run at <a href='https://wandb.ai/dangerio/job-fake-prediction/runs/f62uuo2n' target=\"_blank\">https://wandb.ai/dangerio/job-fake-prediction/runs/f62uuo2n</a>"
      ],
      "text/plain": [
       "<IPython.core.display.HTML object>"
      ]
     },
     "metadata": {},
     "output_type": "display_data"
    },
    {
     "name": "stderr",
     "output_type": "stream",
     "text": [
      "[I 2025-03-24 20:09:48,133] A new study created in memory with name: no-name-9c65f319-a5c6-4028-9520-f09941cd2325\n",
      "/home/aksenovan/my_env/lib/python3.10/site-packages/sklearn/svm/_base.py:297: ConvergenceWarning: Solver terminated early (max_iter=5000).  Consider pre-processing your data with StandardScaler or MinMaxScaler.\n",
      "  warnings.warn(\n",
      "/home/aksenovan/my_env/lib/python3.10/site-packages/sklearn/svm/_base.py:297: ConvergenceWarning: Solver terminated early (max_iter=5000).  Consider pre-processing your data with StandardScaler or MinMaxScaler.\n",
      "  warnings.warn(\n",
      "/home/aksenovan/my_env/lib/python3.10/site-packages/sklearn/svm/_base.py:297: ConvergenceWarning: Solver terminated early (max_iter=5000).  Consider pre-processing your data with StandardScaler or MinMaxScaler.\n",
      "  warnings.warn(\n",
      "[I 2025-03-24 20:09:58,402] Trial 0 finished with value: 0.08681554008167426 and parameters: {'C': 593.2860624025528, 'kernel': 'sigmoid'}. Best is trial 0 with value: 0.08681554008167426.\n",
      "/home/aksenovan/my_env/lib/python3.10/site-packages/sklearn/svm/_base.py:297: ConvergenceWarning: Solver terminated early (max_iter=5000).  Consider pre-processing your data with StandardScaler or MinMaxScaler.\n",
      "  warnings.warn(\n",
      "/home/aksenovan/my_env/lib/python3.10/site-packages/sklearn/svm/_base.py:297: ConvergenceWarning: Solver terminated early (max_iter=5000).  Consider pre-processing your data with StandardScaler or MinMaxScaler.\n",
      "  warnings.warn(\n",
      "/home/aksenovan/my_env/lib/python3.10/site-packages/sklearn/svm/_base.py:297: ConvergenceWarning: Solver terminated early (max_iter=5000).  Consider pre-processing your data with StandardScaler or MinMaxScaler.\n",
      "  warnings.warn(\n",
      "[I 2025-03-24 20:10:05,317] Trial 1 finished with value: 0.155010975679336 and parameters: {'C': 0.07238037126497815, 'kernel': 'linear'}. Best is trial 1 with value: 0.155010975679336.\n",
      "/home/aksenovan/my_env/lib/python3.10/site-packages/sklearn/svm/_base.py:297: ConvergenceWarning: Solver terminated early (max_iter=5000).  Consider pre-processing your data with StandardScaler or MinMaxScaler.\n",
      "  warnings.warn(\n",
      "/home/aksenovan/my_env/lib/python3.10/site-packages/sklearn/svm/_base.py:297: ConvergenceWarning: Solver terminated early (max_iter=5000).  Consider pre-processing your data with StandardScaler or MinMaxScaler.\n",
      "  warnings.warn(\n",
      "/home/aksenovan/my_env/lib/python3.10/site-packages/sklearn/svm/_base.py:297: ConvergenceWarning: Solver terminated early (max_iter=5000).  Consider pre-processing your data with StandardScaler or MinMaxScaler.\n",
      "  warnings.warn(\n",
      "[I 2025-03-24 20:10:15,748] Trial 2 finished with value: 0.0825502362915846 and parameters: {'C': 102.09808793398378, 'kernel': 'sigmoid'}. Best is trial 1 with value: 0.155010975679336.\n",
      "/home/aksenovan/my_env/lib/python3.10/site-packages/sklearn/svm/_base.py:297: ConvergenceWarning: Solver terminated early (max_iter=5000).  Consider pre-processing your data with StandardScaler or MinMaxScaler.\n",
      "  warnings.warn(\n",
      "/home/aksenovan/my_env/lib/python3.10/site-packages/sklearn/svm/_base.py:297: ConvergenceWarning: Solver terminated early (max_iter=5000).  Consider pre-processing your data with StandardScaler or MinMaxScaler.\n",
      "  warnings.warn(\n",
      "/home/aksenovan/my_env/lib/python3.10/site-packages/sklearn/svm/_base.py:297: ConvergenceWarning: Solver terminated early (max_iter=5000).  Consider pre-processing your data with StandardScaler or MinMaxScaler.\n",
      "  warnings.warn(\n",
      "[I 2025-03-24 20:10:20,639] Trial 3 finished with value: 0.07509334568951738 and parameters: {'C': 0.7088751316760905, 'kernel': 'linear'}. Best is trial 1 with value: 0.155010975679336.\n",
      "/home/aksenovan/my_env/lib/python3.10/site-packages/sklearn/svm/_base.py:297: ConvergenceWarning: Solver terminated early (max_iter=5000).  Consider pre-processing your data with StandardScaler or MinMaxScaler.\n",
      "  warnings.warn(\n",
      "/home/aksenovan/my_env/lib/python3.10/site-packages/sklearn/svm/_base.py:297: ConvergenceWarning: Solver terminated early (max_iter=5000).  Consider pre-processing your data with StandardScaler or MinMaxScaler.\n",
      "  warnings.warn(\n",
      "/home/aksenovan/my_env/lib/python3.10/site-packages/sklearn/svm/_base.py:297: ConvergenceWarning: Solver terminated early (max_iter=5000).  Consider pre-processing your data with StandardScaler or MinMaxScaler.\n",
      "  warnings.warn(\n",
      "[I 2025-03-24 20:10:25,309] Trial 4 finished with value: 0.08169133301915486 and parameters: {'C': 48.612807758876514, 'kernel': 'linear'}. Best is trial 1 with value: 0.155010975679336.\n",
      "/home/aksenovan/my_env/lib/python3.10/site-packages/sklearn/svm/_base.py:297: ConvergenceWarning: Solver terminated early (max_iter=5000).  Consider pre-processing your data with StandardScaler or MinMaxScaler.\n",
      "  warnings.warn(\n",
      "/home/aksenovan/my_env/lib/python3.10/site-packages/sklearn/svm/_base.py:297: ConvergenceWarning: Solver terminated early (max_iter=5000).  Consider pre-processing your data with StandardScaler or MinMaxScaler.\n",
      "  warnings.warn(\n",
      "/home/aksenovan/my_env/lib/python3.10/site-packages/sklearn/svm/_base.py:297: ConvergenceWarning: Solver terminated early (max_iter=5000).  Consider pre-processing your data with StandardScaler or MinMaxScaler.\n",
      "  warnings.warn(\n",
      "[I 2025-03-24 20:10:38,613] Trial 5 finished with value: 0.03294005917975262 and parameters: {'C': 0.021468264931263102, 'kernel': 'poly'}. Best is trial 1 with value: 0.155010975679336.\n",
      "/home/aksenovan/my_env/lib/python3.10/site-packages/sklearn/svm/_base.py:297: ConvergenceWarning: Solver terminated early (max_iter=5000).  Consider pre-processing your data with StandardScaler or MinMaxScaler.\n",
      "  warnings.warn(\n",
      "/home/aksenovan/my_env/lib/python3.10/site-packages/sklearn/svm/_base.py:297: ConvergenceWarning: Solver terminated early (max_iter=5000).  Consider pre-processing your data with StandardScaler or MinMaxScaler.\n",
      "  warnings.warn(\n",
      "/home/aksenovan/my_env/lib/python3.10/site-packages/sklearn/svm/_base.py:297: ConvergenceWarning: Solver terminated early (max_iter=5000).  Consider pre-processing your data with StandardScaler or MinMaxScaler.\n",
      "  warnings.warn(\n",
      "[I 2025-03-24 20:10:48,190] Trial 6 finished with value: 0.0908967802212547 and parameters: {'C': 40.220493692744625, 'kernel': 'sigmoid'}. Best is trial 1 with value: 0.155010975679336.\n",
      "/home/aksenovan/my_env/lib/python3.10/site-packages/sklearn/svm/_base.py:297: ConvergenceWarning: Solver terminated early (max_iter=5000).  Consider pre-processing your data with StandardScaler or MinMaxScaler.\n",
      "  warnings.warn(\n",
      "/home/aksenovan/my_env/lib/python3.10/site-packages/sklearn/svm/_base.py:297: ConvergenceWarning: Solver terminated early (max_iter=5000).  Consider pre-processing your data with StandardScaler or MinMaxScaler.\n",
      "  warnings.warn(\n",
      "/home/aksenovan/my_env/lib/python3.10/site-packages/sklearn/svm/_base.py:297: ConvergenceWarning: Solver terminated early (max_iter=5000).  Consider pre-processing your data with StandardScaler or MinMaxScaler.\n",
      "  warnings.warn(\n",
      "[I 2025-03-24 20:10:52,874] Trial 7 finished with value: 0.04914794542089093 and parameters: {'C': 9.314481093222684, 'kernel': 'linear'}. Best is trial 1 with value: 0.155010975679336.\n",
      "/home/aksenovan/my_env/lib/python3.10/site-packages/sklearn/svm/_base.py:297: ConvergenceWarning: Solver terminated early (max_iter=5000).  Consider pre-processing your data with StandardScaler or MinMaxScaler.\n",
      "  warnings.warn(\n",
      "/home/aksenovan/my_env/lib/python3.10/site-packages/sklearn/svm/_base.py:297: ConvergenceWarning: Solver terminated early (max_iter=5000).  Consider pre-processing your data with StandardScaler or MinMaxScaler.\n",
      "  warnings.warn(\n",
      "/home/aksenovan/my_env/lib/python3.10/site-packages/sklearn/svm/_base.py:297: ConvergenceWarning: Solver terminated early (max_iter=5000).  Consider pre-processing your data with StandardScaler or MinMaxScaler.\n",
      "  warnings.warn(\n",
      "[I 2025-03-24 20:11:06,059] Trial 8 finished with value: 0.03294005917975262 and parameters: {'C': 0.0011034687657202516, 'kernel': 'poly'}. Best is trial 1 with value: 0.155010975679336.\n",
      "/home/aksenovan/my_env/lib/python3.10/site-packages/sklearn/svm/_base.py:297: ConvergenceWarning: Solver terminated early (max_iter=5000).  Consider pre-processing your data with StandardScaler or MinMaxScaler.\n",
      "  warnings.warn(\n",
      "/home/aksenovan/my_env/lib/python3.10/site-packages/sklearn/svm/_base.py:297: ConvergenceWarning: Solver terminated early (max_iter=5000).  Consider pre-processing your data with StandardScaler or MinMaxScaler.\n",
      "  warnings.warn(\n",
      "[I 2025-03-24 20:11:17,507] Trial 9 finished with value: 0.09265710183210209 and parameters: {'C': 0.9134542037021366, 'kernel': 'sigmoid'}. Best is trial 1 with value: 0.155010975679336.\n",
      "/home/aksenovan/my_env/lib/python3.10/site-packages/sklearn/svm/_base.py:297: ConvergenceWarning: Solver terminated early (max_iter=5000).  Consider pre-processing your data with StandardScaler or MinMaxScaler.\n",
      "  warnings.warn(\n",
      "/home/aksenovan/my_env/lib/python3.10/site-packages/sklearn/svm/_base.py:297: ConvergenceWarning: Solver terminated early (max_iter=5000).  Consider pre-processing your data with StandardScaler or MinMaxScaler.\n",
      "  warnings.warn(\n",
      "/home/aksenovan/my_env/lib/python3.10/site-packages/sklearn/svm/_base.py:297: ConvergenceWarning: Solver terminated early (max_iter=5000).  Consider pre-processing your data with StandardScaler or MinMaxScaler.\n",
      "  warnings.warn(\n",
      "[I 2025-03-24 20:11:36,117] Trial 10 finished with value: 0.19618644114329895 and parameters: {'C': 0.042513914194482624, 'kernel': 'rbf'}. Best is trial 10 with value: 0.19618644114329895.\n",
      "/home/aksenovan/my_env/lib/python3.10/site-packages/sklearn/svm/_base.py:297: ConvergenceWarning: Solver terminated early (max_iter=5000).  Consider pre-processing your data with StandardScaler or MinMaxScaler.\n",
      "  warnings.warn(\n",
      "/home/aksenovan/my_env/lib/python3.10/site-packages/sklearn/svm/_base.py:297: ConvergenceWarning: Solver terminated early (max_iter=5000).  Consider pre-processing your data with StandardScaler or MinMaxScaler.\n",
      "  warnings.warn(\n",
      "/home/aksenovan/my_env/lib/python3.10/site-packages/sklearn/svm/_base.py:297: ConvergenceWarning: Solver terminated early (max_iter=5000).  Consider pre-processing your data with StandardScaler or MinMaxScaler.\n",
      "  warnings.warn(\n",
      "[I 2025-03-24 20:11:54,676] Trial 11 finished with value: 0.19394824551548515 and parameters: {'C': 0.04168964992752867, 'kernel': 'rbf'}. Best is trial 10 with value: 0.19618644114329895.\n",
      "/home/aksenovan/my_env/lib/python3.10/site-packages/sklearn/svm/_base.py:297: ConvergenceWarning: Solver terminated early (max_iter=5000).  Consider pre-processing your data with StandardScaler or MinMaxScaler.\n",
      "  warnings.warn(\n",
      "/home/aksenovan/my_env/lib/python3.10/site-packages/sklearn/svm/_base.py:297: ConvergenceWarning: Solver terminated early (max_iter=5000).  Consider pre-processing your data with StandardScaler or MinMaxScaler.\n",
      "  warnings.warn(\n",
      "/home/aksenovan/my_env/lib/python3.10/site-packages/sklearn/svm/_base.py:297: ConvergenceWarning: Solver terminated early (max_iter=5000).  Consider pre-processing your data with StandardScaler or MinMaxScaler.\n",
      "  warnings.warn(\n",
      "[I 2025-03-24 20:12:13,807] Trial 12 finished with value: 0.10539546542854476 and parameters: {'C': 0.017697166430401798, 'kernel': 'rbf'}. Best is trial 10 with value: 0.19618644114329895.\n",
      "/home/aksenovan/my_env/lib/python3.10/site-packages/sklearn/svm/_base.py:297: ConvergenceWarning: Solver terminated early (max_iter=5000).  Consider pre-processing your data with StandardScaler or MinMaxScaler.\n",
      "  warnings.warn(\n",
      "/home/aksenovan/my_env/lib/python3.10/site-packages/sklearn/svm/_base.py:297: ConvergenceWarning: Solver terminated early (max_iter=5000).  Consider pre-processing your data with StandardScaler or MinMaxScaler.\n",
      "  warnings.warn(\n",
      "/home/aksenovan/my_env/lib/python3.10/site-packages/sklearn/svm/_base.py:297: ConvergenceWarning: Solver terminated early (max_iter=5000).  Consider pre-processing your data with StandardScaler or MinMaxScaler.\n",
      "  warnings.warn(\n",
      "[I 2025-03-24 20:12:33,189] Trial 13 finished with value: 0.03294005917975262 and parameters: {'C': 0.0018279713577283592, 'kernel': 'rbf'}. Best is trial 10 with value: 0.19618644114329895.\n",
      "[I 2025-03-24 20:12:48,226] Trial 14 finished with value: 0.2434006734006734 and parameters: {'C': 0.13439247865409468, 'kernel': 'rbf'}. Best is trial 14 with value: 0.2434006734006734.\n",
      "[I 2025-03-24 20:12:59,348] Trial 15 finished with value: 0.3131454114212735 and parameters: {'C': 0.475566351901489, 'kernel': 'rbf'}. Best is trial 15 with value: 0.3131454114212735.\n",
      "/home/aksenovan/my_env/lib/python3.10/site-packages/sklearn/svm/_base.py:297: ConvergenceWarning: Solver terminated early (max_iter=5000).  Consider pre-processing your data with StandardScaler or MinMaxScaler.\n",
      "  warnings.warn(\n",
      "[I 2025-03-24 20:13:06,505] Trial 16 finished with value: 0.3417803768680961 and parameters: {'C': 2.7306072166953204, 'kernel': 'rbf'}. Best is trial 16 with value: 0.3417803768680961.\n",
      "/home/aksenovan/my_env/lib/python3.10/site-packages/sklearn/svm/_base.py:297: ConvergenceWarning: Solver terminated early (max_iter=5000).  Consider pre-processing your data with StandardScaler or MinMaxScaler.\n",
      "  warnings.warn(\n",
      "/home/aksenovan/my_env/lib/python3.10/site-packages/sklearn/svm/_base.py:297: ConvergenceWarning: Solver terminated early (max_iter=5000).  Consider pre-processing your data with StandardScaler or MinMaxScaler.\n",
      "  warnings.warn(\n",
      "[I 2025-03-24 20:13:13,083] Trial 17 finished with value: 0.3487071977638015 and parameters: {'C': 3.532731854320816, 'kernel': 'rbf'}. Best is trial 17 with value: 0.3487071977638015.\n",
      "/home/aksenovan/my_env/lib/python3.10/site-packages/sklearn/svm/_base.py:297: ConvergenceWarning: Solver terminated early (max_iter=5000).  Consider pre-processing your data with StandardScaler or MinMaxScaler.\n",
      "  warnings.warn(\n",
      "/home/aksenovan/my_env/lib/python3.10/site-packages/sklearn/svm/_base.py:297: ConvergenceWarning: Solver terminated early (max_iter=5000).  Consider pre-processing your data with StandardScaler or MinMaxScaler.\n",
      "  warnings.warn(\n",
      "/home/aksenovan/my_env/lib/python3.10/site-packages/sklearn/svm/_base.py:297: ConvergenceWarning: Solver terminated early (max_iter=5000).  Consider pre-processing your data with StandardScaler or MinMaxScaler.\n",
      "  warnings.warn(\n",
      "[I 2025-03-24 20:13:19,038] Trial 18 finished with value: 0.34920634920634924 and parameters: {'C': 5.549287093121257, 'kernel': 'rbf'}. Best is trial 18 with value: 0.34920634920634924.\n",
      "/home/aksenovan/my_env/lib/python3.10/site-packages/sklearn/svm/_base.py:297: ConvergenceWarning: Solver terminated early (max_iter=5000).  Consider pre-processing your data with StandardScaler or MinMaxScaler.\n",
      "  warnings.warn(\n",
      "/home/aksenovan/my_env/lib/python3.10/site-packages/sklearn/svm/_base.py:297: ConvergenceWarning: Solver terminated early (max_iter=5000).  Consider pre-processing your data with StandardScaler or MinMaxScaler.\n",
      "  warnings.warn(\n",
      "/home/aksenovan/my_env/lib/python3.10/site-packages/sklearn/svm/_base.py:297: ConvergenceWarning: Solver terminated early (max_iter=5000).  Consider pre-processing your data with StandardScaler or MinMaxScaler.\n",
      "  warnings.warn(\n",
      "[I 2025-03-24 20:13:24,402] Trial 19 finished with value: 0.3525962623855512 and parameters: {'C': 10.981184692392729, 'kernel': 'rbf'}. Best is trial 19 with value: 0.3525962623855512.\n",
      "/home/aksenovan/my_env/lib/python3.10/site-packages/sklearn/svm/_base.py:297: ConvergenceWarning: Solver terminated early (max_iter=5000).  Consider pre-processing your data with StandardScaler or MinMaxScaler.\n",
      "  warnings.warn(\n",
      "/home/aksenovan/my_env/lib/python3.10/site-packages/sklearn/svm/_base.py:297: ConvergenceWarning: Solver terminated early (max_iter=5000).  Consider pre-processing your data with StandardScaler or MinMaxScaler.\n",
      "  warnings.warn(\n",
      "/home/aksenovan/my_env/lib/python3.10/site-packages/sklearn/svm/_base.py:297: ConvergenceWarning: Solver terminated early (max_iter=5000).  Consider pre-processing your data with StandardScaler or MinMaxScaler.\n",
      "  warnings.warn(\n",
      "[I 2025-03-24 20:13:29,903] Trial 20 finished with value: 0.2503327659945885 and parameters: {'C': 932.9685861845002, 'kernel': 'poly'}. Best is trial 19 with value: 0.3525962623855512.\n",
      "/home/aksenovan/my_env/lib/python3.10/site-packages/sklearn/svm/_base.py:297: ConvergenceWarning: Solver terminated early (max_iter=5000).  Consider pre-processing your data with StandardScaler or MinMaxScaler.\n",
      "  warnings.warn(\n",
      "/home/aksenovan/my_env/lib/python3.10/site-packages/sklearn/svm/_base.py:297: ConvergenceWarning: Solver terminated early (max_iter=5000).  Consider pre-processing your data with StandardScaler or MinMaxScaler.\n",
      "  warnings.warn(\n",
      "/home/aksenovan/my_env/lib/python3.10/site-packages/sklearn/svm/_base.py:297: ConvergenceWarning: Solver terminated early (max_iter=5000).  Consider pre-processing your data with StandardScaler or MinMaxScaler.\n",
      "  warnings.warn(\n",
      "[I 2025-03-24 20:13:35,229] Trial 21 finished with value: 0.34823896391060566 and parameters: {'C': 9.117343289599189, 'kernel': 'rbf'}. Best is trial 19 with value: 0.3525962623855512.\n",
      "/home/aksenovan/my_env/lib/python3.10/site-packages/sklearn/svm/_base.py:297: ConvergenceWarning: Solver terminated early (max_iter=5000).  Consider pre-processing your data with StandardScaler or MinMaxScaler.\n",
      "  warnings.warn(\n",
      "/home/aksenovan/my_env/lib/python3.10/site-packages/sklearn/svm/_base.py:297: ConvergenceWarning: Solver terminated early (max_iter=5000).  Consider pre-processing your data with StandardScaler or MinMaxScaler.\n",
      "  warnings.warn(\n",
      "/home/aksenovan/my_env/lib/python3.10/site-packages/sklearn/svm/_base.py:297: ConvergenceWarning: Solver terminated early (max_iter=5000).  Consider pre-processing your data with StandardScaler or MinMaxScaler.\n",
      "  warnings.warn(\n",
      "[I 2025-03-24 20:13:41,283] Trial 22 finished with value: 0.353064496238747 and parameters: {'C': 4.688611957038892, 'kernel': 'rbf'}. Best is trial 22 with value: 0.353064496238747.\n",
      "/home/aksenovan/my_env/lib/python3.10/site-packages/sklearn/svm/_base.py:297: ConvergenceWarning: Solver terminated early (max_iter=5000).  Consider pre-processing your data with StandardScaler or MinMaxScaler.\n",
      "  warnings.warn(\n",
      "/home/aksenovan/my_env/lib/python3.10/site-packages/sklearn/svm/_base.py:297: ConvergenceWarning: Solver terminated early (max_iter=5000).  Consider pre-processing your data with StandardScaler or MinMaxScaler.\n",
      "  warnings.warn(\n",
      "/home/aksenovan/my_env/lib/python3.10/site-packages/sklearn/svm/_base.py:297: ConvergenceWarning: Solver terminated early (max_iter=5000).  Consider pre-processing your data with StandardScaler or MinMaxScaler.\n",
      "  warnings.warn(\n",
      "[I 2025-03-24 20:13:46,935] Trial 23 finished with value: 0.34823896391060566 and parameters: {'C': 12.093897647105258, 'kernel': 'rbf'}. Best is trial 22 with value: 0.353064496238747.\n",
      "/home/aksenovan/my_env/lib/python3.10/site-packages/sklearn/svm/_base.py:297: ConvergenceWarning: Solver terminated early (max_iter=5000).  Consider pre-processing your data with StandardScaler or MinMaxScaler.\n",
      "  warnings.warn(\n",
      "/home/aksenovan/my_env/lib/python3.10/site-packages/sklearn/svm/_base.py:297: ConvergenceWarning: Solver terminated early (max_iter=5000).  Consider pre-processing your data with StandardScaler or MinMaxScaler.\n",
      "  warnings.warn(\n",
      "/home/aksenovan/my_env/lib/python3.10/site-packages/sklearn/svm/_base.py:297: ConvergenceWarning: Solver terminated early (max_iter=5000).  Consider pre-processing your data with StandardScaler or MinMaxScaler.\n",
      "  warnings.warn(\n",
      "[I 2025-03-24 20:13:51,965] Trial 24 finished with value: 0.3350946054750403 and parameters: {'C': 173.29870923754137, 'kernel': 'rbf'}. Best is trial 22 with value: 0.353064496238747.\n",
      "[I 2025-03-24 20:13:59,643] Trial 25 finished with value: 0.33886230728335986 and parameters: {'C': 2.1242800358608123, 'kernel': 'rbf'}. Best is trial 22 with value: 0.353064496238747.\n",
      "[I 2025-03-24 20:14:12,194] Trial 26 finished with value: 0.28054379680885705 and parameters: {'C': 0.2582898446283475, 'kernel': 'rbf'}. Best is trial 22 with value: 0.353064496238747.\n",
      "/home/aksenovan/my_env/lib/python3.10/site-packages/sklearn/svm/_base.py:297: ConvergenceWarning: Solver terminated early (max_iter=5000).  Consider pre-processing your data with StandardScaler or MinMaxScaler.\n",
      "  warnings.warn(\n",
      "/home/aksenovan/my_env/lib/python3.10/site-packages/sklearn/svm/_base.py:297: ConvergenceWarning: Solver terminated early (max_iter=5000).  Consider pre-processing your data with StandardScaler or MinMaxScaler.\n",
      "  warnings.warn(\n",
      "/home/aksenovan/my_env/lib/python3.10/site-packages/sklearn/svm/_base.py:297: ConvergenceWarning: Solver terminated early (max_iter=5000).  Consider pre-processing your data with StandardScaler or MinMaxScaler.\n",
      "  warnings.warn(\n",
      "[I 2025-03-24 20:14:17,559] Trial 27 finished with value: 0.34036971451593256 and parameters: {'C': 19.352175255467223, 'kernel': 'rbf'}. Best is trial 22 with value: 0.353064496238747.\n",
      "/home/aksenovan/my_env/lib/python3.10/site-packages/sklearn/svm/_base.py:297: ConvergenceWarning: Solver terminated early (max_iter=5000).  Consider pre-processing your data with StandardScaler or MinMaxScaler.\n",
      "  warnings.warn(\n",
      "/home/aksenovan/my_env/lib/python3.10/site-packages/sklearn/svm/_base.py:297: ConvergenceWarning: Solver terminated early (max_iter=5000).  Consider pre-processing your data with StandardScaler or MinMaxScaler.\n",
      "  warnings.warn(\n",
      "/home/aksenovan/my_env/lib/python3.10/site-packages/sklearn/svm/_base.py:297: ConvergenceWarning: Solver terminated early (max_iter=5000).  Consider pre-processing your data with StandardScaler or MinMaxScaler.\n",
      "  warnings.warn(\n",
      "[I 2025-03-24 20:14:26,338] Trial 28 finished with value: 0.271696596653764 and parameters: {'C': 4.263217025626188, 'kernel': 'poly'}. Best is trial 22 with value: 0.353064496238747.\n",
      "/home/aksenovan/my_env/lib/python3.10/site-packages/sklearn/svm/_base.py:297: ConvergenceWarning: Solver terminated early (max_iter=5000).  Consider pre-processing your data with StandardScaler or MinMaxScaler.\n",
      "  warnings.warn(\n",
      "/home/aksenovan/my_env/lib/python3.10/site-packages/sklearn/svm/_base.py:297: ConvergenceWarning: Solver terminated early (max_iter=5000).  Consider pre-processing your data with StandardScaler or MinMaxScaler.\n",
      "  warnings.warn(\n",
      "/home/aksenovan/my_env/lib/python3.10/site-packages/sklearn/svm/_base.py:297: ConvergenceWarning: Solver terminated early (max_iter=5000).  Consider pre-processing your data with StandardScaler or MinMaxScaler.\n",
      "  warnings.warn(\n",
      "[I 2025-03-24 20:14:36,240] Trial 29 finished with value: 0.08640708673239578 and parameters: {'C': 339.64212061189414, 'kernel': 'sigmoid'}. Best is trial 22 with value: 0.353064496238747.\n",
      "/home/aksenovan/my_env/lib/python3.10/site-packages/sklearn/svm/_base.py:297: ConvergenceWarning: Solver terminated early (max_iter=5000).  Consider pre-processing your data with StandardScaler or MinMaxScaler.\n",
      "  warnings.warn(\n",
      "/home/aksenovan/my_env/lib/python3.10/site-packages/sklearn/svm/_base.py:297: ConvergenceWarning: Solver terminated early (max_iter=5000).  Consider pre-processing your data with StandardScaler or MinMaxScaler.\n",
      "  warnings.warn(\n",
      "/home/aksenovan/my_env/lib/python3.10/site-packages/sklearn/svm/_base.py:297: ConvergenceWarning: Solver terminated early (max_iter=5000).  Consider pre-processing your data with StandardScaler or MinMaxScaler.\n",
      "  warnings.warn(\n",
      "[I 2025-03-24 20:14:41,162] Trial 30 finished with value: 0.34657059417560526 and parameters: {'C': 41.595429226350575, 'kernel': 'rbf'}. Best is trial 22 with value: 0.353064496238747.\n",
      "/home/aksenovan/my_env/lib/python3.10/site-packages/sklearn/svm/_base.py:297: ConvergenceWarning: Solver terminated early (max_iter=5000).  Consider pre-processing your data with StandardScaler or MinMaxScaler.\n",
      "  warnings.warn(\n",
      "/home/aksenovan/my_env/lib/python3.10/site-packages/sklearn/svm/_base.py:297: ConvergenceWarning: Solver terminated early (max_iter=5000).  Consider pre-processing your data with StandardScaler or MinMaxScaler.\n",
      "  warnings.warn(\n",
      "/home/aksenovan/my_env/lib/python3.10/site-packages/sklearn/svm/_base.py:297: ConvergenceWarning: Solver terminated early (max_iter=5000).  Consider pre-processing your data with StandardScaler or MinMaxScaler.\n",
      "  warnings.warn(\n",
      "[I 2025-03-24 20:14:47,701] Trial 31 finished with value: 0.3487071977638015 and parameters: {'C': 3.993932554884133, 'kernel': 'rbf'}. Best is trial 22 with value: 0.353064496238747.\n",
      "[I 2025-03-24 20:14:55,708] Trial 32 finished with value: 0.33886230728335986 and parameters: {'C': 2.0853030453640735, 'kernel': 'rbf'}. Best is trial 22 with value: 0.353064496238747.\n",
      "/home/aksenovan/my_env/lib/python3.10/site-packages/sklearn/svm/_base.py:297: ConvergenceWarning: Solver terminated early (max_iter=5000).  Consider pre-processing your data with StandardScaler or MinMaxScaler.\n",
      "  warnings.warn(\n",
      "/home/aksenovan/my_env/lib/python3.10/site-packages/sklearn/svm/_base.py:297: ConvergenceWarning: Solver terminated early (max_iter=5000).  Consider pre-processing your data with StandardScaler or MinMaxScaler.\n",
      "  warnings.warn(\n",
      "/home/aksenovan/my_env/lib/python3.10/site-packages/sklearn/svm/_base.py:297: ConvergenceWarning: Solver terminated early (max_iter=5000).  Consider pre-processing your data with StandardScaler or MinMaxScaler.\n",
      "  warnings.warn(\n",
      "[I 2025-03-24 20:15:01,218] Trial 33 finished with value: 0.34036971451593256 and parameters: {'C': 21.71472223689084, 'kernel': 'rbf'}. Best is trial 22 with value: 0.353064496238747.\n",
      "/home/aksenovan/my_env/lib/python3.10/site-packages/sklearn/svm/_base.py:297: ConvergenceWarning: Solver terminated early (max_iter=5000).  Consider pre-processing your data with StandardScaler or MinMaxScaler.\n",
      "  warnings.warn(\n",
      "/home/aksenovan/my_env/lib/python3.10/site-packages/sklearn/svm/_base.py:297: ConvergenceWarning: Solver terminated early (max_iter=5000).  Consider pre-processing your data with StandardScaler or MinMaxScaler.\n",
      "  warnings.warn(\n",
      "/home/aksenovan/my_env/lib/python3.10/site-packages/sklearn/svm/_base.py:297: ConvergenceWarning: Solver terminated early (max_iter=5000).  Consider pre-processing your data with StandardScaler or MinMaxScaler.\n",
      "  warnings.warn(\n",
      "[I 2025-03-24 20:15:05,737] Trial 34 finished with value: 0.09163117001495968 and parameters: {'C': 6.164534682983686, 'kernel': 'linear'}. Best is trial 22 with value: 0.353064496238747.\n",
      "[I 2025-03-24 20:15:14,214] Trial 35 finished with value: 0.3144335792302853 and parameters: {'C': 1.2767269690826462, 'kernel': 'rbf'}. Best is trial 22 with value: 0.353064496238747.\n",
      "/home/aksenovan/my_env/lib/python3.10/site-packages/sklearn/svm/_base.py:297: ConvergenceWarning: Solver terminated early (max_iter=5000).  Consider pre-processing your data with StandardScaler or MinMaxScaler.\n",
      "  warnings.warn(\n",
      "/home/aksenovan/my_env/lib/python3.10/site-packages/sklearn/svm/_base.py:297: ConvergenceWarning: Solver terminated early (max_iter=5000).  Consider pre-processing your data with StandardScaler or MinMaxScaler.\n",
      "  warnings.warn(\n",
      "/home/aksenovan/my_env/lib/python3.10/site-packages/sklearn/svm/_base.py:297: ConvergenceWarning: Solver terminated early (max_iter=5000).  Consider pre-processing your data with StandardScaler or MinMaxScaler.\n",
      "  warnings.warn(\n",
      "[I 2025-03-24 20:15:24,104] Trial 36 finished with value: 0.08766886491477244 and parameters: {'C': 130.8469376760464, 'kernel': 'sigmoid'}. Best is trial 22 with value: 0.353064496238747.\n",
      "[I 2025-03-24 20:15:34,830] Trial 37 finished with value: 0.30805734879896424 and parameters: {'C': 0.45817723833408375, 'kernel': 'rbf'}. Best is trial 22 with value: 0.353064496238747.\n",
      "/home/aksenovan/my_env/lib/python3.10/site-packages/sklearn/svm/_base.py:297: ConvergenceWarning: Solver terminated early (max_iter=5000).  Consider pre-processing your data with StandardScaler or MinMaxScaler.\n",
      "  warnings.warn(\n",
      "/home/aksenovan/my_env/lib/python3.10/site-packages/sklearn/svm/_base.py:297: ConvergenceWarning: Solver terminated early (max_iter=5000).  Consider pre-processing your data with StandardScaler or MinMaxScaler.\n",
      "  warnings.warn(\n",
      "/home/aksenovan/my_env/lib/python3.10/site-packages/sklearn/svm/_base.py:297: ConvergenceWarning: Solver terminated early (max_iter=5000).  Consider pre-processing your data with StandardScaler or MinMaxScaler.\n",
      "  warnings.warn(\n",
      "[I 2025-03-24 20:15:39,434] Trial 38 finished with value: 0.08169133301915486 and parameters: {'C': 77.03569631285507, 'kernel': 'linear'}. Best is trial 22 with value: 0.353064496238747.\n",
      "/home/aksenovan/my_env/lib/python3.10/site-packages/sklearn/svm/_base.py:297: ConvergenceWarning: Solver terminated early (max_iter=5000).  Consider pre-processing your data with StandardScaler or MinMaxScaler.\n",
      "  warnings.warn(\n",
      "/home/aksenovan/my_env/lib/python3.10/site-packages/sklearn/svm/_base.py:297: ConvergenceWarning: Solver terminated early (max_iter=5000).  Consider pre-processing your data with StandardScaler or MinMaxScaler.\n",
      "  warnings.warn(\n",
      "/home/aksenovan/my_env/lib/python3.10/site-packages/sklearn/svm/_base.py:297: ConvergenceWarning: Solver terminated early (max_iter=5000).  Consider pre-processing your data with StandardScaler or MinMaxScaler.\n",
      "  warnings.warn(\n",
      "[I 2025-03-24 20:15:45,670] Trial 39 finished with value: 0.2770444753203374 and parameters: {'C': 29.44673037195288, 'kernel': 'poly'}. Best is trial 22 with value: 0.353064496238747.\n",
      "/home/aksenovan/my_env/lib/python3.10/site-packages/sklearn/svm/_base.py:297: ConvergenceWarning: Solver terminated early (max_iter=5000).  Consider pre-processing your data with StandardScaler or MinMaxScaler.\n",
      "  warnings.warn(\n",
      "/home/aksenovan/my_env/lib/python3.10/site-packages/sklearn/svm/_base.py:297: ConvergenceWarning: Solver terminated early (max_iter=5000).  Consider pre-processing your data with StandardScaler or MinMaxScaler.\n",
      "  warnings.warn(\n",
      "/home/aksenovan/my_env/lib/python3.10/site-packages/sklearn/svm/_base.py:297: ConvergenceWarning: Solver terminated early (max_iter=5000).  Consider pre-processing your data with StandardScaler or MinMaxScaler.\n",
      "  warnings.warn(\n",
      "[I 2025-03-24 20:15:49,741] Trial 40 finished with value: 0.07688801189380057 and parameters: {'C': 1.0901759862589153, 'kernel': 'linear'}. Best is trial 22 with value: 0.353064496238747.\n",
      "/home/aksenovan/my_env/lib/python3.10/site-packages/sklearn/svm/_base.py:297: ConvergenceWarning: Solver terminated early (max_iter=5000).  Consider pre-processing your data with StandardScaler or MinMaxScaler.\n",
      "  warnings.warn(\n",
      "/home/aksenovan/my_env/lib/python3.10/site-packages/sklearn/svm/_base.py:297: ConvergenceWarning: Solver terminated early (max_iter=5000).  Consider pre-processing your data with StandardScaler or MinMaxScaler.\n",
      "  warnings.warn(\n",
      "/home/aksenovan/my_env/lib/python3.10/site-packages/sklearn/svm/_base.py:297: ConvergenceWarning: Solver terminated early (max_iter=5000).  Consider pre-processing your data with StandardScaler or MinMaxScaler.\n",
      "  warnings.warn(\n",
      "[I 2025-03-24 20:15:55,071] Trial 41 finished with value: 0.3487071977638015 and parameters: {'C': 4.294886246611055, 'kernel': 'rbf'}. Best is trial 22 with value: 0.353064496238747.\n",
      "/home/aksenovan/my_env/lib/python3.10/site-packages/sklearn/svm/_base.py:297: ConvergenceWarning: Solver terminated early (max_iter=5000).  Consider pre-processing your data with StandardScaler or MinMaxScaler.\n",
      "  warnings.warn(\n",
      "/home/aksenovan/my_env/lib/python3.10/site-packages/sklearn/svm/_base.py:297: ConvergenceWarning: Solver terminated early (max_iter=5000).  Consider pre-processing your data with StandardScaler or MinMaxScaler.\n",
      "  warnings.warn(\n",
      "/home/aksenovan/my_env/lib/python3.10/site-packages/sklearn/svm/_base.py:297: ConvergenceWarning: Solver terminated early (max_iter=5000).  Consider pre-processing your data with StandardScaler or MinMaxScaler.\n",
      "  warnings.warn(\n",
      "[I 2025-03-24 20:15:59,804] Trial 42 finished with value: 0.3498811412493774 and parameters: {'C': 9.798124138257759, 'kernel': 'rbf'}. Best is trial 22 with value: 0.353064496238747.\n",
      "/home/aksenovan/my_env/lib/python3.10/site-packages/sklearn/svm/_base.py:297: ConvergenceWarning: Solver terminated early (max_iter=5000).  Consider pre-processing your data with StandardScaler or MinMaxScaler.\n",
      "  warnings.warn(\n",
      "/home/aksenovan/my_env/lib/python3.10/site-packages/sklearn/svm/_base.py:297: ConvergenceWarning: Solver terminated early (max_iter=5000).  Consider pre-processing your data with StandardScaler or MinMaxScaler.\n",
      "  warnings.warn(\n",
      "/home/aksenovan/my_env/lib/python3.10/site-packages/sklearn/svm/_base.py:297: ConvergenceWarning: Solver terminated early (max_iter=5000).  Consider pre-processing your data with StandardScaler or MinMaxScaler.\n",
      "  warnings.warn(\n",
      "[I 2025-03-24 20:16:04,574] Trial 43 finished with value: 0.3525962623855512 and parameters: {'C': 10.100370225038464, 'kernel': 'rbf'}. Best is trial 22 with value: 0.353064496238747.\n",
      "/home/aksenovan/my_env/lib/python3.10/site-packages/sklearn/svm/_base.py:297: ConvergenceWarning: Solver terminated early (max_iter=5000).  Consider pre-processing your data with StandardScaler or MinMaxScaler.\n",
      "  warnings.warn(\n",
      "/home/aksenovan/my_env/lib/python3.10/site-packages/sklearn/svm/_base.py:297: ConvergenceWarning: Solver terminated early (max_iter=5000).  Consider pre-processing your data with StandardScaler or MinMaxScaler.\n",
      "  warnings.warn(\n",
      "/home/aksenovan/my_env/lib/python3.10/site-packages/sklearn/svm/_base.py:297: ConvergenceWarning: Solver terminated early (max_iter=5000).  Consider pre-processing your data with StandardScaler or MinMaxScaler.\n",
      "  warnings.warn(\n",
      "[I 2025-03-24 20:16:09,280] Trial 44 finished with value: 0.34823896391060566 and parameters: {'C': 13.939644238996301, 'kernel': 'rbf'}. Best is trial 22 with value: 0.353064496238747.\n",
      "/home/aksenovan/my_env/lib/python3.10/site-packages/sklearn/svm/_base.py:297: ConvergenceWarning: Solver terminated early (max_iter=5000).  Consider pre-processing your data with StandardScaler or MinMaxScaler.\n",
      "  warnings.warn(\n",
      "/home/aksenovan/my_env/lib/python3.10/site-packages/sklearn/svm/_base.py:297: ConvergenceWarning: Solver terminated early (max_iter=5000).  Consider pre-processing your data with StandardScaler or MinMaxScaler.\n",
      "  warnings.warn(\n",
      "/home/aksenovan/my_env/lib/python3.10/site-packages/sklearn/svm/_base.py:297: ConvergenceWarning: Solver terminated early (max_iter=5000).  Consider pre-processing your data with StandardScaler or MinMaxScaler.\n",
      "  warnings.warn(\n",
      "[I 2025-03-24 20:16:17,741] Trial 45 finished with value: 0.08147257127779249 and parameters: {'C': 72.34312884619611, 'kernel': 'sigmoid'}. Best is trial 22 with value: 0.353064496238747.\n",
      "/home/aksenovan/my_env/lib/python3.10/site-packages/sklearn/svm/_base.py:297: ConvergenceWarning: Solver terminated early (max_iter=5000).  Consider pre-processing your data with StandardScaler or MinMaxScaler.\n",
      "  warnings.warn(\n",
      "/home/aksenovan/my_env/lib/python3.10/site-packages/sklearn/svm/_base.py:297: ConvergenceWarning: Solver terminated early (max_iter=5000).  Consider pre-processing your data with StandardScaler or MinMaxScaler.\n",
      "  warnings.warn(\n",
      "/home/aksenovan/my_env/lib/python3.10/site-packages/sklearn/svm/_base.py:297: ConvergenceWarning: Solver terminated early (max_iter=5000).  Consider pre-processing your data with StandardScaler or MinMaxScaler.\n",
      "  warnings.warn(\n",
      "[I 2025-03-24 20:16:22,446] Trial 46 finished with value: 0.3525962623855512 and parameters: {'C': 9.77701364951727, 'kernel': 'rbf'}. Best is trial 22 with value: 0.353064496238747.\n",
      "/home/aksenovan/my_env/lib/python3.10/site-packages/sklearn/svm/_base.py:297: ConvergenceWarning: Solver terminated early (max_iter=5000).  Consider pre-processing your data with StandardScaler or MinMaxScaler.\n",
      "  warnings.warn(\n",
      "/home/aksenovan/my_env/lib/python3.10/site-packages/sklearn/svm/_base.py:297: ConvergenceWarning: Solver terminated early (max_iter=5000).  Consider pre-processing your data with StandardScaler or MinMaxScaler.\n",
      "  warnings.warn(\n",
      "/home/aksenovan/my_env/lib/python3.10/site-packages/sklearn/svm/_base.py:297: ConvergenceWarning: Solver terminated early (max_iter=5000).  Consider pre-processing your data with StandardScaler or MinMaxScaler.\n",
      "  warnings.warn(\n",
      "[I 2025-03-24 20:16:26,697] Trial 47 finished with value: 0.3350946054750403 and parameters: {'C': 256.5579728861164, 'kernel': 'rbf'}. Best is trial 22 with value: 0.353064496238747.\n",
      "/home/aksenovan/my_env/lib/python3.10/site-packages/sklearn/svm/_base.py:297: ConvergenceWarning: Solver terminated early (max_iter=5000).  Consider pre-processing your data with StandardScaler or MinMaxScaler.\n",
      "  warnings.warn(\n",
      "/home/aksenovan/my_env/lib/python3.10/site-packages/sklearn/svm/_base.py:297: ConvergenceWarning: Solver terminated early (max_iter=5000).  Consider pre-processing your data with StandardScaler or MinMaxScaler.\n",
      "  warnings.warn(\n",
      "/home/aksenovan/my_env/lib/python3.10/site-packages/sklearn/svm/_base.py:297: ConvergenceWarning: Solver terminated early (max_iter=5000).  Consider pre-processing your data with StandardScaler or MinMaxScaler.\n",
      "  warnings.warn(\n",
      "[I 2025-03-24 20:16:31,575] Trial 48 finished with value: 0.3525962623855512 and parameters: {'C': 8.439458655649949, 'kernel': 'rbf'}. Best is trial 22 with value: 0.353064496238747.\n",
      "/home/aksenovan/my_env/lib/python3.10/site-packages/sklearn/svm/_base.py:297: ConvergenceWarning: Solver terminated early (max_iter=5000).  Consider pre-processing your data with StandardScaler or MinMaxScaler.\n",
      "  warnings.warn(\n",
      "/home/aksenovan/my_env/lib/python3.10/site-packages/sklearn/svm/_base.py:297: ConvergenceWarning: Solver terminated early (max_iter=5000).  Consider pre-processing your data with StandardScaler or MinMaxScaler.\n",
      "  warnings.warn(\n",
      "/home/aksenovan/my_env/lib/python3.10/site-packages/sklearn/svm/_base.py:297: ConvergenceWarning: Solver terminated early (max_iter=5000).  Consider pre-processing your data with StandardScaler or MinMaxScaler.\n",
      "  warnings.warn(\n",
      "[I 2025-03-24 20:16:37,416] Trial 49 finished with value: 0.29162227491952203 and parameters: {'C': 40.941337566529356, 'kernel': 'poly'}. Best is trial 22 with value: 0.353064496238747.\n"
     ]
    },
    {
     "data": {
      "text/html": [],
      "text/plain": [
       "<IPython.core.display.HTML object>"
      ]
     },
     "metadata": {},
     "output_type": "display_data"
    },
    {
     "data": {
      "text/html": [
       "<br>    <style><br>        .wandb-row {<br>            display: flex;<br>            flex-direction: row;<br>            flex-wrap: wrap;<br>            justify-content: flex-start;<br>            width: 100%;<br>        }<br>        .wandb-col {<br>            display: flex;<br>            flex-direction: column;<br>            flex-basis: 100%;<br>            flex: 1;<br>            padding: 10px;<br>        }<br>    </style><br><div class=\"wandb-row\"><div class=\"wandb-col\"><h3>Run history:</h3><br/><table class=\"wandb\"><tr><td>fold</td><td>▁▅█▁▁█▁▁▅█▁▅█▅██▁█▅▁▁▅██▁█▅▅▅█▅▅██▅█▁▅▁▅</td></tr><tr><td>fold_f1</td><td>▂▁▃▄▁▃▁▂▃▁▂▄▂▆▆█▆▇█▄▇▄▇▆▁▄▇▇▂▃▂█▄█▆█▆█▄▄</td></tr><tr><td>fold_precision</td><td>▂▁▁▁▁▁▁▆▂▆▂▁▁▅▅▅█▄▅▂▂▃▁▂█▄█▁▁▇▆▁▄▂▃██▁▅▄</td></tr><tr><td>fold_recall</td><td>▄▁▃▂▂▁▁▂▂█▂▄▂▄▂▂▄▄▂▄▄▂▂▂▂▃▆▂▄▂▆▂▁▂▃▂▄▂▄▃</td></tr><tr><td>mean_f1</td><td>▂▄▂▂▂▁▁▂▅▅▁▆▇███▆███▆█▆▂███▂▇▂▂▆▂███▂██▇</td></tr><tr><td>mean_precision</td><td>▁▂▁▁▁▁▁▁▁▄▂▁▅▆███▄██▇█▅▇▅▇██▇▂▁▆▁▄▁████▄</td></tr><tr><td>mean_recall</td><td>▄▄▄▂▂▄▁█▂▂█▃▃▂▂▂▂▂▂▂▂▃▂▂▄▂▂▂▂▂▃▂▂▂▂▂▃▂▂▃</td></tr></table><br/></div><div class=\"wandb-col\"><h3>Run summary:</h3><br/><table class=\"wandb\"><tr><td>fold</td><td>5</td></tr><tr><td>fold_f1</td><td>0.22642</td></tr><tr><td>fold_precision</td><td>0.23077</td></tr><tr><td>fold_recall</td><td>0.22222</td></tr><tr><td>mean_f1</td><td>0.29162</td></tr><tr><td>mean_precision</td><td>0.26934</td></tr><tr><td>mean_recall</td><td>0.34352</td></tr><tr><td>status</td><td>completed</td></tr></table><br/></div></div>"
      ],
      "text/plain": [
       "<IPython.core.display.HTML object>"
      ]
     },
     "metadata": {},
     "output_type": "display_data"
    },
    {
     "data": {
      "text/html": [
       " View run <strong style=\"color:#cdcd00\">trim-eon-111</strong> at: <a href='https://wandb.ai/dangerio/job-fake-prediction/runs/f62uuo2n' target=\"_blank\">https://wandb.ai/dangerio/job-fake-prediction/runs/f62uuo2n</a><br> View project at: <a href='https://wandb.ai/dangerio/job-fake-prediction' target=\"_blank\">https://wandb.ai/dangerio/job-fake-prediction</a><br>Synced 5 W&B file(s), 0 media file(s), 0 artifact file(s) and 0 other file(s)"
      ],
      "text/plain": [
       "<IPython.core.display.HTML object>"
      ]
     },
     "metadata": {},
     "output_type": "display_data"
    },
    {
     "data": {
      "text/html": [
       "Find logs at: <code>./wandb/run-20250324_200947-f62uuo2n/logs</code>"
      ],
      "text/plain": [
       "<IPython.core.display.HTML object>"
      ]
     },
     "metadata": {},
     "output_type": "display_data"
    },
    {
     "name": "stderr",
     "output_type": "stream",
     "text": [
      "/home/aksenovan/my_env/lib/python3.10/site-packages/sklearn/svm/_base.py:297: ConvergenceWarning: Solver terminated early (max_iter=5000).  Consider pre-processing your data with StandardScaler or MinMaxScaler.\n",
      "  warnings.warn(\n"
     ]
    },
    {
     "name": "stdout",
     "output_type": "stream",
     "text": [
      "Train F1-Score: 0.886\n",
      "Train Precision: 0.795\n",
      "Train Recall: 1.000\n",
      "Test F1-Score: 0.305\n",
      "Test Precision: 0.667\n",
      "Test Recall: 0.198\n"
     ]
    }
   ],
   "source": [
    "def svm_param_sampler(trial):\n",
    "    return {\n",
    "        \"C\": trial.suggest_float(\"C\", 1e-3, 1e3, log=True),\n",
    "        \"kernel\": trial.suggest_categorical(\"kernel\", [\"linear\", \"rbf\", \"sigmoid\", \"poly\"]),\n",
    "    }\n",
    "\n",
    "with wandb.init(project=\"job-fake-prediction\", \n",
    "          config={\n",
    "              \"model_type\": \"svm_optuna_tunning\",\n",
    "              \"validation\": \"stratified_group_kfold\",\n",
    "              \"k_folds\": n_folds\n",
    "          }):\n",
    "    best_params, study = tune_hyperparameters_optuna(\n",
    "        X_train_tr, y_train, groups_train,\n",
    "        model_class=svm_cls,\n",
    "        param_sampler=svm_param_sampler,\n",
    "        n_trials=50\n",
    "    )\n",
    "\n",
    "optuna_model_svm = svm_cls(**best_params).fit(X_train_tr, y_train)\n",
    "calc_and_print_metrics(optuna_model_svm, X_train_tr, y_train, is_test=False)\n",
    "calc_and_print_metrics(optuna_model_svm, X_test_tr, y_test)"
   ]
  },
  {
   "cell_type": "markdown",
   "metadata": {},
   "source": [
    "Скрины метрик на валидации (step здесь имеет смысл очередного набора параметров):\n",
    "![](images/svm_tuning/optuna/f1.png)\n",
    "![](images/svm_tuning/optuna/precision.png)\n",
    "![](images/svm_tuning/optuna/recall.png)"
   ]
  },
  {
   "cell_type": "markdown",
   "metadata": {},
   "source": [
    "Отметим, что мы ещё немного улучшили f1 на тесте в сравнении с gridsearch-подбором."
   ]
  },
  {
   "cell_type": "markdown",
   "metadata": {},
   "source": [
    "##### Ax"
   ]
  },
  {
   "cell_type": "code",
   "execution_count": 20,
   "metadata": {},
   "outputs": [
    {
     "data": {
      "text/html": [
       "Tracking run with wandb version 0.19.8"
      ],
      "text/plain": [
       "<IPython.core.display.HTML object>"
      ]
     },
     "metadata": {},
     "output_type": "display_data"
    },
    {
     "data": {
      "text/html": [
       "Run data is saved locally in <code>/home/aksenovan/ml-sysdis/hw2/wandb/run-20250324_202225-kj2f2uk3</code>"
      ],
      "text/plain": [
       "<IPython.core.display.HTML object>"
      ]
     },
     "metadata": {},
     "output_type": "display_data"
    },
    {
     "data": {
      "text/html": [
       "Syncing run <strong><a href='https://wandb.ai/dangerio/job-fake-prediction/runs/kj2f2uk3' target=\"_blank\">olive-morning-113</a></strong> to <a href='https://wandb.ai/dangerio/job-fake-prediction' target=\"_blank\">Weights & Biases</a> (<a href='https://wandb.me/developer-guide' target=\"_blank\">docs</a>)<br>"
      ],
      "text/plain": [
       "<IPython.core.display.HTML object>"
      ]
     },
     "metadata": {},
     "output_type": "display_data"
    },
    {
     "data": {
      "text/html": [
       " View project at <a href='https://wandb.ai/dangerio/job-fake-prediction' target=\"_blank\">https://wandb.ai/dangerio/job-fake-prediction</a>"
      ],
      "text/plain": [
       "<IPython.core.display.HTML object>"
      ]
     },
     "metadata": {},
     "output_type": "display_data"
    },
    {
     "data": {
      "text/html": [
       " View run at <a href='https://wandb.ai/dangerio/job-fake-prediction/runs/kj2f2uk3' target=\"_blank\">https://wandb.ai/dangerio/job-fake-prediction/runs/kj2f2uk3</a>"
      ],
      "text/plain": [
       "<IPython.core.display.HTML object>"
      ]
     },
     "metadata": {},
     "output_type": "display_data"
    },
    {
     "name": "stderr",
     "output_type": "stream",
     "text": [
      "[INFO 03-24 20:22:26] ax.service.utils.instantiation: Inferred value type of ParameterType.FLOAT for parameter C. If that is not the expected value type, you can explicitly specify 'value_type' ('int', 'float', 'bool' or 'str') in parameter dict.\n",
      "[INFO 03-24 20:22:26] ax.service.utils.instantiation: Inferred value type of ParameterType.STRING for parameter kernel. If that is not the expected value type, you can explicitly specify 'value_type' ('int', 'float', 'bool' or 'str') in parameter dict.\n",
      "/home/aksenovan/my_env/lib/python3.10/site-packages/ax/service/utils/instantiation.py:258: AxParameterWarning: `is_ordered` is not specified for `ChoiceParameter` \"kernel\". Defaulting to `False`  since the parameter is a string with more than 2 choices.. To override this behavior (or avoid this warning), specify `is_ordered` during `ChoiceParameter` construction. Note that choice parameters with exactly 2 choices are always considered ordered and that the user-supplied `is_ordered` has no effect in this particular case.\n",
      "  return ChoiceParameter(\n",
      "/home/aksenovan/my_env/lib/python3.10/site-packages/ax/service/utils/instantiation.py:258: AxParameterWarning: `sort_values` is not specified for `ChoiceParameter` \"kernel\". Defaulting to `False` for parameters of `ParameterType` STRING. To override this behavior (or avoid this warning), specify `sort_values` during `ChoiceParameter` construction.\n",
      "  return ChoiceParameter(\n",
      "[INFO 03-24 20:22:26] ax.service.utils.instantiation: Created search space: SearchSpace(parameters=[RangeParameter(name='C', parameter_type=FLOAT, range=[0.001, 1000.0], log_scale=True), ChoiceParameter(name='kernel', parameter_type=STRING, values=['linear', 'rbf', 'sigmoid', 'poly'], is_ordered=False, sort_values=False)], parameter_constraints=[]).\n",
      "[INFO 03-24 20:22:26] ax.modelbridge.dispatch_utils: Using Bayesian optimization with a categorical kernel for improved performance with a large number of unordered categorical parameters.\n",
      "[INFO 03-24 20:22:26] ax.modelbridge.dispatch_utils: Calculating the number of remaining initialization trials based on num_initialization_trials=None max_initialization_trials=None num_tunable_parameters=2 num_trials=None use_batch_trials=False\n",
      "[INFO 03-24 20:22:26] ax.modelbridge.dispatch_utils: calculated num_initialization_trials=5\n",
      "[INFO 03-24 20:22:26] ax.modelbridge.dispatch_utils: num_completed_initialization_trials=0 num_remaining_initialization_trials=5\n",
      "[INFO 03-24 20:22:26] ax.modelbridge.dispatch_utils: `verbose`, `disable_progbar`, and `jit_compile` are not yet supported when using `choose_generation_strategy` with ModularBoTorchModel, dropping these arguments.\n",
      "[INFO 03-24 20:22:26] ax.modelbridge.dispatch_utils: Using Bayesian Optimization generation strategy: GenerationStrategy(name='Sobol+BO_MIXED', steps=[Sobol for 5 trials, BO_MIXED for subsequent trials]). Iterations after 5 will take longer to generate due to model-fitting.\n",
      "[INFO 03-24 20:22:26] ax.service.managed_loop: Started full optimization with 30 steps.\n",
      "[INFO 03-24 20:22:26] ax.service.managed_loop: Running optimization trial 1...\n",
      "/home/aksenovan/my_env/lib/python3.10/site-packages/ax/modelbridge/cross_validation.py:439: UserWarning: Encountered exception in computing model fit quality: RandomModelBridge does not support prediction.\n",
      "  warn(\"Encountered exception in computing model fit quality: \" + str(e))\n",
      "/home/aksenovan/my_env/lib/python3.10/site-packages/sklearn/svm/_base.py:297: ConvergenceWarning: Solver terminated early (max_iter=5000).  Consider pre-processing your data with StandardScaler or MinMaxScaler.\n",
      "  warnings.warn(\n",
      "/home/aksenovan/my_env/lib/python3.10/site-packages/sklearn/svm/_base.py:297: ConvergenceWarning: Solver terminated early (max_iter=5000).  Consider pre-processing your data with StandardScaler or MinMaxScaler.\n",
      "  warnings.warn(\n",
      "/home/aksenovan/my_env/lib/python3.10/site-packages/sklearn/svm/_base.py:297: ConvergenceWarning: Solver terminated early (max_iter=5000).  Consider pre-processing your data with StandardScaler or MinMaxScaler.\n",
      "  warnings.warn(\n",
      "[INFO 03-24 20:22:38] ax.service.managed_loop: Running optimization trial 2...\n",
      "/home/aksenovan/my_env/lib/python3.10/site-packages/ax/modelbridge/cross_validation.py:439: UserWarning: Encountered exception in computing model fit quality: RandomModelBridge does not support prediction.\n",
      "  warn(\"Encountered exception in computing model fit quality: \" + str(e))\n",
      "/home/aksenovan/my_env/lib/python3.10/site-packages/sklearn/svm/_base.py:297: ConvergenceWarning: Solver terminated early (max_iter=5000).  Consider pre-processing your data with StandardScaler or MinMaxScaler.\n",
      "  warnings.warn(\n",
      "/home/aksenovan/my_env/lib/python3.10/site-packages/sklearn/svm/_base.py:297: ConvergenceWarning: Solver terminated early (max_iter=5000).  Consider pre-processing your data with StandardScaler or MinMaxScaler.\n",
      "  warnings.warn(\n",
      "/home/aksenovan/my_env/lib/python3.10/site-packages/sklearn/svm/_base.py:297: ConvergenceWarning: Solver terminated early (max_iter=5000).  Consider pre-processing your data with StandardScaler or MinMaxScaler.\n",
      "  warnings.warn(\n",
      "[INFO 03-24 20:22:42] ax.service.managed_loop: Running optimization trial 3...\n",
      "/home/aksenovan/my_env/lib/python3.10/site-packages/ax/modelbridge/cross_validation.py:439: UserWarning: Encountered exception in computing model fit quality: RandomModelBridge does not support prediction.\n",
      "  warn(\"Encountered exception in computing model fit quality: \" + str(e))\n",
      "[INFO 03-24 20:22:49] ax.service.managed_loop: Running optimization trial 4...\n",
      "/home/aksenovan/my_env/lib/python3.10/site-packages/ax/modelbridge/cross_validation.py:439: UserWarning: Encountered exception in computing model fit quality: RandomModelBridge does not support prediction.\n",
      "  warn(\"Encountered exception in computing model fit quality: \" + str(e))\n",
      "/home/aksenovan/my_env/lib/python3.10/site-packages/sklearn/svm/_base.py:297: ConvergenceWarning: Solver terminated early (max_iter=5000).  Consider pre-processing your data with StandardScaler or MinMaxScaler.\n",
      "  warnings.warn(\n",
      "/home/aksenovan/my_env/lib/python3.10/site-packages/sklearn/svm/_base.py:297: ConvergenceWarning: Solver terminated early (max_iter=5000).  Consider pre-processing your data with StandardScaler or MinMaxScaler.\n",
      "  warnings.warn(\n",
      "/home/aksenovan/my_env/lib/python3.10/site-packages/sklearn/svm/_base.py:297: ConvergenceWarning: Solver terminated early (max_iter=5000).  Consider pre-processing your data with StandardScaler or MinMaxScaler.\n",
      "  warnings.warn(\n",
      "[INFO 03-24 20:23:03] ax.service.managed_loop: Running optimization trial 5...\n",
      "/home/aksenovan/my_env/lib/python3.10/site-packages/ax/modelbridge/cross_validation.py:439: UserWarning: Encountered exception in computing model fit quality: RandomModelBridge does not support prediction.\n",
      "  warn(\"Encountered exception in computing model fit quality: \" + str(e))\n",
      "/home/aksenovan/my_env/lib/python3.10/site-packages/sklearn/svm/_base.py:297: ConvergenceWarning: Solver terminated early (max_iter=5000).  Consider pre-processing your data with StandardScaler or MinMaxScaler.\n",
      "  warnings.warn(\n",
      "/home/aksenovan/my_env/lib/python3.10/site-packages/sklearn/svm/_base.py:297: ConvergenceWarning: Solver terminated early (max_iter=5000).  Consider pre-processing your data with StandardScaler or MinMaxScaler.\n",
      "  warnings.warn(\n",
      "/home/aksenovan/my_env/lib/python3.10/site-packages/sklearn/svm/_base.py:297: ConvergenceWarning: Solver terminated early (max_iter=5000).  Consider pre-processing your data with StandardScaler or MinMaxScaler.\n",
      "  warnings.warn(\n",
      "[INFO 03-24 20:23:15] ax.service.managed_loop: Running optimization trial 6...\n",
      "/home/aksenovan/my_env/lib/python3.10/site-packages/sklearn/svm/_base.py:297: ConvergenceWarning: Solver terminated early (max_iter=5000).  Consider pre-processing your data with StandardScaler or MinMaxScaler.\n",
      "  warnings.warn(\n",
      "/home/aksenovan/my_env/lib/python3.10/site-packages/sklearn/svm/_base.py:297: ConvergenceWarning: Solver terminated early (max_iter=5000).  Consider pre-processing your data with StandardScaler or MinMaxScaler.\n",
      "  warnings.warn(\n",
      "/home/aksenovan/my_env/lib/python3.10/site-packages/sklearn/svm/_base.py:297: ConvergenceWarning: Solver terminated early (max_iter=5000).  Consider pre-processing your data with StandardScaler or MinMaxScaler.\n",
      "  warnings.warn(\n",
      "[INFO 03-24 20:23:28] ax.service.managed_loop: Running optimization trial 7...\n",
      "[INFO 03-24 20:23:41] ax.service.managed_loop: Running optimization trial 8...\n",
      "/home/aksenovan/my_env/lib/python3.10/site-packages/sklearn/svm/_base.py:297: ConvergenceWarning: Solver terminated early (max_iter=5000).  Consider pre-processing your data with StandardScaler or MinMaxScaler.\n",
      "  warnings.warn(\n",
      "/home/aksenovan/my_env/lib/python3.10/site-packages/sklearn/svm/_base.py:297: ConvergenceWarning: Solver terminated early (max_iter=5000).  Consider pre-processing your data with StandardScaler or MinMaxScaler.\n",
      "  warnings.warn(\n",
      "/home/aksenovan/my_env/lib/python3.10/site-packages/sklearn/svm/_base.py:297: ConvergenceWarning: Solver terminated early (max_iter=5000).  Consider pre-processing your data with StandardScaler or MinMaxScaler.\n",
      "  warnings.warn(\n",
      "[INFO 03-24 20:23:49] ax.service.managed_loop: Running optimization trial 9...\n",
      "/home/aksenovan/my_env/lib/python3.10/site-packages/sklearn/svm/_base.py:297: ConvergenceWarning: Solver terminated early (max_iter=5000).  Consider pre-processing your data with StandardScaler or MinMaxScaler.\n",
      "  warnings.warn(\n",
      "/home/aksenovan/my_env/lib/python3.10/site-packages/sklearn/svm/_base.py:297: ConvergenceWarning: Solver terminated early (max_iter=5000).  Consider pre-processing your data with StandardScaler or MinMaxScaler.\n",
      "  warnings.warn(\n",
      "/home/aksenovan/my_env/lib/python3.10/site-packages/sklearn/svm/_base.py:297: ConvergenceWarning: Solver terminated early (max_iter=5000).  Consider pre-processing your data with StandardScaler or MinMaxScaler.\n",
      "  warnings.warn(\n",
      "[INFO 03-24 20:23:57] ax.service.managed_loop: Running optimization trial 10...\n",
      "/home/aksenovan/my_env/lib/python3.10/site-packages/sklearn/svm/_base.py:297: ConvergenceWarning: Solver terminated early (max_iter=5000).  Consider pre-processing your data with StandardScaler or MinMaxScaler.\n",
      "  warnings.warn(\n",
      "/home/aksenovan/my_env/lib/python3.10/site-packages/sklearn/svm/_base.py:297: ConvergenceWarning: Solver terminated early (max_iter=5000).  Consider pre-processing your data with StandardScaler or MinMaxScaler.\n",
      "  warnings.warn(\n",
      "/home/aksenovan/my_env/lib/python3.10/site-packages/sklearn/svm/_base.py:297: ConvergenceWarning: Solver terminated early (max_iter=5000).  Consider pre-processing your data with StandardScaler or MinMaxScaler.\n",
      "  warnings.warn(\n",
      "[INFO 03-24 20:24:04] ax.service.managed_loop: Running optimization trial 11...\n",
      "/home/aksenovan/my_env/lib/python3.10/site-packages/sklearn/svm/_base.py:297: ConvergenceWarning: Solver terminated early (max_iter=5000).  Consider pre-processing your data with StandardScaler or MinMaxScaler.\n",
      "  warnings.warn(\n",
      "/home/aksenovan/my_env/lib/python3.10/site-packages/sklearn/svm/_base.py:297: ConvergenceWarning: Solver terminated early (max_iter=5000).  Consider pre-processing your data with StandardScaler or MinMaxScaler.\n",
      "  warnings.warn(\n",
      "/home/aksenovan/my_env/lib/python3.10/site-packages/sklearn/svm/_base.py:297: ConvergenceWarning: Solver terminated early (max_iter=5000).  Consider pre-processing your data with StandardScaler or MinMaxScaler.\n",
      "  warnings.warn(\n",
      "[INFO 03-24 20:24:10] ax.service.managed_loop: Running optimization trial 12...\n",
      "/home/aksenovan/my_env/lib/python3.10/site-packages/sklearn/svm/_base.py:297: ConvergenceWarning: Solver terminated early (max_iter=5000).  Consider pre-processing your data with StandardScaler or MinMaxScaler.\n",
      "  warnings.warn(\n",
      "/home/aksenovan/my_env/lib/python3.10/site-packages/sklearn/svm/_base.py:297: ConvergenceWarning: Solver terminated early (max_iter=5000).  Consider pre-processing your data with StandardScaler or MinMaxScaler.\n",
      "  warnings.warn(\n",
      "/home/aksenovan/my_env/lib/python3.10/site-packages/sklearn/svm/_base.py:297: ConvergenceWarning: Solver terminated early (max_iter=5000).  Consider pre-processing your data with StandardScaler or MinMaxScaler.\n",
      "  warnings.warn(\n",
      "[INFO 03-24 20:24:22] ax.service.managed_loop: Running optimization trial 13...\n",
      "/home/aksenovan/my_env/lib/python3.10/site-packages/sklearn/svm/_base.py:297: ConvergenceWarning: Solver terminated early (max_iter=5000).  Consider pre-processing your data with StandardScaler or MinMaxScaler.\n",
      "  warnings.warn(\n",
      "/home/aksenovan/my_env/lib/python3.10/site-packages/sklearn/svm/_base.py:297: ConvergenceWarning: Solver terminated early (max_iter=5000).  Consider pre-processing your data with StandardScaler or MinMaxScaler.\n",
      "  warnings.warn(\n",
      "[INFO 03-24 20:24:34] ax.service.managed_loop: Running optimization trial 14...\n",
      "/home/aksenovan/my_env/lib/python3.10/site-packages/sklearn/svm/_base.py:297: ConvergenceWarning: Solver terminated early (max_iter=5000).  Consider pre-processing your data with StandardScaler or MinMaxScaler.\n",
      "  warnings.warn(\n",
      "/home/aksenovan/my_env/lib/python3.10/site-packages/sklearn/svm/_base.py:297: ConvergenceWarning: Solver terminated early (max_iter=5000).  Consider pre-processing your data with StandardScaler or MinMaxScaler.\n",
      "  warnings.warn(\n",
      "/home/aksenovan/my_env/lib/python3.10/site-packages/sklearn/svm/_base.py:297: ConvergenceWarning: Solver terminated early (max_iter=5000).  Consider pre-processing your data with StandardScaler or MinMaxScaler.\n",
      "  warnings.warn(\n",
      "[INFO 03-24 20:24:41] ax.service.managed_loop: Running optimization trial 15...\n",
      "/home/aksenovan/my_env/lib/python3.10/site-packages/sklearn/svm/_base.py:297: ConvergenceWarning: Solver terminated early (max_iter=5000).  Consider pre-processing your data with StandardScaler or MinMaxScaler.\n",
      "  warnings.warn(\n",
      "/home/aksenovan/my_env/lib/python3.10/site-packages/sklearn/svm/_base.py:297: ConvergenceWarning: Solver terminated early (max_iter=5000).  Consider pre-processing your data with StandardScaler or MinMaxScaler.\n",
      "  warnings.warn(\n",
      "/home/aksenovan/my_env/lib/python3.10/site-packages/sklearn/svm/_base.py:297: ConvergenceWarning: Solver terminated early (max_iter=5000).  Consider pre-processing your data with StandardScaler or MinMaxScaler.\n",
      "  warnings.warn(\n",
      "[INFO 03-24 20:24:49] ax.service.managed_loop: Running optimization trial 16...\n",
      "/home/aksenovan/my_env/lib/python3.10/site-packages/sklearn/svm/_base.py:297: ConvergenceWarning: Solver terminated early (max_iter=5000).  Consider pre-processing your data with StandardScaler or MinMaxScaler.\n",
      "  warnings.warn(\n",
      "/home/aksenovan/my_env/lib/python3.10/site-packages/sklearn/svm/_base.py:297: ConvergenceWarning: Solver terminated early (max_iter=5000).  Consider pre-processing your data with StandardScaler or MinMaxScaler.\n",
      "  warnings.warn(\n",
      "/home/aksenovan/my_env/lib/python3.10/site-packages/sklearn/svm/_base.py:297: ConvergenceWarning: Solver terminated early (max_iter=5000).  Consider pre-processing your data with StandardScaler or MinMaxScaler.\n",
      "  warnings.warn(\n",
      "[INFO 03-24 20:24:59] ax.service.managed_loop: Running optimization trial 17...\n",
      "/home/aksenovan/my_env/lib/python3.10/site-packages/sklearn/svm/_base.py:297: ConvergenceWarning: Solver terminated early (max_iter=5000).  Consider pre-processing your data with StandardScaler or MinMaxScaler.\n",
      "  warnings.warn(\n",
      "/home/aksenovan/my_env/lib/python3.10/site-packages/sklearn/svm/_base.py:297: ConvergenceWarning: Solver terminated early (max_iter=5000).  Consider pre-processing your data with StandardScaler or MinMaxScaler.\n",
      "  warnings.warn(\n",
      "/home/aksenovan/my_env/lib/python3.10/site-packages/sklearn/svm/_base.py:297: ConvergenceWarning: Solver terminated early (max_iter=5000).  Consider pre-processing your data with StandardScaler or MinMaxScaler.\n",
      "  warnings.warn(\n",
      "[INFO 03-24 20:25:20] ax.service.managed_loop: Running optimization trial 18...\n",
      "/home/aksenovan/my_env/lib/python3.10/site-packages/sklearn/svm/_base.py:297: ConvergenceWarning: Solver terminated early (max_iter=5000).  Consider pre-processing your data with StandardScaler or MinMaxScaler.\n",
      "  warnings.warn(\n",
      "/home/aksenovan/my_env/lib/python3.10/site-packages/sklearn/svm/_base.py:297: ConvergenceWarning: Solver terminated early (max_iter=5000).  Consider pre-processing your data with StandardScaler or MinMaxScaler.\n",
      "  warnings.warn(\n",
      "/home/aksenovan/my_env/lib/python3.10/site-packages/sklearn/svm/_base.py:297: ConvergenceWarning: Solver terminated early (max_iter=5000).  Consider pre-processing your data with StandardScaler or MinMaxScaler.\n",
      "  warnings.warn(\n",
      "[INFO 03-24 20:25:29] ax.service.managed_loop: Running optimization trial 19...\n",
      "/home/aksenovan/my_env/lib/python3.10/site-packages/sklearn/svm/_base.py:297: ConvergenceWarning: Solver terminated early (max_iter=5000).  Consider pre-processing your data with StandardScaler or MinMaxScaler.\n",
      "  warnings.warn(\n",
      "/home/aksenovan/my_env/lib/python3.10/site-packages/sklearn/svm/_base.py:297: ConvergenceWarning: Solver terminated early (max_iter=5000).  Consider pre-processing your data with StandardScaler or MinMaxScaler.\n",
      "  warnings.warn(\n",
      "/home/aksenovan/my_env/lib/python3.10/site-packages/sklearn/svm/_base.py:297: ConvergenceWarning: Solver terminated early (max_iter=5000).  Consider pre-processing your data with StandardScaler or MinMaxScaler.\n",
      "  warnings.warn(\n",
      "[INFO 03-24 20:25:39] ax.service.managed_loop: Running optimization trial 20...\n",
      "/home/aksenovan/my_env/lib/python3.10/site-packages/sklearn/svm/_base.py:297: ConvergenceWarning: Solver terminated early (max_iter=5000).  Consider pre-processing your data with StandardScaler or MinMaxScaler.\n",
      "  warnings.warn(\n",
      "/home/aksenovan/my_env/lib/python3.10/site-packages/sklearn/svm/_base.py:297: ConvergenceWarning: Solver terminated early (max_iter=5000).  Consider pre-processing your data with StandardScaler or MinMaxScaler.\n",
      "  warnings.warn(\n",
      "/home/aksenovan/my_env/lib/python3.10/site-packages/sklearn/svm/_base.py:297: ConvergenceWarning: Solver terminated early (max_iter=5000).  Consider pre-processing your data with StandardScaler or MinMaxScaler.\n",
      "  warnings.warn(\n",
      "[INFO 03-24 20:25:47] ax.service.managed_loop: Running optimization trial 21...\n",
      "/home/aksenovan/my_env/lib/python3.10/site-packages/sklearn/svm/_base.py:297: ConvergenceWarning: Solver terminated early (max_iter=5000).  Consider pre-processing your data with StandardScaler or MinMaxScaler.\n",
      "  warnings.warn(\n",
      "/home/aksenovan/my_env/lib/python3.10/site-packages/sklearn/svm/_base.py:297: ConvergenceWarning: Solver terminated early (max_iter=5000).  Consider pre-processing your data with StandardScaler or MinMaxScaler.\n",
      "  warnings.warn(\n",
      "/home/aksenovan/my_env/lib/python3.10/site-packages/sklearn/svm/_base.py:297: ConvergenceWarning: Solver terminated early (max_iter=5000).  Consider pre-processing your data with StandardScaler or MinMaxScaler.\n",
      "  warnings.warn(\n",
      "[INFO 03-24 20:25:59] ax.service.managed_loop: Running optimization trial 22...\n",
      "/home/aksenovan/my_env/lib/python3.10/site-packages/sklearn/svm/_base.py:297: ConvergenceWarning: Solver terminated early (max_iter=5000).  Consider pre-processing your data with StandardScaler or MinMaxScaler.\n",
      "  warnings.warn(\n",
      "/home/aksenovan/my_env/lib/python3.10/site-packages/sklearn/svm/_base.py:297: ConvergenceWarning: Solver terminated early (max_iter=5000).  Consider pre-processing your data with StandardScaler or MinMaxScaler.\n",
      "  warnings.warn(\n",
      "/home/aksenovan/my_env/lib/python3.10/site-packages/sklearn/svm/_base.py:297: ConvergenceWarning: Solver terminated early (max_iter=5000).  Consider pre-processing your data with StandardScaler or MinMaxScaler.\n",
      "  warnings.warn(\n",
      "[INFO 03-24 20:26:09] ax.service.managed_loop: Running optimization trial 23...\n",
      "/home/aksenovan/my_env/lib/python3.10/site-packages/sklearn/svm/_base.py:297: ConvergenceWarning: Solver terminated early (max_iter=5000).  Consider pre-processing your data with StandardScaler or MinMaxScaler.\n",
      "  warnings.warn(\n",
      "/home/aksenovan/my_env/lib/python3.10/site-packages/sklearn/svm/_base.py:297: ConvergenceWarning: Solver terminated early (max_iter=5000).  Consider pre-processing your data with StandardScaler or MinMaxScaler.\n",
      "  warnings.warn(\n",
      "/home/aksenovan/my_env/lib/python3.10/site-packages/sklearn/svm/_base.py:297: ConvergenceWarning: Solver terminated early (max_iter=5000).  Consider pre-processing your data with StandardScaler or MinMaxScaler.\n",
      "  warnings.warn(\n",
      "[INFO 03-24 20:26:20] ax.service.managed_loop: Running optimization trial 24...\n",
      "/home/aksenovan/my_env/lib/python3.10/site-packages/sklearn/svm/_base.py:297: ConvergenceWarning: Solver terminated early (max_iter=5000).  Consider pre-processing your data with StandardScaler or MinMaxScaler.\n",
      "  warnings.warn(\n",
      "/home/aksenovan/my_env/lib/python3.10/site-packages/sklearn/svm/_base.py:297: ConvergenceWarning: Solver terminated early (max_iter=5000).  Consider pre-processing your data with StandardScaler or MinMaxScaler.\n",
      "  warnings.warn(\n",
      "/home/aksenovan/my_env/lib/python3.10/site-packages/sklearn/svm/_base.py:297: ConvergenceWarning: Solver terminated early (max_iter=5000).  Consider pre-processing your data with StandardScaler or MinMaxScaler.\n",
      "  warnings.warn(\n",
      "[INFO 03-24 20:26:30] ax.service.managed_loop: Running optimization trial 25...\n",
      "/home/aksenovan/my_env/lib/python3.10/site-packages/sklearn/svm/_base.py:297: ConvergenceWarning: Solver terminated early (max_iter=5000).  Consider pre-processing your data with StandardScaler or MinMaxScaler.\n",
      "  warnings.warn(\n",
      "/home/aksenovan/my_env/lib/python3.10/site-packages/sklearn/svm/_base.py:297: ConvergenceWarning: Solver terminated early (max_iter=5000).  Consider pre-processing your data with StandardScaler or MinMaxScaler.\n",
      "  warnings.warn(\n",
      "/home/aksenovan/my_env/lib/python3.10/site-packages/sklearn/svm/_base.py:297: ConvergenceWarning: Solver terminated early (max_iter=5000).  Consider pre-processing your data with StandardScaler or MinMaxScaler.\n",
      "  warnings.warn(\n",
      "[INFO 03-24 20:26:41] ax.service.managed_loop: Running optimization trial 26...\n",
      "[INFO 03-24 20:26:54] ax.service.managed_loop: Running optimization trial 27...\n",
      "/home/aksenovan/my_env/lib/python3.10/site-packages/sklearn/svm/_base.py:297: ConvergenceWarning: Solver terminated early (max_iter=5000).  Consider pre-processing your data with StandardScaler or MinMaxScaler.\n",
      "  warnings.warn(\n",
      "/home/aksenovan/my_env/lib/python3.10/site-packages/sklearn/svm/_base.py:297: ConvergenceWarning: Solver terminated early (max_iter=5000).  Consider pre-processing your data with StandardScaler or MinMaxScaler.\n",
      "  warnings.warn(\n",
      "/home/aksenovan/my_env/lib/python3.10/site-packages/sklearn/svm/_base.py:297: ConvergenceWarning: Solver terminated early (max_iter=5000).  Consider pre-processing your data with StandardScaler or MinMaxScaler.\n",
      "  warnings.warn(\n",
      "[INFO 03-24 20:27:05] ax.service.managed_loop: Running optimization trial 28...\n",
      "/home/aksenovan/my_env/lib/python3.10/site-packages/sklearn/svm/_base.py:297: ConvergenceWarning: Solver terminated early (max_iter=5000).  Consider pre-processing your data with StandardScaler or MinMaxScaler.\n",
      "  warnings.warn(\n",
      "/home/aksenovan/my_env/lib/python3.10/site-packages/sklearn/svm/_base.py:297: ConvergenceWarning: Solver terminated early (max_iter=5000).  Consider pre-processing your data with StandardScaler or MinMaxScaler.\n",
      "  warnings.warn(\n",
      "/home/aksenovan/my_env/lib/python3.10/site-packages/sklearn/svm/_base.py:297: ConvergenceWarning: Solver terminated early (max_iter=5000).  Consider pre-processing your data with StandardScaler or MinMaxScaler.\n",
      "  warnings.warn(\n",
      "[INFO 03-24 20:27:16] ax.service.managed_loop: Running optimization trial 29...\n",
      "[INFO 03-24 20:27:32] ax.service.managed_loop: Running optimization trial 30...\n",
      "/home/aksenovan/my_env/lib/python3.10/site-packages/sklearn/svm/_base.py:297: ConvergenceWarning: Solver terminated early (max_iter=5000).  Consider pre-processing your data with StandardScaler or MinMaxScaler.\n",
      "  warnings.warn(\n",
      "/home/aksenovan/my_env/lib/python3.10/site-packages/sklearn/svm/_base.py:297: ConvergenceWarning: Solver terminated early (max_iter=5000).  Consider pre-processing your data with StandardScaler or MinMaxScaler.\n",
      "  warnings.warn(\n",
      "/home/aksenovan/my_env/lib/python3.10/site-packages/sklearn/svm/_base.py:297: ConvergenceWarning: Solver terminated early (max_iter=5000).  Consider pre-processing your data with StandardScaler or MinMaxScaler.\n",
      "  warnings.warn(\n"
     ]
    },
    {
     "data": {
      "text/html": [],
      "text/plain": [
       "<IPython.core.display.HTML object>"
      ]
     },
     "metadata": {},
     "output_type": "display_data"
    },
    {
     "data": {
      "text/html": [
       "<br>    <style><br>        .wandb-row {<br>            display: flex;<br>            flex-direction: row;<br>            flex-wrap: wrap;<br>            justify-content: flex-start;<br>            width: 100%;<br>        }<br>        .wandb-col {<br>            display: flex;<br>            flex-direction: column;<br>            flex-basis: 100%;<br>            flex: 1;<br>            padding: 10px;<br>        }<br>    </style><br><div class=\"wandb-row\"><div class=\"wandb-col\"><h3>Run history:</h3><br/><table class=\"wandb\"><tr><td>fold</td><td>▅█▅█▁▅█▁█▁█▁█▁▅▅▁▅▁▅▅█▁▅█▁▅▅█▁▁█▁▅▁█▁▅▁▁</td></tr><tr><td>fold_f1</td><td>▁▂▃▆▂▅▂▃▆▂▄▄▆▇▄▄▃▂▄▄▄▁█▄▆▄▇▆█▄▆▆▆█▄▆▆▆▄▆</td></tr><tr><td>fold_precision</td><td>▁▁▁▂▅▃▃▂▂▂▂▃█▄▂▂▁▁▂▄█▄▂▄█▅▂█▂▅█▂██▄▄▄▃▂█</td></tr><tr><td>fold_recall</td><td>█▁▃▁▁▃▄▂▁▃▁▆▂▄▁▁▁▁█▃▁▃▁▃▁▁▃▁▃▃▁▃▁▁▃▁▃▃▁▁</td></tr><tr><td>mean_f1</td><td>▁▂▇▃▆▆▇▃█▇▇▂▄██▇▁██████▇▇███▇█</td></tr><tr><td>mean_precision</td><td>▁▁▇▂▄▄▆▂█▇▇▁▃█▇▇▁█▇██▇█▇▇█▇▇▆█</td></tr><tr><td>mean_recall</td><td>█▁▁▃▂▁▁▁▁▁▁▄▂▁▁▁█▁▁▁▁▁▁▁▁▁▁▁▂▁</td></tr></table><br/></div><div class=\"wandb-col\"><h3>Run summary:</h3><br/><table class=\"wandb\"><tr><td>fold</td><td>5</td></tr><tr><td>fold_f1</td><td>0.33333</td></tr><tr><td>fold_precision</td><td>0.91667</td></tr><tr><td>fold_recall</td><td>0.2037</td></tr><tr><td>mean_f1</td><td>0.34921</td></tr><tr><td>mean_precision</td><td>0.55556</td></tr><tr><td>mean_recall</td><td>0.29568</td></tr><tr><td>status</td><td>completed</td></tr></table><br/></div></div>"
      ],
      "text/plain": [
       "<IPython.core.display.HTML object>"
      ]
     },
     "metadata": {},
     "output_type": "display_data"
    },
    {
     "data": {
      "text/html": [
       " View run <strong style=\"color:#cdcd00\">olive-morning-113</strong> at: <a href='https://wandb.ai/dangerio/job-fake-prediction/runs/kj2f2uk3' target=\"_blank\">https://wandb.ai/dangerio/job-fake-prediction/runs/kj2f2uk3</a><br> View project at: <a href='https://wandb.ai/dangerio/job-fake-prediction' target=\"_blank\">https://wandb.ai/dangerio/job-fake-prediction</a><br>Synced 5 W&B file(s), 0 media file(s), 0 artifact file(s) and 0 other file(s)"
      ],
      "text/plain": [
       "<IPython.core.display.HTML object>"
      ]
     },
     "metadata": {},
     "output_type": "display_data"
    },
    {
     "data": {
      "text/html": [
       "Find logs at: <code>./wandb/run-20250324_202225-kj2f2uk3/logs</code>"
      ],
      "text/plain": [
       "<IPython.core.display.HTML object>"
      ]
     },
     "metadata": {},
     "output_type": "display_data"
    },
    {
     "name": "stderr",
     "output_type": "stream",
     "text": [
      "/home/aksenovan/my_env/lib/python3.10/site-packages/sklearn/svm/_base.py:297: ConvergenceWarning: Solver terminated early (max_iter=5000).  Consider pre-processing your data with StandardScaler or MinMaxScaler.\n",
      "  warnings.warn(\n"
     ]
    },
    {
     "name": "stdout",
     "output_type": "stream",
     "text": [
      "Train F1-Score: 0.997\n",
      "Train Precision: 0.994\n",
      "Train Recall: 1.000\n",
      "Test F1-Score: 0.328\n",
      "Test Precision: 0.667\n",
      "Test Recall: 0.218\n"
     ]
    }
   ],
   "source": [
    "param_config = [\n",
    "    {\n",
    "        \"name\": \"C\",\n",
    "        \"type\": \"range\",\n",
    "        \"bounds\": [1e-3, 1e3],\n",
    "        \"log_scale\": True\n",
    "    },\n",
    "    {\n",
    "        \"name\": \"kernel\",\n",
    "        \"type\": \"choice\",\n",
    "        \"values\": [\"linear\", \"rbf\", \"sigmoid\", \"poly\"]\n",
    "    },\n",
    "    \n",
    "]\n",
    "\n",
    "with wandb.init(project=\"job-fake-prediction\", \n",
    "          config={\n",
    "              \"model_type\": \"svm_ax_tunning\",\n",
    "              \"validation\": \"stratified_group_kfold\",\n",
    "              \"k_folds\": n_folds\n",
    "          }):\n",
    "    best_params, experiment = tune_hyperparameters_ax(\n",
    "        X_train_tr, y_train, groups_train,\n",
    "        model_class=svm_cls,\n",
    "        param_config=param_config,\n",
    "        n_trials=30\n",
    "    )\n",
    "\n",
    "\n",
    "\n",
    "ax_model_svm = svm_cls(**best_params).fit(X_train_tr, y_train)\n",
    "calc_and_print_metrics(ax_model_svm, X_train_tr, y_train, is_test=False)\n",
    "calc_and_print_metrics(ax_model_svm, X_test_tr, y_test)"
   ]
  },
  {
   "cell_type": "markdown",
   "metadata": {},
   "source": [
    "Скрины метрик на валидации (step здесь имеет смысл очередного набора параметров):\n",
    "![](images/svm_tuning/ax/f1.png)\n",
    "![](images/svm_tuning/ax/precision.png)\n",
    "![](images/svm_tuning/ax/recall.png)"
   ]
  },
  {
   "cell_type": "markdown",
   "metadata": {},
   "source": [
    "Видно, что мы получили еще более высокое качество на тесте, чем у optuna."
   ]
  },
  {
   "cell_type": "markdown",
   "metadata": {},
   "source": [
    "#### Catboost"
   ]
  },
  {
   "cell_type": "markdown",
   "metadata": {},
   "source": [
    "##### Gridsearch"
   ]
  },
  {
   "cell_type": "code",
   "execution_count": 36,
   "metadata": {},
   "outputs": [],
   "source": [
    "cb_cls = partial(CatBoostClassifier,\n",
    "    loss_function='Logloss',\n",
    "    text_features=raw_text_features,\n",
    "    verbose=False,\n",
    ")"
   ]
  },
  {
   "cell_type": "code",
   "execution_count": 37,
   "metadata": {},
   "outputs": [
    {
     "data": {
      "text/html": [
       "Tracking run with wandb version 0.19.8"
      ],
      "text/plain": [
       "<IPython.core.display.HTML object>"
      ]
     },
     "metadata": {},
     "output_type": "display_data"
    },
    {
     "data": {
      "text/html": [
       "Run data is saved locally in <code>/home/aksenovan/ml-sysdis/hw2/wandb/run-20250324_210849-85adovca</code>"
      ],
      "text/plain": [
       "<IPython.core.display.HTML object>"
      ]
     },
     "metadata": {},
     "output_type": "display_data"
    },
    {
     "data": {
      "text/html": [
       "Syncing run <strong><a href='https://wandb.ai/dangerio/job-fake-prediction/runs/85adovca' target=\"_blank\">magic-spaceship-119</a></strong> to <a href='https://wandb.ai/dangerio/job-fake-prediction' target=\"_blank\">Weights & Biases</a> (<a href='https://wandb.me/developer-guide' target=\"_blank\">docs</a>)<br>"
      ],
      "text/plain": [
       "<IPython.core.display.HTML object>"
      ]
     },
     "metadata": {},
     "output_type": "display_data"
    },
    {
     "data": {
      "text/html": [
       " View project at <a href='https://wandb.ai/dangerio/job-fake-prediction' target=\"_blank\">https://wandb.ai/dangerio/job-fake-prediction</a>"
      ],
      "text/plain": [
       "<IPython.core.display.HTML object>"
      ]
     },
     "metadata": {},
     "output_type": "display_data"
    },
    {
     "data": {
      "text/html": [
       " View run at <a href='https://wandb.ai/dangerio/job-fake-prediction/runs/85adovca' target=\"_blank\">https://wandb.ai/dangerio/job-fake-prediction/runs/85adovca</a>"
      ],
      "text/plain": [
       "<IPython.core.display.HTML object>"
      ]
     },
     "metadata": {},
     "output_type": "display_data"
    },
    {
     "data": {
      "text/html": [],
      "text/plain": [
       "<IPython.core.display.HTML object>"
      ]
     },
     "metadata": {},
     "output_type": "display_data"
    },
    {
     "data": {
      "text/html": [
       "<br>    <style><br>        .wandb-row {<br>            display: flex;<br>            flex-direction: row;<br>            flex-wrap: wrap;<br>            justify-content: flex-start;<br>            width: 100%;<br>        }<br>        .wandb-col {<br>            display: flex;<br>            flex-direction: column;<br>            flex-basis: 100%;<br>            flex: 1;<br>            padding: 10px;<br>        }<br>    </style><br><div class=\"wandb-row\"><div class=\"wandb-col\"><h3>Run history:</h3><br/><table class=\"wandb\"><tr><td>fold</td><td>▁▅█▁▅█▁▅█▁▅█▁▅█▁▅█▁▅█▁▅█</td></tr><tr><td>fold_f1</td><td>▆▆▂▆▇▂▇▇▂▇▇▂█▇▁█▄▁█▇▂█▇▂</td></tr><tr><td>fold_precision</td><td>▃▁▅▃▃▃▄▃▃▄▃▃████████████</td></tr><tr><td>fold_recall</td><td>▇█▂▇█▂▇█▂▇█▂▇▆▁▇▃▁▇▆▁▇▆▁</td></tr><tr><td>mean_f1</td><td>▃▆▆▆▇▁██</td></tr><tr><td>mean_precision</td><td>▁▁▂▂████</td></tr><tr><td>mean_recall</td><td>████▄▁▄▄</td></tr></table><br/></div><div class=\"wandb-col\"><h3>Run summary:</h3><br/><table class=\"wandb\"><tr><td>fold</td><td>5</td></tr><tr><td>fold_f1</td><td>0.28571</td></tr><tr><td>fold_precision</td><td>1</td></tr><tr><td>fold_recall</td><td>0.16667</td></tr><tr><td>mean_f1</td><td>0.47861</td></tr><tr><td>mean_precision</td><td>1</td></tr><tr><td>mean_recall</td><td>0.325</td></tr><tr><td>status</td><td>completed</td></tr></table><br/></div></div>"
      ],
      "text/plain": [
       "<IPython.core.display.HTML object>"
      ]
     },
     "metadata": {},
     "output_type": "display_data"
    },
    {
     "data": {
      "text/html": [
       " View run <strong style=\"color:#cdcd00\">magic-spaceship-119</strong> at: <a href='https://wandb.ai/dangerio/job-fake-prediction/runs/85adovca' target=\"_blank\">https://wandb.ai/dangerio/job-fake-prediction/runs/85adovca</a><br> View project at: <a href='https://wandb.ai/dangerio/job-fake-prediction' target=\"_blank\">https://wandb.ai/dangerio/job-fake-prediction</a><br>Synced 5 W&B file(s), 0 media file(s), 0 artifact file(s) and 0 other file(s)"
      ],
      "text/plain": [
       "<IPython.core.display.HTML object>"
      ]
     },
     "metadata": {},
     "output_type": "display_data"
    },
    {
     "data": {
      "text/html": [
       "Find logs at: <code>./wandb/run-20250324_210849-85adovca/logs</code>"
      ],
      "text/plain": [
       "<IPython.core.display.HTML object>"
      ]
     },
     "metadata": {},
     "output_type": "display_data"
    },
    {
     "name": "stdout",
     "output_type": "stream",
     "text": [
      "Train F1-Score: 0.732\n",
      "Train Precision: 0.637\n",
      "Train Recall: 0.861\n",
      "Test F1-Score: 0.397\n",
      "Test Precision: 1.000\n",
      "Test Recall: 0.248\n"
     ]
    }
   ],
   "source": [
    "catboost_grid_config = {\n",
    "    \"iterations\": [100],\n",
    "    \"depth\": [4, 8],\n",
    "    \"l2_leaf_reg\": [1, 5],\n",
    "    \"auto_class_weights\": [\"Balanced\", \"SqrtBalanced\"]\n",
    "}\n",
    "\n",
    "\n",
    "with wandb.init(project=\"job-fake-prediction\", \n",
    "          config={\n",
    "              \"model_type\": \"catboost_gridsearch\",\n",
    "              \"validation\": \"stratified_group_kfold\",\n",
    "              \"k_folds\": n_folds\n",
    "          }):\n",
    "    best_params, all_results = grid_search(\n",
    "        X_train_cb, y_train, groups_train,\n",
    "        model_class=cb_cls,\n",
    "        param_grid=catboost_grid_config,\n",
    "    )\n",
    "\n",
    "cb_model_gs = cb_cls(**best_params).fit(X_train_cb, y_train)\n",
    "calc_and_print_metrics(cb_model_gs, X_train_cb, y_train, is_test=False)\n",
    "calc_and_print_metrics(cb_model_gs, X_test_cb, y_test)"
   ]
  },
  {
   "cell_type": "markdown",
   "metadata": {},
   "source": [
    "Скрины метрик на валидации (step здесь имеет смысл очередного набора параметров):\n",
    "![](images/catboost_tuning/gridsearch/f1.png)\n",
    "![](images/catboost_tuning/gridsearch/precision.png)\n",
    "![](images/catboost_tuning/gridsearch/recall.png)"
   ]
  },
  {
   "cell_type": "markdown",
   "metadata": {},
   "source": [
    "Видно, что подбором гиперпараметров мы только ухудшили f1-меру на тесте. Думаю, это связано с тем, что мы \"переобучились\" под валидацию."
   ]
  },
  {
   "cell_type": "markdown",
   "metadata": {},
   "source": [
    "##### Optuna"
   ]
  },
  {
   "cell_type": "code",
   "execution_count": 31,
   "metadata": {},
   "outputs": [
    {
     "data": {
      "text/html": [
       "Tracking run with wandb version 0.19.8"
      ],
      "text/plain": [
       "<IPython.core.display.HTML object>"
      ]
     },
     "metadata": {},
     "output_type": "display_data"
    },
    {
     "data": {
      "text/html": [
       "Run data is saved locally in <code>/home/aksenovan/ml-sysdis/hw2/wandb/run-20250324_204030-xv7gxkx9</code>"
      ],
      "text/plain": [
       "<IPython.core.display.HTML object>"
      ]
     },
     "metadata": {},
     "output_type": "display_data"
    },
    {
     "data": {
      "text/html": [
       "Syncing run <strong><a href='https://wandb.ai/dangerio/job-fake-prediction/runs/xv7gxkx9' target=\"_blank\">copper-shadow-117</a></strong> to <a href='https://wandb.ai/dangerio/job-fake-prediction' target=\"_blank\">Weights & Biases</a> (<a href='https://wandb.me/developer-guide' target=\"_blank\">docs</a>)<br>"
      ],
      "text/plain": [
       "<IPython.core.display.HTML object>"
      ]
     },
     "metadata": {},
     "output_type": "display_data"
    },
    {
     "data": {
      "text/html": [
       " View project at <a href='https://wandb.ai/dangerio/job-fake-prediction' target=\"_blank\">https://wandb.ai/dangerio/job-fake-prediction</a>"
      ],
      "text/plain": [
       "<IPython.core.display.HTML object>"
      ]
     },
     "metadata": {},
     "output_type": "display_data"
    },
    {
     "data": {
      "text/html": [
       " View run at <a href='https://wandb.ai/dangerio/job-fake-prediction/runs/xv7gxkx9' target=\"_blank\">https://wandb.ai/dangerio/job-fake-prediction/runs/xv7gxkx9</a>"
      ],
      "text/plain": [
       "<IPython.core.display.HTML object>"
      ]
     },
     "metadata": {},
     "output_type": "display_data"
    },
    {
     "name": "stderr",
     "output_type": "stream",
     "text": [
      "[I 2025-03-24 20:40:31,040] A new study created in memory with name: no-name-7cebd49f-1a57-4d96-902f-ccc63b653087\n",
      "[I 2025-03-24 20:41:27,572] Trial 0 finished with value: 0.41130565938750085 and parameters: {'iterations': 131, 'learning_rate': 0.09485036555910548, 'depth': 7, 'l2_leaf_reg': 0.060936787353252315, 'auto_class_weights': 'Balanced'}. Best is trial 0 with value: 0.41130565938750085.\n",
      "[I 2025-03-24 20:45:26,901] Trial 1 finished with value: 0.4588744588744588 and parameters: {'iterations': 186, 'learning_rate': 0.12671942076538364, 'depth': 9, 'l2_leaf_reg': 0.23981178357614202, 'auto_class_weights': 'SqrtBalanced'}. Best is trial 1 with value: 0.4588744588744588.\n",
      "[I 2025-03-24 20:48:08,457] Trial 2 finished with value: 0.39826839826839827 and parameters: {'iterations': 210, 'learning_rate': 0.11353188662004474, 'depth': 8, 'l2_leaf_reg': 1.4732078580398624, 'auto_class_weights': 'SqrtBalanced'}. Best is trial 1 with value: 0.4588744588744588.\n",
      "[I 2025-03-24 20:48:27,927] Trial 3 finished with value: 0.46345514950166117 and parameters: {'iterations': 133, 'learning_rate': 0.08813772364114239, 'depth': 4, 'l2_leaf_reg': 0.5447281492776305, 'auto_class_weights': 'SqrtBalanced'}. Best is trial 3 with value: 0.46345514950166117.\n",
      "[I 2025-03-24 20:51:30,442] Trial 4 finished with value: 0.44076655052264807 and parameters: {'iterations': 198, 'learning_rate': 0.08602589451477731, 'depth': 10, 'l2_leaf_reg': 0.10808179908446654, 'auto_class_weights': 'Balanced'}. Best is trial 3 with value: 0.46345514950166117.\n",
      "[I 2025-03-24 20:52:04,042] Trial 5 finished with value: 0.47305617329709254 and parameters: {'iterations': 242, 'learning_rate': 0.05620434677623654, 'depth': 4, 'l2_leaf_reg': 0.10389867522286605, 'auto_class_weights': 'Balanced'}. Best is trial 5 with value: 0.47305617329709254.\n",
      "[I 2025-03-24 20:52:39,434] Trial 6 finished with value: 0.45423855963990994 and parameters: {'iterations': 176, 'learning_rate': 0.0788733065910281, 'depth': 5, 'l2_leaf_reg': 1.344844730542094, 'auto_class_weights': 'SqrtBalanced'}. Best is trial 5 with value: 0.47305617329709254.\n",
      "[I 2025-03-24 20:55:34,563] Trial 7 finished with value: 0.44646317829457366 and parameters: {'iterations': 128, 'learning_rate': 0.19333387104907, 'depth': 9, 'l2_leaf_reg': 0.22056702862951208, 'auto_class_weights': 'Balanced'}. Best is trial 5 with value: 0.47305617329709254.\n",
      "[I 2025-03-24 20:56:02,039] Trial 8 finished with value: 0.47253787878787873 and parameters: {'iterations': 195, 'learning_rate': 0.13288200422439697, 'depth': 4, 'l2_leaf_reg': 0.02230452268386104, 'auto_class_weights': 'SqrtBalanced'}. Best is trial 5 with value: 0.47305617329709254.\n",
      "[I 2025-03-24 20:56:26,771] Trial 9 finished with value: 0.4786066646531763 and parameters: {'iterations': 83, 'learning_rate': 0.040195093512747665, 'depth': 6, 'l2_leaf_reg': 5.162071497369626, 'auto_class_weights': 'SqrtBalanced'}. Best is trial 9 with value: 0.4786066646531763.\n",
      "[I 2025-03-24 20:56:45,182] Trial 10 finished with value: 0.1793103448275862 and parameters: {'iterations': 56, 'learning_rate': 0.019539864394704263, 'depth': 6, 'l2_leaf_reg': 8.029693253560424, 'auto_class_weights': 'SqrtBalanced'}. Best is trial 9 with value: 0.4786066646531763.\n",
      "[I 2025-03-24 20:57:53,899] Trial 11 finished with value: 0.43940242763772175 and parameters: {'iterations': 240, 'learning_rate': 0.03517329205102967, 'depth': 6, 'l2_leaf_reg': 9.075148541837933, 'auto_class_weights': 'Balanced'}. Best is trial 9 with value: 0.4786066646531763.\n",
      "[I 2025-03-24 20:58:11,938] Trial 12 finished with value: 0.4477294685990338 and parameters: {'iterations': 84, 'learning_rate': 0.040349817463517505, 'depth': 5, 'l2_leaf_reg': 0.02688660729295792, 'auto_class_weights': 'Balanced'}. Best is trial 9 with value: 0.4786066646531763.\n",
      "[I 2025-03-24 20:58:40,076] Trial 13 finished with value: 0.454951690821256 and parameters: {'iterations': 96, 'learning_rate': 0.023155493372952498, 'depth': 6, 'l2_leaf_reg': 1.8058010385116277, 'auto_class_weights': 'Balanced'}. Best is trial 9 with value: 0.4786066646531763.\n",
      "[I 2025-03-24 20:59:26,928] Trial 14 finished with value: 0.4786066646531763 and parameters: {'iterations': 234, 'learning_rate': 0.01034177664897144, 'depth': 5, 'l2_leaf_reg': 0.06846090004972558, 'auto_class_weights': 'SqrtBalanced'}. Best is trial 9 with value: 0.4786066646531763.\n"
     ]
    },
    {
     "data": {
      "text/html": [],
      "text/plain": [
       "<IPython.core.display.HTML object>"
      ]
     },
     "metadata": {},
     "output_type": "display_data"
    },
    {
     "data": {
      "text/html": [
       "<br>    <style><br>        .wandb-row {<br>            display: flex;<br>            flex-direction: row;<br>            flex-wrap: wrap;<br>            justify-content: flex-start;<br>            width: 100%;<br>        }<br>        .wandb-col {<br>            display: flex;<br>            flex-direction: column;<br>            flex-basis: 100%;<br>            flex: 1;<br>            padding: 10px;<br>        }<br>    </style><br><div class=\"wandb-row\"><div class=\"wandb-col\"><h3>Run history:</h3><br/><table class=\"wandb\"><tr><td>fold</td><td>▁▅█▁▅█▁▅▁▅█▁▅█▁▅▁▅█▁▅█▁▅▁▅█▁▅█▁▅▁▅█▁▅█▁█</td></tr><tr><td>fold_f1</td><td>▆▆▄█▇▄▇▅█▇▄▇▇▄▆██▇▄▇▇▄█▇█▇▄▁▅▃▆▇▇▇▄▇▇▄█▄</td></tr><tr><td>fold_precision</td><td>▆▅▆▇▆█▇▆█▆██▆█▄▅█▆█▇▆▇▇████▁██▅▅▆▅▆▆▅▆██</td></tr><tr><td>fold_recall</td><td>▅▅▃▆▅▃▅▄▆▅▃▅▅▃▆█▆▅▃▅▅▃▆▅▆▅▃▁▄▂▅▇▆▇▃▆▇▃▆▃</td></tr><tr><td>mean_f1</td><td>▆█▆█▇█▇▇██▁▇▇▇█</td></tr><tr><td>mean_precision</td><td>▂▆▅▇▇▁▇▅▇█▂▁▁▂█</td></tr><tr><td>mean_recall</td><td>▅▆▅▆▅█▆▆▆▆▁▇▇▇▆</td></tr></table><br/></div><div class=\"wandb-col\"><h3>Run summary:</h3><br/><table class=\"wandb\"><tr><td>fold</td><td>5</td></tr><tr><td>fold_f1</td><td>0.28571</td></tr><tr><td>fold_precision</td><td>1</td></tr><tr><td>fold_recall</td><td>0.16667</td></tr><tr><td>mean_f1</td><td>0.47861</td></tr><tr><td>mean_precision</td><td>1</td></tr><tr><td>mean_recall</td><td>0.325</td></tr><tr><td>status</td><td>completed</td></tr></table><br/></div></div>"
      ],
      "text/plain": [
       "<IPython.core.display.HTML object>"
      ]
     },
     "metadata": {},
     "output_type": "display_data"
    },
    {
     "data": {
      "text/html": [
       " View run <strong style=\"color:#cdcd00\">copper-shadow-117</strong> at: <a href='https://wandb.ai/dangerio/job-fake-prediction/runs/xv7gxkx9' target=\"_blank\">https://wandb.ai/dangerio/job-fake-prediction/runs/xv7gxkx9</a><br> View project at: <a href='https://wandb.ai/dangerio/job-fake-prediction' target=\"_blank\">https://wandb.ai/dangerio/job-fake-prediction</a><br>Synced 5 W&B file(s), 0 media file(s), 0 artifact file(s) and 0 other file(s)"
      ],
      "text/plain": [
       "<IPython.core.display.HTML object>"
      ]
     },
     "metadata": {},
     "output_type": "display_data"
    },
    {
     "data": {
      "text/html": [
       "Find logs at: <code>./wandb/run-20250324_204030-xv7gxkx9/logs</code>"
      ],
      "text/plain": [
       "<IPython.core.display.HTML object>"
      ]
     },
     "metadata": {},
     "output_type": "display_data"
    },
    {
     "name": "stdout",
     "output_type": "stream",
     "text": [
      "Train F1-Score: 0.730\n",
      "Train Precision: 0.637\n",
      "Train Recall: 0.855\n",
      "Test F1-Score: 0.344\n",
      "Test Precision: 1.000\n",
      "Test Recall: 0.208\n"
     ]
    }
   ],
   "source": [
    "def catboost_param_sampler(trial):\n",
    "    return {\n",
    "        \"iterations\": trial.suggest_int(\"iterations\", 50, 250),\n",
    "        \"learning_rate\": trial.suggest_float(\"learning_rate\", 0.01, 0.2, log=True),\n",
    "        \"depth\": trial.suggest_int(\"depth\", 4, 10),\n",
    "        \"l2_leaf_reg\": trial.suggest_float(\"l2_leaf_reg\", 1e-2, 10, log=True),\n",
    "        \"auto_class_weights\": trial.suggest_categorical(\"auto_class_weights\", \n",
    "                                                 [\"Balanced\", \"SqrtBalanced\"])\n",
    "    }\n",
    "\n",
    "with wandb.init(project=\"job-fake-prediction\", \n",
    "          config={\n",
    "              \"model_type\": \"catboost_optuna\",\n",
    "              \"validation\": \"stratified_group_kfold\",\n",
    "              \"k_folds\": n_folds\n",
    "          }):\n",
    "    best_params, study = tune_hyperparameters_optuna(\n",
    "        X_train_cb, y_train, groups_train,\n",
    "        model_class=cb_cls,\n",
    "        param_sampler=catboost_param_sampler,\n",
    "        n_trials=15\n",
    "    )\n",
    "\n",
    "cb_model_optuna = cb_cls(**best_params).fit(X_train_cb, y_train)\n",
    "calc_and_print_metrics(cb_model_optuna, X_train_cb, y_train, is_test=False)\n",
    "calc_and_print_metrics(cb_model_optuna, X_test_cb, y_test)"
   ]
  },
  {
   "cell_type": "markdown",
   "metadata": {},
   "source": [
    "Скрины метрик на валидации (step здесь имеет смысл очередного набора параметров):\n",
    "![](images/catboost_tuning/optuna/f1.png)\n",
    "![](images/catboost_tuning/optuna/precision.png)\n",
    "![](images/catboost_tuning/optuna/recall.png)"
   ]
  },
  {
   "cell_type": "markdown",
   "metadata": {},
   "source": [
    "Скор на тесте стал еще хуже, чем у gridsearch. Но в данном случае это объясняется неудачным подбором гиперпараметров, так как скор на валидации тоже хуже, чем у gridsearch."
   ]
  },
  {
   "cell_type": "markdown",
   "metadata": {},
   "source": [
    "##### Ax"
   ]
  },
  {
   "cell_type": "code",
   "execution_count": 39,
   "metadata": {},
   "outputs": [
    {
     "data": {
      "text/html": [
       "Tracking run with wandb version 0.19.8"
      ],
      "text/plain": [
       "<IPython.core.display.HTML object>"
      ]
     },
     "metadata": {},
     "output_type": "display_data"
    },
    {
     "data": {
      "text/html": [
       "Run data is saved locally in <code>/home/aksenovan/ml-sysdis/hw2/wandb/run-20250324_211744-c3c4830z</code>"
      ],
      "text/plain": [
       "<IPython.core.display.HTML object>"
      ]
     },
     "metadata": {},
     "output_type": "display_data"
    },
    {
     "data": {
      "text/html": [
       "Syncing run <strong><a href='https://wandb.ai/dangerio/job-fake-prediction/runs/c3c4830z' target=\"_blank\">stilted-dragon-121</a></strong> to <a href='https://wandb.ai/dangerio/job-fake-prediction' target=\"_blank\">Weights & Biases</a> (<a href='https://wandb.me/developer-guide' target=\"_blank\">docs</a>)<br>"
      ],
      "text/plain": [
       "<IPython.core.display.HTML object>"
      ]
     },
     "metadata": {},
     "output_type": "display_data"
    },
    {
     "data": {
      "text/html": [
       " View project at <a href='https://wandb.ai/dangerio/job-fake-prediction' target=\"_blank\">https://wandb.ai/dangerio/job-fake-prediction</a>"
      ],
      "text/plain": [
       "<IPython.core.display.HTML object>"
      ]
     },
     "metadata": {},
     "output_type": "display_data"
    },
    {
     "data": {
      "text/html": [
       " View run at <a href='https://wandb.ai/dangerio/job-fake-prediction/runs/c3c4830z' target=\"_blank\">https://wandb.ai/dangerio/job-fake-prediction/runs/c3c4830z</a>"
      ],
      "text/plain": [
       "<IPython.core.display.HTML object>"
      ]
     },
     "metadata": {},
     "output_type": "display_data"
    },
    {
     "name": "stderr",
     "output_type": "stream",
     "text": [
      "[INFO 03-24 21:17:44] ax.service.utils.instantiation: Inferred value type of ParameterType.FLOAT for parameter learning_rate. If that is not the expected value type, you can explicitly specify 'value_type' ('int', 'float', 'bool' or 'str') in parameter dict.\n",
      "[INFO 03-24 21:17:44] ax.service.utils.instantiation: Inferred value type of ParameterType.STRING for parameter auto_class_weights. If that is not the expected value type, you can explicitly specify 'value_type' ('int', 'float', 'bool' or 'str') in parameter dict.\n",
      "/home/aksenovan/my_env/lib/python3.10/site-packages/ax/service/utils/instantiation.py:258: AxParameterWarning: `is_ordered` is not specified for `ChoiceParameter` \"auto_class_weights\". Defaulting to `True`  since there are exactly two choices.. To override this behavior (or avoid this warning), specify `is_ordered` during `ChoiceParameter` construction. Note that choice parameters with exactly 2 choices are always considered ordered and that the user-supplied `is_ordered` has no effect in this particular case.\n",
      "  return ChoiceParameter(\n",
      "/home/aksenovan/my_env/lib/python3.10/site-packages/ax/service/utils/instantiation.py:258: AxParameterWarning: `sort_values` is not specified for `ChoiceParameter` \"auto_class_weights\". Defaulting to `False` for parameters of `ParameterType` STRING. To override this behavior (or avoid this warning), specify `sort_values` during `ChoiceParameter` construction.\n",
      "  return ChoiceParameter(\n",
      "[INFO 03-24 21:17:44] ax.service.utils.instantiation: Created search space: SearchSpace(parameters=[RangeParameter(name='iterations', parameter_type=INT, range=[50, 250]), RangeParameter(name='learning_rate', parameter_type=FLOAT, range=[0.001, 0.2], log_scale=True), RangeParameter(name='depth', parameter_type=INT, range=[4, 12]), RangeParameter(name='l2_leaf_reg', parameter_type=FLOAT, range=[0.01, 10.0], log_scale=True), ChoiceParameter(name='auto_class_weights', parameter_type=STRING, values=['Balanced', 'SqrtBalanced'], is_ordered=True, sort_values=False)], parameter_constraints=[]).\n",
      "[INFO 03-24 21:17:44] ax.modelbridge.dispatch_utils: Using Models.BOTORCH_MODULAR since there is at least one ordered parameter and there are no unordered categorical parameters.\n",
      "[INFO 03-24 21:17:44] ax.modelbridge.dispatch_utils: Calculating the number of remaining initialization trials based on num_initialization_trials=None max_initialization_trials=None num_tunable_parameters=5 num_trials=None use_batch_trials=False\n",
      "[INFO 03-24 21:17:44] ax.modelbridge.dispatch_utils: calculated num_initialization_trials=10\n",
      "[INFO 03-24 21:17:44] ax.modelbridge.dispatch_utils: num_completed_initialization_trials=0 num_remaining_initialization_trials=10\n",
      "[INFO 03-24 21:17:44] ax.modelbridge.dispatch_utils: `verbose`, `disable_progbar`, and `jit_compile` are not yet supported when using `choose_generation_strategy` with ModularBoTorchModel, dropping these arguments.\n",
      "[INFO 03-24 21:17:44] ax.modelbridge.dispatch_utils: Using Bayesian Optimization generation strategy: GenerationStrategy(name='Sobol+BoTorch', steps=[Sobol for 10 trials, BoTorch for subsequent trials]). Iterations after 10 will take longer to generate due to model-fitting.\n",
      "[INFO 03-24 21:17:44] ax.service.managed_loop: Started full optimization with 15 steps.\n",
      "[INFO 03-24 21:17:44] ax.service.managed_loop: Running optimization trial 1...\n",
      "/home/aksenovan/my_env/lib/python3.10/site-packages/ax/modelbridge/cross_validation.py:439: UserWarning: Encountered exception in computing model fit quality: RandomModelBridge does not support prediction.\n",
      "  warn(\"Encountered exception in computing model fit quality: \" + str(e))\n",
      "[INFO 03-24 21:19:23] ax.service.managed_loop: Running optimization trial 2...\n",
      "/home/aksenovan/my_env/lib/python3.10/site-packages/ax/modelbridge/cross_validation.py:439: UserWarning: Encountered exception in computing model fit quality: RandomModelBridge does not support prediction.\n",
      "  warn(\"Encountered exception in computing model fit quality: \" + str(e))\n",
      "[INFO 03-24 21:20:47] ax.service.managed_loop: Running optimization trial 3...\n",
      "/home/aksenovan/my_env/lib/python3.10/site-packages/ax/modelbridge/cross_validation.py:439: UserWarning: Encountered exception in computing model fit quality: RandomModelBridge does not support prediction.\n",
      "  warn(\"Encountered exception in computing model fit quality: \" + str(e))\n",
      "[INFO 03-24 21:21:15] ax.service.managed_loop: Running optimization trial 4...\n",
      "/home/aksenovan/my_env/lib/python3.10/site-packages/ax/modelbridge/cross_validation.py:439: UserWarning: Encountered exception in computing model fit quality: RandomModelBridge does not support prediction.\n",
      "  warn(\"Encountered exception in computing model fit quality: \" + str(e))\n",
      "[INFO 03-24 21:30:22] ax.service.managed_loop: Running optimization trial 5...\n",
      "/home/aksenovan/my_env/lib/python3.10/site-packages/ax/modelbridge/cross_validation.py:439: UserWarning: Encountered exception in computing model fit quality: RandomModelBridge does not support prediction.\n",
      "  warn(\"Encountered exception in computing model fit quality: \" + str(e))\n",
      "[INFO 03-24 21:34:23] ax.service.managed_loop: Running optimization trial 6...\n",
      "/home/aksenovan/my_env/lib/python3.10/site-packages/ax/modelbridge/cross_validation.py:439: UserWarning: Encountered exception in computing model fit quality: RandomModelBridge does not support prediction.\n",
      "  warn(\"Encountered exception in computing model fit quality: \" + str(e))\n",
      "[INFO 03-24 21:35:13] ax.service.managed_loop: Running optimization trial 7...\n",
      "/home/aksenovan/my_env/lib/python3.10/site-packages/ax/modelbridge/cross_validation.py:439: UserWarning: Encountered exception in computing model fit quality: RandomModelBridge does not support prediction.\n",
      "  warn(\"Encountered exception in computing model fit quality: \" + str(e))\n",
      "[INFO 03-24 21:37:26] ax.service.managed_loop: Running optimization trial 8...\n",
      "/home/aksenovan/my_env/lib/python3.10/site-packages/ax/modelbridge/cross_validation.py:439: UserWarning: Encountered exception in computing model fit quality: RandomModelBridge does not support prediction.\n",
      "  warn(\"Encountered exception in computing model fit quality: \" + str(e))\n",
      "[INFO 03-24 21:38:01] ax.service.managed_loop: Running optimization trial 9...\n",
      "/home/aksenovan/my_env/lib/python3.10/site-packages/ax/modelbridge/cross_validation.py:439: UserWarning: Encountered exception in computing model fit quality: RandomModelBridge does not support prediction.\n",
      "  warn(\"Encountered exception in computing model fit quality: \" + str(e))\n",
      "[INFO 03-24 21:44:44] ax.service.managed_loop: Running optimization trial 10...\n",
      "/home/aksenovan/my_env/lib/python3.10/site-packages/ax/modelbridge/cross_validation.py:439: UserWarning: Encountered exception in computing model fit quality: RandomModelBridge does not support prediction.\n",
      "  warn(\"Encountered exception in computing model fit quality: \" + str(e))\n",
      "[INFO 03-24 21:44:53] ax.service.managed_loop: Running optimization trial 11...\n",
      "/home/aksenovan/my_env/lib/python3.10/site-packages/botorch/optim/optimize_mixed.py:702: OptimizationWarning: Failed to initialize using continuous relaxation. Using `sample_feasible_points` for initialization. Original error message: '0.30314123598059967'\n",
      "  best_X, best_acq_val = generate_starting_points(\n",
      "/usr/lib/python3.10/dataclasses.py:1453: RuntimeWarning: If using a 2-dim `batch_initial_conditions` botorch will default to old behavior of ignoring `num_restarts` and just use the given `batch_initial_conditions` by setting `raw_samples` to None.\n",
      "  return obj.__class__(**changes)\n",
      "/usr/lib/python3.10/dataclasses.py:1453: RuntimeWarning: If using a 2-dim `batch_initial_conditions` botorch will default to old behavior of ignoring `num_restarts` and just use the given `batch_initial_conditions` by setting `raw_samples` to None.\n",
      "  return obj.__class__(**changes)\n",
      "/usr/lib/python3.10/dataclasses.py:1453: RuntimeWarning: If using a 2-dim `batch_initial_conditions` botorch will default to old behavior of ignoring `num_restarts` and just use the given `batch_initial_conditions` by setting `raw_samples` to None.\n",
      "  return obj.__class__(**changes)\n",
      "/usr/lib/python3.10/dataclasses.py:1453: RuntimeWarning: If using a 2-dim `batch_initial_conditions` botorch will default to old behavior of ignoring `num_restarts` and just use the given `batch_initial_conditions` by setting `raw_samples` to None.\n",
      "  return obj.__class__(**changes)\n",
      "/usr/lib/python3.10/dataclasses.py:1453: RuntimeWarning: If using a 2-dim `batch_initial_conditions` botorch will default to old behavior of ignoring `num_restarts` and just use the given `batch_initial_conditions` by setting `raw_samples` to None.\n",
      "  return obj.__class__(**changes)\n",
      "/usr/lib/python3.10/dataclasses.py:1453: RuntimeWarning: If using a 2-dim `batch_initial_conditions` botorch will default to old behavior of ignoring `num_restarts` and just use the given `batch_initial_conditions` by setting `raw_samples` to None.\n",
      "  return obj.__class__(**changes)\n",
      "/usr/lib/python3.10/dataclasses.py:1453: RuntimeWarning: If using a 2-dim `batch_initial_conditions` botorch will default to old behavior of ignoring `num_restarts` and just use the given `batch_initial_conditions` by setting `raw_samples` to None.\n",
      "  return obj.__class__(**changes)\n",
      "/usr/lib/python3.10/dataclasses.py:1453: RuntimeWarning: If using a 2-dim `batch_initial_conditions` botorch will default to old behavior of ignoring `num_restarts` and just use the given `batch_initial_conditions` by setting `raw_samples` to None.\n",
      "  return obj.__class__(**changes)\n",
      "/usr/lib/python3.10/dataclasses.py:1453: RuntimeWarning: If using a 2-dim `batch_initial_conditions` botorch will default to old behavior of ignoring `num_restarts` and just use the given `batch_initial_conditions` by setting `raw_samples` to None.\n",
      "  return obj.__class__(**changes)\n",
      "/usr/lib/python3.10/dataclasses.py:1453: RuntimeWarning: If using a 2-dim `batch_initial_conditions` botorch will default to old behavior of ignoring `num_restarts` and just use the given `batch_initial_conditions` by setting `raw_samples` to None.\n",
      "  return obj.__class__(**changes)\n",
      "/usr/lib/python3.10/dataclasses.py:1453: RuntimeWarning: If using a 2-dim `batch_initial_conditions` botorch will default to old behavior of ignoring `num_restarts` and just use the given `batch_initial_conditions` by setting `raw_samples` to None.\n",
      "  return obj.__class__(**changes)\n",
      "/usr/lib/python3.10/dataclasses.py:1453: RuntimeWarning: If using a 2-dim `batch_initial_conditions` botorch will default to old behavior of ignoring `num_restarts` and just use the given `batch_initial_conditions` by setting `raw_samples` to None.\n",
      "  return obj.__class__(**changes)\n",
      "/usr/lib/python3.10/dataclasses.py:1453: RuntimeWarning: If using a 2-dim `batch_initial_conditions` botorch will default to old behavior of ignoring `num_restarts` and just use the given `batch_initial_conditions` by setting `raw_samples` to None.\n",
      "  return obj.__class__(**changes)\n",
      "/usr/lib/python3.10/dataclasses.py:1453: RuntimeWarning: If using a 2-dim `batch_initial_conditions` botorch will default to old behavior of ignoring `num_restarts` and just use the given `batch_initial_conditions` by setting `raw_samples` to None.\n",
      "  return obj.__class__(**changes)\n",
      "/usr/lib/python3.10/dataclasses.py:1453: RuntimeWarning: If using a 2-dim `batch_initial_conditions` botorch will default to old behavior of ignoring `num_restarts` and just use the given `batch_initial_conditions` by setting `raw_samples` to None.\n",
      "  return obj.__class__(**changes)\n",
      "/usr/lib/python3.10/dataclasses.py:1453: RuntimeWarning: If using a 2-dim `batch_initial_conditions` botorch will default to old behavior of ignoring `num_restarts` and just use the given `batch_initial_conditions` by setting `raw_samples` to None.\n",
      "  return obj.__class__(**changes)\n",
      "/usr/lib/python3.10/dataclasses.py:1453: RuntimeWarning: If using a 2-dim `batch_initial_conditions` botorch will default to old behavior of ignoring `num_restarts` and just use the given `batch_initial_conditions` by setting `raw_samples` to None.\n",
      "  return obj.__class__(**changes)\n",
      "/usr/lib/python3.10/dataclasses.py:1453: RuntimeWarning: If using a 2-dim `batch_initial_conditions` botorch will default to old behavior of ignoring `num_restarts` and just use the given `batch_initial_conditions` by setting `raw_samples` to None.\n",
      "  return obj.__class__(**changes)\n",
      "/usr/lib/python3.10/dataclasses.py:1453: RuntimeWarning: If using a 2-dim `batch_initial_conditions` botorch will default to old behavior of ignoring `num_restarts` and just use the given `batch_initial_conditions` by setting `raw_samples` to None.\n",
      "  return obj.__class__(**changes)\n",
      "/usr/lib/python3.10/dataclasses.py:1453: RuntimeWarning: If using a 2-dim `batch_initial_conditions` botorch will default to old behavior of ignoring `num_restarts` and just use the given `batch_initial_conditions` by setting `raw_samples` to None.\n",
      "  return obj.__class__(**changes)\n",
      "/usr/lib/python3.10/dataclasses.py:1453: RuntimeWarning: If using a 2-dim `batch_initial_conditions` botorch will default to old behavior of ignoring `num_restarts` and just use the given `batch_initial_conditions` by setting `raw_samples` to None.\n",
      "  return obj.__class__(**changes)\n",
      "/usr/lib/python3.10/dataclasses.py:1453: RuntimeWarning: If using a 2-dim `batch_initial_conditions` botorch will default to old behavior of ignoring `num_restarts` and just use the given `batch_initial_conditions` by setting `raw_samples` to None.\n",
      "  return obj.__class__(**changes)\n",
      "/usr/lib/python3.10/dataclasses.py:1453: RuntimeWarning: If using a 2-dim `batch_initial_conditions` botorch will default to old behavior of ignoring `num_restarts` and just use the given `batch_initial_conditions` by setting `raw_samples` to None.\n",
      "  return obj.__class__(**changes)\n",
      "/usr/lib/python3.10/dataclasses.py:1453: RuntimeWarning: If using a 2-dim `batch_initial_conditions` botorch will default to old behavior of ignoring `num_restarts` and just use the given `batch_initial_conditions` by setting `raw_samples` to None.\n",
      "  return obj.__class__(**changes)\n",
      "/usr/lib/python3.10/dataclasses.py:1453: RuntimeWarning: If using a 2-dim `batch_initial_conditions` botorch will default to old behavior of ignoring `num_restarts` and just use the given `batch_initial_conditions` by setting `raw_samples` to None.\n",
      "  return obj.__class__(**changes)\n",
      "/usr/lib/python3.10/dataclasses.py:1453: RuntimeWarning: If using a 2-dim `batch_initial_conditions` botorch will default to old behavior of ignoring `num_restarts` and just use the given `batch_initial_conditions` by setting `raw_samples` to None.\n",
      "  return obj.__class__(**changes)\n",
      "/usr/lib/python3.10/dataclasses.py:1453: RuntimeWarning: If using a 2-dim `batch_initial_conditions` botorch will default to old behavior of ignoring `num_restarts` and just use the given `batch_initial_conditions` by setting `raw_samples` to None.\n",
      "  return obj.__class__(**changes)\n",
      "/usr/lib/python3.10/dataclasses.py:1453: RuntimeWarning: If using a 2-dim `batch_initial_conditions` botorch will default to old behavior of ignoring `num_restarts` and just use the given `batch_initial_conditions` by setting `raw_samples` to None.\n",
      "  return obj.__class__(**changes)\n",
      "/usr/lib/python3.10/dataclasses.py:1453: RuntimeWarning: If using a 2-dim `batch_initial_conditions` botorch will default to old behavior of ignoring `num_restarts` and just use the given `batch_initial_conditions` by setting `raw_samples` to None.\n",
      "  return obj.__class__(**changes)\n",
      "/usr/lib/python3.10/dataclasses.py:1453: RuntimeWarning: If using a 2-dim `batch_initial_conditions` botorch will default to old behavior of ignoring `num_restarts` and just use the given `batch_initial_conditions` by setting `raw_samples` to None.\n",
      "  return obj.__class__(**changes)\n",
      "/usr/lib/python3.10/dataclasses.py:1453: RuntimeWarning: If using a 2-dim `batch_initial_conditions` botorch will default to old behavior of ignoring `num_restarts` and just use the given `batch_initial_conditions` by setting `raw_samples` to None.\n",
      "  return obj.__class__(**changes)\n",
      "/usr/lib/python3.10/dataclasses.py:1453: RuntimeWarning: If using a 2-dim `batch_initial_conditions` botorch will default to old behavior of ignoring `num_restarts` and just use the given `batch_initial_conditions` by setting `raw_samples` to None.\n",
      "  return obj.__class__(**changes)\n",
      "/usr/lib/python3.10/dataclasses.py:1453: RuntimeWarning: If using a 2-dim `batch_initial_conditions` botorch will default to old behavior of ignoring `num_restarts` and just use the given `batch_initial_conditions` by setting `raw_samples` to None.\n",
      "  return obj.__class__(**changes)\n",
      "/usr/lib/python3.10/dataclasses.py:1453: RuntimeWarning: If using a 2-dim `batch_initial_conditions` botorch will default to old behavior of ignoring `num_restarts` and just use the given `batch_initial_conditions` by setting `raw_samples` to None.\n",
      "  return obj.__class__(**changes)\n",
      "/usr/lib/python3.10/dataclasses.py:1453: RuntimeWarning: If using a 2-dim `batch_initial_conditions` botorch will default to old behavior of ignoring `num_restarts` and just use the given `batch_initial_conditions` by setting `raw_samples` to None.\n",
      "  return obj.__class__(**changes)\n",
      "/usr/lib/python3.10/dataclasses.py:1453: RuntimeWarning: If using a 2-dim `batch_initial_conditions` botorch will default to old behavior of ignoring `num_restarts` and just use the given `batch_initial_conditions` by setting `raw_samples` to None.\n",
      "  return obj.__class__(**changes)\n",
      "/usr/lib/python3.10/dataclasses.py:1453: RuntimeWarning: If using a 2-dim `batch_initial_conditions` botorch will default to old behavior of ignoring `num_restarts` and just use the given `batch_initial_conditions` by setting `raw_samples` to None.\n",
      "  return obj.__class__(**changes)\n",
      "/usr/lib/python3.10/dataclasses.py:1453: RuntimeWarning: If using a 2-dim `batch_initial_conditions` botorch will default to old behavior of ignoring `num_restarts` and just use the given `batch_initial_conditions` by setting `raw_samples` to None.\n",
      "  return obj.__class__(**changes)\n",
      "/usr/lib/python3.10/dataclasses.py:1453: RuntimeWarning: If using a 2-dim `batch_initial_conditions` botorch will default to old behavior of ignoring `num_restarts` and just use the given `batch_initial_conditions` by setting `raw_samples` to None.\n",
      "  return obj.__class__(**changes)\n",
      "/usr/lib/python3.10/dataclasses.py:1453: RuntimeWarning: If using a 2-dim `batch_initial_conditions` botorch will default to old behavior of ignoring `num_restarts` and just use the given `batch_initial_conditions` by setting `raw_samples` to None.\n",
      "  return obj.__class__(**changes)\n",
      "/usr/lib/python3.10/dataclasses.py:1453: RuntimeWarning: If using a 2-dim `batch_initial_conditions` botorch will default to old behavior of ignoring `num_restarts` and just use the given `batch_initial_conditions` by setting `raw_samples` to None.\n",
      "  return obj.__class__(**changes)\n",
      "/usr/lib/python3.10/dataclasses.py:1453: RuntimeWarning: If using a 2-dim `batch_initial_conditions` botorch will default to old behavior of ignoring `num_restarts` and just use the given `batch_initial_conditions` by setting `raw_samples` to None.\n",
      "  return obj.__class__(**changes)\n",
      "/usr/lib/python3.10/dataclasses.py:1453: RuntimeWarning: If using a 2-dim `batch_initial_conditions` botorch will default to old behavior of ignoring `num_restarts` and just use the given `batch_initial_conditions` by setting `raw_samples` to None.\n",
      "  return obj.__class__(**changes)\n",
      "/usr/lib/python3.10/dataclasses.py:1453: RuntimeWarning: If using a 2-dim `batch_initial_conditions` botorch will default to old behavior of ignoring `num_restarts` and just use the given `batch_initial_conditions` by setting `raw_samples` to None.\n",
      "  return obj.__class__(**changes)\n",
      "/usr/lib/python3.10/dataclasses.py:1453: RuntimeWarning: If using a 2-dim `batch_initial_conditions` botorch will default to old behavior of ignoring `num_restarts` and just use the given `batch_initial_conditions` by setting `raw_samples` to None.\n",
      "  return obj.__class__(**changes)\n",
      "/usr/lib/python3.10/dataclasses.py:1453: RuntimeWarning: If using a 2-dim `batch_initial_conditions` botorch will default to old behavior of ignoring `num_restarts` and just use the given `batch_initial_conditions` by setting `raw_samples` to None.\n",
      "  return obj.__class__(**changes)\n",
      "/usr/lib/python3.10/dataclasses.py:1453: RuntimeWarning: If using a 2-dim `batch_initial_conditions` botorch will default to old behavior of ignoring `num_restarts` and just use the given `batch_initial_conditions` by setting `raw_samples` to None.\n",
      "  return obj.__class__(**changes)\n",
      "/usr/lib/python3.10/dataclasses.py:1453: RuntimeWarning: If using a 2-dim `batch_initial_conditions` botorch will default to old behavior of ignoring `num_restarts` and just use the given `batch_initial_conditions` by setting `raw_samples` to None.\n",
      "  return obj.__class__(**changes)\n",
      "/usr/lib/python3.10/dataclasses.py:1453: RuntimeWarning: If using a 2-dim `batch_initial_conditions` botorch will default to old behavior of ignoring `num_restarts` and just use the given `batch_initial_conditions` by setting `raw_samples` to None.\n",
      "  return obj.__class__(**changes)\n",
      "/usr/lib/python3.10/dataclasses.py:1453: RuntimeWarning: If using a 2-dim `batch_initial_conditions` botorch will default to old behavior of ignoring `num_restarts` and just use the given `batch_initial_conditions` by setting `raw_samples` to None.\n",
      "  return obj.__class__(**changes)\n",
      "/usr/lib/python3.10/dataclasses.py:1453: RuntimeWarning: If using a 2-dim `batch_initial_conditions` botorch will default to old behavior of ignoring `num_restarts` and just use the given `batch_initial_conditions` by setting `raw_samples` to None.\n",
      "  return obj.__class__(**changes)\n",
      "/usr/lib/python3.10/dataclasses.py:1453: RuntimeWarning: If using a 2-dim `batch_initial_conditions` botorch will default to old behavior of ignoring `num_restarts` and just use the given `batch_initial_conditions` by setting `raw_samples` to None.\n",
      "  return obj.__class__(**changes)\n",
      "/usr/lib/python3.10/dataclasses.py:1453: RuntimeWarning: If using a 2-dim `batch_initial_conditions` botorch will default to old behavior of ignoring `num_restarts` and just use the given `batch_initial_conditions` by setting `raw_samples` to None.\n",
      "  return obj.__class__(**changes)\n",
      "/usr/lib/python3.10/dataclasses.py:1453: RuntimeWarning: If using a 2-dim `batch_initial_conditions` botorch will default to old behavior of ignoring `num_restarts` and just use the given `batch_initial_conditions` by setting `raw_samples` to None.\n",
      "  return obj.__class__(**changes)\n",
      "/usr/lib/python3.10/dataclasses.py:1453: RuntimeWarning: If using a 2-dim `batch_initial_conditions` botorch will default to old behavior of ignoring `num_restarts` and just use the given `batch_initial_conditions` by setting `raw_samples` to None.\n",
      "  return obj.__class__(**changes)\n",
      "/usr/lib/python3.10/dataclasses.py:1453: RuntimeWarning: If using a 2-dim `batch_initial_conditions` botorch will default to old behavior of ignoring `num_restarts` and just use the given `batch_initial_conditions` by setting `raw_samples` to None.\n",
      "  return obj.__class__(**changes)\n",
      "/usr/lib/python3.10/dataclasses.py:1453: RuntimeWarning: If using a 2-dim `batch_initial_conditions` botorch will default to old behavior of ignoring `num_restarts` and just use the given `batch_initial_conditions` by setting `raw_samples` to None.\n",
      "  return obj.__class__(**changes)\n",
      "/usr/lib/python3.10/dataclasses.py:1453: RuntimeWarning: If using a 2-dim `batch_initial_conditions` botorch will default to old behavior of ignoring `num_restarts` and just use the given `batch_initial_conditions` by setting `raw_samples` to None.\n",
      "  return obj.__class__(**changes)\n",
      "/usr/lib/python3.10/dataclasses.py:1453: RuntimeWarning: If using a 2-dim `batch_initial_conditions` botorch will default to old behavior of ignoring `num_restarts` and just use the given `batch_initial_conditions` by setting `raw_samples` to None.\n",
      "  return obj.__class__(**changes)\n",
      "/usr/lib/python3.10/dataclasses.py:1453: RuntimeWarning: If using a 2-dim `batch_initial_conditions` botorch will default to old behavior of ignoring `num_restarts` and just use the given `batch_initial_conditions` by setting `raw_samples` to None.\n",
      "  return obj.__class__(**changes)\n",
      "/usr/lib/python3.10/dataclasses.py:1453: RuntimeWarning: If using a 2-dim `batch_initial_conditions` botorch will default to old behavior of ignoring `num_restarts` and just use the given `batch_initial_conditions` by setting `raw_samples` to None.\n",
      "  return obj.__class__(**changes)\n",
      "/usr/lib/python3.10/dataclasses.py:1453: RuntimeWarning: If using a 2-dim `batch_initial_conditions` botorch will default to old behavior of ignoring `num_restarts` and just use the given `batch_initial_conditions` by setting `raw_samples` to None.\n",
      "  return obj.__class__(**changes)\n",
      "/usr/lib/python3.10/dataclasses.py:1453: RuntimeWarning: If using a 2-dim `batch_initial_conditions` botorch will default to old behavior of ignoring `num_restarts` and just use the given `batch_initial_conditions` by setting `raw_samples` to None.\n",
      "  return obj.__class__(**changes)\n",
      "/usr/lib/python3.10/dataclasses.py:1453: RuntimeWarning: If using a 2-dim `batch_initial_conditions` botorch will default to old behavior of ignoring `num_restarts` and just use the given `batch_initial_conditions` by setting `raw_samples` to None.\n",
      "  return obj.__class__(**changes)\n",
      "/usr/lib/python3.10/dataclasses.py:1453: RuntimeWarning: If using a 2-dim `batch_initial_conditions` botorch will default to old behavior of ignoring `num_restarts` and just use the given `batch_initial_conditions` by setting `raw_samples` to None.\n",
      "  return obj.__class__(**changes)\n",
      "/usr/lib/python3.10/dataclasses.py:1453: RuntimeWarning: If using a 2-dim `batch_initial_conditions` botorch will default to old behavior of ignoring `num_restarts` and just use the given `batch_initial_conditions` by setting `raw_samples` to None.\n",
      "  return obj.__class__(**changes)\n",
      "/usr/lib/python3.10/dataclasses.py:1453: RuntimeWarning: If using a 2-dim `batch_initial_conditions` botorch will default to old behavior of ignoring `num_restarts` and just use the given `batch_initial_conditions` by setting `raw_samples` to None.\n",
      "  return obj.__class__(**changes)\n",
      "/usr/lib/python3.10/dataclasses.py:1453: RuntimeWarning: If using a 2-dim `batch_initial_conditions` botorch will default to old behavior of ignoring `num_restarts` and just use the given `batch_initial_conditions` by setting `raw_samples` to None.\n",
      "  return obj.__class__(**changes)\n",
      "/usr/lib/python3.10/dataclasses.py:1453: RuntimeWarning: If using a 2-dim `batch_initial_conditions` botorch will default to old behavior of ignoring `num_restarts` and just use the given `batch_initial_conditions` by setting `raw_samples` to None.\n",
      "  return obj.__class__(**changes)\n",
      "/usr/lib/python3.10/dataclasses.py:1453: RuntimeWarning: If using a 2-dim `batch_initial_conditions` botorch will default to old behavior of ignoring `num_restarts` and just use the given `batch_initial_conditions` by setting `raw_samples` to None.\n",
      "  return obj.__class__(**changes)\n",
      "/usr/lib/python3.10/dataclasses.py:1453: RuntimeWarning: If using a 2-dim `batch_initial_conditions` botorch will default to old behavior of ignoring `num_restarts` and just use the given `batch_initial_conditions` by setting `raw_samples` to None.\n",
      "  return obj.__class__(**changes)\n",
      "/usr/lib/python3.10/dataclasses.py:1453: RuntimeWarning: If using a 2-dim `batch_initial_conditions` botorch will default to old behavior of ignoring `num_restarts` and just use the given `batch_initial_conditions` by setting `raw_samples` to None.\n",
      "  return obj.__class__(**changes)\n",
      "/usr/lib/python3.10/dataclasses.py:1453: RuntimeWarning: If using a 2-dim `batch_initial_conditions` botorch will default to old behavior of ignoring `num_restarts` and just use the given `batch_initial_conditions` by setting `raw_samples` to None.\n",
      "  return obj.__class__(**changes)\n",
      "/usr/lib/python3.10/dataclasses.py:1453: RuntimeWarning: If using a 2-dim `batch_initial_conditions` botorch will default to old behavior of ignoring `num_restarts` and just use the given `batch_initial_conditions` by setting `raw_samples` to None.\n",
      "  return obj.__class__(**changes)\n",
      "/usr/lib/python3.10/dataclasses.py:1453: RuntimeWarning: If using a 2-dim `batch_initial_conditions` botorch will default to old behavior of ignoring `num_restarts` and just use the given `batch_initial_conditions` by setting `raw_samples` to None.\n",
      "  return obj.__class__(**changes)\n",
      "/usr/lib/python3.10/dataclasses.py:1453: RuntimeWarning: If using a 2-dim `batch_initial_conditions` botorch will default to old behavior of ignoring `num_restarts` and just use the given `batch_initial_conditions` by setting `raw_samples` to None.\n",
      "  return obj.__class__(**changes)\n",
      "/usr/lib/python3.10/dataclasses.py:1453: RuntimeWarning: If using a 2-dim `batch_initial_conditions` botorch will default to old behavior of ignoring `num_restarts` and just use the given `batch_initial_conditions` by setting `raw_samples` to None.\n",
      "  return obj.__class__(**changes)\n",
      "/usr/lib/python3.10/dataclasses.py:1453: RuntimeWarning: If using a 2-dim `batch_initial_conditions` botorch will default to old behavior of ignoring `num_restarts` and just use the given `batch_initial_conditions` by setting `raw_samples` to None.\n",
      "  return obj.__class__(**changes)\n",
      "/usr/lib/python3.10/dataclasses.py:1453: RuntimeWarning: If using a 2-dim `batch_initial_conditions` botorch will default to old behavior of ignoring `num_restarts` and just use the given `batch_initial_conditions` by setting `raw_samples` to None.\n",
      "  return obj.__class__(**changes)\n",
      "/usr/lib/python3.10/dataclasses.py:1453: RuntimeWarning: If using a 2-dim `batch_initial_conditions` botorch will default to old behavior of ignoring `num_restarts` and just use the given `batch_initial_conditions` by setting `raw_samples` to None.\n",
      "  return obj.__class__(**changes)\n",
      "/usr/lib/python3.10/dataclasses.py:1453: RuntimeWarning: If using a 2-dim `batch_initial_conditions` botorch will default to old behavior of ignoring `num_restarts` and just use the given `batch_initial_conditions` by setting `raw_samples` to None.\n",
      "  return obj.__class__(**changes)\n",
      "/usr/lib/python3.10/dataclasses.py:1453: RuntimeWarning: If using a 2-dim `batch_initial_conditions` botorch will default to old behavior of ignoring `num_restarts` and just use the given `batch_initial_conditions` by setting `raw_samples` to None.\n",
      "  return obj.__class__(**changes)\n",
      "/usr/lib/python3.10/dataclasses.py:1453: RuntimeWarning: If using a 2-dim `batch_initial_conditions` botorch will default to old behavior of ignoring `num_restarts` and just use the given `batch_initial_conditions` by setting `raw_samples` to None.\n",
      "  return obj.__class__(**changes)\n",
      "/usr/lib/python3.10/dataclasses.py:1453: RuntimeWarning: If using a 2-dim `batch_initial_conditions` botorch will default to old behavior of ignoring `num_restarts` and just use the given `batch_initial_conditions` by setting `raw_samples` to None.\n",
      "  return obj.__class__(**changes)\n",
      "/usr/lib/python3.10/dataclasses.py:1453: RuntimeWarning: If using a 2-dim `batch_initial_conditions` botorch will default to old behavior of ignoring `num_restarts` and just use the given `batch_initial_conditions` by setting `raw_samples` to None.\n",
      "  return obj.__class__(**changes)\n",
      "/usr/lib/python3.10/dataclasses.py:1453: RuntimeWarning: If using a 2-dim `batch_initial_conditions` botorch will default to old behavior of ignoring `num_restarts` and just use the given `batch_initial_conditions` by setting `raw_samples` to None.\n",
      "  return obj.__class__(**changes)\n",
      "/usr/lib/python3.10/dataclasses.py:1453: RuntimeWarning: If using a 2-dim `batch_initial_conditions` botorch will default to old behavior of ignoring `num_restarts` and just use the given `batch_initial_conditions` by setting `raw_samples` to None.\n",
      "  return obj.__class__(**changes)\n",
      "/usr/lib/python3.10/dataclasses.py:1453: RuntimeWarning: If using a 2-dim `batch_initial_conditions` botorch will default to old behavior of ignoring `num_restarts` and just use the given `batch_initial_conditions` by setting `raw_samples` to None.\n",
      "  return obj.__class__(**changes)\n",
      "/usr/lib/python3.10/dataclasses.py:1453: RuntimeWarning: If using a 2-dim `batch_initial_conditions` botorch will default to old behavior of ignoring `num_restarts` and just use the given `batch_initial_conditions` by setting `raw_samples` to None.\n",
      "  return obj.__class__(**changes)\n",
      "/usr/lib/python3.10/dataclasses.py:1453: RuntimeWarning: If using a 2-dim `batch_initial_conditions` botorch will default to old behavior of ignoring `num_restarts` and just use the given `batch_initial_conditions` by setting `raw_samples` to None.\n",
      "  return obj.__class__(**changes)\n",
      "/usr/lib/python3.10/dataclasses.py:1453: RuntimeWarning: If using a 2-dim `batch_initial_conditions` botorch will default to old behavior of ignoring `num_restarts` and just use the given `batch_initial_conditions` by setting `raw_samples` to None.\n",
      "  return obj.__class__(**changes)\n",
      "/usr/lib/python3.10/dataclasses.py:1453: RuntimeWarning: If using a 2-dim `batch_initial_conditions` botorch will default to old behavior of ignoring `num_restarts` and just use the given `batch_initial_conditions` by setting `raw_samples` to None.\n",
      "  return obj.__class__(**changes)\n",
      "/usr/lib/python3.10/dataclasses.py:1453: RuntimeWarning: If using a 2-dim `batch_initial_conditions` botorch will default to old behavior of ignoring `num_restarts` and just use the given `batch_initial_conditions` by setting `raw_samples` to None.\n",
      "  return obj.__class__(**changes)\n",
      "/usr/lib/python3.10/dataclasses.py:1453: RuntimeWarning: If using a 2-dim `batch_initial_conditions` botorch will default to old behavior of ignoring `num_restarts` and just use the given `batch_initial_conditions` by setting `raw_samples` to None.\n",
      "  return obj.__class__(**changes)\n",
      "/usr/lib/python3.10/dataclasses.py:1453: RuntimeWarning: If using a 2-dim `batch_initial_conditions` botorch will default to old behavior of ignoring `num_restarts` and just use the given `batch_initial_conditions` by setting `raw_samples` to None.\n",
      "  return obj.__class__(**changes)\n",
      "/usr/lib/python3.10/dataclasses.py:1453: RuntimeWarning: If using a 2-dim `batch_initial_conditions` botorch will default to old behavior of ignoring `num_restarts` and just use the given `batch_initial_conditions` by setting `raw_samples` to None.\n",
      "  return obj.__class__(**changes)\n",
      "/usr/lib/python3.10/dataclasses.py:1453: RuntimeWarning: If using a 2-dim `batch_initial_conditions` botorch will default to old behavior of ignoring `num_restarts` and just use the given `batch_initial_conditions` by setting `raw_samples` to None.\n",
      "  return obj.__class__(**changes)\n",
      "/usr/lib/python3.10/dataclasses.py:1453: RuntimeWarning: If using a 2-dim `batch_initial_conditions` botorch will default to old behavior of ignoring `num_restarts` and just use the given `batch_initial_conditions` by setting `raw_samples` to None.\n",
      "  return obj.__class__(**changes)\n",
      "/usr/lib/python3.10/dataclasses.py:1453: RuntimeWarning: If using a 2-dim `batch_initial_conditions` botorch will default to old behavior of ignoring `num_restarts` and just use the given `batch_initial_conditions` by setting `raw_samples` to None.\n",
      "  return obj.__class__(**changes)\n",
      "/usr/lib/python3.10/dataclasses.py:1453: RuntimeWarning: If using a 2-dim `batch_initial_conditions` botorch will default to old behavior of ignoring `num_restarts` and just use the given `batch_initial_conditions` by setting `raw_samples` to None.\n",
      "  return obj.__class__(**changes)\n",
      "/usr/lib/python3.10/dataclasses.py:1453: RuntimeWarning: If using a 2-dim `batch_initial_conditions` botorch will default to old behavior of ignoring `num_restarts` and just use the given `batch_initial_conditions` by setting `raw_samples` to None.\n",
      "  return obj.__class__(**changes)\n",
      "/usr/lib/python3.10/dataclasses.py:1453: RuntimeWarning: If using a 2-dim `batch_initial_conditions` botorch will default to old behavior of ignoring `num_restarts` and just use the given `batch_initial_conditions` by setting `raw_samples` to None.\n",
      "  return obj.__class__(**changes)\n",
      "/usr/lib/python3.10/dataclasses.py:1453: RuntimeWarning: If using a 2-dim `batch_initial_conditions` botorch will default to old behavior of ignoring `num_restarts` and just use the given `batch_initial_conditions` by setting `raw_samples` to None.\n",
      "  return obj.__class__(**changes)\n",
      "/usr/lib/python3.10/dataclasses.py:1453: RuntimeWarning: If using a 2-dim `batch_initial_conditions` botorch will default to old behavior of ignoring `num_restarts` and just use the given `batch_initial_conditions` by setting `raw_samples` to None.\n",
      "  return obj.__class__(**changes)\n",
      "/usr/lib/python3.10/dataclasses.py:1453: RuntimeWarning: If using a 2-dim `batch_initial_conditions` botorch will default to old behavior of ignoring `num_restarts` and just use the given `batch_initial_conditions` by setting `raw_samples` to None.\n",
      "  return obj.__class__(**changes)\n",
      "/usr/lib/python3.10/dataclasses.py:1453: RuntimeWarning: If using a 2-dim `batch_initial_conditions` botorch will default to old behavior of ignoring `num_restarts` and just use the given `batch_initial_conditions` by setting `raw_samples` to None.\n",
      "  return obj.__class__(**changes)\n",
      "/usr/lib/python3.10/dataclasses.py:1453: RuntimeWarning: If using a 2-dim `batch_initial_conditions` botorch will default to old behavior of ignoring `num_restarts` and just use the given `batch_initial_conditions` by setting `raw_samples` to None.\n",
      "  return obj.__class__(**changes)\n",
      "/usr/lib/python3.10/dataclasses.py:1453: RuntimeWarning: If using a 2-dim `batch_initial_conditions` botorch will default to old behavior of ignoring `num_restarts` and just use the given `batch_initial_conditions` by setting `raw_samples` to None.\n",
      "  return obj.__class__(**changes)\n",
      "/usr/lib/python3.10/dataclasses.py:1453: RuntimeWarning: If using a 2-dim `batch_initial_conditions` botorch will default to old behavior of ignoring `num_restarts` and just use the given `batch_initial_conditions` by setting `raw_samples` to None.\n",
      "  return obj.__class__(**changes)\n",
      "/usr/lib/python3.10/dataclasses.py:1453: RuntimeWarning: If using a 2-dim `batch_initial_conditions` botorch will default to old behavior of ignoring `num_restarts` and just use the given `batch_initial_conditions` by setting `raw_samples` to None.\n",
      "  return obj.__class__(**changes)\n",
      "/usr/lib/python3.10/dataclasses.py:1453: RuntimeWarning: If using a 2-dim `batch_initial_conditions` botorch will default to old behavior of ignoring `num_restarts` and just use the given `batch_initial_conditions` by setting `raw_samples` to None.\n",
      "  return obj.__class__(**changes)\n",
      "/usr/lib/python3.10/dataclasses.py:1453: RuntimeWarning: If using a 2-dim `batch_initial_conditions` botorch will default to old behavior of ignoring `num_restarts` and just use the given `batch_initial_conditions` by setting `raw_samples` to None.\n",
      "  return obj.__class__(**changes)\n",
      "/usr/lib/python3.10/dataclasses.py:1453: RuntimeWarning: If using a 2-dim `batch_initial_conditions` botorch will default to old behavior of ignoring `num_restarts` and just use the given `batch_initial_conditions` by setting `raw_samples` to None.\n",
      "  return obj.__class__(**changes)\n",
      "/usr/lib/python3.10/dataclasses.py:1453: RuntimeWarning: If using a 2-dim `batch_initial_conditions` botorch will default to old behavior of ignoring `num_restarts` and just use the given `batch_initial_conditions` by setting `raw_samples` to None.\n",
      "  return obj.__class__(**changes)\n",
      "/usr/lib/python3.10/dataclasses.py:1453: RuntimeWarning: If using a 2-dim `batch_initial_conditions` botorch will default to old behavior of ignoring `num_restarts` and just use the given `batch_initial_conditions` by setting `raw_samples` to None.\n",
      "  return obj.__class__(**changes)\n",
      "/usr/lib/python3.10/dataclasses.py:1453: RuntimeWarning: If using a 2-dim `batch_initial_conditions` botorch will default to old behavior of ignoring `num_restarts` and just use the given `batch_initial_conditions` by setting `raw_samples` to None.\n",
      "  return obj.__class__(**changes)\n",
      "/usr/lib/python3.10/dataclasses.py:1453: RuntimeWarning: If using a 2-dim `batch_initial_conditions` botorch will default to old behavior of ignoring `num_restarts` and just use the given `batch_initial_conditions` by setting `raw_samples` to None.\n",
      "  return obj.__class__(**changes)\n",
      "/usr/lib/python3.10/dataclasses.py:1453: RuntimeWarning: If using a 2-dim `batch_initial_conditions` botorch will default to old behavior of ignoring `num_restarts` and just use the given `batch_initial_conditions` by setting `raw_samples` to None.\n",
      "  return obj.__class__(**changes)\n",
      "[INFO 03-24 21:50:43] ax.service.managed_loop: Running optimization trial 12...\n",
      "/home/aksenovan/my_env/lib/python3.10/site-packages/botorch/optim/optimize_mixed.py:702: OptimizationWarning: Failed to initialize using continuous relaxation. Using `sample_feasible_points` for initialization. Original error message: '0.8931357412093752'\n",
      "  best_X, best_acq_val = generate_starting_points(\n",
      "/usr/lib/python3.10/dataclasses.py:1453: RuntimeWarning: If using a 2-dim `batch_initial_conditions` botorch will default to old behavior of ignoring `num_restarts` and just use the given `batch_initial_conditions` by setting `raw_samples` to None.\n",
      "  return obj.__class__(**changes)\n",
      "/usr/lib/python3.10/dataclasses.py:1453: RuntimeWarning: If using a 2-dim `batch_initial_conditions` botorch will default to old behavior of ignoring `num_restarts` and just use the given `batch_initial_conditions` by setting `raw_samples` to None.\n",
      "  return obj.__class__(**changes)\n",
      "/usr/lib/python3.10/dataclasses.py:1453: RuntimeWarning: If using a 2-dim `batch_initial_conditions` botorch will default to old behavior of ignoring `num_restarts` and just use the given `batch_initial_conditions` by setting `raw_samples` to None.\n",
      "  return obj.__class__(**changes)\n",
      "/usr/lib/python3.10/dataclasses.py:1453: RuntimeWarning: If using a 2-dim `batch_initial_conditions` botorch will default to old behavior of ignoring `num_restarts` and just use the given `batch_initial_conditions` by setting `raw_samples` to None.\n",
      "  return obj.__class__(**changes)\n",
      "/usr/lib/python3.10/dataclasses.py:1453: RuntimeWarning: If using a 2-dim `batch_initial_conditions` botorch will default to old behavior of ignoring `num_restarts` and just use the given `batch_initial_conditions` by setting `raw_samples` to None.\n",
      "  return obj.__class__(**changes)\n",
      "/usr/lib/python3.10/dataclasses.py:1453: RuntimeWarning: If using a 2-dim `batch_initial_conditions` botorch will default to old behavior of ignoring `num_restarts` and just use the given `batch_initial_conditions` by setting `raw_samples` to None.\n",
      "  return obj.__class__(**changes)\n",
      "/usr/lib/python3.10/dataclasses.py:1453: RuntimeWarning: If using a 2-dim `batch_initial_conditions` botorch will default to old behavior of ignoring `num_restarts` and just use the given `batch_initial_conditions` by setting `raw_samples` to None.\n",
      "  return obj.__class__(**changes)\n",
      "/usr/lib/python3.10/dataclasses.py:1453: RuntimeWarning: If using a 2-dim `batch_initial_conditions` botorch will default to old behavior of ignoring `num_restarts` and just use the given `batch_initial_conditions` by setting `raw_samples` to None.\n",
      "  return obj.__class__(**changes)\n",
      "/usr/lib/python3.10/dataclasses.py:1453: RuntimeWarning: If using a 2-dim `batch_initial_conditions` botorch will default to old behavior of ignoring `num_restarts` and just use the given `batch_initial_conditions` by setting `raw_samples` to None.\n",
      "  return obj.__class__(**changes)\n",
      "/usr/lib/python3.10/dataclasses.py:1453: RuntimeWarning: If using a 2-dim `batch_initial_conditions` botorch will default to old behavior of ignoring `num_restarts` and just use the given `batch_initial_conditions` by setting `raw_samples` to None.\n",
      "  return obj.__class__(**changes)\n",
      "/usr/lib/python3.10/dataclasses.py:1453: RuntimeWarning: If using a 2-dim `batch_initial_conditions` botorch will default to old behavior of ignoring `num_restarts` and just use the given `batch_initial_conditions` by setting `raw_samples` to None.\n",
      "  return obj.__class__(**changes)\n",
      "/usr/lib/python3.10/dataclasses.py:1453: RuntimeWarning: If using a 2-dim `batch_initial_conditions` botorch will default to old behavior of ignoring `num_restarts` and just use the given `batch_initial_conditions` by setting `raw_samples` to None.\n",
      "  return obj.__class__(**changes)\n",
      "/usr/lib/python3.10/dataclasses.py:1453: RuntimeWarning: If using a 2-dim `batch_initial_conditions` botorch will default to old behavior of ignoring `num_restarts` and just use the given `batch_initial_conditions` by setting `raw_samples` to None.\n",
      "  return obj.__class__(**changes)\n",
      "/usr/lib/python3.10/dataclasses.py:1453: RuntimeWarning: If using a 2-dim `batch_initial_conditions` botorch will default to old behavior of ignoring `num_restarts` and just use the given `batch_initial_conditions` by setting `raw_samples` to None.\n",
      "  return obj.__class__(**changes)\n",
      "/usr/lib/python3.10/dataclasses.py:1453: RuntimeWarning: If using a 2-dim `batch_initial_conditions` botorch will default to old behavior of ignoring `num_restarts` and just use the given `batch_initial_conditions` by setting `raw_samples` to None.\n",
      "  return obj.__class__(**changes)\n",
      "/usr/lib/python3.10/dataclasses.py:1453: RuntimeWarning: If using a 2-dim `batch_initial_conditions` botorch will default to old behavior of ignoring `num_restarts` and just use the given `batch_initial_conditions` by setting `raw_samples` to None.\n",
      "  return obj.__class__(**changes)\n",
      "/usr/lib/python3.10/dataclasses.py:1453: RuntimeWarning: If using a 2-dim `batch_initial_conditions` botorch will default to old behavior of ignoring `num_restarts` and just use the given `batch_initial_conditions` by setting `raw_samples` to None.\n",
      "  return obj.__class__(**changes)\n",
      "/usr/lib/python3.10/dataclasses.py:1453: RuntimeWarning: If using a 2-dim `batch_initial_conditions` botorch will default to old behavior of ignoring `num_restarts` and just use the given `batch_initial_conditions` by setting `raw_samples` to None.\n",
      "  return obj.__class__(**changes)\n",
      "/usr/lib/python3.10/dataclasses.py:1453: RuntimeWarning: If using a 2-dim `batch_initial_conditions` botorch will default to old behavior of ignoring `num_restarts` and just use the given `batch_initial_conditions` by setting `raw_samples` to None.\n",
      "  return obj.__class__(**changes)\n",
      "/usr/lib/python3.10/dataclasses.py:1453: RuntimeWarning: If using a 2-dim `batch_initial_conditions` botorch will default to old behavior of ignoring `num_restarts` and just use the given `batch_initial_conditions` by setting `raw_samples` to None.\n",
      "  return obj.__class__(**changes)\n",
      "/usr/lib/python3.10/dataclasses.py:1453: RuntimeWarning: If using a 2-dim `batch_initial_conditions` botorch will default to old behavior of ignoring `num_restarts` and just use the given `batch_initial_conditions` by setting `raw_samples` to None.\n",
      "  return obj.__class__(**changes)\n",
      "/usr/lib/python3.10/dataclasses.py:1453: RuntimeWarning: If using a 2-dim `batch_initial_conditions` botorch will default to old behavior of ignoring `num_restarts` and just use the given `batch_initial_conditions` by setting `raw_samples` to None.\n",
      "  return obj.__class__(**changes)\n",
      "/usr/lib/python3.10/dataclasses.py:1453: RuntimeWarning: If using a 2-dim `batch_initial_conditions` botorch will default to old behavior of ignoring `num_restarts` and just use the given `batch_initial_conditions` by setting `raw_samples` to None.\n",
      "  return obj.__class__(**changes)\n",
      "/usr/lib/python3.10/dataclasses.py:1453: RuntimeWarning: If using a 2-dim `batch_initial_conditions` botorch will default to old behavior of ignoring `num_restarts` and just use the given `batch_initial_conditions` by setting `raw_samples` to None.\n",
      "  return obj.__class__(**changes)\n",
      "/usr/lib/python3.10/dataclasses.py:1453: RuntimeWarning: If using a 2-dim `batch_initial_conditions` botorch will default to old behavior of ignoring `num_restarts` and just use the given `batch_initial_conditions` by setting `raw_samples` to None.\n",
      "  return obj.__class__(**changes)\n",
      "/usr/lib/python3.10/dataclasses.py:1453: RuntimeWarning: If using a 2-dim `batch_initial_conditions` botorch will default to old behavior of ignoring `num_restarts` and just use the given `batch_initial_conditions` by setting `raw_samples` to None.\n",
      "  return obj.__class__(**changes)\n",
      "/usr/lib/python3.10/dataclasses.py:1453: RuntimeWarning: If using a 2-dim `batch_initial_conditions` botorch will default to old behavior of ignoring `num_restarts` and just use the given `batch_initial_conditions` by setting `raw_samples` to None.\n",
      "  return obj.__class__(**changes)\n",
      "/usr/lib/python3.10/dataclasses.py:1453: RuntimeWarning: If using a 2-dim `batch_initial_conditions` botorch will default to old behavior of ignoring `num_restarts` and just use the given `batch_initial_conditions` by setting `raw_samples` to None.\n",
      "  return obj.__class__(**changes)\n",
      "/usr/lib/python3.10/dataclasses.py:1453: RuntimeWarning: If using a 2-dim `batch_initial_conditions` botorch will default to old behavior of ignoring `num_restarts` and just use the given `batch_initial_conditions` by setting `raw_samples` to None.\n",
      "  return obj.__class__(**changes)\n",
      "/usr/lib/python3.10/dataclasses.py:1453: RuntimeWarning: If using a 2-dim `batch_initial_conditions` botorch will default to old behavior of ignoring `num_restarts` and just use the given `batch_initial_conditions` by setting `raw_samples` to None.\n",
      "  return obj.__class__(**changes)\n",
      "/usr/lib/python3.10/dataclasses.py:1453: RuntimeWarning: If using a 2-dim `batch_initial_conditions` botorch will default to old behavior of ignoring `num_restarts` and just use the given `batch_initial_conditions` by setting `raw_samples` to None.\n",
      "  return obj.__class__(**changes)\n",
      "/usr/lib/python3.10/dataclasses.py:1453: RuntimeWarning: If using a 2-dim `batch_initial_conditions` botorch will default to old behavior of ignoring `num_restarts` and just use the given `batch_initial_conditions` by setting `raw_samples` to None.\n",
      "  return obj.__class__(**changes)\n",
      "/usr/lib/python3.10/dataclasses.py:1453: RuntimeWarning: If using a 2-dim `batch_initial_conditions` botorch will default to old behavior of ignoring `num_restarts` and just use the given `batch_initial_conditions` by setting `raw_samples` to None.\n",
      "  return obj.__class__(**changes)\n",
      "/usr/lib/python3.10/dataclasses.py:1453: RuntimeWarning: If using a 2-dim `batch_initial_conditions` botorch will default to old behavior of ignoring `num_restarts` and just use the given `batch_initial_conditions` by setting `raw_samples` to None.\n",
      "  return obj.__class__(**changes)\n",
      "/usr/lib/python3.10/dataclasses.py:1453: RuntimeWarning: If using a 2-dim `batch_initial_conditions` botorch will default to old behavior of ignoring `num_restarts` and just use the given `batch_initial_conditions` by setting `raw_samples` to None.\n",
      "  return obj.__class__(**changes)\n",
      "/usr/lib/python3.10/dataclasses.py:1453: RuntimeWarning: If using a 2-dim `batch_initial_conditions` botorch will default to old behavior of ignoring `num_restarts` and just use the given `batch_initial_conditions` by setting `raw_samples` to None.\n",
      "  return obj.__class__(**changes)\n",
      "/usr/lib/python3.10/dataclasses.py:1453: RuntimeWarning: If using a 2-dim `batch_initial_conditions` botorch will default to old behavior of ignoring `num_restarts` and just use the given `batch_initial_conditions` by setting `raw_samples` to None.\n",
      "  return obj.__class__(**changes)\n",
      "/usr/lib/python3.10/dataclasses.py:1453: RuntimeWarning: If using a 2-dim `batch_initial_conditions` botorch will default to old behavior of ignoring `num_restarts` and just use the given `batch_initial_conditions` by setting `raw_samples` to None.\n",
      "  return obj.__class__(**changes)\n",
      "/usr/lib/python3.10/dataclasses.py:1453: RuntimeWarning: If using a 2-dim `batch_initial_conditions` botorch will default to old behavior of ignoring `num_restarts` and just use the given `batch_initial_conditions` by setting `raw_samples` to None.\n",
      "  return obj.__class__(**changes)\n",
      "/usr/lib/python3.10/dataclasses.py:1453: RuntimeWarning: If using a 2-dim `batch_initial_conditions` botorch will default to old behavior of ignoring `num_restarts` and just use the given `batch_initial_conditions` by setting `raw_samples` to None.\n",
      "  return obj.__class__(**changes)\n",
      "/usr/lib/python3.10/dataclasses.py:1453: RuntimeWarning: If using a 2-dim `batch_initial_conditions` botorch will default to old behavior of ignoring `num_restarts` and just use the given `batch_initial_conditions` by setting `raw_samples` to None.\n",
      "  return obj.__class__(**changes)\n",
      "/usr/lib/python3.10/dataclasses.py:1453: RuntimeWarning: If using a 2-dim `batch_initial_conditions` botorch will default to old behavior of ignoring `num_restarts` and just use the given `batch_initial_conditions` by setting `raw_samples` to None.\n",
      "  return obj.__class__(**changes)\n",
      "/usr/lib/python3.10/dataclasses.py:1453: RuntimeWarning: If using a 2-dim `batch_initial_conditions` botorch will default to old behavior of ignoring `num_restarts` and just use the given `batch_initial_conditions` by setting `raw_samples` to None.\n",
      "  return obj.__class__(**changes)\n",
      "/usr/lib/python3.10/dataclasses.py:1453: RuntimeWarning: If using a 2-dim `batch_initial_conditions` botorch will default to old behavior of ignoring `num_restarts` and just use the given `batch_initial_conditions` by setting `raw_samples` to None.\n",
      "  return obj.__class__(**changes)\n",
      "/usr/lib/python3.10/dataclasses.py:1453: RuntimeWarning: If using a 2-dim `batch_initial_conditions` botorch will default to old behavior of ignoring `num_restarts` and just use the given `batch_initial_conditions` by setting `raw_samples` to None.\n",
      "  return obj.__class__(**changes)\n",
      "/usr/lib/python3.10/dataclasses.py:1453: RuntimeWarning: If using a 2-dim `batch_initial_conditions` botorch will default to old behavior of ignoring `num_restarts` and just use the given `batch_initial_conditions` by setting `raw_samples` to None.\n",
      "  return obj.__class__(**changes)\n",
      "/usr/lib/python3.10/dataclasses.py:1453: RuntimeWarning: If using a 2-dim `batch_initial_conditions` botorch will default to old behavior of ignoring `num_restarts` and just use the given `batch_initial_conditions` by setting `raw_samples` to None.\n",
      "  return obj.__class__(**changes)\n",
      "/usr/lib/python3.10/dataclasses.py:1453: RuntimeWarning: If using a 2-dim `batch_initial_conditions` botorch will default to old behavior of ignoring `num_restarts` and just use the given `batch_initial_conditions` by setting `raw_samples` to None.\n",
      "  return obj.__class__(**changes)\n",
      "/usr/lib/python3.10/dataclasses.py:1453: RuntimeWarning: If using a 2-dim `batch_initial_conditions` botorch will default to old behavior of ignoring `num_restarts` and just use the given `batch_initial_conditions` by setting `raw_samples` to None.\n",
      "  return obj.__class__(**changes)\n",
      "/usr/lib/python3.10/dataclasses.py:1453: RuntimeWarning: If using a 2-dim `batch_initial_conditions` botorch will default to old behavior of ignoring `num_restarts` and just use the given `batch_initial_conditions` by setting `raw_samples` to None.\n",
      "  return obj.__class__(**changes)\n",
      "/usr/lib/python3.10/dataclasses.py:1453: RuntimeWarning: If using a 2-dim `batch_initial_conditions` botorch will default to old behavior of ignoring `num_restarts` and just use the given `batch_initial_conditions` by setting `raw_samples` to None.\n",
      "  return obj.__class__(**changes)\n",
      "/usr/lib/python3.10/dataclasses.py:1453: RuntimeWarning: If using a 2-dim `batch_initial_conditions` botorch will default to old behavior of ignoring `num_restarts` and just use the given `batch_initial_conditions` by setting `raw_samples` to None.\n",
      "  return obj.__class__(**changes)\n",
      "/usr/lib/python3.10/dataclasses.py:1453: RuntimeWarning: If using a 2-dim `batch_initial_conditions` botorch will default to old behavior of ignoring `num_restarts` and just use the given `batch_initial_conditions` by setting `raw_samples` to None.\n",
      "  return obj.__class__(**changes)\n",
      "/usr/lib/python3.10/dataclasses.py:1453: RuntimeWarning: If using a 2-dim `batch_initial_conditions` botorch will default to old behavior of ignoring `num_restarts` and just use the given `batch_initial_conditions` by setting `raw_samples` to None.\n",
      "  return obj.__class__(**changes)\n",
      "/usr/lib/python3.10/dataclasses.py:1453: RuntimeWarning: If using a 2-dim `batch_initial_conditions` botorch will default to old behavior of ignoring `num_restarts` and just use the given `batch_initial_conditions` by setting `raw_samples` to None.\n",
      "  return obj.__class__(**changes)\n",
      "/usr/lib/python3.10/dataclasses.py:1453: RuntimeWarning: If using a 2-dim `batch_initial_conditions` botorch will default to old behavior of ignoring `num_restarts` and just use the given `batch_initial_conditions` by setting `raw_samples` to None.\n",
      "  return obj.__class__(**changes)\n",
      "/usr/lib/python3.10/dataclasses.py:1453: RuntimeWarning: If using a 2-dim `batch_initial_conditions` botorch will default to old behavior of ignoring `num_restarts` and just use the given `batch_initial_conditions` by setting `raw_samples` to None.\n",
      "  return obj.__class__(**changes)\n",
      "/usr/lib/python3.10/dataclasses.py:1453: RuntimeWarning: If using a 2-dim `batch_initial_conditions` botorch will default to old behavior of ignoring `num_restarts` and just use the given `batch_initial_conditions` by setting `raw_samples` to None.\n",
      "  return obj.__class__(**changes)\n",
      "/usr/lib/python3.10/dataclasses.py:1453: RuntimeWarning: If using a 2-dim `batch_initial_conditions` botorch will default to old behavior of ignoring `num_restarts` and just use the given `batch_initial_conditions` by setting `raw_samples` to None.\n",
      "  return obj.__class__(**changes)\n",
      "/usr/lib/python3.10/dataclasses.py:1453: RuntimeWarning: If using a 2-dim `batch_initial_conditions` botorch will default to old behavior of ignoring `num_restarts` and just use the given `batch_initial_conditions` by setting `raw_samples` to None.\n",
      "  return obj.__class__(**changes)\n",
      "/usr/lib/python3.10/dataclasses.py:1453: RuntimeWarning: If using a 2-dim `batch_initial_conditions` botorch will default to old behavior of ignoring `num_restarts` and just use the given `batch_initial_conditions` by setting `raw_samples` to None.\n",
      "  return obj.__class__(**changes)\n",
      "/usr/lib/python3.10/dataclasses.py:1453: RuntimeWarning: If using a 2-dim `batch_initial_conditions` botorch will default to old behavior of ignoring `num_restarts` and just use the given `batch_initial_conditions` by setting `raw_samples` to None.\n",
      "  return obj.__class__(**changes)\n",
      "/usr/lib/python3.10/dataclasses.py:1453: RuntimeWarning: If using a 2-dim `batch_initial_conditions` botorch will default to old behavior of ignoring `num_restarts` and just use the given `batch_initial_conditions` by setting `raw_samples` to None.\n",
      "  return obj.__class__(**changes)\n",
      "/usr/lib/python3.10/dataclasses.py:1453: RuntimeWarning: If using a 2-dim `batch_initial_conditions` botorch will default to old behavior of ignoring `num_restarts` and just use the given `batch_initial_conditions` by setting `raw_samples` to None.\n",
      "  return obj.__class__(**changes)\n",
      "/usr/lib/python3.10/dataclasses.py:1453: RuntimeWarning: If using a 2-dim `batch_initial_conditions` botorch will default to old behavior of ignoring `num_restarts` and just use the given `batch_initial_conditions` by setting `raw_samples` to None.\n",
      "  return obj.__class__(**changes)\n",
      "/usr/lib/python3.10/dataclasses.py:1453: RuntimeWarning: If using a 2-dim `batch_initial_conditions` botorch will default to old behavior of ignoring `num_restarts` and just use the given `batch_initial_conditions` by setting `raw_samples` to None.\n",
      "  return obj.__class__(**changes)\n",
      "/usr/lib/python3.10/dataclasses.py:1453: RuntimeWarning: If using a 2-dim `batch_initial_conditions` botorch will default to old behavior of ignoring `num_restarts` and just use the given `batch_initial_conditions` by setting `raw_samples` to None.\n",
      "  return obj.__class__(**changes)\n",
      "/usr/lib/python3.10/dataclasses.py:1453: RuntimeWarning: If using a 2-dim `batch_initial_conditions` botorch will default to old behavior of ignoring `num_restarts` and just use the given `batch_initial_conditions` by setting `raw_samples` to None.\n",
      "  return obj.__class__(**changes)\n",
      "/usr/lib/python3.10/dataclasses.py:1453: RuntimeWarning: If using a 2-dim `batch_initial_conditions` botorch will default to old behavior of ignoring `num_restarts` and just use the given `batch_initial_conditions` by setting `raw_samples` to None.\n",
      "  return obj.__class__(**changes)\n",
      "/usr/lib/python3.10/dataclasses.py:1453: RuntimeWarning: If using a 2-dim `batch_initial_conditions` botorch will default to old behavior of ignoring `num_restarts` and just use the given `batch_initial_conditions` by setting `raw_samples` to None.\n",
      "  return obj.__class__(**changes)\n",
      "/usr/lib/python3.10/dataclasses.py:1453: RuntimeWarning: If using a 2-dim `batch_initial_conditions` botorch will default to old behavior of ignoring `num_restarts` and just use the given `batch_initial_conditions` by setting `raw_samples` to None.\n",
      "  return obj.__class__(**changes)\n",
      "/usr/lib/python3.10/dataclasses.py:1453: RuntimeWarning: If using a 2-dim `batch_initial_conditions` botorch will default to old behavior of ignoring `num_restarts` and just use the given `batch_initial_conditions` by setting `raw_samples` to None.\n",
      "  return obj.__class__(**changes)\n",
      "/usr/lib/python3.10/dataclasses.py:1453: RuntimeWarning: If using a 2-dim `batch_initial_conditions` botorch will default to old behavior of ignoring `num_restarts` and just use the given `batch_initial_conditions` by setting `raw_samples` to None.\n",
      "  return obj.__class__(**changes)\n",
      "/usr/lib/python3.10/dataclasses.py:1453: RuntimeWarning: If using a 2-dim `batch_initial_conditions` botorch will default to old behavior of ignoring `num_restarts` and just use the given `batch_initial_conditions` by setting `raw_samples` to None.\n",
      "  return obj.__class__(**changes)\n",
      "/usr/lib/python3.10/dataclasses.py:1453: RuntimeWarning: If using a 2-dim `batch_initial_conditions` botorch will default to old behavior of ignoring `num_restarts` and just use the given `batch_initial_conditions` by setting `raw_samples` to None.\n",
      "  return obj.__class__(**changes)\n",
      "/usr/lib/python3.10/dataclasses.py:1453: RuntimeWarning: If using a 2-dim `batch_initial_conditions` botorch will default to old behavior of ignoring `num_restarts` and just use the given `batch_initial_conditions` by setting `raw_samples` to None.\n",
      "  return obj.__class__(**changes)\n",
      "/usr/lib/python3.10/dataclasses.py:1453: RuntimeWarning: If using a 2-dim `batch_initial_conditions` botorch will default to old behavior of ignoring `num_restarts` and just use the given `batch_initial_conditions` by setting `raw_samples` to None.\n",
      "  return obj.__class__(**changes)\n",
      "/usr/lib/python3.10/dataclasses.py:1453: RuntimeWarning: If using a 2-dim `batch_initial_conditions` botorch will default to old behavior of ignoring `num_restarts` and just use the given `batch_initial_conditions` by setting `raw_samples` to None.\n",
      "  return obj.__class__(**changes)\n",
      "/usr/lib/python3.10/dataclasses.py:1453: RuntimeWarning: If using a 2-dim `batch_initial_conditions` botorch will default to old behavior of ignoring `num_restarts` and just use the given `batch_initial_conditions` by setting `raw_samples` to None.\n",
      "  return obj.__class__(**changes)\n",
      "/usr/lib/python3.10/dataclasses.py:1453: RuntimeWarning: If using a 2-dim `batch_initial_conditions` botorch will default to old behavior of ignoring `num_restarts` and just use the given `batch_initial_conditions` by setting `raw_samples` to None.\n",
      "  return obj.__class__(**changes)\n",
      "/usr/lib/python3.10/dataclasses.py:1453: RuntimeWarning: If using a 2-dim `batch_initial_conditions` botorch will default to old behavior of ignoring `num_restarts` and just use the given `batch_initial_conditions` by setting `raw_samples` to None.\n",
      "  return obj.__class__(**changes)\n",
      "/usr/lib/python3.10/dataclasses.py:1453: RuntimeWarning: If using a 2-dim `batch_initial_conditions` botorch will default to old behavior of ignoring `num_restarts` and just use the given `batch_initial_conditions` by setting `raw_samples` to None.\n",
      "  return obj.__class__(**changes)\n",
      "/usr/lib/python3.10/dataclasses.py:1453: RuntimeWarning: If using a 2-dim `batch_initial_conditions` botorch will default to old behavior of ignoring `num_restarts` and just use the given `batch_initial_conditions` by setting `raw_samples` to None.\n",
      "  return obj.__class__(**changes)\n",
      "/usr/lib/python3.10/dataclasses.py:1453: RuntimeWarning: If using a 2-dim `batch_initial_conditions` botorch will default to old behavior of ignoring `num_restarts` and just use the given `batch_initial_conditions` by setting `raw_samples` to None.\n",
      "  return obj.__class__(**changes)\n",
      "/usr/lib/python3.10/dataclasses.py:1453: RuntimeWarning: If using a 2-dim `batch_initial_conditions` botorch will default to old behavior of ignoring `num_restarts` and just use the given `batch_initial_conditions` by setting `raw_samples` to None.\n",
      "  return obj.__class__(**changes)\n",
      "/usr/lib/python3.10/dataclasses.py:1453: RuntimeWarning: If using a 2-dim `batch_initial_conditions` botorch will default to old behavior of ignoring `num_restarts` and just use the given `batch_initial_conditions` by setting `raw_samples` to None.\n",
      "  return obj.__class__(**changes)\n",
      "/usr/lib/python3.10/dataclasses.py:1453: RuntimeWarning: If using a 2-dim `batch_initial_conditions` botorch will default to old behavior of ignoring `num_restarts` and just use the given `batch_initial_conditions` by setting `raw_samples` to None.\n",
      "  return obj.__class__(**changes)\n",
      "/usr/lib/python3.10/dataclasses.py:1453: RuntimeWarning: If using a 2-dim `batch_initial_conditions` botorch will default to old behavior of ignoring `num_restarts` and just use the given `batch_initial_conditions` by setting `raw_samples` to None.\n",
      "  return obj.__class__(**changes)\n",
      "/usr/lib/python3.10/dataclasses.py:1453: RuntimeWarning: If using a 2-dim `batch_initial_conditions` botorch will default to old behavior of ignoring `num_restarts` and just use the given `batch_initial_conditions` by setting `raw_samples` to None.\n",
      "  return obj.__class__(**changes)\n",
      "/usr/lib/python3.10/dataclasses.py:1453: RuntimeWarning: If using a 2-dim `batch_initial_conditions` botorch will default to old behavior of ignoring `num_restarts` and just use the given `batch_initial_conditions` by setting `raw_samples` to None.\n",
      "  return obj.__class__(**changes)\n",
      "/usr/lib/python3.10/dataclasses.py:1453: RuntimeWarning: If using a 2-dim `batch_initial_conditions` botorch will default to old behavior of ignoring `num_restarts` and just use the given `batch_initial_conditions` by setting `raw_samples` to None.\n",
      "  return obj.__class__(**changes)\n",
      "/usr/lib/python3.10/dataclasses.py:1453: RuntimeWarning: If using a 2-dim `batch_initial_conditions` botorch will default to old behavior of ignoring `num_restarts` and just use the given `batch_initial_conditions` by setting `raw_samples` to None.\n",
      "  return obj.__class__(**changes)\n",
      "/usr/lib/python3.10/dataclasses.py:1453: RuntimeWarning: If using a 2-dim `batch_initial_conditions` botorch will default to old behavior of ignoring `num_restarts` and just use the given `batch_initial_conditions` by setting `raw_samples` to None.\n",
      "  return obj.__class__(**changes)\n",
      "/usr/lib/python3.10/dataclasses.py:1453: RuntimeWarning: If using a 2-dim `batch_initial_conditions` botorch will default to old behavior of ignoring `num_restarts` and just use the given `batch_initial_conditions` by setting `raw_samples` to None.\n",
      "  return obj.__class__(**changes)\n",
      "/usr/lib/python3.10/dataclasses.py:1453: RuntimeWarning: If using a 2-dim `batch_initial_conditions` botorch will default to old behavior of ignoring `num_restarts` and just use the given `batch_initial_conditions` by setting `raw_samples` to None.\n",
      "  return obj.__class__(**changes)\n",
      "/usr/lib/python3.10/dataclasses.py:1453: RuntimeWarning: If using a 2-dim `batch_initial_conditions` botorch will default to old behavior of ignoring `num_restarts` and just use the given `batch_initial_conditions` by setting `raw_samples` to None.\n",
      "  return obj.__class__(**changes)\n",
      "/usr/lib/python3.10/dataclasses.py:1453: RuntimeWarning: If using a 2-dim `batch_initial_conditions` botorch will default to old behavior of ignoring `num_restarts` and just use the given `batch_initial_conditions` by setting `raw_samples` to None.\n",
      "  return obj.__class__(**changes)\n",
      "/usr/lib/python3.10/dataclasses.py:1453: RuntimeWarning: If using a 2-dim `batch_initial_conditions` botorch will default to old behavior of ignoring `num_restarts` and just use the given `batch_initial_conditions` by setting `raw_samples` to None.\n",
      "  return obj.__class__(**changes)\n",
      "/usr/lib/python3.10/dataclasses.py:1453: RuntimeWarning: If using a 2-dim `batch_initial_conditions` botorch will default to old behavior of ignoring `num_restarts` and just use the given `batch_initial_conditions` by setting `raw_samples` to None.\n",
      "  return obj.__class__(**changes)\n",
      "/usr/lib/python3.10/dataclasses.py:1453: RuntimeWarning: If using a 2-dim `batch_initial_conditions` botorch will default to old behavior of ignoring `num_restarts` and just use the given `batch_initial_conditions` by setting `raw_samples` to None.\n",
      "  return obj.__class__(**changes)\n",
      "/usr/lib/python3.10/dataclasses.py:1453: RuntimeWarning: If using a 2-dim `batch_initial_conditions` botorch will default to old behavior of ignoring `num_restarts` and just use the given `batch_initial_conditions` by setting `raw_samples` to None.\n",
      "  return obj.__class__(**changes)\n",
      "/usr/lib/python3.10/dataclasses.py:1453: RuntimeWarning: If using a 2-dim `batch_initial_conditions` botorch will default to old behavior of ignoring `num_restarts` and just use the given `batch_initial_conditions` by setting `raw_samples` to None.\n",
      "  return obj.__class__(**changes)\n",
      "/usr/lib/python3.10/dataclasses.py:1453: RuntimeWarning: If using a 2-dim `batch_initial_conditions` botorch will default to old behavior of ignoring `num_restarts` and just use the given `batch_initial_conditions` by setting `raw_samples` to None.\n",
      "  return obj.__class__(**changes)\n",
      "/usr/lib/python3.10/dataclasses.py:1453: RuntimeWarning: If using a 2-dim `batch_initial_conditions` botorch will default to old behavior of ignoring `num_restarts` and just use the given `batch_initial_conditions` by setting `raw_samples` to None.\n",
      "  return obj.__class__(**changes)\n",
      "/usr/lib/python3.10/dataclasses.py:1453: RuntimeWarning: If using a 2-dim `batch_initial_conditions` botorch will default to old behavior of ignoring `num_restarts` and just use the given `batch_initial_conditions` by setting `raw_samples` to None.\n",
      "  return obj.__class__(**changes)\n",
      "/usr/lib/python3.10/dataclasses.py:1453: RuntimeWarning: If using a 2-dim `batch_initial_conditions` botorch will default to old behavior of ignoring `num_restarts` and just use the given `batch_initial_conditions` by setting `raw_samples` to None.\n",
      "  return obj.__class__(**changes)\n",
      "/usr/lib/python3.10/dataclasses.py:1453: RuntimeWarning: If using a 2-dim `batch_initial_conditions` botorch will default to old behavior of ignoring `num_restarts` and just use the given `batch_initial_conditions` by setting `raw_samples` to None.\n",
      "  return obj.__class__(**changes)\n",
      "/usr/lib/python3.10/dataclasses.py:1453: RuntimeWarning: If using a 2-dim `batch_initial_conditions` botorch will default to old behavior of ignoring `num_restarts` and just use the given `batch_initial_conditions` by setting `raw_samples` to None.\n",
      "  return obj.__class__(**changes)\n",
      "/usr/lib/python3.10/dataclasses.py:1453: RuntimeWarning: If using a 2-dim `batch_initial_conditions` botorch will default to old behavior of ignoring `num_restarts` and just use the given `batch_initial_conditions` by setting `raw_samples` to None.\n",
      "  return obj.__class__(**changes)\n",
      "/usr/lib/python3.10/dataclasses.py:1453: RuntimeWarning: If using a 2-dim `batch_initial_conditions` botorch will default to old behavior of ignoring `num_restarts` and just use the given `batch_initial_conditions` by setting `raw_samples` to None.\n",
      "  return obj.__class__(**changes)\n",
      "/usr/lib/python3.10/dataclasses.py:1453: RuntimeWarning: If using a 2-dim `batch_initial_conditions` botorch will default to old behavior of ignoring `num_restarts` and just use the given `batch_initial_conditions` by setting `raw_samples` to None.\n",
      "  return obj.__class__(**changes)\n",
      "/usr/lib/python3.10/dataclasses.py:1453: RuntimeWarning: If using a 2-dim `batch_initial_conditions` botorch will default to old behavior of ignoring `num_restarts` and just use the given `batch_initial_conditions` by setting `raw_samples` to None.\n",
      "  return obj.__class__(**changes)\n",
      "/usr/lib/python3.10/dataclasses.py:1453: RuntimeWarning: If using a 2-dim `batch_initial_conditions` botorch will default to old behavior of ignoring `num_restarts` and just use the given `batch_initial_conditions` by setting `raw_samples` to None.\n",
      "  return obj.__class__(**changes)\n",
      "[INFO 03-24 21:51:53] ax.service.managed_loop: Running optimization trial 13...\n",
      "/home/aksenovan/my_env/lib/python3.10/site-packages/botorch/optim/optimize_mixed.py:702: OptimizationWarning: Failed to initialize using continuous relaxation. Using `sample_feasible_points` for initialization. Original error message: '0.4432751422728927'\n",
      "  best_X, best_acq_val = generate_starting_points(\n",
      "/usr/lib/python3.10/dataclasses.py:1453: RuntimeWarning: If using a 2-dim `batch_initial_conditions` botorch will default to old behavior of ignoring `num_restarts` and just use the given `batch_initial_conditions` by setting `raw_samples` to None.\n",
      "  return obj.__class__(**changes)\n",
      "/usr/lib/python3.10/dataclasses.py:1453: RuntimeWarning: If using a 2-dim `batch_initial_conditions` botorch will default to old behavior of ignoring `num_restarts` and just use the given `batch_initial_conditions` by setting `raw_samples` to None.\n",
      "  return obj.__class__(**changes)\n",
      "/usr/lib/python3.10/dataclasses.py:1453: RuntimeWarning: If using a 2-dim `batch_initial_conditions` botorch will default to old behavior of ignoring `num_restarts` and just use the given `batch_initial_conditions` by setting `raw_samples` to None.\n",
      "  return obj.__class__(**changes)\n",
      "/usr/lib/python3.10/dataclasses.py:1453: RuntimeWarning: If using a 2-dim `batch_initial_conditions` botorch will default to old behavior of ignoring `num_restarts` and just use the given `batch_initial_conditions` by setting `raw_samples` to None.\n",
      "  return obj.__class__(**changes)\n",
      "/usr/lib/python3.10/dataclasses.py:1453: RuntimeWarning: If using a 2-dim `batch_initial_conditions` botorch will default to old behavior of ignoring `num_restarts` and just use the given `batch_initial_conditions` by setting `raw_samples` to None.\n",
      "  return obj.__class__(**changes)\n",
      "/usr/lib/python3.10/dataclasses.py:1453: RuntimeWarning: If using a 2-dim `batch_initial_conditions` botorch will default to old behavior of ignoring `num_restarts` and just use the given `batch_initial_conditions` by setting `raw_samples` to None.\n",
      "  return obj.__class__(**changes)\n",
      "/usr/lib/python3.10/dataclasses.py:1453: RuntimeWarning: If using a 2-dim `batch_initial_conditions` botorch will default to old behavior of ignoring `num_restarts` and just use the given `batch_initial_conditions` by setting `raw_samples` to None.\n",
      "  return obj.__class__(**changes)\n",
      "/usr/lib/python3.10/dataclasses.py:1453: RuntimeWarning: If using a 2-dim `batch_initial_conditions` botorch will default to old behavior of ignoring `num_restarts` and just use the given `batch_initial_conditions` by setting `raw_samples` to None.\n",
      "  return obj.__class__(**changes)\n",
      "/usr/lib/python3.10/dataclasses.py:1453: RuntimeWarning: If using a 2-dim `batch_initial_conditions` botorch will default to old behavior of ignoring `num_restarts` and just use the given `batch_initial_conditions` by setting `raw_samples` to None.\n",
      "  return obj.__class__(**changes)\n",
      "/usr/lib/python3.10/dataclasses.py:1453: RuntimeWarning: If using a 2-dim `batch_initial_conditions` botorch will default to old behavior of ignoring `num_restarts` and just use the given `batch_initial_conditions` by setting `raw_samples` to None.\n",
      "  return obj.__class__(**changes)\n",
      "/usr/lib/python3.10/dataclasses.py:1453: RuntimeWarning: If using a 2-dim `batch_initial_conditions` botorch will default to old behavior of ignoring `num_restarts` and just use the given `batch_initial_conditions` by setting `raw_samples` to None.\n",
      "  return obj.__class__(**changes)\n",
      "/usr/lib/python3.10/dataclasses.py:1453: RuntimeWarning: If using a 2-dim `batch_initial_conditions` botorch will default to old behavior of ignoring `num_restarts` and just use the given `batch_initial_conditions` by setting `raw_samples` to None.\n",
      "  return obj.__class__(**changes)\n",
      "/usr/lib/python3.10/dataclasses.py:1453: RuntimeWarning: If using a 2-dim `batch_initial_conditions` botorch will default to old behavior of ignoring `num_restarts` and just use the given `batch_initial_conditions` by setting `raw_samples` to None.\n",
      "  return obj.__class__(**changes)\n",
      "/usr/lib/python3.10/dataclasses.py:1453: RuntimeWarning: If using a 2-dim `batch_initial_conditions` botorch will default to old behavior of ignoring `num_restarts` and just use the given `batch_initial_conditions` by setting `raw_samples` to None.\n",
      "  return obj.__class__(**changes)\n",
      "/usr/lib/python3.10/dataclasses.py:1453: RuntimeWarning: If using a 2-dim `batch_initial_conditions` botorch will default to old behavior of ignoring `num_restarts` and just use the given `batch_initial_conditions` by setting `raw_samples` to None.\n",
      "  return obj.__class__(**changes)\n",
      "/usr/lib/python3.10/dataclasses.py:1453: RuntimeWarning: If using a 2-dim `batch_initial_conditions` botorch will default to old behavior of ignoring `num_restarts` and just use the given `batch_initial_conditions` by setting `raw_samples` to None.\n",
      "  return obj.__class__(**changes)\n",
      "/usr/lib/python3.10/dataclasses.py:1453: RuntimeWarning: If using a 2-dim `batch_initial_conditions` botorch will default to old behavior of ignoring `num_restarts` and just use the given `batch_initial_conditions` by setting `raw_samples` to None.\n",
      "  return obj.__class__(**changes)\n",
      "/usr/lib/python3.10/dataclasses.py:1453: RuntimeWarning: If using a 2-dim `batch_initial_conditions` botorch will default to old behavior of ignoring `num_restarts` and just use the given `batch_initial_conditions` by setting `raw_samples` to None.\n",
      "  return obj.__class__(**changes)\n",
      "/usr/lib/python3.10/dataclasses.py:1453: RuntimeWarning: If using a 2-dim `batch_initial_conditions` botorch will default to old behavior of ignoring `num_restarts` and just use the given `batch_initial_conditions` by setting `raw_samples` to None.\n",
      "  return obj.__class__(**changes)\n",
      "/usr/lib/python3.10/dataclasses.py:1453: RuntimeWarning: If using a 2-dim `batch_initial_conditions` botorch will default to old behavior of ignoring `num_restarts` and just use the given `batch_initial_conditions` by setting `raw_samples` to None.\n",
      "  return obj.__class__(**changes)\n",
      "/usr/lib/python3.10/dataclasses.py:1453: RuntimeWarning: If using a 2-dim `batch_initial_conditions` botorch will default to old behavior of ignoring `num_restarts` and just use the given `batch_initial_conditions` by setting `raw_samples` to None.\n",
      "  return obj.__class__(**changes)\n",
      "/usr/lib/python3.10/dataclasses.py:1453: RuntimeWarning: If using a 2-dim `batch_initial_conditions` botorch will default to old behavior of ignoring `num_restarts` and just use the given `batch_initial_conditions` by setting `raw_samples` to None.\n",
      "  return obj.__class__(**changes)\n",
      "/usr/lib/python3.10/dataclasses.py:1453: RuntimeWarning: If using a 2-dim `batch_initial_conditions` botorch will default to old behavior of ignoring `num_restarts` and just use the given `batch_initial_conditions` by setting `raw_samples` to None.\n",
      "  return obj.__class__(**changes)\n",
      "/usr/lib/python3.10/dataclasses.py:1453: RuntimeWarning: If using a 2-dim `batch_initial_conditions` botorch will default to old behavior of ignoring `num_restarts` and just use the given `batch_initial_conditions` by setting `raw_samples` to None.\n",
      "  return obj.__class__(**changes)\n",
      "/usr/lib/python3.10/dataclasses.py:1453: RuntimeWarning: If using a 2-dim `batch_initial_conditions` botorch will default to old behavior of ignoring `num_restarts` and just use the given `batch_initial_conditions` by setting `raw_samples` to None.\n",
      "  return obj.__class__(**changes)\n",
      "/usr/lib/python3.10/dataclasses.py:1453: RuntimeWarning: If using a 2-dim `batch_initial_conditions` botorch will default to old behavior of ignoring `num_restarts` and just use the given `batch_initial_conditions` by setting `raw_samples` to None.\n",
      "  return obj.__class__(**changes)\n",
      "/usr/lib/python3.10/dataclasses.py:1453: RuntimeWarning: If using a 2-dim `batch_initial_conditions` botorch will default to old behavior of ignoring `num_restarts` and just use the given `batch_initial_conditions` by setting `raw_samples` to None.\n",
      "  return obj.__class__(**changes)\n",
      "/usr/lib/python3.10/dataclasses.py:1453: RuntimeWarning: If using a 2-dim `batch_initial_conditions` botorch will default to old behavior of ignoring `num_restarts` and just use the given `batch_initial_conditions` by setting `raw_samples` to None.\n",
      "  return obj.__class__(**changes)\n",
      "/usr/lib/python3.10/dataclasses.py:1453: RuntimeWarning: If using a 2-dim `batch_initial_conditions` botorch will default to old behavior of ignoring `num_restarts` and just use the given `batch_initial_conditions` by setting `raw_samples` to None.\n",
      "  return obj.__class__(**changes)\n",
      "/usr/lib/python3.10/dataclasses.py:1453: RuntimeWarning: If using a 2-dim `batch_initial_conditions` botorch will default to old behavior of ignoring `num_restarts` and just use the given `batch_initial_conditions` by setting `raw_samples` to None.\n",
      "  return obj.__class__(**changes)\n",
      "/usr/lib/python3.10/dataclasses.py:1453: RuntimeWarning: If using a 2-dim `batch_initial_conditions` botorch will default to old behavior of ignoring `num_restarts` and just use the given `batch_initial_conditions` by setting `raw_samples` to None.\n",
      "  return obj.__class__(**changes)\n",
      "/usr/lib/python3.10/dataclasses.py:1453: RuntimeWarning: If using a 2-dim `batch_initial_conditions` botorch will default to old behavior of ignoring `num_restarts` and just use the given `batch_initial_conditions` by setting `raw_samples` to None.\n",
      "  return obj.__class__(**changes)\n",
      "/usr/lib/python3.10/dataclasses.py:1453: RuntimeWarning: If using a 2-dim `batch_initial_conditions` botorch will default to old behavior of ignoring `num_restarts` and just use the given `batch_initial_conditions` by setting `raw_samples` to None.\n",
      "  return obj.__class__(**changes)\n",
      "/usr/lib/python3.10/dataclasses.py:1453: RuntimeWarning: If using a 2-dim `batch_initial_conditions` botorch will default to old behavior of ignoring `num_restarts` and just use the given `batch_initial_conditions` by setting `raw_samples` to None.\n",
      "  return obj.__class__(**changes)\n",
      "/usr/lib/python3.10/dataclasses.py:1453: RuntimeWarning: If using a 2-dim `batch_initial_conditions` botorch will default to old behavior of ignoring `num_restarts` and just use the given `batch_initial_conditions` by setting `raw_samples` to None.\n",
      "  return obj.__class__(**changes)\n",
      "/usr/lib/python3.10/dataclasses.py:1453: RuntimeWarning: If using a 2-dim `batch_initial_conditions` botorch will default to old behavior of ignoring `num_restarts` and just use the given `batch_initial_conditions` by setting `raw_samples` to None.\n",
      "  return obj.__class__(**changes)\n",
      "/usr/lib/python3.10/dataclasses.py:1453: RuntimeWarning: If using a 2-dim `batch_initial_conditions` botorch will default to old behavior of ignoring `num_restarts` and just use the given `batch_initial_conditions` by setting `raw_samples` to None.\n",
      "  return obj.__class__(**changes)\n",
      "/usr/lib/python3.10/dataclasses.py:1453: RuntimeWarning: If using a 2-dim `batch_initial_conditions` botorch will default to old behavior of ignoring `num_restarts` and just use the given `batch_initial_conditions` by setting `raw_samples` to None.\n",
      "  return obj.__class__(**changes)\n",
      "/usr/lib/python3.10/dataclasses.py:1453: RuntimeWarning: If using a 2-dim `batch_initial_conditions` botorch will default to old behavior of ignoring `num_restarts` and just use the given `batch_initial_conditions` by setting `raw_samples` to None.\n",
      "  return obj.__class__(**changes)\n",
      "/usr/lib/python3.10/dataclasses.py:1453: RuntimeWarning: If using a 2-dim `batch_initial_conditions` botorch will default to old behavior of ignoring `num_restarts` and just use the given `batch_initial_conditions` by setting `raw_samples` to None.\n",
      "  return obj.__class__(**changes)\n",
      "/usr/lib/python3.10/dataclasses.py:1453: RuntimeWarning: If using a 2-dim `batch_initial_conditions` botorch will default to old behavior of ignoring `num_restarts` and just use the given `batch_initial_conditions` by setting `raw_samples` to None.\n",
      "  return obj.__class__(**changes)\n",
      "/usr/lib/python3.10/dataclasses.py:1453: RuntimeWarning: If using a 2-dim `batch_initial_conditions` botorch will default to old behavior of ignoring `num_restarts` and just use the given `batch_initial_conditions` by setting `raw_samples` to None.\n",
      "  return obj.__class__(**changes)\n",
      "/usr/lib/python3.10/dataclasses.py:1453: RuntimeWarning: If using a 2-dim `batch_initial_conditions` botorch will default to old behavior of ignoring `num_restarts` and just use the given `batch_initial_conditions` by setting `raw_samples` to None.\n",
      "  return obj.__class__(**changes)\n",
      "/usr/lib/python3.10/dataclasses.py:1453: RuntimeWarning: If using a 2-dim `batch_initial_conditions` botorch will default to old behavior of ignoring `num_restarts` and just use the given `batch_initial_conditions` by setting `raw_samples` to None.\n",
      "  return obj.__class__(**changes)\n",
      "/usr/lib/python3.10/dataclasses.py:1453: RuntimeWarning: If using a 2-dim `batch_initial_conditions` botorch will default to old behavior of ignoring `num_restarts` and just use the given `batch_initial_conditions` by setting `raw_samples` to None.\n",
      "  return obj.__class__(**changes)\n",
      "/usr/lib/python3.10/dataclasses.py:1453: RuntimeWarning: If using a 2-dim `batch_initial_conditions` botorch will default to old behavior of ignoring `num_restarts` and just use the given `batch_initial_conditions` by setting `raw_samples` to None.\n",
      "  return obj.__class__(**changes)\n",
      "/usr/lib/python3.10/dataclasses.py:1453: RuntimeWarning: If using a 2-dim `batch_initial_conditions` botorch will default to old behavior of ignoring `num_restarts` and just use the given `batch_initial_conditions` by setting `raw_samples` to None.\n",
      "  return obj.__class__(**changes)\n",
      "/usr/lib/python3.10/dataclasses.py:1453: RuntimeWarning: If using a 2-dim `batch_initial_conditions` botorch will default to old behavior of ignoring `num_restarts` and just use the given `batch_initial_conditions` by setting `raw_samples` to None.\n",
      "  return obj.__class__(**changes)\n",
      "/usr/lib/python3.10/dataclasses.py:1453: RuntimeWarning: If using a 2-dim `batch_initial_conditions` botorch will default to old behavior of ignoring `num_restarts` and just use the given `batch_initial_conditions` by setting `raw_samples` to None.\n",
      "  return obj.__class__(**changes)\n",
      "/usr/lib/python3.10/dataclasses.py:1453: RuntimeWarning: If using a 2-dim `batch_initial_conditions` botorch will default to old behavior of ignoring `num_restarts` and just use the given `batch_initial_conditions` by setting `raw_samples` to None.\n",
      "  return obj.__class__(**changes)\n",
      "/usr/lib/python3.10/dataclasses.py:1453: RuntimeWarning: If using a 2-dim `batch_initial_conditions` botorch will default to old behavior of ignoring `num_restarts` and just use the given `batch_initial_conditions` by setting `raw_samples` to None.\n",
      "  return obj.__class__(**changes)\n",
      "/usr/lib/python3.10/dataclasses.py:1453: RuntimeWarning: If using a 2-dim `batch_initial_conditions` botorch will default to old behavior of ignoring `num_restarts` and just use the given `batch_initial_conditions` by setting `raw_samples` to None.\n",
      "  return obj.__class__(**changes)\n",
      "/usr/lib/python3.10/dataclasses.py:1453: RuntimeWarning: If using a 2-dim `batch_initial_conditions` botorch will default to old behavior of ignoring `num_restarts` and just use the given `batch_initial_conditions` by setting `raw_samples` to None.\n",
      "  return obj.__class__(**changes)\n",
      "/usr/lib/python3.10/dataclasses.py:1453: RuntimeWarning: If using a 2-dim `batch_initial_conditions` botorch will default to old behavior of ignoring `num_restarts` and just use the given `batch_initial_conditions` by setting `raw_samples` to None.\n",
      "  return obj.__class__(**changes)\n",
      "/usr/lib/python3.10/dataclasses.py:1453: RuntimeWarning: If using a 2-dim `batch_initial_conditions` botorch will default to old behavior of ignoring `num_restarts` and just use the given `batch_initial_conditions` by setting `raw_samples` to None.\n",
      "  return obj.__class__(**changes)\n",
      "/usr/lib/python3.10/dataclasses.py:1453: RuntimeWarning: If using a 2-dim `batch_initial_conditions` botorch will default to old behavior of ignoring `num_restarts` and just use the given `batch_initial_conditions` by setting `raw_samples` to None.\n",
      "  return obj.__class__(**changes)\n",
      "/usr/lib/python3.10/dataclasses.py:1453: RuntimeWarning: If using a 2-dim `batch_initial_conditions` botorch will default to old behavior of ignoring `num_restarts` and just use the given `batch_initial_conditions` by setting `raw_samples` to None.\n",
      "  return obj.__class__(**changes)\n",
      "/usr/lib/python3.10/dataclasses.py:1453: RuntimeWarning: If using a 2-dim `batch_initial_conditions` botorch will default to old behavior of ignoring `num_restarts` and just use the given `batch_initial_conditions` by setting `raw_samples` to None.\n",
      "  return obj.__class__(**changes)\n",
      "/usr/lib/python3.10/dataclasses.py:1453: RuntimeWarning: If using a 2-dim `batch_initial_conditions` botorch will default to old behavior of ignoring `num_restarts` and just use the given `batch_initial_conditions` by setting `raw_samples` to None.\n",
      "  return obj.__class__(**changes)\n",
      "/usr/lib/python3.10/dataclasses.py:1453: RuntimeWarning: If using a 2-dim `batch_initial_conditions` botorch will default to old behavior of ignoring `num_restarts` and just use the given `batch_initial_conditions` by setting `raw_samples` to None.\n",
      "  return obj.__class__(**changes)\n",
      "/usr/lib/python3.10/dataclasses.py:1453: RuntimeWarning: If using a 2-dim `batch_initial_conditions` botorch will default to old behavior of ignoring `num_restarts` and just use the given `batch_initial_conditions` by setting `raw_samples` to None.\n",
      "  return obj.__class__(**changes)\n",
      "/usr/lib/python3.10/dataclasses.py:1453: RuntimeWarning: If using a 2-dim `batch_initial_conditions` botorch will default to old behavior of ignoring `num_restarts` and just use the given `batch_initial_conditions` by setting `raw_samples` to None.\n",
      "  return obj.__class__(**changes)\n",
      "/usr/lib/python3.10/dataclasses.py:1453: RuntimeWarning: If using a 2-dim `batch_initial_conditions` botorch will default to old behavior of ignoring `num_restarts` and just use the given `batch_initial_conditions` by setting `raw_samples` to None.\n",
      "  return obj.__class__(**changes)\n",
      "/usr/lib/python3.10/dataclasses.py:1453: RuntimeWarning: If using a 2-dim `batch_initial_conditions` botorch will default to old behavior of ignoring `num_restarts` and just use the given `batch_initial_conditions` by setting `raw_samples` to None.\n",
      "  return obj.__class__(**changes)\n",
      "/usr/lib/python3.10/dataclasses.py:1453: RuntimeWarning: If using a 2-dim `batch_initial_conditions` botorch will default to old behavior of ignoring `num_restarts` and just use the given `batch_initial_conditions` by setting `raw_samples` to None.\n",
      "  return obj.__class__(**changes)\n",
      "/usr/lib/python3.10/dataclasses.py:1453: RuntimeWarning: If using a 2-dim `batch_initial_conditions` botorch will default to old behavior of ignoring `num_restarts` and just use the given `batch_initial_conditions` by setting `raw_samples` to None.\n",
      "  return obj.__class__(**changes)\n",
      "/usr/lib/python3.10/dataclasses.py:1453: RuntimeWarning: If using a 2-dim `batch_initial_conditions` botorch will default to old behavior of ignoring `num_restarts` and just use the given `batch_initial_conditions` by setting `raw_samples` to None.\n",
      "  return obj.__class__(**changes)\n",
      "/usr/lib/python3.10/dataclasses.py:1453: RuntimeWarning: If using a 2-dim `batch_initial_conditions` botorch will default to old behavior of ignoring `num_restarts` and just use the given `batch_initial_conditions` by setting `raw_samples` to None.\n",
      "  return obj.__class__(**changes)\n",
      "/usr/lib/python3.10/dataclasses.py:1453: RuntimeWarning: If using a 2-dim `batch_initial_conditions` botorch will default to old behavior of ignoring `num_restarts` and just use the given `batch_initial_conditions` by setting `raw_samples` to None.\n",
      "  return obj.__class__(**changes)\n",
      "/usr/lib/python3.10/dataclasses.py:1453: RuntimeWarning: If using a 2-dim `batch_initial_conditions` botorch will default to old behavior of ignoring `num_restarts` and just use the given `batch_initial_conditions` by setting `raw_samples` to None.\n",
      "  return obj.__class__(**changes)\n",
      "/usr/lib/python3.10/dataclasses.py:1453: RuntimeWarning: If using a 2-dim `batch_initial_conditions` botorch will default to old behavior of ignoring `num_restarts` and just use the given `batch_initial_conditions` by setting `raw_samples` to None.\n",
      "  return obj.__class__(**changes)\n",
      "/usr/lib/python3.10/dataclasses.py:1453: RuntimeWarning: If using a 2-dim `batch_initial_conditions` botorch will default to old behavior of ignoring `num_restarts` and just use the given `batch_initial_conditions` by setting `raw_samples` to None.\n",
      "  return obj.__class__(**changes)\n",
      "/usr/lib/python3.10/dataclasses.py:1453: RuntimeWarning: If using a 2-dim `batch_initial_conditions` botorch will default to old behavior of ignoring `num_restarts` and just use the given `batch_initial_conditions` by setting `raw_samples` to None.\n",
      "  return obj.__class__(**changes)\n",
      "/usr/lib/python3.10/dataclasses.py:1453: RuntimeWarning: If using a 2-dim `batch_initial_conditions` botorch will default to old behavior of ignoring `num_restarts` and just use the given `batch_initial_conditions` by setting `raw_samples` to None.\n",
      "  return obj.__class__(**changes)\n",
      "/usr/lib/python3.10/dataclasses.py:1453: RuntimeWarning: If using a 2-dim `batch_initial_conditions` botorch will default to old behavior of ignoring `num_restarts` and just use the given `batch_initial_conditions` by setting `raw_samples` to None.\n",
      "  return obj.__class__(**changes)\n",
      "/usr/lib/python3.10/dataclasses.py:1453: RuntimeWarning: If using a 2-dim `batch_initial_conditions` botorch will default to old behavior of ignoring `num_restarts` and just use the given `batch_initial_conditions` by setting `raw_samples` to None.\n",
      "  return obj.__class__(**changes)\n",
      "/usr/lib/python3.10/dataclasses.py:1453: RuntimeWarning: If using a 2-dim `batch_initial_conditions` botorch will default to old behavior of ignoring `num_restarts` and just use the given `batch_initial_conditions` by setting `raw_samples` to None.\n",
      "  return obj.__class__(**changes)\n",
      "/usr/lib/python3.10/dataclasses.py:1453: RuntimeWarning: If using a 2-dim `batch_initial_conditions` botorch will default to old behavior of ignoring `num_restarts` and just use the given `batch_initial_conditions` by setting `raw_samples` to None.\n",
      "  return obj.__class__(**changes)\n",
      "/usr/lib/python3.10/dataclasses.py:1453: RuntimeWarning: If using a 2-dim `batch_initial_conditions` botorch will default to old behavior of ignoring `num_restarts` and just use the given `batch_initial_conditions` by setting `raw_samples` to None.\n",
      "  return obj.__class__(**changes)\n",
      "/usr/lib/python3.10/dataclasses.py:1453: RuntimeWarning: If using a 2-dim `batch_initial_conditions` botorch will default to old behavior of ignoring `num_restarts` and just use the given `batch_initial_conditions` by setting `raw_samples` to None.\n",
      "  return obj.__class__(**changes)\n",
      "/usr/lib/python3.10/dataclasses.py:1453: RuntimeWarning: If using a 2-dim `batch_initial_conditions` botorch will default to old behavior of ignoring `num_restarts` and just use the given `batch_initial_conditions` by setting `raw_samples` to None.\n",
      "  return obj.__class__(**changes)\n",
      "/usr/lib/python3.10/dataclasses.py:1453: RuntimeWarning: If using a 2-dim `batch_initial_conditions` botorch will default to old behavior of ignoring `num_restarts` and just use the given `batch_initial_conditions` by setting `raw_samples` to None.\n",
      "  return obj.__class__(**changes)\n",
      "/usr/lib/python3.10/dataclasses.py:1453: RuntimeWarning: If using a 2-dim `batch_initial_conditions` botorch will default to old behavior of ignoring `num_restarts` and just use the given `batch_initial_conditions` by setting `raw_samples` to None.\n",
      "  return obj.__class__(**changes)\n",
      "/usr/lib/python3.10/dataclasses.py:1453: RuntimeWarning: If using a 2-dim `batch_initial_conditions` botorch will default to old behavior of ignoring `num_restarts` and just use the given `batch_initial_conditions` by setting `raw_samples` to None.\n",
      "  return obj.__class__(**changes)\n",
      "/usr/lib/python3.10/dataclasses.py:1453: RuntimeWarning: If using a 2-dim `batch_initial_conditions` botorch will default to old behavior of ignoring `num_restarts` and just use the given `batch_initial_conditions` by setting `raw_samples` to None.\n",
      "  return obj.__class__(**changes)\n",
      "/usr/lib/python3.10/dataclasses.py:1453: RuntimeWarning: If using a 2-dim `batch_initial_conditions` botorch will default to old behavior of ignoring `num_restarts` and just use the given `batch_initial_conditions` by setting `raw_samples` to None.\n",
      "  return obj.__class__(**changes)\n",
      "/usr/lib/python3.10/dataclasses.py:1453: RuntimeWarning: If using a 2-dim `batch_initial_conditions` botorch will default to old behavior of ignoring `num_restarts` and just use the given `batch_initial_conditions` by setting `raw_samples` to None.\n",
      "  return obj.__class__(**changes)\n",
      "/usr/lib/python3.10/dataclasses.py:1453: RuntimeWarning: If using a 2-dim `batch_initial_conditions` botorch will default to old behavior of ignoring `num_restarts` and just use the given `batch_initial_conditions` by setting `raw_samples` to None.\n",
      "  return obj.__class__(**changes)\n",
      "/usr/lib/python3.10/dataclasses.py:1453: RuntimeWarning: If using a 2-dim `batch_initial_conditions` botorch will default to old behavior of ignoring `num_restarts` and just use the given `batch_initial_conditions` by setting `raw_samples` to None.\n",
      "  return obj.__class__(**changes)\n",
      "/usr/lib/python3.10/dataclasses.py:1453: RuntimeWarning: If using a 2-dim `batch_initial_conditions` botorch will default to old behavior of ignoring `num_restarts` and just use the given `batch_initial_conditions` by setting `raw_samples` to None.\n",
      "  return obj.__class__(**changes)\n",
      "/usr/lib/python3.10/dataclasses.py:1453: RuntimeWarning: If using a 2-dim `batch_initial_conditions` botorch will default to old behavior of ignoring `num_restarts` and just use the given `batch_initial_conditions` by setting `raw_samples` to None.\n",
      "  return obj.__class__(**changes)\n",
      "/usr/lib/python3.10/dataclasses.py:1453: RuntimeWarning: If using a 2-dim `batch_initial_conditions` botorch will default to old behavior of ignoring `num_restarts` and just use the given `batch_initial_conditions` by setting `raw_samples` to None.\n",
      "  return obj.__class__(**changes)\n",
      "/usr/lib/python3.10/dataclasses.py:1453: RuntimeWarning: If using a 2-dim `batch_initial_conditions` botorch will default to old behavior of ignoring `num_restarts` and just use the given `batch_initial_conditions` by setting `raw_samples` to None.\n",
      "  return obj.__class__(**changes)\n",
      "/usr/lib/python3.10/dataclasses.py:1453: RuntimeWarning: If using a 2-dim `batch_initial_conditions` botorch will default to old behavior of ignoring `num_restarts` and just use the given `batch_initial_conditions` by setting `raw_samples` to None.\n",
      "  return obj.__class__(**changes)\n",
      "/usr/lib/python3.10/dataclasses.py:1453: RuntimeWarning: If using a 2-dim `batch_initial_conditions` botorch will default to old behavior of ignoring `num_restarts` and just use the given `batch_initial_conditions` by setting `raw_samples` to None.\n",
      "  return obj.__class__(**changes)\n",
      "/usr/lib/python3.10/dataclasses.py:1453: RuntimeWarning: If using a 2-dim `batch_initial_conditions` botorch will default to old behavior of ignoring `num_restarts` and just use the given `batch_initial_conditions` by setting `raw_samples` to None.\n",
      "  return obj.__class__(**changes)\n",
      "/usr/lib/python3.10/dataclasses.py:1453: RuntimeWarning: If using a 2-dim `batch_initial_conditions` botorch will default to old behavior of ignoring `num_restarts` and just use the given `batch_initial_conditions` by setting `raw_samples` to None.\n",
      "  return obj.__class__(**changes)\n",
      "/usr/lib/python3.10/dataclasses.py:1453: RuntimeWarning: If using a 2-dim `batch_initial_conditions` botorch will default to old behavior of ignoring `num_restarts` and just use the given `batch_initial_conditions` by setting `raw_samples` to None.\n",
      "  return obj.__class__(**changes)\n",
      "[INFO 03-24 21:56:30] ax.service.managed_loop: Running optimization trial 14...\n",
      "/home/aksenovan/my_env/lib/python3.10/site-packages/botorch/optim/optimize_mixed.py:702: OptimizationWarning: Failed to initialize using continuous relaxation. Using `sample_feasible_points` for initialization. Original error message: '0.7812627845101239'\n",
      "  best_X, best_acq_val = generate_starting_points(\n",
      "/usr/lib/python3.10/dataclasses.py:1453: RuntimeWarning: If using a 2-dim `batch_initial_conditions` botorch will default to old behavior of ignoring `num_restarts` and just use the given `batch_initial_conditions` by setting `raw_samples` to None.\n",
      "  return obj.__class__(**changes)\n",
      "/usr/lib/python3.10/dataclasses.py:1453: RuntimeWarning: If using a 2-dim `batch_initial_conditions` botorch will default to old behavior of ignoring `num_restarts` and just use the given `batch_initial_conditions` by setting `raw_samples` to None.\n",
      "  return obj.__class__(**changes)\n",
      "/usr/lib/python3.10/dataclasses.py:1453: RuntimeWarning: If using a 2-dim `batch_initial_conditions` botorch will default to old behavior of ignoring `num_restarts` and just use the given `batch_initial_conditions` by setting `raw_samples` to None.\n",
      "  return obj.__class__(**changes)\n",
      "/usr/lib/python3.10/dataclasses.py:1453: RuntimeWarning: If using a 2-dim `batch_initial_conditions` botorch will default to old behavior of ignoring `num_restarts` and just use the given `batch_initial_conditions` by setting `raw_samples` to None.\n",
      "  return obj.__class__(**changes)\n",
      "/usr/lib/python3.10/dataclasses.py:1453: RuntimeWarning: If using a 2-dim `batch_initial_conditions` botorch will default to old behavior of ignoring `num_restarts` and just use the given `batch_initial_conditions` by setting `raw_samples` to None.\n",
      "  return obj.__class__(**changes)\n",
      "/usr/lib/python3.10/dataclasses.py:1453: RuntimeWarning: If using a 2-dim `batch_initial_conditions` botorch will default to old behavior of ignoring `num_restarts` and just use the given `batch_initial_conditions` by setting `raw_samples` to None.\n",
      "  return obj.__class__(**changes)\n",
      "/usr/lib/python3.10/dataclasses.py:1453: RuntimeWarning: If using a 2-dim `batch_initial_conditions` botorch will default to old behavior of ignoring `num_restarts` and just use the given `batch_initial_conditions` by setting `raw_samples` to None.\n",
      "  return obj.__class__(**changes)\n",
      "/usr/lib/python3.10/dataclasses.py:1453: RuntimeWarning: If using a 2-dim `batch_initial_conditions` botorch will default to old behavior of ignoring `num_restarts` and just use the given `batch_initial_conditions` by setting `raw_samples` to None.\n",
      "  return obj.__class__(**changes)\n",
      "/usr/lib/python3.10/dataclasses.py:1453: RuntimeWarning: If using a 2-dim `batch_initial_conditions` botorch will default to old behavior of ignoring `num_restarts` and just use the given `batch_initial_conditions` by setting `raw_samples` to None.\n",
      "  return obj.__class__(**changes)\n",
      "/usr/lib/python3.10/dataclasses.py:1453: RuntimeWarning: If using a 2-dim `batch_initial_conditions` botorch will default to old behavior of ignoring `num_restarts` and just use the given `batch_initial_conditions` by setting `raw_samples` to None.\n",
      "  return obj.__class__(**changes)\n",
      "/usr/lib/python3.10/dataclasses.py:1453: RuntimeWarning: If using a 2-dim `batch_initial_conditions` botorch will default to old behavior of ignoring `num_restarts` and just use the given `batch_initial_conditions` by setting `raw_samples` to None.\n",
      "  return obj.__class__(**changes)\n",
      "/usr/lib/python3.10/dataclasses.py:1453: RuntimeWarning: If using a 2-dim `batch_initial_conditions` botorch will default to old behavior of ignoring `num_restarts` and just use the given `batch_initial_conditions` by setting `raw_samples` to None.\n",
      "  return obj.__class__(**changes)\n",
      "/usr/lib/python3.10/dataclasses.py:1453: RuntimeWarning: If using a 2-dim `batch_initial_conditions` botorch will default to old behavior of ignoring `num_restarts` and just use the given `batch_initial_conditions` by setting `raw_samples` to None.\n",
      "  return obj.__class__(**changes)\n",
      "/usr/lib/python3.10/dataclasses.py:1453: RuntimeWarning: If using a 2-dim `batch_initial_conditions` botorch will default to old behavior of ignoring `num_restarts` and just use the given `batch_initial_conditions` by setting `raw_samples` to None.\n",
      "  return obj.__class__(**changes)\n",
      "/usr/lib/python3.10/dataclasses.py:1453: RuntimeWarning: If using a 2-dim `batch_initial_conditions` botorch will default to old behavior of ignoring `num_restarts` and just use the given `batch_initial_conditions` by setting `raw_samples` to None.\n",
      "  return obj.__class__(**changes)\n",
      "/usr/lib/python3.10/dataclasses.py:1453: RuntimeWarning: If using a 2-dim `batch_initial_conditions` botorch will default to old behavior of ignoring `num_restarts` and just use the given `batch_initial_conditions` by setting `raw_samples` to None.\n",
      "  return obj.__class__(**changes)\n",
      "/usr/lib/python3.10/dataclasses.py:1453: RuntimeWarning: If using a 2-dim `batch_initial_conditions` botorch will default to old behavior of ignoring `num_restarts` and just use the given `batch_initial_conditions` by setting `raw_samples` to None.\n",
      "  return obj.__class__(**changes)\n",
      "/usr/lib/python3.10/dataclasses.py:1453: RuntimeWarning: If using a 2-dim `batch_initial_conditions` botorch will default to old behavior of ignoring `num_restarts` and just use the given `batch_initial_conditions` by setting `raw_samples` to None.\n",
      "  return obj.__class__(**changes)\n",
      "/usr/lib/python3.10/dataclasses.py:1453: RuntimeWarning: If using a 2-dim `batch_initial_conditions` botorch will default to old behavior of ignoring `num_restarts` and just use the given `batch_initial_conditions` by setting `raw_samples` to None.\n",
      "  return obj.__class__(**changes)\n",
      "/usr/lib/python3.10/dataclasses.py:1453: RuntimeWarning: If using a 2-dim `batch_initial_conditions` botorch will default to old behavior of ignoring `num_restarts` and just use the given `batch_initial_conditions` by setting `raw_samples` to None.\n",
      "  return obj.__class__(**changes)\n",
      "/usr/lib/python3.10/dataclasses.py:1453: RuntimeWarning: If using a 2-dim `batch_initial_conditions` botorch will default to old behavior of ignoring `num_restarts` and just use the given `batch_initial_conditions` by setting `raw_samples` to None.\n",
      "  return obj.__class__(**changes)\n",
      "/usr/lib/python3.10/dataclasses.py:1453: RuntimeWarning: If using a 2-dim `batch_initial_conditions` botorch will default to old behavior of ignoring `num_restarts` and just use the given `batch_initial_conditions` by setting `raw_samples` to None.\n",
      "  return obj.__class__(**changes)\n",
      "/usr/lib/python3.10/dataclasses.py:1453: RuntimeWarning: If using a 2-dim `batch_initial_conditions` botorch will default to old behavior of ignoring `num_restarts` and just use the given `batch_initial_conditions` by setting `raw_samples` to None.\n",
      "  return obj.__class__(**changes)\n",
      "/usr/lib/python3.10/dataclasses.py:1453: RuntimeWarning: If using a 2-dim `batch_initial_conditions` botorch will default to old behavior of ignoring `num_restarts` and just use the given `batch_initial_conditions` by setting `raw_samples` to None.\n",
      "  return obj.__class__(**changes)\n",
      "/usr/lib/python3.10/dataclasses.py:1453: RuntimeWarning: If using a 2-dim `batch_initial_conditions` botorch will default to old behavior of ignoring `num_restarts` and just use the given `batch_initial_conditions` by setting `raw_samples` to None.\n",
      "  return obj.__class__(**changes)\n",
      "/usr/lib/python3.10/dataclasses.py:1453: RuntimeWarning: If using a 2-dim `batch_initial_conditions` botorch will default to old behavior of ignoring `num_restarts` and just use the given `batch_initial_conditions` by setting `raw_samples` to None.\n",
      "  return obj.__class__(**changes)\n",
      "/usr/lib/python3.10/dataclasses.py:1453: RuntimeWarning: If using a 2-dim `batch_initial_conditions` botorch will default to old behavior of ignoring `num_restarts` and just use the given `batch_initial_conditions` by setting `raw_samples` to None.\n",
      "  return obj.__class__(**changes)\n",
      "/usr/lib/python3.10/dataclasses.py:1453: RuntimeWarning: If using a 2-dim `batch_initial_conditions` botorch will default to old behavior of ignoring `num_restarts` and just use the given `batch_initial_conditions` by setting `raw_samples` to None.\n",
      "  return obj.__class__(**changes)\n",
      "/usr/lib/python3.10/dataclasses.py:1453: RuntimeWarning: If using a 2-dim `batch_initial_conditions` botorch will default to old behavior of ignoring `num_restarts` and just use the given `batch_initial_conditions` by setting `raw_samples` to None.\n",
      "  return obj.__class__(**changes)\n",
      "/usr/lib/python3.10/dataclasses.py:1453: RuntimeWarning: If using a 2-dim `batch_initial_conditions` botorch will default to old behavior of ignoring `num_restarts` and just use the given `batch_initial_conditions` by setting `raw_samples` to None.\n",
      "  return obj.__class__(**changes)\n",
      "/usr/lib/python3.10/dataclasses.py:1453: RuntimeWarning: If using a 2-dim `batch_initial_conditions` botorch will default to old behavior of ignoring `num_restarts` and just use the given `batch_initial_conditions` by setting `raw_samples` to None.\n",
      "  return obj.__class__(**changes)\n",
      "/usr/lib/python3.10/dataclasses.py:1453: RuntimeWarning: If using a 2-dim `batch_initial_conditions` botorch will default to old behavior of ignoring `num_restarts` and just use the given `batch_initial_conditions` by setting `raw_samples` to None.\n",
      "  return obj.__class__(**changes)\n",
      "/usr/lib/python3.10/dataclasses.py:1453: RuntimeWarning: If using a 2-dim `batch_initial_conditions` botorch will default to old behavior of ignoring `num_restarts` and just use the given `batch_initial_conditions` by setting `raw_samples` to None.\n",
      "  return obj.__class__(**changes)\n",
      "/usr/lib/python3.10/dataclasses.py:1453: RuntimeWarning: If using a 2-dim `batch_initial_conditions` botorch will default to old behavior of ignoring `num_restarts` and just use the given `batch_initial_conditions` by setting `raw_samples` to None.\n",
      "  return obj.__class__(**changes)\n",
      "/usr/lib/python3.10/dataclasses.py:1453: RuntimeWarning: If using a 2-dim `batch_initial_conditions` botorch will default to old behavior of ignoring `num_restarts` and just use the given `batch_initial_conditions` by setting `raw_samples` to None.\n",
      "  return obj.__class__(**changes)\n",
      "/usr/lib/python3.10/dataclasses.py:1453: RuntimeWarning: If using a 2-dim `batch_initial_conditions` botorch will default to old behavior of ignoring `num_restarts` and just use the given `batch_initial_conditions` by setting `raw_samples` to None.\n",
      "  return obj.__class__(**changes)\n",
      "/usr/lib/python3.10/dataclasses.py:1453: RuntimeWarning: If using a 2-dim `batch_initial_conditions` botorch will default to old behavior of ignoring `num_restarts` and just use the given `batch_initial_conditions` by setting `raw_samples` to None.\n",
      "  return obj.__class__(**changes)\n",
      "/usr/lib/python3.10/dataclasses.py:1453: RuntimeWarning: If using a 2-dim `batch_initial_conditions` botorch will default to old behavior of ignoring `num_restarts` and just use the given `batch_initial_conditions` by setting `raw_samples` to None.\n",
      "  return obj.__class__(**changes)\n",
      "/usr/lib/python3.10/dataclasses.py:1453: RuntimeWarning: If using a 2-dim `batch_initial_conditions` botorch will default to old behavior of ignoring `num_restarts` and just use the given `batch_initial_conditions` by setting `raw_samples` to None.\n",
      "  return obj.__class__(**changes)\n",
      "/usr/lib/python3.10/dataclasses.py:1453: RuntimeWarning: If using a 2-dim `batch_initial_conditions` botorch will default to old behavior of ignoring `num_restarts` and just use the given `batch_initial_conditions` by setting `raw_samples` to None.\n",
      "  return obj.__class__(**changes)\n",
      "/usr/lib/python3.10/dataclasses.py:1453: RuntimeWarning: If using a 2-dim `batch_initial_conditions` botorch will default to old behavior of ignoring `num_restarts` and just use the given `batch_initial_conditions` by setting `raw_samples` to None.\n",
      "  return obj.__class__(**changes)\n",
      "/usr/lib/python3.10/dataclasses.py:1453: RuntimeWarning: If using a 2-dim `batch_initial_conditions` botorch will default to old behavior of ignoring `num_restarts` and just use the given `batch_initial_conditions` by setting `raw_samples` to None.\n",
      "  return obj.__class__(**changes)\n",
      "/usr/lib/python3.10/dataclasses.py:1453: RuntimeWarning: If using a 2-dim `batch_initial_conditions` botorch will default to old behavior of ignoring `num_restarts` and just use the given `batch_initial_conditions` by setting `raw_samples` to None.\n",
      "  return obj.__class__(**changes)\n",
      "/usr/lib/python3.10/dataclasses.py:1453: RuntimeWarning: If using a 2-dim `batch_initial_conditions` botorch will default to old behavior of ignoring `num_restarts` and just use the given `batch_initial_conditions` by setting `raw_samples` to None.\n",
      "  return obj.__class__(**changes)\n",
      "/usr/lib/python3.10/dataclasses.py:1453: RuntimeWarning: If using a 2-dim `batch_initial_conditions` botorch will default to old behavior of ignoring `num_restarts` and just use the given `batch_initial_conditions` by setting `raw_samples` to None.\n",
      "  return obj.__class__(**changes)\n",
      "/usr/lib/python3.10/dataclasses.py:1453: RuntimeWarning: If using a 2-dim `batch_initial_conditions` botorch will default to old behavior of ignoring `num_restarts` and just use the given `batch_initial_conditions` by setting `raw_samples` to None.\n",
      "  return obj.__class__(**changes)\n",
      "/usr/lib/python3.10/dataclasses.py:1453: RuntimeWarning: If using a 2-dim `batch_initial_conditions` botorch will default to old behavior of ignoring `num_restarts` and just use the given `batch_initial_conditions` by setting `raw_samples` to None.\n",
      "  return obj.__class__(**changes)\n",
      "/usr/lib/python3.10/dataclasses.py:1453: RuntimeWarning: If using a 2-dim `batch_initial_conditions` botorch will default to old behavior of ignoring `num_restarts` and just use the given `batch_initial_conditions` by setting `raw_samples` to None.\n",
      "  return obj.__class__(**changes)\n",
      "/usr/lib/python3.10/dataclasses.py:1453: RuntimeWarning: If using a 2-dim `batch_initial_conditions` botorch will default to old behavior of ignoring `num_restarts` and just use the given `batch_initial_conditions` by setting `raw_samples` to None.\n",
      "  return obj.__class__(**changes)\n",
      "/usr/lib/python3.10/dataclasses.py:1453: RuntimeWarning: If using a 2-dim `batch_initial_conditions` botorch will default to old behavior of ignoring `num_restarts` and just use the given `batch_initial_conditions` by setting `raw_samples` to None.\n",
      "  return obj.__class__(**changes)\n",
      "/usr/lib/python3.10/dataclasses.py:1453: RuntimeWarning: If using a 2-dim `batch_initial_conditions` botorch will default to old behavior of ignoring `num_restarts` and just use the given `batch_initial_conditions` by setting `raw_samples` to None.\n",
      "  return obj.__class__(**changes)\n",
      "/usr/lib/python3.10/dataclasses.py:1453: RuntimeWarning: If using a 2-dim `batch_initial_conditions` botorch will default to old behavior of ignoring `num_restarts` and just use the given `batch_initial_conditions` by setting `raw_samples` to None.\n",
      "  return obj.__class__(**changes)\n",
      "/usr/lib/python3.10/dataclasses.py:1453: RuntimeWarning: If using a 2-dim `batch_initial_conditions` botorch will default to old behavior of ignoring `num_restarts` and just use the given `batch_initial_conditions` by setting `raw_samples` to None.\n",
      "  return obj.__class__(**changes)\n",
      "/usr/lib/python3.10/dataclasses.py:1453: RuntimeWarning: If using a 2-dim `batch_initial_conditions` botorch will default to old behavior of ignoring `num_restarts` and just use the given `batch_initial_conditions` by setting `raw_samples` to None.\n",
      "  return obj.__class__(**changes)\n",
      "/usr/lib/python3.10/dataclasses.py:1453: RuntimeWarning: If using a 2-dim `batch_initial_conditions` botorch will default to old behavior of ignoring `num_restarts` and just use the given `batch_initial_conditions` by setting `raw_samples` to None.\n",
      "  return obj.__class__(**changes)\n",
      "/usr/lib/python3.10/dataclasses.py:1453: RuntimeWarning: If using a 2-dim `batch_initial_conditions` botorch will default to old behavior of ignoring `num_restarts` and just use the given `batch_initial_conditions` by setting `raw_samples` to None.\n",
      "  return obj.__class__(**changes)\n",
      "/usr/lib/python3.10/dataclasses.py:1453: RuntimeWarning: If using a 2-dim `batch_initial_conditions` botorch will default to old behavior of ignoring `num_restarts` and just use the given `batch_initial_conditions` by setting `raw_samples` to None.\n",
      "  return obj.__class__(**changes)\n",
      "/usr/lib/python3.10/dataclasses.py:1453: RuntimeWarning: If using a 2-dim `batch_initial_conditions` botorch will default to old behavior of ignoring `num_restarts` and just use the given `batch_initial_conditions` by setting `raw_samples` to None.\n",
      "  return obj.__class__(**changes)\n",
      "/usr/lib/python3.10/dataclasses.py:1453: RuntimeWarning: If using a 2-dim `batch_initial_conditions` botorch will default to old behavior of ignoring `num_restarts` and just use the given `batch_initial_conditions` by setting `raw_samples` to None.\n",
      "  return obj.__class__(**changes)\n",
      "/usr/lib/python3.10/dataclasses.py:1453: RuntimeWarning: If using a 2-dim `batch_initial_conditions` botorch will default to old behavior of ignoring `num_restarts` and just use the given `batch_initial_conditions` by setting `raw_samples` to None.\n",
      "  return obj.__class__(**changes)\n",
      "/usr/lib/python3.10/dataclasses.py:1453: RuntimeWarning: If using a 2-dim `batch_initial_conditions` botorch will default to old behavior of ignoring `num_restarts` and just use the given `batch_initial_conditions` by setting `raw_samples` to None.\n",
      "  return obj.__class__(**changes)\n",
      "/usr/lib/python3.10/dataclasses.py:1453: RuntimeWarning: If using a 2-dim `batch_initial_conditions` botorch will default to old behavior of ignoring `num_restarts` and just use the given `batch_initial_conditions` by setting `raw_samples` to None.\n",
      "  return obj.__class__(**changes)\n",
      "/usr/lib/python3.10/dataclasses.py:1453: RuntimeWarning: If using a 2-dim `batch_initial_conditions` botorch will default to old behavior of ignoring `num_restarts` and just use the given `batch_initial_conditions` by setting `raw_samples` to None.\n",
      "  return obj.__class__(**changes)\n",
      "/usr/lib/python3.10/dataclasses.py:1453: RuntimeWarning: If using a 2-dim `batch_initial_conditions` botorch will default to old behavior of ignoring `num_restarts` and just use the given `batch_initial_conditions` by setting `raw_samples` to None.\n",
      "  return obj.__class__(**changes)\n",
      "/usr/lib/python3.10/dataclasses.py:1453: RuntimeWarning: If using a 2-dim `batch_initial_conditions` botorch will default to old behavior of ignoring `num_restarts` and just use the given `batch_initial_conditions` by setting `raw_samples` to None.\n",
      "  return obj.__class__(**changes)\n",
      "/usr/lib/python3.10/dataclasses.py:1453: RuntimeWarning: If using a 2-dim `batch_initial_conditions` botorch will default to old behavior of ignoring `num_restarts` and just use the given `batch_initial_conditions` by setting `raw_samples` to None.\n",
      "  return obj.__class__(**changes)\n",
      "/usr/lib/python3.10/dataclasses.py:1453: RuntimeWarning: If using a 2-dim `batch_initial_conditions` botorch will default to old behavior of ignoring `num_restarts` and just use the given `batch_initial_conditions` by setting `raw_samples` to None.\n",
      "  return obj.__class__(**changes)\n",
      "/usr/lib/python3.10/dataclasses.py:1453: RuntimeWarning: If using a 2-dim `batch_initial_conditions` botorch will default to old behavior of ignoring `num_restarts` and just use the given `batch_initial_conditions` by setting `raw_samples` to None.\n",
      "  return obj.__class__(**changes)\n",
      "/usr/lib/python3.10/dataclasses.py:1453: RuntimeWarning: If using a 2-dim `batch_initial_conditions` botorch will default to old behavior of ignoring `num_restarts` and just use the given `batch_initial_conditions` by setting `raw_samples` to None.\n",
      "  return obj.__class__(**changes)\n",
      "/usr/lib/python3.10/dataclasses.py:1453: RuntimeWarning: If using a 2-dim `batch_initial_conditions` botorch will default to old behavior of ignoring `num_restarts` and just use the given `batch_initial_conditions` by setting `raw_samples` to None.\n",
      "  return obj.__class__(**changes)\n",
      "/usr/lib/python3.10/dataclasses.py:1453: RuntimeWarning: If using a 2-dim `batch_initial_conditions` botorch will default to old behavior of ignoring `num_restarts` and just use the given `batch_initial_conditions` by setting `raw_samples` to None.\n",
      "  return obj.__class__(**changes)\n",
      "/usr/lib/python3.10/dataclasses.py:1453: RuntimeWarning: If using a 2-dim `batch_initial_conditions` botorch will default to old behavior of ignoring `num_restarts` and just use the given `batch_initial_conditions` by setting `raw_samples` to None.\n",
      "  return obj.__class__(**changes)\n",
      "/usr/lib/python3.10/dataclasses.py:1453: RuntimeWarning: If using a 2-dim `batch_initial_conditions` botorch will default to old behavior of ignoring `num_restarts` and just use the given `batch_initial_conditions` by setting `raw_samples` to None.\n",
      "  return obj.__class__(**changes)\n",
      "/usr/lib/python3.10/dataclasses.py:1453: RuntimeWarning: If using a 2-dim `batch_initial_conditions` botorch will default to old behavior of ignoring `num_restarts` and just use the given `batch_initial_conditions` by setting `raw_samples` to None.\n",
      "  return obj.__class__(**changes)\n",
      "/usr/lib/python3.10/dataclasses.py:1453: RuntimeWarning: If using a 2-dim `batch_initial_conditions` botorch will default to old behavior of ignoring `num_restarts` and just use the given `batch_initial_conditions` by setting `raw_samples` to None.\n",
      "  return obj.__class__(**changes)\n",
      "/usr/lib/python3.10/dataclasses.py:1453: RuntimeWarning: If using a 2-dim `batch_initial_conditions` botorch will default to old behavior of ignoring `num_restarts` and just use the given `batch_initial_conditions` by setting `raw_samples` to None.\n",
      "  return obj.__class__(**changes)\n",
      "/usr/lib/python3.10/dataclasses.py:1453: RuntimeWarning: If using a 2-dim `batch_initial_conditions` botorch will default to old behavior of ignoring `num_restarts` and just use the given `batch_initial_conditions` by setting `raw_samples` to None.\n",
      "  return obj.__class__(**changes)\n",
      "/usr/lib/python3.10/dataclasses.py:1453: RuntimeWarning: If using a 2-dim `batch_initial_conditions` botorch will default to old behavior of ignoring `num_restarts` and just use the given `batch_initial_conditions` by setting `raw_samples` to None.\n",
      "  return obj.__class__(**changes)\n",
      "/usr/lib/python3.10/dataclasses.py:1453: RuntimeWarning: If using a 2-dim `batch_initial_conditions` botorch will default to old behavior of ignoring `num_restarts` and just use the given `batch_initial_conditions` by setting `raw_samples` to None.\n",
      "  return obj.__class__(**changes)\n",
      "/usr/lib/python3.10/dataclasses.py:1453: RuntimeWarning: If using a 2-dim `batch_initial_conditions` botorch will default to old behavior of ignoring `num_restarts` and just use the given `batch_initial_conditions` by setting `raw_samples` to None.\n",
      "  return obj.__class__(**changes)\n",
      "/usr/lib/python3.10/dataclasses.py:1453: RuntimeWarning: If using a 2-dim `batch_initial_conditions` botorch will default to old behavior of ignoring `num_restarts` and just use the given `batch_initial_conditions` by setting `raw_samples` to None.\n",
      "  return obj.__class__(**changes)\n",
      "/usr/lib/python3.10/dataclasses.py:1453: RuntimeWarning: If using a 2-dim `batch_initial_conditions` botorch will default to old behavior of ignoring `num_restarts` and just use the given `batch_initial_conditions` by setting `raw_samples` to None.\n",
      "  return obj.__class__(**changes)\n",
      "/usr/lib/python3.10/dataclasses.py:1453: RuntimeWarning: If using a 2-dim `batch_initial_conditions` botorch will default to old behavior of ignoring `num_restarts` and just use the given `batch_initial_conditions` by setting `raw_samples` to None.\n",
      "  return obj.__class__(**changes)\n",
      "/usr/lib/python3.10/dataclasses.py:1453: RuntimeWarning: If using a 2-dim `batch_initial_conditions` botorch will default to old behavior of ignoring `num_restarts` and just use the given `batch_initial_conditions` by setting `raw_samples` to None.\n",
      "  return obj.__class__(**changes)\n",
      "/usr/lib/python3.10/dataclasses.py:1453: RuntimeWarning: If using a 2-dim `batch_initial_conditions` botorch will default to old behavior of ignoring `num_restarts` and just use the given `batch_initial_conditions` by setting `raw_samples` to None.\n",
      "  return obj.__class__(**changes)\n",
      "/usr/lib/python3.10/dataclasses.py:1453: RuntimeWarning: If using a 2-dim `batch_initial_conditions` botorch will default to old behavior of ignoring `num_restarts` and just use the given `batch_initial_conditions` by setting `raw_samples` to None.\n",
      "  return obj.__class__(**changes)\n",
      "/usr/lib/python3.10/dataclasses.py:1453: RuntimeWarning: If using a 2-dim `batch_initial_conditions` botorch will default to old behavior of ignoring `num_restarts` and just use the given `batch_initial_conditions` by setting `raw_samples` to None.\n",
      "  return obj.__class__(**changes)\n",
      "/usr/lib/python3.10/dataclasses.py:1453: RuntimeWarning: If using a 2-dim `batch_initial_conditions` botorch will default to old behavior of ignoring `num_restarts` and just use the given `batch_initial_conditions` by setting `raw_samples` to None.\n",
      "  return obj.__class__(**changes)\n",
      "/usr/lib/python3.10/dataclasses.py:1453: RuntimeWarning: If using a 2-dim `batch_initial_conditions` botorch will default to old behavior of ignoring `num_restarts` and just use the given `batch_initial_conditions` by setting `raw_samples` to None.\n",
      "  return obj.__class__(**changes)\n",
      "/usr/lib/python3.10/dataclasses.py:1453: RuntimeWarning: If using a 2-dim `batch_initial_conditions` botorch will default to old behavior of ignoring `num_restarts` and just use the given `batch_initial_conditions` by setting `raw_samples` to None.\n",
      "  return obj.__class__(**changes)\n",
      "/usr/lib/python3.10/dataclasses.py:1453: RuntimeWarning: If using a 2-dim `batch_initial_conditions` botorch will default to old behavior of ignoring `num_restarts` and just use the given `batch_initial_conditions` by setting `raw_samples` to None.\n",
      "  return obj.__class__(**changes)\n",
      "/usr/lib/python3.10/dataclasses.py:1453: RuntimeWarning: If using a 2-dim `batch_initial_conditions` botorch will default to old behavior of ignoring `num_restarts` and just use the given `batch_initial_conditions` by setting `raw_samples` to None.\n",
      "  return obj.__class__(**changes)\n",
      "/usr/lib/python3.10/dataclasses.py:1453: RuntimeWarning: If using a 2-dim `batch_initial_conditions` botorch will default to old behavior of ignoring `num_restarts` and just use the given `batch_initial_conditions` by setting `raw_samples` to None.\n",
      "  return obj.__class__(**changes)\n",
      "/usr/lib/python3.10/dataclasses.py:1453: RuntimeWarning: If using a 2-dim `batch_initial_conditions` botorch will default to old behavior of ignoring `num_restarts` and just use the given `batch_initial_conditions` by setting `raw_samples` to None.\n",
      "  return obj.__class__(**changes)\n",
      "/usr/lib/python3.10/dataclasses.py:1453: RuntimeWarning: If using a 2-dim `batch_initial_conditions` botorch will default to old behavior of ignoring `num_restarts` and just use the given `batch_initial_conditions` by setting `raw_samples` to None.\n",
      "  return obj.__class__(**changes)\n",
      "/usr/lib/python3.10/dataclasses.py:1453: RuntimeWarning: If using a 2-dim `batch_initial_conditions` botorch will default to old behavior of ignoring `num_restarts` and just use the given `batch_initial_conditions` by setting `raw_samples` to None.\n",
      "  return obj.__class__(**changes)\n",
      "/usr/lib/python3.10/dataclasses.py:1453: RuntimeWarning: If using a 2-dim `batch_initial_conditions` botorch will default to old behavior of ignoring `num_restarts` and just use the given `batch_initial_conditions` by setting `raw_samples` to None.\n",
      "  return obj.__class__(**changes)\n",
      "/usr/lib/python3.10/dataclasses.py:1453: RuntimeWarning: If using a 2-dim `batch_initial_conditions` botorch will default to old behavior of ignoring `num_restarts` and just use the given `batch_initial_conditions` by setting `raw_samples` to None.\n",
      "  return obj.__class__(**changes)\n",
      "/usr/lib/python3.10/dataclasses.py:1453: RuntimeWarning: If using a 2-dim `batch_initial_conditions` botorch will default to old behavior of ignoring `num_restarts` and just use the given `batch_initial_conditions` by setting `raw_samples` to None.\n",
      "  return obj.__class__(**changes)\n",
      "/usr/lib/python3.10/dataclasses.py:1453: RuntimeWarning: If using a 2-dim `batch_initial_conditions` botorch will default to old behavior of ignoring `num_restarts` and just use the given `batch_initial_conditions` by setting `raw_samples` to None.\n",
      "  return obj.__class__(**changes)\n",
      "/usr/lib/python3.10/dataclasses.py:1453: RuntimeWarning: If using a 2-dim `batch_initial_conditions` botorch will default to old behavior of ignoring `num_restarts` and just use the given `batch_initial_conditions` by setting `raw_samples` to None.\n",
      "  return obj.__class__(**changes)\n",
      "/usr/lib/python3.10/dataclasses.py:1453: RuntimeWarning: If using a 2-dim `batch_initial_conditions` botorch will default to old behavior of ignoring `num_restarts` and just use the given `batch_initial_conditions` by setting `raw_samples` to None.\n",
      "  return obj.__class__(**changes)\n",
      "/usr/lib/python3.10/dataclasses.py:1453: RuntimeWarning: If using a 2-dim `batch_initial_conditions` botorch will default to old behavior of ignoring `num_restarts` and just use the given `batch_initial_conditions` by setting `raw_samples` to None.\n",
      "  return obj.__class__(**changes)\n",
      "/usr/lib/python3.10/dataclasses.py:1453: RuntimeWarning: If using a 2-dim `batch_initial_conditions` botorch will default to old behavior of ignoring `num_restarts` and just use the given `batch_initial_conditions` by setting `raw_samples` to None.\n",
      "  return obj.__class__(**changes)\n",
      "/usr/lib/python3.10/dataclasses.py:1453: RuntimeWarning: If using a 2-dim `batch_initial_conditions` botorch will default to old behavior of ignoring `num_restarts` and just use the given `batch_initial_conditions` by setting `raw_samples` to None.\n",
      "  return obj.__class__(**changes)\n",
      "/usr/lib/python3.10/dataclasses.py:1453: RuntimeWarning: If using a 2-dim `batch_initial_conditions` botorch will default to old behavior of ignoring `num_restarts` and just use the given `batch_initial_conditions` by setting `raw_samples` to None.\n",
      "  return obj.__class__(**changes)\n",
      "/usr/lib/python3.10/dataclasses.py:1453: RuntimeWarning: If using a 2-dim `batch_initial_conditions` botorch will default to old behavior of ignoring `num_restarts` and just use the given `batch_initial_conditions` by setting `raw_samples` to None.\n",
      "  return obj.__class__(**changes)\n",
      "/usr/lib/python3.10/dataclasses.py:1453: RuntimeWarning: If using a 2-dim `batch_initial_conditions` botorch will default to old behavior of ignoring `num_restarts` and just use the given `batch_initial_conditions` by setting `raw_samples` to None.\n",
      "  return obj.__class__(**changes)\n",
      "/usr/lib/python3.10/dataclasses.py:1453: RuntimeWarning: If using a 2-dim `batch_initial_conditions` botorch will default to old behavior of ignoring `num_restarts` and just use the given `batch_initial_conditions` by setting `raw_samples` to None.\n",
      "  return obj.__class__(**changes)\n",
      "/usr/lib/python3.10/dataclasses.py:1453: RuntimeWarning: If using a 2-dim `batch_initial_conditions` botorch will default to old behavior of ignoring `num_restarts` and just use the given `batch_initial_conditions` by setting `raw_samples` to None.\n",
      "  return obj.__class__(**changes)\n",
      "/usr/lib/python3.10/dataclasses.py:1453: RuntimeWarning: If using a 2-dim `batch_initial_conditions` botorch will default to old behavior of ignoring `num_restarts` and just use the given `batch_initial_conditions` by setting `raw_samples` to None.\n",
      "  return obj.__class__(**changes)\n",
      "/usr/lib/python3.10/dataclasses.py:1453: RuntimeWarning: If using a 2-dim `batch_initial_conditions` botorch will default to old behavior of ignoring `num_restarts` and just use the given `batch_initial_conditions` by setting `raw_samples` to None.\n",
      "  return obj.__class__(**changes)\n",
      "/usr/lib/python3.10/dataclasses.py:1453: RuntimeWarning: If using a 2-dim `batch_initial_conditions` botorch will default to old behavior of ignoring `num_restarts` and just use the given `batch_initial_conditions` by setting `raw_samples` to None.\n",
      "  return obj.__class__(**changes)\n",
      "/usr/lib/python3.10/dataclasses.py:1453: RuntimeWarning: If using a 2-dim `batch_initial_conditions` botorch will default to old behavior of ignoring `num_restarts` and just use the given `batch_initial_conditions` by setting `raw_samples` to None.\n",
      "  return obj.__class__(**changes)\n",
      "/usr/lib/python3.10/dataclasses.py:1453: RuntimeWarning: If using a 2-dim `batch_initial_conditions` botorch will default to old behavior of ignoring `num_restarts` and just use the given `batch_initial_conditions` by setting `raw_samples` to None.\n",
      "  return obj.__class__(**changes)\n",
      "/usr/lib/python3.10/dataclasses.py:1453: RuntimeWarning: If using a 2-dim `batch_initial_conditions` botorch will default to old behavior of ignoring `num_restarts` and just use the given `batch_initial_conditions` by setting `raw_samples` to None.\n",
      "  return obj.__class__(**changes)\n",
      "/usr/lib/python3.10/dataclasses.py:1453: RuntimeWarning: If using a 2-dim `batch_initial_conditions` botorch will default to old behavior of ignoring `num_restarts` and just use the given `batch_initial_conditions` by setting `raw_samples` to None.\n",
      "  return obj.__class__(**changes)\n",
      "/usr/lib/python3.10/dataclasses.py:1453: RuntimeWarning: If using a 2-dim `batch_initial_conditions` botorch will default to old behavior of ignoring `num_restarts` and just use the given `batch_initial_conditions` by setting `raw_samples` to None.\n",
      "  return obj.__class__(**changes)\n",
      "/usr/lib/python3.10/dataclasses.py:1453: RuntimeWarning: If using a 2-dim `batch_initial_conditions` botorch will default to old behavior of ignoring `num_restarts` and just use the given `batch_initial_conditions` by setting `raw_samples` to None.\n",
      "  return obj.__class__(**changes)\n",
      "/usr/lib/python3.10/dataclasses.py:1453: RuntimeWarning: If using a 2-dim `batch_initial_conditions` botorch will default to old behavior of ignoring `num_restarts` and just use the given `batch_initial_conditions` by setting `raw_samples` to None.\n",
      "  return obj.__class__(**changes)\n",
      "[INFO 03-24 21:56:57] ax.service.managed_loop: Running optimization trial 15...\n",
      "/home/aksenovan/my_env/lib/python3.10/site-packages/botorch/optim/optimize_mixed.py:702: OptimizationWarning: Failed to initialize using continuous relaxation. Using `sample_feasible_points` for initialization. Original error message: '0.02620658747428878'\n",
      "  best_X, best_acq_val = generate_starting_points(\n",
      "/usr/lib/python3.10/dataclasses.py:1453: RuntimeWarning: If using a 2-dim `batch_initial_conditions` botorch will default to old behavior of ignoring `num_restarts` and just use the given `batch_initial_conditions` by setting `raw_samples` to None.\n",
      "  return obj.__class__(**changes)\n",
      "/usr/lib/python3.10/dataclasses.py:1453: RuntimeWarning: If using a 2-dim `batch_initial_conditions` botorch will default to old behavior of ignoring `num_restarts` and just use the given `batch_initial_conditions` by setting `raw_samples` to None.\n",
      "  return obj.__class__(**changes)\n",
      "/usr/lib/python3.10/dataclasses.py:1453: RuntimeWarning: If using a 2-dim `batch_initial_conditions` botorch will default to old behavior of ignoring `num_restarts` and just use the given `batch_initial_conditions` by setting `raw_samples` to None.\n",
      "  return obj.__class__(**changes)\n",
      "/usr/lib/python3.10/dataclasses.py:1453: RuntimeWarning: If using a 2-dim `batch_initial_conditions` botorch will default to old behavior of ignoring `num_restarts` and just use the given `batch_initial_conditions` by setting `raw_samples` to None.\n",
      "  return obj.__class__(**changes)\n",
      "/usr/lib/python3.10/dataclasses.py:1453: RuntimeWarning: If using a 2-dim `batch_initial_conditions` botorch will default to old behavior of ignoring `num_restarts` and just use the given `batch_initial_conditions` by setting `raw_samples` to None.\n",
      "  return obj.__class__(**changes)\n",
      "/usr/lib/python3.10/dataclasses.py:1453: RuntimeWarning: If using a 2-dim `batch_initial_conditions` botorch will default to old behavior of ignoring `num_restarts` and just use the given `batch_initial_conditions` by setting `raw_samples` to None.\n",
      "  return obj.__class__(**changes)\n",
      "/usr/lib/python3.10/dataclasses.py:1453: RuntimeWarning: If using a 2-dim `batch_initial_conditions` botorch will default to old behavior of ignoring `num_restarts` and just use the given `batch_initial_conditions` by setting `raw_samples` to None.\n",
      "  return obj.__class__(**changes)\n",
      "/usr/lib/python3.10/dataclasses.py:1453: RuntimeWarning: If using a 2-dim `batch_initial_conditions` botorch will default to old behavior of ignoring `num_restarts` and just use the given `batch_initial_conditions` by setting `raw_samples` to None.\n",
      "  return obj.__class__(**changes)\n",
      "/usr/lib/python3.10/dataclasses.py:1453: RuntimeWarning: If using a 2-dim `batch_initial_conditions` botorch will default to old behavior of ignoring `num_restarts` and just use the given `batch_initial_conditions` by setting `raw_samples` to None.\n",
      "  return obj.__class__(**changes)\n",
      "/usr/lib/python3.10/dataclasses.py:1453: RuntimeWarning: If using a 2-dim `batch_initial_conditions` botorch will default to old behavior of ignoring `num_restarts` and just use the given `batch_initial_conditions` by setting `raw_samples` to None.\n",
      "  return obj.__class__(**changes)\n",
      "/usr/lib/python3.10/dataclasses.py:1453: RuntimeWarning: If using a 2-dim `batch_initial_conditions` botorch will default to old behavior of ignoring `num_restarts` and just use the given `batch_initial_conditions` by setting `raw_samples` to None.\n",
      "  return obj.__class__(**changes)\n",
      "/usr/lib/python3.10/dataclasses.py:1453: RuntimeWarning: If using a 2-dim `batch_initial_conditions` botorch will default to old behavior of ignoring `num_restarts` and just use the given `batch_initial_conditions` by setting `raw_samples` to None.\n",
      "  return obj.__class__(**changes)\n",
      "/usr/lib/python3.10/dataclasses.py:1453: RuntimeWarning: If using a 2-dim `batch_initial_conditions` botorch will default to old behavior of ignoring `num_restarts` and just use the given `batch_initial_conditions` by setting `raw_samples` to None.\n",
      "  return obj.__class__(**changes)\n",
      "/usr/lib/python3.10/dataclasses.py:1453: RuntimeWarning: If using a 2-dim `batch_initial_conditions` botorch will default to old behavior of ignoring `num_restarts` and just use the given `batch_initial_conditions` by setting `raw_samples` to None.\n",
      "  return obj.__class__(**changes)\n",
      "/usr/lib/python3.10/dataclasses.py:1453: RuntimeWarning: If using a 2-dim `batch_initial_conditions` botorch will default to old behavior of ignoring `num_restarts` and just use the given `batch_initial_conditions` by setting `raw_samples` to None.\n",
      "  return obj.__class__(**changes)\n",
      "/usr/lib/python3.10/dataclasses.py:1453: RuntimeWarning: If using a 2-dim `batch_initial_conditions` botorch will default to old behavior of ignoring `num_restarts` and just use the given `batch_initial_conditions` by setting `raw_samples` to None.\n",
      "  return obj.__class__(**changes)\n",
      "/usr/lib/python3.10/dataclasses.py:1453: RuntimeWarning: If using a 2-dim `batch_initial_conditions` botorch will default to old behavior of ignoring `num_restarts` and just use the given `batch_initial_conditions` by setting `raw_samples` to None.\n",
      "  return obj.__class__(**changes)\n",
      "/usr/lib/python3.10/dataclasses.py:1453: RuntimeWarning: If using a 2-dim `batch_initial_conditions` botorch will default to old behavior of ignoring `num_restarts` and just use the given `batch_initial_conditions` by setting `raw_samples` to None.\n",
      "  return obj.__class__(**changes)\n",
      "/usr/lib/python3.10/dataclasses.py:1453: RuntimeWarning: If using a 2-dim `batch_initial_conditions` botorch will default to old behavior of ignoring `num_restarts` and just use the given `batch_initial_conditions` by setting `raw_samples` to None.\n",
      "  return obj.__class__(**changes)\n",
      "/usr/lib/python3.10/dataclasses.py:1453: RuntimeWarning: If using a 2-dim `batch_initial_conditions` botorch will default to old behavior of ignoring `num_restarts` and just use the given `batch_initial_conditions` by setting `raw_samples` to None.\n",
      "  return obj.__class__(**changes)\n",
      "/usr/lib/python3.10/dataclasses.py:1453: RuntimeWarning: If using a 2-dim `batch_initial_conditions` botorch will default to old behavior of ignoring `num_restarts` and just use the given `batch_initial_conditions` by setting `raw_samples` to None.\n",
      "  return obj.__class__(**changes)\n",
      "/usr/lib/python3.10/dataclasses.py:1453: RuntimeWarning: If using a 2-dim `batch_initial_conditions` botorch will default to old behavior of ignoring `num_restarts` and just use the given `batch_initial_conditions` by setting `raw_samples` to None.\n",
      "  return obj.__class__(**changes)\n",
      "/usr/lib/python3.10/dataclasses.py:1453: RuntimeWarning: If using a 2-dim `batch_initial_conditions` botorch will default to old behavior of ignoring `num_restarts` and just use the given `batch_initial_conditions` by setting `raw_samples` to None.\n",
      "  return obj.__class__(**changes)\n",
      "/usr/lib/python3.10/dataclasses.py:1453: RuntimeWarning: If using a 2-dim `batch_initial_conditions` botorch will default to old behavior of ignoring `num_restarts` and just use the given `batch_initial_conditions` by setting `raw_samples` to None.\n",
      "  return obj.__class__(**changes)\n",
      "/usr/lib/python3.10/dataclasses.py:1453: RuntimeWarning: If using a 2-dim `batch_initial_conditions` botorch will default to old behavior of ignoring `num_restarts` and just use the given `batch_initial_conditions` by setting `raw_samples` to None.\n",
      "  return obj.__class__(**changes)\n",
      "/usr/lib/python3.10/dataclasses.py:1453: RuntimeWarning: If using a 2-dim `batch_initial_conditions` botorch will default to old behavior of ignoring `num_restarts` and just use the given `batch_initial_conditions` by setting `raw_samples` to None.\n",
      "  return obj.__class__(**changes)\n",
      "/usr/lib/python3.10/dataclasses.py:1453: RuntimeWarning: If using a 2-dim `batch_initial_conditions` botorch will default to old behavior of ignoring `num_restarts` and just use the given `batch_initial_conditions` by setting `raw_samples` to None.\n",
      "  return obj.__class__(**changes)\n",
      "/usr/lib/python3.10/dataclasses.py:1453: RuntimeWarning: If using a 2-dim `batch_initial_conditions` botorch will default to old behavior of ignoring `num_restarts` and just use the given `batch_initial_conditions` by setting `raw_samples` to None.\n",
      "  return obj.__class__(**changes)\n",
      "/usr/lib/python3.10/dataclasses.py:1453: RuntimeWarning: If using a 2-dim `batch_initial_conditions` botorch will default to old behavior of ignoring `num_restarts` and just use the given `batch_initial_conditions` by setting `raw_samples` to None.\n",
      "  return obj.__class__(**changes)\n",
      "/usr/lib/python3.10/dataclasses.py:1453: RuntimeWarning: If using a 2-dim `batch_initial_conditions` botorch will default to old behavior of ignoring `num_restarts` and just use the given `batch_initial_conditions` by setting `raw_samples` to None.\n",
      "  return obj.__class__(**changes)\n",
      "/usr/lib/python3.10/dataclasses.py:1453: RuntimeWarning: If using a 2-dim `batch_initial_conditions` botorch will default to old behavior of ignoring `num_restarts` and just use the given `batch_initial_conditions` by setting `raw_samples` to None.\n",
      "  return obj.__class__(**changes)\n",
      "/usr/lib/python3.10/dataclasses.py:1453: RuntimeWarning: If using a 2-dim `batch_initial_conditions` botorch will default to old behavior of ignoring `num_restarts` and just use the given `batch_initial_conditions` by setting `raw_samples` to None.\n",
      "  return obj.__class__(**changes)\n",
      "/usr/lib/python3.10/dataclasses.py:1453: RuntimeWarning: If using a 2-dim `batch_initial_conditions` botorch will default to old behavior of ignoring `num_restarts` and just use the given `batch_initial_conditions` by setting `raw_samples` to None.\n",
      "  return obj.__class__(**changes)\n",
      "/usr/lib/python3.10/dataclasses.py:1453: RuntimeWarning: If using a 2-dim `batch_initial_conditions` botorch will default to old behavior of ignoring `num_restarts` and just use the given `batch_initial_conditions` by setting `raw_samples` to None.\n",
      "  return obj.__class__(**changes)\n",
      "/usr/lib/python3.10/dataclasses.py:1453: RuntimeWarning: If using a 2-dim `batch_initial_conditions` botorch will default to old behavior of ignoring `num_restarts` and just use the given `batch_initial_conditions` by setting `raw_samples` to None.\n",
      "  return obj.__class__(**changes)\n",
      "/usr/lib/python3.10/dataclasses.py:1453: RuntimeWarning: If using a 2-dim `batch_initial_conditions` botorch will default to old behavior of ignoring `num_restarts` and just use the given `batch_initial_conditions` by setting `raw_samples` to None.\n",
      "  return obj.__class__(**changes)\n",
      "/usr/lib/python3.10/dataclasses.py:1453: RuntimeWarning: If using a 2-dim `batch_initial_conditions` botorch will default to old behavior of ignoring `num_restarts` and just use the given `batch_initial_conditions` by setting `raw_samples` to None.\n",
      "  return obj.__class__(**changes)\n",
      "/usr/lib/python3.10/dataclasses.py:1453: RuntimeWarning: If using a 2-dim `batch_initial_conditions` botorch will default to old behavior of ignoring `num_restarts` and just use the given `batch_initial_conditions` by setting `raw_samples` to None.\n",
      "  return obj.__class__(**changes)\n",
      "/usr/lib/python3.10/dataclasses.py:1453: RuntimeWarning: If using a 2-dim `batch_initial_conditions` botorch will default to old behavior of ignoring `num_restarts` and just use the given `batch_initial_conditions` by setting `raw_samples` to None.\n",
      "  return obj.__class__(**changes)\n",
      "/usr/lib/python3.10/dataclasses.py:1453: RuntimeWarning: If using a 2-dim `batch_initial_conditions` botorch will default to old behavior of ignoring `num_restarts` and just use the given `batch_initial_conditions` by setting `raw_samples` to None.\n",
      "  return obj.__class__(**changes)\n",
      "/usr/lib/python3.10/dataclasses.py:1453: RuntimeWarning: If using a 2-dim `batch_initial_conditions` botorch will default to old behavior of ignoring `num_restarts` and just use the given `batch_initial_conditions` by setting `raw_samples` to None.\n",
      "  return obj.__class__(**changes)\n",
      "/usr/lib/python3.10/dataclasses.py:1453: RuntimeWarning: If using a 2-dim `batch_initial_conditions` botorch will default to old behavior of ignoring `num_restarts` and just use the given `batch_initial_conditions` by setting `raw_samples` to None.\n",
      "  return obj.__class__(**changes)\n",
      "/usr/lib/python3.10/dataclasses.py:1453: RuntimeWarning: If using a 2-dim `batch_initial_conditions` botorch will default to old behavior of ignoring `num_restarts` and just use the given `batch_initial_conditions` by setting `raw_samples` to None.\n",
      "  return obj.__class__(**changes)\n",
      "/usr/lib/python3.10/dataclasses.py:1453: RuntimeWarning: If using a 2-dim `batch_initial_conditions` botorch will default to old behavior of ignoring `num_restarts` and just use the given `batch_initial_conditions` by setting `raw_samples` to None.\n",
      "  return obj.__class__(**changes)\n",
      "/usr/lib/python3.10/dataclasses.py:1453: RuntimeWarning: If using a 2-dim `batch_initial_conditions` botorch will default to old behavior of ignoring `num_restarts` and just use the given `batch_initial_conditions` by setting `raw_samples` to None.\n",
      "  return obj.__class__(**changes)\n",
      "/usr/lib/python3.10/dataclasses.py:1453: RuntimeWarning: If using a 2-dim `batch_initial_conditions` botorch will default to old behavior of ignoring `num_restarts` and just use the given `batch_initial_conditions` by setting `raw_samples` to None.\n",
      "  return obj.__class__(**changes)\n",
      "/usr/lib/python3.10/dataclasses.py:1453: RuntimeWarning: If using a 2-dim `batch_initial_conditions` botorch will default to old behavior of ignoring `num_restarts` and just use the given `batch_initial_conditions` by setting `raw_samples` to None.\n",
      "  return obj.__class__(**changes)\n",
      "/usr/lib/python3.10/dataclasses.py:1453: RuntimeWarning: If using a 2-dim `batch_initial_conditions` botorch will default to old behavior of ignoring `num_restarts` and just use the given `batch_initial_conditions` by setting `raw_samples` to None.\n",
      "  return obj.__class__(**changes)\n",
      "/usr/lib/python3.10/dataclasses.py:1453: RuntimeWarning: If using a 2-dim `batch_initial_conditions` botorch will default to old behavior of ignoring `num_restarts` and just use the given `batch_initial_conditions` by setting `raw_samples` to None.\n",
      "  return obj.__class__(**changes)\n",
      "/usr/lib/python3.10/dataclasses.py:1453: RuntimeWarning: If using a 2-dim `batch_initial_conditions` botorch will default to old behavior of ignoring `num_restarts` and just use the given `batch_initial_conditions` by setting `raw_samples` to None.\n",
      "  return obj.__class__(**changes)\n",
      "/usr/lib/python3.10/dataclasses.py:1453: RuntimeWarning: If using a 2-dim `batch_initial_conditions` botorch will default to old behavior of ignoring `num_restarts` and just use the given `batch_initial_conditions` by setting `raw_samples` to None.\n",
      "  return obj.__class__(**changes)\n",
      "/usr/lib/python3.10/dataclasses.py:1453: RuntimeWarning: If using a 2-dim `batch_initial_conditions` botorch will default to old behavior of ignoring `num_restarts` and just use the given `batch_initial_conditions` by setting `raw_samples` to None.\n",
      "  return obj.__class__(**changes)\n",
      "/usr/lib/python3.10/dataclasses.py:1453: RuntimeWarning: If using a 2-dim `batch_initial_conditions` botorch will default to old behavior of ignoring `num_restarts` and just use the given `batch_initial_conditions` by setting `raw_samples` to None.\n",
      "  return obj.__class__(**changes)\n",
      "/usr/lib/python3.10/dataclasses.py:1453: RuntimeWarning: If using a 2-dim `batch_initial_conditions` botorch will default to old behavior of ignoring `num_restarts` and just use the given `batch_initial_conditions` by setting `raw_samples` to None.\n",
      "  return obj.__class__(**changes)\n",
      "/usr/lib/python3.10/dataclasses.py:1453: RuntimeWarning: If using a 2-dim `batch_initial_conditions` botorch will default to old behavior of ignoring `num_restarts` and just use the given `batch_initial_conditions` by setting `raw_samples` to None.\n",
      "  return obj.__class__(**changes)\n",
      "/usr/lib/python3.10/dataclasses.py:1453: RuntimeWarning: If using a 2-dim `batch_initial_conditions` botorch will default to old behavior of ignoring `num_restarts` and just use the given `batch_initial_conditions` by setting `raw_samples` to None.\n",
      "  return obj.__class__(**changes)\n",
      "/usr/lib/python3.10/dataclasses.py:1453: RuntimeWarning: If using a 2-dim `batch_initial_conditions` botorch will default to old behavior of ignoring `num_restarts` and just use the given `batch_initial_conditions` by setting `raw_samples` to None.\n",
      "  return obj.__class__(**changes)\n",
      "/usr/lib/python3.10/dataclasses.py:1453: RuntimeWarning: If using a 2-dim `batch_initial_conditions` botorch will default to old behavior of ignoring `num_restarts` and just use the given `batch_initial_conditions` by setting `raw_samples` to None.\n",
      "  return obj.__class__(**changes)\n",
      "/usr/lib/python3.10/dataclasses.py:1453: RuntimeWarning: If using a 2-dim `batch_initial_conditions` botorch will default to old behavior of ignoring `num_restarts` and just use the given `batch_initial_conditions` by setting `raw_samples` to None.\n",
      "  return obj.__class__(**changes)\n",
      "/usr/lib/python3.10/dataclasses.py:1453: RuntimeWarning: If using a 2-dim `batch_initial_conditions` botorch will default to old behavior of ignoring `num_restarts` and just use the given `batch_initial_conditions` by setting `raw_samples` to None.\n",
      "  return obj.__class__(**changes)\n",
      "/usr/lib/python3.10/dataclasses.py:1453: RuntimeWarning: If using a 2-dim `batch_initial_conditions` botorch will default to old behavior of ignoring `num_restarts` and just use the given `batch_initial_conditions` by setting `raw_samples` to None.\n",
      "  return obj.__class__(**changes)\n",
      "/usr/lib/python3.10/dataclasses.py:1453: RuntimeWarning: If using a 2-dim `batch_initial_conditions` botorch will default to old behavior of ignoring `num_restarts` and just use the given `batch_initial_conditions` by setting `raw_samples` to None.\n",
      "  return obj.__class__(**changes)\n",
      "/usr/lib/python3.10/dataclasses.py:1453: RuntimeWarning: If using a 2-dim `batch_initial_conditions` botorch will default to old behavior of ignoring `num_restarts` and just use the given `batch_initial_conditions` by setting `raw_samples` to None.\n",
      "  return obj.__class__(**changes)\n",
      "/usr/lib/python3.10/dataclasses.py:1453: RuntimeWarning: If using a 2-dim `batch_initial_conditions` botorch will default to old behavior of ignoring `num_restarts` and just use the given `batch_initial_conditions` by setting `raw_samples` to None.\n",
      "  return obj.__class__(**changes)\n",
      "/usr/lib/python3.10/dataclasses.py:1453: RuntimeWarning: If using a 2-dim `batch_initial_conditions` botorch will default to old behavior of ignoring `num_restarts` and just use the given `batch_initial_conditions` by setting `raw_samples` to None.\n",
      "  return obj.__class__(**changes)\n",
      "/usr/lib/python3.10/dataclasses.py:1453: RuntimeWarning: If using a 2-dim `batch_initial_conditions` botorch will default to old behavior of ignoring `num_restarts` and just use the given `batch_initial_conditions` by setting `raw_samples` to None.\n",
      "  return obj.__class__(**changes)\n",
      "/usr/lib/python3.10/dataclasses.py:1453: RuntimeWarning: If using a 2-dim `batch_initial_conditions` botorch will default to old behavior of ignoring `num_restarts` and just use the given `batch_initial_conditions` by setting `raw_samples` to None.\n",
      "  return obj.__class__(**changes)\n",
      "/usr/lib/python3.10/dataclasses.py:1453: RuntimeWarning: If using a 2-dim `batch_initial_conditions` botorch will default to old behavior of ignoring `num_restarts` and just use the given `batch_initial_conditions` by setting `raw_samples` to None.\n",
      "  return obj.__class__(**changes)\n",
      "/usr/lib/python3.10/dataclasses.py:1453: RuntimeWarning: If using a 2-dim `batch_initial_conditions` botorch will default to old behavior of ignoring `num_restarts` and just use the given `batch_initial_conditions` by setting `raw_samples` to None.\n",
      "  return obj.__class__(**changes)\n",
      "/usr/lib/python3.10/dataclasses.py:1453: RuntimeWarning: If using a 2-dim `batch_initial_conditions` botorch will default to old behavior of ignoring `num_restarts` and just use the given `batch_initial_conditions` by setting `raw_samples` to None.\n",
      "  return obj.__class__(**changes)\n",
      "/usr/lib/python3.10/dataclasses.py:1453: RuntimeWarning: If using a 2-dim `batch_initial_conditions` botorch will default to old behavior of ignoring `num_restarts` and just use the given `batch_initial_conditions` by setting `raw_samples` to None.\n",
      "  return obj.__class__(**changes)\n",
      "/usr/lib/python3.10/dataclasses.py:1453: RuntimeWarning: If using a 2-dim `batch_initial_conditions` botorch will default to old behavior of ignoring `num_restarts` and just use the given `batch_initial_conditions` by setting `raw_samples` to None.\n",
      "  return obj.__class__(**changes)\n",
      "/usr/lib/python3.10/dataclasses.py:1453: RuntimeWarning: If using a 2-dim `batch_initial_conditions` botorch will default to old behavior of ignoring `num_restarts` and just use the given `batch_initial_conditions` by setting `raw_samples` to None.\n",
      "  return obj.__class__(**changes)\n",
      "/usr/lib/python3.10/dataclasses.py:1453: RuntimeWarning: If using a 2-dim `batch_initial_conditions` botorch will default to old behavior of ignoring `num_restarts` and just use the given `batch_initial_conditions` by setting `raw_samples` to None.\n",
      "  return obj.__class__(**changes)\n",
      "/usr/lib/python3.10/dataclasses.py:1453: RuntimeWarning: If using a 2-dim `batch_initial_conditions` botorch will default to old behavior of ignoring `num_restarts` and just use the given `batch_initial_conditions` by setting `raw_samples` to None.\n",
      "  return obj.__class__(**changes)\n",
      "/usr/lib/python3.10/dataclasses.py:1453: RuntimeWarning: If using a 2-dim `batch_initial_conditions` botorch will default to old behavior of ignoring `num_restarts` and just use the given `batch_initial_conditions` by setting `raw_samples` to None.\n",
      "  return obj.__class__(**changes)\n",
      "/usr/lib/python3.10/dataclasses.py:1453: RuntimeWarning: If using a 2-dim `batch_initial_conditions` botorch will default to old behavior of ignoring `num_restarts` and just use the given `batch_initial_conditions` by setting `raw_samples` to None.\n",
      "  return obj.__class__(**changes)\n",
      "/usr/lib/python3.10/dataclasses.py:1453: RuntimeWarning: If using a 2-dim `batch_initial_conditions` botorch will default to old behavior of ignoring `num_restarts` and just use the given `batch_initial_conditions` by setting `raw_samples` to None.\n",
      "  return obj.__class__(**changes)\n",
      "/usr/lib/python3.10/dataclasses.py:1453: RuntimeWarning: If using a 2-dim `batch_initial_conditions` botorch will default to old behavior of ignoring `num_restarts` and just use the given `batch_initial_conditions` by setting `raw_samples` to None.\n",
      "  return obj.__class__(**changes)\n",
      "/usr/lib/python3.10/dataclasses.py:1453: RuntimeWarning: If using a 2-dim `batch_initial_conditions` botorch will default to old behavior of ignoring `num_restarts` and just use the given `batch_initial_conditions` by setting `raw_samples` to None.\n",
      "  return obj.__class__(**changes)\n",
      "/usr/lib/python3.10/dataclasses.py:1453: RuntimeWarning: If using a 2-dim `batch_initial_conditions` botorch will default to old behavior of ignoring `num_restarts` and just use the given `batch_initial_conditions` by setting `raw_samples` to None.\n",
      "  return obj.__class__(**changes)\n",
      "/usr/lib/python3.10/dataclasses.py:1453: RuntimeWarning: If using a 2-dim `batch_initial_conditions` botorch will default to old behavior of ignoring `num_restarts` and just use the given `batch_initial_conditions` by setting `raw_samples` to None.\n",
      "  return obj.__class__(**changes)\n",
      "/usr/lib/python3.10/dataclasses.py:1453: RuntimeWarning: If using a 2-dim `batch_initial_conditions` botorch will default to old behavior of ignoring `num_restarts` and just use the given `batch_initial_conditions` by setting `raw_samples` to None.\n",
      "  return obj.__class__(**changes)\n",
      "/usr/lib/python3.10/dataclasses.py:1453: RuntimeWarning: If using a 2-dim `batch_initial_conditions` botorch will default to old behavior of ignoring `num_restarts` and just use the given `batch_initial_conditions` by setting `raw_samples` to None.\n",
      "  return obj.__class__(**changes)\n",
      "/usr/lib/python3.10/dataclasses.py:1453: RuntimeWarning: If using a 2-dim `batch_initial_conditions` botorch will default to old behavior of ignoring `num_restarts` and just use the given `batch_initial_conditions` by setting `raw_samples` to None.\n",
      "  return obj.__class__(**changes)\n",
      "/usr/lib/python3.10/dataclasses.py:1453: RuntimeWarning: If using a 2-dim `batch_initial_conditions` botorch will default to old behavior of ignoring `num_restarts` and just use the given `batch_initial_conditions` by setting `raw_samples` to None.\n",
      "  return obj.__class__(**changes)\n",
      "/usr/lib/python3.10/dataclasses.py:1453: RuntimeWarning: If using a 2-dim `batch_initial_conditions` botorch will default to old behavior of ignoring `num_restarts` and just use the given `batch_initial_conditions` by setting `raw_samples` to None.\n",
      "  return obj.__class__(**changes)\n",
      "/usr/lib/python3.10/dataclasses.py:1453: RuntimeWarning: If using a 2-dim `batch_initial_conditions` botorch will default to old behavior of ignoring `num_restarts` and just use the given `batch_initial_conditions` by setting `raw_samples` to None.\n",
      "  return obj.__class__(**changes)\n",
      "/usr/lib/python3.10/dataclasses.py:1453: RuntimeWarning: If using a 2-dim `batch_initial_conditions` botorch will default to old behavior of ignoring `num_restarts` and just use the given `batch_initial_conditions` by setting `raw_samples` to None.\n",
      "  return obj.__class__(**changes)\n",
      "/usr/lib/python3.10/dataclasses.py:1453: RuntimeWarning: If using a 2-dim `batch_initial_conditions` botorch will default to old behavior of ignoring `num_restarts` and just use the given `batch_initial_conditions` by setting `raw_samples` to None.\n",
      "  return obj.__class__(**changes)\n",
      "/usr/lib/python3.10/dataclasses.py:1453: RuntimeWarning: If using a 2-dim `batch_initial_conditions` botorch will default to old behavior of ignoring `num_restarts` and just use the given `batch_initial_conditions` by setting `raw_samples` to None.\n",
      "  return obj.__class__(**changes)\n",
      "/usr/lib/python3.10/dataclasses.py:1453: RuntimeWarning: If using a 2-dim `batch_initial_conditions` botorch will default to old behavior of ignoring `num_restarts` and just use the given `batch_initial_conditions` by setting `raw_samples` to None.\n",
      "  return obj.__class__(**changes)\n",
      "/usr/lib/python3.10/dataclasses.py:1453: RuntimeWarning: If using a 2-dim `batch_initial_conditions` botorch will default to old behavior of ignoring `num_restarts` and just use the given `batch_initial_conditions` by setting `raw_samples` to None.\n",
      "  return obj.__class__(**changes)\n",
      "/usr/lib/python3.10/dataclasses.py:1453: RuntimeWarning: If using a 2-dim `batch_initial_conditions` botorch will default to old behavior of ignoring `num_restarts` and just use the given `batch_initial_conditions` by setting `raw_samples` to None.\n",
      "  return obj.__class__(**changes)\n",
      "/usr/lib/python3.10/dataclasses.py:1453: RuntimeWarning: If using a 2-dim `batch_initial_conditions` botorch will default to old behavior of ignoring `num_restarts` and just use the given `batch_initial_conditions` by setting `raw_samples` to None.\n",
      "  return obj.__class__(**changes)\n",
      "/usr/lib/python3.10/dataclasses.py:1453: RuntimeWarning: If using a 2-dim `batch_initial_conditions` botorch will default to old behavior of ignoring `num_restarts` and just use the given `batch_initial_conditions` by setting `raw_samples` to None.\n",
      "  return obj.__class__(**changes)\n",
      "/usr/lib/python3.10/dataclasses.py:1453: RuntimeWarning: If using a 2-dim `batch_initial_conditions` botorch will default to old behavior of ignoring `num_restarts` and just use the given `batch_initial_conditions` by setting `raw_samples` to None.\n",
      "  return obj.__class__(**changes)\n",
      "/usr/lib/python3.10/dataclasses.py:1453: RuntimeWarning: If using a 2-dim `batch_initial_conditions` botorch will default to old behavior of ignoring `num_restarts` and just use the given `batch_initial_conditions` by setting `raw_samples` to None.\n",
      "  return obj.__class__(**changes)\n",
      "/usr/lib/python3.10/dataclasses.py:1453: RuntimeWarning: If using a 2-dim `batch_initial_conditions` botorch will default to old behavior of ignoring `num_restarts` and just use the given `batch_initial_conditions` by setting `raw_samples` to None.\n",
      "  return obj.__class__(**changes)\n",
      "/usr/lib/python3.10/dataclasses.py:1453: RuntimeWarning: If using a 2-dim `batch_initial_conditions` botorch will default to old behavior of ignoring `num_restarts` and just use the given `batch_initial_conditions` by setting `raw_samples` to None.\n",
      "  return obj.__class__(**changes)\n",
      "/usr/lib/python3.10/dataclasses.py:1453: RuntimeWarning: If using a 2-dim `batch_initial_conditions` botorch will default to old behavior of ignoring `num_restarts` and just use the given `batch_initial_conditions` by setting `raw_samples` to None.\n",
      "  return obj.__class__(**changes)\n",
      "/usr/lib/python3.10/dataclasses.py:1453: RuntimeWarning: If using a 2-dim `batch_initial_conditions` botorch will default to old behavior of ignoring `num_restarts` and just use the given `batch_initial_conditions` by setting `raw_samples` to None.\n",
      "  return obj.__class__(**changes)\n",
      "[WARNING 03-24 21:57:18] ax.modelbridge.cross_validation: Metric mean_f1 was unable to be reliably fit.\n",
      "[WARNING 03-24 21:57:18] ax.service.utils.best_point: Model fit is poor; falling back on raw data for best point.\n",
      "[WARNING 03-24 21:57:18] ax.service.utils.best_point: Model fit is poor and data on objective metric mean_f1 is noisy; interpret best points results carefully.\n"
     ]
    },
    {
     "data": {
      "text/html": [],
      "text/plain": [
       "<IPython.core.display.HTML object>"
      ]
     },
     "metadata": {},
     "output_type": "display_data"
    },
    {
     "data": {
      "text/html": [
       "<br>    <style><br>        .wandb-row {<br>            display: flex;<br>            flex-direction: row;<br>            flex-wrap: wrap;<br>            justify-content: flex-start;<br>            width: 100%;<br>        }<br>        .wandb-col {<br>            display: flex;<br>            flex-direction: column;<br>            flex-basis: 100%;<br>            flex: 1;<br>            padding: 10px;<br>        }<br>    </style><br><div class=\"wandb-row\"><div class=\"wandb-col\"><h3>Run history:</h3><br/><table class=\"wandb\"><tr><td>fold</td><td>▁▅█▁▅█▁▅▁▅█▁▅█▁▅▁▅█▁▅█▁▅▁▅█▁▅█▁▅▁▅█▁▅█▁█</td></tr><tr><td>fold_f1</td><td>▆█▄▁▇▂█▇▇▆▅█▇▄▁▆█▇▄█▅▄▆▆█▅▄▇▆▅█▇█▇▄█▇▄▆▄</td></tr><tr><td>fold_precision</td><td>▄▆▇▁██▇▆▆▄▇▇▆▆▁████▇▃▆██▇▃▆▆▅▇████████▄▆</td></tr><tr><td>fold_recall</td><td>▆█▃▁▆▂▇▆▇█▄▇▆▃▁▅▇▆▃▇▆▃▅▅▇▆▄▇▆▄▇▆▇▆▃▇▆▃▇▃</td></tr><tr><td>mean_f1</td><td>▇▂█▇█▁█▆▅▆▇███▆</td></tr><tr><td>mean_precision</td><td>▃▂▆▃▅▂█▂█▂▃███▁</td></tr><tr><td>mean_recall</td><td>▇▂▇█▇▁▇▇▄▇▇▇▇▇▇</td></tr></table><br/></div><div class=\"wandb-col\"><h3>Run summary:</h3><br/><table class=\"wandb\"><tr><td>fold</td><td>5</td></tr><tr><td>fold_f1</td><td>0.27273</td></tr><tr><td>fold_precision</td><td>0.75</td></tr><tr><td>fold_recall</td><td>0.16667</td></tr><tr><td>mean_f1</td><td>0.38581</td></tr><tr><td>mean_precision</td><td>0.57716</td></tr><tr><td>mean_recall</td><td>0.325</td></tr><tr><td>status</td><td>completed</td></tr></table><br/></div></div>"
      ],
      "text/plain": [
       "<IPython.core.display.HTML object>"
      ]
     },
     "metadata": {},
     "output_type": "display_data"
    },
    {
     "data": {
      "text/html": [
       " View run <strong style=\"color:#cdcd00\">stilted-dragon-121</strong> at: <a href='https://wandb.ai/dangerio/job-fake-prediction/runs/c3c4830z' target=\"_blank\">https://wandb.ai/dangerio/job-fake-prediction/runs/c3c4830z</a><br> View project at: <a href='https://wandb.ai/dangerio/job-fake-prediction' target=\"_blank\">https://wandb.ai/dangerio/job-fake-prediction</a><br>Synced 5 W&B file(s), 0 media file(s), 0 artifact file(s) and 0 other file(s)"
      ],
      "text/plain": [
       "<IPython.core.display.HTML object>"
      ]
     },
     "metadata": {},
     "output_type": "display_data"
    },
    {
     "data": {
      "text/html": [
       "Find logs at: <code>./wandb/run-20250324_211744-c3c4830z/logs</code>"
      ],
      "text/plain": [
       "<IPython.core.display.HTML object>"
      ]
     },
     "metadata": {},
     "output_type": "display_data"
    },
    {
     "name": "stdout",
     "output_type": "stream",
     "text": [
      "Train F1-Score: 0.702\n",
      "Train Precision: 0.590\n",
      "Train Recall: 0.867\n",
      "Test F1-Score: 0.409\n",
      "Test Precision: 1.000\n",
      "Test Recall: 0.257\n"
     ]
    }
   ],
   "source": [
    "catboost_ax_config = [\n",
    "    {\n",
    "        \"name\": \"iterations\",\n",
    "        \"type\": \"range\",\n",
    "        \"bounds\": [50, 250],\n",
    "        \"value_type\": \"int\"\n",
    "    },\n",
    "    {\n",
    "        \"name\": \"learning_rate\",\n",
    "        \"type\": \"range\",\n",
    "        \"bounds\": [1e-3, 0.2],\n",
    "        \"log_scale\": True\n",
    "    },\n",
    "    {\n",
    "        \"name\": \"depth\",\n",
    "        \"type\": \"range\",\n",
    "        \"bounds\": [4, 12],\n",
    "        \"value_type\": \"int\"\n",
    "    },\n",
    "    {\n",
    "        \"name\": \"l2_leaf_reg\",\n",
    "        \"type\": \"range\",\n",
    "        \"bounds\": [1e-2, 10],\n",
    "        \"log_scale\": True,\n",
    "        \"value_type\": \"float\"\n",
    "    },\n",
    "    {\n",
    "        \"name\": \"auto_class_weights\",\n",
    "        \"type\": \"choice\",\n",
    "        \"values\": [\"Balanced\", \"SqrtBalanced\"]\n",
    "    }\n",
    "]\n",
    "\n",
    "with wandb.init(project=\"job-fake-prediction\", \n",
    "          config={\n",
    "              \"model_type\": \"catboost_ax_tunning\",\n",
    "              \"validation\": \"stratified_group_kfold\",\n",
    "              \"k_folds\": n_folds\n",
    "          }):\n",
    "    best_params, experiment = tune_hyperparameters_ax(\n",
    "        X_train_cb, y_train, groups_train,\n",
    "        model_class=cb_cls,\n",
    "        param_config=catboost_ax_config,\n",
    "        n_trials=15\n",
    "    )\n",
    "\n",
    "\n",
    "\n",
    "cb_model_ax = cb_cls(**best_params).fit(X_train_cb, y_train)\n",
    "calc_and_print_metrics(cb_model_ax, X_train_cb, y_train, is_test=False)\n",
    "calc_and_print_metrics(cb_model_ax, X_test_cb, y_test)"
   ]
  },
  {
   "cell_type": "markdown",
   "metadata": {},
   "source": [
    "Скрины метрик на валидации (step здесь имеет смысл очередного набора параметров):\n",
    "![](images/catboost_tuning/ax/f1.png)\n",
    "![](images/catboost_tuning/ax/precision.png)\n",
    "![](images/catboost_tuning/ax/recall.png)"
   ]
  },
  {
   "cell_type": "markdown",
   "metadata": {},
   "source": [
    "Здесь скор на валидации получился чуть хуже, чем у gridsearch, а на тесте примерно такой же. Однако это по-прежнему хуже, чем у исходного катбуста, для которого не подбирались иперпараметры."
   ]
  },
  {
   "cell_type": "markdown",
   "metadata": {},
   "source": [
    "## Итоговый выбор модели"
   ]
  },
  {
   "cell_type": "markdown",
   "metadata": {},
   "source": [
    "### Анализ результатов обучения"
   ]
  },
  {
   "cell_type": "markdown",
   "metadata": {},
   "source": [
    "Мы обучили 4 модели:\n",
    "- **SVM.** За счет нелинейности в ядре показал себя лучше бейзлайна на 17% и 22% до и после тюнинга гиперпараметров соотвественно.\n",
    "- **Случайный лес.** Очень сильно переобучился, из-за чего получил скор ниже бейзлайна.\n",
    "- **Catboost.** Нативная работа с текстовыми признаками помогла ему превзойти бейзлайн почти в два раза с f1-мерой равной 0.45. Однако тюнинг гиперпарметров не принес положительных результатов, вероятно, из-за переобучения под валидацию.\n",
    "- **BERT+logreg.** Получил f1-меру на тесте равную 0.51, а на валидации -- лишь 0.12. Скорее всего, это связано с утечкой в данных, которую может уловить лишь достаточно сложная NLP-модель. Утечка, вероятно, связана с семантической близостью объявлений одного фродера."
   ]
  },
  {
   "cell_type": "markdown",
   "metadata": {},
   "source": [
    "### Выбор продовой модели"
   ]
  },
  {
   "cell_type": "markdown",
   "metadata": {},
   "source": [
    "Из-за слишком низкого качества случайного леса и использования утечки бертом модель для прода нужно выбирать среди SVM и катбуста. Я выбираю catboost, так как:\n",
    "\n",
    "- Catboost существенно превосходит SVM на тесте по всем метрикам (f1, precision, recall)\n",
    "- В нашей задаче вполне допустим офлайн инференс, поэтому время работы нам менее важно, чем перформанс. Хотя в данном случае не очевидно, какая из моделей будет быстрее, ведь для SVM нужно подготовить дорогие с точки зрения вычислений признаки"
   ]
  },
  {
   "cell_type": "markdown",
   "metadata": {},
   "source": [
    "Сохраним итоговую модель в файл"
   ]
  },
  {
   "cell_type": "code",
   "execution_count": 41,
   "metadata": {},
   "outputs": [],
   "source": [
    "model_cb.save_model(\"catboost_fraud_model.cbm\")"
   ]
  },
  {
   "cell_type": "markdown",
   "metadata": {},
   "source": [
    "## Демо инференса модели"
   ]
  },
  {
   "cell_type": "markdown",
   "metadata": {},
   "source": [
    "Инструкции по запуску демо находятся в файле [README.md](README.md)"
   ]
  }
 ],
 "metadata": {
  "kernelspec": {
   "display_name": "my_env",
   "language": "python",
   "name": "python3"
  },
  "language_info": {
   "codemirror_mode": {
    "name": "ipython",
    "version": 3
   },
   "file_extension": ".py",
   "mimetype": "text/x-python",
   "name": "python",
   "nbconvert_exporter": "python",
   "pygments_lexer": "ipython3",
   "version": "3.10.12"
  }
 },
 "nbformat": 4,
 "nbformat_minor": 2
}
